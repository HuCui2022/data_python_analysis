{
  "nbformat": 4,
  "nbformat_minor": 0,
  "metadata": {
    "colab": {
      "name": "numpy001.ipynb",
      "provenance": [],
      "collapsed_sections": [],
      "toc_visible": true,
      "authorship_tag": "ABX9TyNb49FiYpMFZ/Hi5jV/d1iX",
      "include_colab_link": true
    },
    "kernelspec": {
      "name": "python3",
      "display_name": "Python 3"
    }
  },
  "cells": [
    {
      "cell_type": "markdown",
      "metadata": {
        "id": "view-in-github",
        "colab_type": "text"
      },
      "source": [
        "<a href=\"https://colab.research.google.com/github/smiledinisa/data_python_analysis/blob/master/numpy001.ipynb\" target=\"_parent\"><img src=\"https://colab.research.google.com/assets/colab-badge.svg\" alt=\"Open In Colab\"/></a>"
      ]
    },
    {
      "cell_type": "code",
      "metadata": {
        "id": "uDPNliWKuz3O",
        "colab_type": "code",
        "colab": {}
      },
      "source": [
        "import torch\n"
      ],
      "execution_count": null,
      "outputs": []
    },
    {
      "cell_type": "code",
      "metadata": {
        "id": "f-uhSJ7zv_Tg",
        "colab_type": "code",
        "colab": {}
      },
      "source": [
        "import datetime"
      ],
      "execution_count": null,
      "outputs": []
    },
    {
      "cell_type": "code",
      "metadata": {
        "id": "pZM5f4OSwK4e",
        "colab_type": "code",
        "colab": {}
      },
      "source": [
        "class Message:\n",
        "  def __init__(self,msg):\n",
        "    self.msg = msg\n",
        "  def __repr__(self):\n",
        "    return 'Message:%s' % self.msg\n",
        "class Message2:\n",
        "  def __init__(self,msg):\n",
        "    self.msg = msg\n",
        " \n",
        "\n"
      ],
      "execution_count": null,
      "outputs": []
    },
    {
      "cell_type": "code",
      "metadata": {
        "id": "ZNdNRwkdwTvW",
        "colab_type": "code",
        "colab": {
          "base_uri": "https://localhost:8080/",
          "height": 35
        },
        "outputId": "fbe354f6-1974-4b05-c499-73278a7a4a03"
      },
      "source": [
        "x = Message('I have a secret!!')\n",
        "x"
      ],
      "execution_count": null,
      "outputs": [
        {
          "output_type": "execute_result",
          "data": {
            "text/plain": [
              "Message:I have a secret!!"
            ]
          },
          "metadata": {
            "tags": []
          },
          "execution_count": 13
        }
      ]
    },
    {
      "cell_type": "code",
      "metadata": {
        "id": "S2zNmVV1wWCm",
        "colab_type": "code",
        "colab": {
          "base_uri": "https://localhost:8080/",
          "height": 35
        },
        "outputId": "93560127-f960-4475-d5a7-48b36f6fd0de"
      },
      "source": [
        "y = Message2('I HAVE A SECRET TOO!!')\n",
        "y"
      ],
      "execution_count": null,
      "outputs": [
        {
          "output_type": "execute_result",
          "data": {
            "text/plain": [
              "<__main__.Message2 at 0x7f5fade28f98>"
            ]
          },
          "metadata": {
            "tags": []
          },
          "execution_count": 15
        }
      ]
    },
    {
      "cell_type": "markdown",
      "metadata": {
        "id": "oF5Rjz8qyyfw",
        "colab_type": "text"
      },
      "source": [
        "可以看到两个结果是不一样的，`__repr__`方法会自动返回字符串。"
      ]
    },
    {
      "cell_type": "markdown",
      "metadata": {
        "id": "cg8GB7ofyuCn",
        "colab_type": "text"
      },
      "source": [
        "# 第四章 numpy基础：数组和矢量计算"
      ]
    },
    {
      "cell_type": "markdown",
      "metadata": {
        "id": "E3ic5xeg0JPD",
        "colab_type": "text"
      },
      "source": [
        "- 创建ndaary"
      ]
    },
    {
      "cell_type": "code",
      "metadata": {
        "id": "ZEz2wWsoznx2",
        "colab_type": "code",
        "colab": {}
      },
      "source": [
        "data1 = [5,6.5,3,7,8]"
      ],
      "execution_count": null,
      "outputs": []
    },
    {
      "cell_type": "code",
      "metadata": {
        "id": "ZUZQerzb1Aoz",
        "colab_type": "code",
        "colab": {}
      },
      "source": [
        "import numpy as np"
      ],
      "execution_count": null,
      "outputs": []
    },
    {
      "cell_type": "code",
      "metadata": {
        "id": "f9lPTgwf1GXe",
        "colab_type": "code",
        "colab": {
          "base_uri": "https://localhost:8080/",
          "height": 35
        },
        "outputId": "2b078d28-3a5e-4b66-a981-b0e0893894cd"
      },
      "source": [
        "arr1 = np.array(data1)\n",
        "arr1"
      ],
      "execution_count": null,
      "outputs": [
        {
          "output_type": "execute_result",
          "data": {
            "text/plain": [
              "array([5. , 6.5, 3. , 7. , 8. ])"
            ]
          },
          "metadata": {
            "tags": []
          },
          "execution_count": 18
        }
      ]
    },
    {
      "cell_type": "code",
      "metadata": {
        "id": "5erJBZo11KxO",
        "colab_type": "code",
        "colab": {
          "base_uri": "https://localhost:8080/",
          "height": 35
        },
        "outputId": "a9e59dbc-36d5-434a-fb08-61284928aede"
      },
      "source": [
        "arr1.ndim"
      ],
      "execution_count": null,
      "outputs": [
        {
          "output_type": "execute_result",
          "data": {
            "text/plain": [
              "1"
            ]
          },
          "metadata": {
            "tags": []
          },
          "execution_count": 19
        }
      ]
    },
    {
      "cell_type": "code",
      "metadata": {
        "id": "bxCbquHz1QmW",
        "colab_type": "code",
        "colab": {
          "base_uri": "https://localhost:8080/",
          "height": 35
        },
        "outputId": "534a024b-88c7-46de-ff31-12fc0fed0cd7"
      },
      "source": [
        "arr1.shape"
      ],
      "execution_count": null,
      "outputs": [
        {
          "output_type": "execute_result",
          "data": {
            "text/plain": [
              "(5,)"
            ]
          },
          "metadata": {
            "tags": []
          },
          "execution_count": 20
        }
      ]
    },
    {
      "cell_type": "code",
      "metadata": {
        "id": "_NHJZd1c1SCO",
        "colab_type": "code",
        "colab": {
          "base_uri": "https://localhost:8080/",
          "height": 35
        },
        "outputId": "97d8256b-1bd5-43ec-81fe-351b19b9a541"
      },
      "source": [
        "arr1.dtype"
      ],
      "execution_count": null,
      "outputs": [
        {
          "output_type": "execute_result",
          "data": {
            "text/plain": [
              "dtype('float64')"
            ]
          },
          "metadata": {
            "tags": []
          },
          "execution_count": 21
        }
      ]
    },
    {
      "cell_type": "code",
      "metadata": {
        "id": "bKof2SyG1XBO",
        "colab_type": "code",
        "colab": {
          "base_uri": "https://localhost:8080/",
          "height": 35
        },
        "outputId": "b7adeb87-6dda-4540-b634-90d6890abf93"
      },
      "source": [
        "a = np.zeros(10)\n",
        "a"
      ],
      "execution_count": null,
      "outputs": [
        {
          "output_type": "execute_result",
          "data": {
            "text/plain": [
              "array([0., 0., 0., 0., 0., 0., 0., 0., 0., 0.])"
            ]
          },
          "metadata": {
            "tags": []
          },
          "execution_count": 23
        }
      ]
    },
    {
      "cell_type": "code",
      "metadata": {
        "id": "w3g3ypVo1cnW",
        "colab_type": "code",
        "colab": {
          "base_uri": "https://localhost:8080/",
          "height": 233
        },
        "outputId": "975aa894-e19f-427a-d6cf-e4e3883f152d"
      },
      "source": [
        "b = np.ones((12,12))\n",
        "b"
      ],
      "execution_count": null,
      "outputs": [
        {
          "output_type": "execute_result",
          "data": {
            "text/plain": [
              "array([[1., 1., 1., 1., 1., 1., 1., 1., 1., 1., 1., 1.],\n",
              "       [1., 1., 1., 1., 1., 1., 1., 1., 1., 1., 1., 1.],\n",
              "       [1., 1., 1., 1., 1., 1., 1., 1., 1., 1., 1., 1.],\n",
              "       [1., 1., 1., 1., 1., 1., 1., 1., 1., 1., 1., 1.],\n",
              "       [1., 1., 1., 1., 1., 1., 1., 1., 1., 1., 1., 1.],\n",
              "       [1., 1., 1., 1., 1., 1., 1., 1., 1., 1., 1., 1.],\n",
              "       [1., 1., 1., 1., 1., 1., 1., 1., 1., 1., 1., 1.],\n",
              "       [1., 1., 1., 1., 1., 1., 1., 1., 1., 1., 1., 1.],\n",
              "       [1., 1., 1., 1., 1., 1., 1., 1., 1., 1., 1., 1.],\n",
              "       [1., 1., 1., 1., 1., 1., 1., 1., 1., 1., 1., 1.],\n",
              "       [1., 1., 1., 1., 1., 1., 1., 1., 1., 1., 1., 1.],\n",
              "       [1., 1., 1., 1., 1., 1., 1., 1., 1., 1., 1., 1.]])"
            ]
          },
          "metadata": {
            "tags": []
          },
          "execution_count": 25
        }
      ]
    },
    {
      "cell_type": "code",
      "metadata": {
        "id": "ygdkKNjJ1isu",
        "colab_type": "code",
        "colab": {
          "base_uri": "https://localhost:8080/",
          "height": 251
        },
        "outputId": "a2b9bc54-5a3a-48b4-e237-0cab9bde85f2"
      },
      "source": [
        "c = np.empty((2,3,4))\n",
        "c"
      ],
      "execution_count": null,
      "outputs": [
        {
          "output_type": "execute_result",
          "data": {
            "text/plain": [
              "array([[[5.02911713e-316, 0.00000000e+000, 0.00000000e+000,\n",
              "         0.00000000e+000],\n",
              "        [0.00000000e+000, 0.00000000e+000, 0.00000000e+000,\n",
              "         0.00000000e+000],\n",
              "        [0.00000000e+000, 0.00000000e+000, 0.00000000e+000,\n",
              "         0.00000000e+000]],\n",
              "\n",
              "       [[0.00000000e+000, 0.00000000e+000, 0.00000000e+000,\n",
              "         0.00000000e+000],\n",
              "        [0.00000000e+000, 0.00000000e+000, 0.00000000e+000,\n",
              "         0.00000000e+000],\n",
              "        [0.00000000e+000, 0.00000000e+000, 0.00000000e+000,\n",
              "         0.00000000e+000]]])"
            ]
          },
          "metadata": {
            "tags": []
          },
          "execution_count": 27
        }
      ]
    },
    {
      "cell_type": "markdown",
      "metadata": {
        "id": "aId97yYw2KyK",
        "colab_type": "text"
      },
      "source": [
        "## 数组创建函数\n",
        "\n",
        "1.   array\n",
        "2.   asarray\n",
        "3.   arange\n",
        "4.   ones,ones_like\n",
        "5.   zeros,zeros_like\n",
        "6.   empty. empty_like.\n",
        "7.   eye, identity\n",
        "\n",
        "\n"
      ]
    },
    {
      "cell_type": "markdown",
      "metadata": {
        "id": "Bs1kVcf72r7g",
        "colab_type": "text"
      },
      "source": [
        "## numpy 的数据类型\n",
        "int8 uint8  i1 u1    \n",
        "int16 uint16 i2 u2  \n",
        "int32 uint32 i3 u3   \n",
        "int64 uint64 i4 u4   \n",
        "float16 f2  \n",
        "float32 f4\\f  \n",
        "float64 f8\\d  \n",
        "\n",
        "float128 f16\\g    \n",
        "complex64 complex128 c8 c16    \n",
        "complex256  c32    \n",
        "bool ?  \n",
        "\n",
        "object           O    \n",
        "string_ S   S10    \n",
        "unicode_    U    U10  \n"
      ]
    },
    {
      "cell_type": "code",
      "metadata": {
        "id": "fxRt3PZt1s_G",
        "colab_type": "code",
        "colab": {
          "base_uri": "https://localhost:8080/",
          "height": 35
        },
        "outputId": "40b976b6-681e-4aff-9f7d-f5d94e4c7e78"
      },
      "source": [
        "arr = np.array([1,2,3,4,5])\n",
        "arr.dtype"
      ],
      "execution_count": null,
      "outputs": [
        {
          "output_type": "execute_result",
          "data": {
            "text/plain": [
              "dtype('int64')"
            ]
          },
          "metadata": {
            "tags": []
          },
          "execution_count": 28
        }
      ]
    },
    {
      "cell_type": "code",
      "metadata": {
        "id": "HlDs5ueP34Nv",
        "colab_type": "code",
        "colab": {
          "base_uri": "https://localhost:8080/",
          "height": 35
        },
        "outputId": "499240a4-40ec-4087-e3a3-3b8217439d2b"
      },
      "source": [
        "float_arr = arr.astype(np.float64)\n",
        "float_arr"
      ],
      "execution_count": null,
      "outputs": [
        {
          "output_type": "execute_result",
          "data": {
            "text/plain": [
              "array([1., 2., 3., 4., 5.])"
            ]
          },
          "metadata": {
            "tags": []
          },
          "execution_count": 29
        }
      ]
    },
    {
      "cell_type": "markdown",
      "metadata": {
        "id": "e46hxfja66y_",
        "colab_type": "text"
      },
      "source": [
        "#### 标量值可以直接赋值给ndarry以及ndarry的部分"
      ]
    },
    {
      "cell_type": "code",
      "metadata": {
        "id": "nRqkMf7a4He_",
        "colab_type": "code",
        "colab": {
          "base_uri": "https://localhost:8080/",
          "height": 107
        },
        "outputId": "abe0f71e-3f64-4862-cf2a-542038bdc1aa"
      },
      "source": [
        "arr3d = np.array([[[1,2,3],[3,4,5]],[[6,7,8],[0,3,4]]])\n",
        "arr3d"
      ],
      "execution_count": null,
      "outputs": [
        {
          "output_type": "execute_result",
          "data": {
            "text/plain": [
              "array([[[1, 2, 3],\n",
              "        [3, 4, 5]],\n",
              "\n",
              "       [[6, 7, 8],\n",
              "        [0, 3, 4]]])"
            ]
          },
          "metadata": {
            "tags": []
          },
          "execution_count": 30
        }
      ]
    },
    {
      "cell_type": "code",
      "metadata": {
        "id": "q70-tI0T7TP3",
        "colab_type": "code",
        "colab": {
          "base_uri": "https://localhost:8080/",
          "height": 35
        },
        "outputId": "e892f8b5-0b33-4987-86f1-10baacc6658a"
      },
      "source": [
        "arr3d.shape"
      ],
      "execution_count": null,
      "outputs": [
        {
          "output_type": "execute_result",
          "data": {
            "text/plain": [
              "(2, 2, 3)"
            ]
          },
          "metadata": {
            "tags": []
          },
          "execution_count": 31
        }
      ]
    },
    {
      "cell_type": "code",
      "metadata": {
        "id": "qYx4diDt7Vh_",
        "colab_type": "code",
        "colab": {
          "base_uri": "https://localhost:8080/",
          "height": 53
        },
        "outputId": "55c8f604-e202-49de-e127-fc17b0a2cf70"
      },
      "source": [
        "arr3d[0]"
      ],
      "execution_count": null,
      "outputs": [
        {
          "output_type": "execute_result",
          "data": {
            "text/plain": [
              "array([[1, 2, 3],\n",
              "       [3, 4, 5]])"
            ]
          },
          "metadata": {
            "tags": []
          },
          "execution_count": 32
        }
      ]
    },
    {
      "cell_type": "code",
      "metadata": {
        "id": "GaPsgBT87YVX",
        "colab_type": "code",
        "colab": {
          "base_uri": "https://localhost:8080/",
          "height": 107
        },
        "outputId": "182e4a0b-5abc-450a-c8ae-51c0b9007a08"
      },
      "source": [
        "arr3d[0] = 100\n",
        "arr3d"
      ],
      "execution_count": null,
      "outputs": [
        {
          "output_type": "execute_result",
          "data": {
            "text/plain": [
              "array([[[100, 100, 100],\n",
              "        [100, 100, 100]],\n",
              "\n",
              "       [[  6,   7,   8],\n",
              "        [  0,   3,   4]]])"
            ]
          },
          "metadata": {
            "tags": []
          },
          "execution_count": 33
        }
      ]
    },
    {
      "cell_type": "code",
      "metadata": {
        "id": "e0VFj3a77ch-",
        "colab_type": "code",
        "colab": {}
      },
      "source": [
        "arr2d = np.arange(1,10,1).reshape((3,3))"
      ],
      "execution_count": null,
      "outputs": []
    },
    {
      "cell_type": "code",
      "metadata": {
        "id": "MiFfX28I77ZP",
        "colab_type": "code",
        "colab": {
          "base_uri": "https://localhost:8080/",
          "height": 71
        },
        "outputId": "9a2a79f5-97d6-4e3f-a21e-42be72fa9821"
      },
      "source": [
        "arr2d"
      ],
      "execution_count": null,
      "outputs": [
        {
          "output_type": "execute_result",
          "data": {
            "text/plain": [
              "array([[1, 2, 3],\n",
              "       [4, 5, 6],\n",
              "       [7, 8, 9]])"
            ]
          },
          "metadata": {
            "tags": []
          },
          "execution_count": 40
        }
      ]
    },
    {
      "cell_type": "code",
      "metadata": {
        "id": "XTQ-BSEX78Cf",
        "colab_type": "code",
        "colab": {
          "base_uri": "https://localhost:8080/",
          "height": 53
        },
        "outputId": "284279b5-0f90-4782-c742-2dfaa88abb4a"
      },
      "source": [
        "arr2d[:2]"
      ],
      "execution_count": null,
      "outputs": [
        {
          "output_type": "execute_result",
          "data": {
            "text/plain": [
              "array([[1, 2, 3],\n",
              "       [4, 5, 6]])"
            ]
          },
          "metadata": {
            "tags": []
          },
          "execution_count": 41
        }
      ]
    },
    {
      "cell_type": "code",
      "metadata": {
        "id": "rI-CL-uq8cjd",
        "colab_type": "code",
        "colab": {
          "base_uri": "https://localhost:8080/",
          "height": 71
        },
        "outputId": "6140c1a1-2b6f-4564-e10c-ec6c9c66bb74"
      },
      "source": [
        "arr2d[:,:1]"
      ],
      "execution_count": null,
      "outputs": [
        {
          "output_type": "execute_result",
          "data": {
            "text/plain": [
              "array([[1],\n",
              "       [4],\n",
              "       [7]])"
            ]
          },
          "metadata": {
            "tags": []
          },
          "execution_count": 42
        }
      ]
    },
    {
      "cell_type": "markdown",
      "metadata": {
        "id": "Dgd4sc058vtQ",
        "colab_type": "text"
      },
      "source": [
        "# 布尔型索引"
      ]
    },
    {
      "cell_type": "code",
      "metadata": {
        "id": "i51zAT5K8pwv",
        "colab_type": "code",
        "colab": {
          "base_uri": "https://localhost:8080/",
          "height": 35
        },
        "outputId": "6f82cfd8-0272-42d4-8f79-5ef16f7112c3"
      },
      "source": [
        "from numpy.random import randn\n",
        "names = np.array(['bob','joe','will','joe','will','joe','joe'])\n",
        "data = randn(7,4)\n",
        "\n",
        "names"
      ],
      "execution_count": null,
      "outputs": [
        {
          "output_type": "execute_result",
          "data": {
            "text/plain": [
              "array(['bob', 'joe', 'will', 'joe', 'will', 'joe', 'joe'], dtype='<U4')"
            ]
          },
          "metadata": {
            "tags": []
          },
          "execution_count": 56
        }
      ]
    },
    {
      "cell_type": "code",
      "metadata": {
        "id": "lgAymIJn9QuA",
        "colab_type": "code",
        "colab": {
          "base_uri": "https://localhost:8080/",
          "height": 143
        },
        "outputId": "0d962f51-e8fc-4f49-9d76-4ff46bae5e93"
      },
      "source": [
        "data"
      ],
      "execution_count": null,
      "outputs": [
        {
          "output_type": "execute_result",
          "data": {
            "text/plain": [
              "array([[ 1.19705862, -1.84833732, -0.53610763, -0.24860688],\n",
              "       [ 1.40575041,  0.02312019,  0.26187266,  1.73468307],\n",
              "       [ 0.14479555, -1.44021229,  1.26786657, -0.52896622],\n",
              "       [-0.33975257,  2.14217173, -1.74758993,  1.12810281],\n",
              "       [ 0.3196677 , -0.73328468,  1.24746965,  0.9140975 ],\n",
              "       [ 0.1441346 , -0.02104863, -0.83531185, -1.87052268],\n",
              "       [-0.80859196, -0.43847478, -0.31034722,  0.70821524]])"
            ]
          },
          "metadata": {
            "tags": []
          },
          "execution_count": 51
        }
      ]
    },
    {
      "cell_type": "code",
      "metadata": {
        "id": "_ImDMYH_9ZaX",
        "colab_type": "code",
        "colab": {
          "base_uri": "https://localhost:8080/",
          "height": 35
        },
        "outputId": "115147fe-7527-4be1-bcb7-a522e1b46633"
      },
      "source": [
        "names == 'bob' #数组的比较运算也是矢量化的。会产生一个同样的数组。"
      ],
      "execution_count": null,
      "outputs": [
        {
          "output_type": "execute_result",
          "data": {
            "text/plain": [
              "array([ True, False, False, False, False, False, False])"
            ]
          },
          "metadata": {
            "tags": []
          },
          "execution_count": 57
        }
      ]
    },
    {
      "cell_type": "code",
      "metadata": {
        "id": "VxMsmSja-I-3",
        "colab_type": "code",
        "colab": {
          "base_uri": "https://localhost:8080/",
          "height": 35
        },
        "outputId": "32a8ba37-8098-4ff3-aa47-b6e10b920dfe"
      },
      "source": [
        "#将该bull数组用作索引。\n",
        "data[names == 'bob']\n"
      ],
      "execution_count": null,
      "outputs": [
        {
          "output_type": "execute_result",
          "data": {
            "text/plain": [
              "array([[ 0.00287188,  1.96603584, -0.46580255,  0.77702733]])"
            ]
          },
          "metadata": {
            "tags": []
          },
          "execution_count": 58
        }
      ]
    },
    {
      "cell_type": "code",
      "metadata": {
        "id": "lRTtxVfw-Y-v",
        "colab_type": "code",
        "colab": {}
      },
      "source": [
        "# 但是要注意，索引的行数和要索引的行数应该是相同的。"
      ],
      "execution_count": null,
      "outputs": []
    },
    {
      "cell_type": "code",
      "metadata": {
        "id": "JfOichLz_NLd",
        "colab_type": "code",
        "colab": {
          "base_uri": "https://localhost:8080/",
          "height": 89
        },
        "outputId": "18e0f3c8-f09b-40a7-b00f-bfcdc257a055"
      },
      "source": [
        "data[names == 'joe',2:]"
      ],
      "execution_count": null,
      "outputs": [
        {
          "output_type": "execute_result",
          "data": {
            "text/plain": [
              "array([[-1.81017576, -0.43808337],\n",
              "       [-0.07229622,  0.89552443],\n",
              "       [-0.40059111,  1.40068839],\n",
              "       [-2.49594396,  0.52120803]])"
            ]
          },
          "metadata": {
            "tags": []
          },
          "execution_count": 60
        }
      ]
    },
    {
      "cell_type": "code",
      "metadata": {
        "id": "4OA5gZVU_WQ3",
        "colab_type": "code",
        "colab": {
          "base_uri": "https://localhost:8080/",
          "height": 35
        },
        "outputId": "0d4fa42d-5174-4730-d075-1ca1b9c366c2"
      },
      "source": [
        "# 还可以用 ！= 和 - 号来进行条件判断。\n",
        "names != 'bob'"
      ],
      "execution_count": null,
      "outputs": [
        {
          "output_type": "execute_result",
          "data": {
            "text/plain": [
              "array([False,  True,  True,  True,  True,  True,  True])"
            ]
          },
          "metadata": {
            "tags": []
          },
          "execution_count": 62
        }
      ]
    },
    {
      "cell_type": "code",
      "metadata": {
        "id": "xQJglUYD_uun",
        "colab_type": "code",
        "colab": {
          "base_uri": "https://localhost:8080/",
          "height": 35
        },
        "outputId": "e20d0de3-f71f-4719-ae8f-fc206b5a9eed"
      },
      "source": [
        "~(names != 'bob') # 注意这里负号改为上波浪号。取非。"
      ],
      "execution_count": null,
      "outputs": [
        {
          "output_type": "execute_result",
          "data": {
            "text/plain": [
              "array([ True, False, False, False, False, False, False])"
            ]
          },
          "metadata": {
            "tags": []
          },
          "execution_count": 64
        }
      ]
    },
    {
      "cell_type": "code",
      "metadata": {
        "id": "ywOBSDHS_6Je",
        "colab_type": "code",
        "colab": {
          "base_uri": "https://localhost:8080/",
          "height": 125
        },
        "outputId": "be0b05f7-c83d-4d31-e145-5d02548b23ac"
      },
      "source": [
        "data[(names != 'bob')]"
      ],
      "execution_count": null,
      "outputs": [
        {
          "output_type": "execute_result",
          "data": {
            "text/plain": [
              "array([[-0.11744556,  0.3446987 , -1.81017576, -0.43808337],\n",
              "       [-0.76934377, -0.93352841, -1.54616368,  0.88382592],\n",
              "       [ 0.00685972, -1.0952468 , -0.07229622,  0.89552443],\n",
              "       [ 1.62397882,  1.61918821, -0.14352577, -0.89839235],\n",
              "       [ 1.62595988, -0.10574449, -0.40059111,  1.40068839],\n",
              "       [-0.30118383,  1.0133182 , -2.49594396,  0.52120803]])"
            ]
          },
          "metadata": {
            "tags": []
          },
          "execution_count": 65
        }
      ]
    },
    {
      "cell_type": "code",
      "metadata": {
        "id": "wLx7PzZYAMBO",
        "colab_type": "code",
        "colab": {
          "base_uri": "https://localhost:8080/",
          "height": 35
        },
        "outputId": "f7dd4351-f8e0-4525-ee83-7e27e9e4c01d"
      },
      "source": [
        "data[~(names != 'bob')]"
      ],
      "execution_count": null,
      "outputs": [
        {
          "output_type": "execute_result",
          "data": {
            "text/plain": [
              "array([[ 0.00287188,  1.96603584, -0.46580255,  0.77702733]])"
            ]
          },
          "metadata": {
            "tags": []
          },
          "execution_count": 67
        }
      ]
    },
    {
      "cell_type": "code",
      "metadata": {
        "id": "SZJZhE-hAOWu",
        "colab_type": "code",
        "colab": {
          "base_uri": "https://localhost:8080/",
          "height": 35
        },
        "outputId": "77263777-b7f3-495b-d044-7f7b4bc3a7d1"
      },
      "source": [
        "# 也可是哦那个 & | \n",
        "mask = (names == 'bob')|(names == 'will')\n",
        "mask"
      ],
      "execution_count": null,
      "outputs": [
        {
          "output_type": "execute_result",
          "data": {
            "text/plain": [
              "array([ True, False,  True, False,  True, False, False])"
            ]
          },
          "metadata": {
            "tags": []
          },
          "execution_count": 68
        }
      ]
    },
    {
      "cell_type": "code",
      "metadata": {
        "id": "QDXHAj2FAjWH",
        "colab_type": "code",
        "colab": {
          "base_uri": "https://localhost:8080/",
          "height": 71
        },
        "outputId": "fe748286-b4a2-4467-afb0-a778bac9b98b"
      },
      "source": [
        "data[mask]"
      ],
      "execution_count": null,
      "outputs": [
        {
          "output_type": "execute_result",
          "data": {
            "text/plain": [
              "array([[ 0.00287188,  1.96603584, -0.46580255,  0.77702733],\n",
              "       [-0.76934377, -0.93352841, -1.54616368,  0.88382592],\n",
              "       [ 1.62397882,  1.61918821, -0.14352577, -0.89839235]])"
            ]
          },
          "metadata": {
            "tags": []
          },
          "execution_count": 69
        }
      ]
    },
    {
      "cell_type": "code",
      "metadata": {
        "id": "_A1otifcAoz3",
        "colab_type": "code",
        "colab": {}
      },
      "source": [
        "# 通过bool 索引，总是创建数据的副本。\n",
        "data[data<0] = 0"
      ],
      "execution_count": null,
      "outputs": []
    },
    {
      "cell_type": "code",
      "metadata": {
        "id": "IKoU_BOxA_Xv",
        "colab_type": "code",
        "colab": {
          "base_uri": "https://localhost:8080/",
          "height": 143
        },
        "outputId": "1699fc74-7886-49b8-8be3-078151d87c4e"
      },
      "source": [
        "data"
      ],
      "execution_count": null,
      "outputs": [
        {
          "output_type": "execute_result",
          "data": {
            "text/plain": [
              "array([[0.00287188, 1.96603584, 0.        , 0.77702733],\n",
              "       [0.        , 0.3446987 , 0.        , 0.        ],\n",
              "       [0.        , 0.        , 0.        , 0.88382592],\n",
              "       [0.00685972, 0.        , 0.        , 0.89552443],\n",
              "       [1.62397882, 1.61918821, 0.        , 0.        ],\n",
              "       [1.62595988, 0.        , 0.        , 1.40068839],\n",
              "       [0.        , 1.0133182 , 0.        , 0.52120803]])"
            ]
          },
          "metadata": {
            "tags": []
          },
          "execution_count": 71
        }
      ]
    },
    {
      "cell_type": "code",
      "metadata": {
        "id": "GHyySFYLBAQn",
        "colab_type": "code",
        "colab": {
          "base_uri": "https://localhost:8080/",
          "height": 161
        },
        "outputId": "ba40a5f0-7785-4848-f33e-97115c9c2cec"
      },
      "source": [
        "# 花式索引，利用整数数组进行索引\n",
        "arr = np.empty((8,4))\n",
        "for i in range(8):\n",
        "  arr[i] = i\n",
        "arr"
      ],
      "execution_count": null,
      "outputs": [
        {
          "output_type": "execute_result",
          "data": {
            "text/plain": [
              "array([[0., 0., 0., 0.],\n",
              "       [1., 1., 1., 1.],\n",
              "       [2., 2., 2., 2.],\n",
              "       [3., 3., 3., 3.],\n",
              "       [4., 4., 4., 4.],\n",
              "       [5., 5., 5., 5.],\n",
              "       [6., 6., 6., 6.],\n",
              "       [7., 7., 7., 7.]])"
            ]
          },
          "metadata": {
            "tags": []
          },
          "execution_count": 73
        }
      ]
    },
    {
      "cell_type": "code",
      "metadata": {
        "id": "YLJgRrKUB--n",
        "colab_type": "code",
        "colab": {
          "base_uri": "https://localhost:8080/",
          "height": 89
        },
        "outputId": "877eb503-1031-4c8f-e97f-5c555fe01d9a"
      },
      "source": [
        "# 选取特定行的\n",
        "arr[[4,3,0,6]]"
      ],
      "execution_count": null,
      "outputs": [
        {
          "output_type": "execute_result",
          "data": {
            "text/plain": [
              "array([[4., 4., 4., 4.],\n",
              "       [3., 3., 3., 3.],\n",
              "       [0., 0., 0., 0.],\n",
              "       [6., 6., 6., 6.]])"
            ]
          },
          "metadata": {
            "tags": []
          },
          "execution_count": 74
        }
      ]
    },
    {
      "cell_type": "code",
      "metadata": {
        "id": "qNGVCbwRCnuv",
        "colab_type": "code",
        "colab": {
          "base_uri": "https://localhost:8080/",
          "height": 71
        },
        "outputId": "ec04d6de-7d55-479e-900b-3cd5bb7f7866"
      },
      "source": [
        "arr[[-3,-5,-7]]"
      ],
      "execution_count": null,
      "outputs": [
        {
          "output_type": "execute_result",
          "data": {
            "text/plain": [
              "array([[5., 5., 5., 5.],\n",
              "       [3., 3., 3., 3.],\n",
              "       [1., 1., 1., 1.]])"
            ]
          },
          "metadata": {
            "tags": []
          },
          "execution_count": 75
        }
      ]
    },
    {
      "cell_type": "code",
      "metadata": {
        "id": "QzUSaw7HCsLX",
        "colab_type": "code",
        "colab": {
          "base_uri": "https://localhost:8080/",
          "height": 161
        },
        "outputId": "a86e0452-cb79-4bd8-e485-6e24b96d7d32"
      },
      "source": [
        "# 也可一次传入多个索引，不过返回有些特别。\n",
        "arr = np.arange(32).reshape((8,4))\n",
        "arr"
      ],
      "execution_count": null,
      "outputs": [
        {
          "output_type": "execute_result",
          "data": {
            "text/plain": [
              "array([[ 0,  1,  2,  3],\n",
              "       [ 4,  5,  6,  7],\n",
              "       [ 8,  9, 10, 11],\n",
              "       [12, 13, 14, 15],\n",
              "       [16, 17, 18, 19],\n",
              "       [20, 21, 22, 23],\n",
              "       [24, 25, 26, 27],\n",
              "       [28, 29, 30, 31]])"
            ]
          },
          "metadata": {
            "tags": []
          },
          "execution_count": 76
        }
      ]
    },
    {
      "cell_type": "code",
      "metadata": {
        "id": "3NfnJZW9DI23",
        "colab_type": "code",
        "colab": {
          "base_uri": "https://localhost:8080/",
          "height": 35
        },
        "outputId": "5759c9de-5d1b-41ba-9599-0a2d4b415bb3"
      },
      "source": [
        "arr[[1,5,7,2],[0,3,1,2]]"
      ],
      "execution_count": null,
      "outputs": [
        {
          "output_type": "execute_result",
          "data": {
            "text/plain": [
              "array([ 4, 23, 29, 10])"
            ]
          },
          "metadata": {
            "tags": []
          },
          "execution_count": 77
        }
      ]
    },
    {
      "cell_type": "markdown",
      "metadata": {
        "id": "KHIAKrrvDdYB",
        "colab_type": "text"
      },
      "source": [
        "最终选出的元素是 （1，0） （5，3） （7，1）， （2，2）"
      ]
    },
    {
      "cell_type": "code",
      "metadata": {
        "id": "U3rJrlTKDPE3",
        "colab_type": "code",
        "colab": {
          "base_uri": "https://localhost:8080/",
          "height": 89
        },
        "outputId": "62668685-6679-4a40-b2e3-7a2d79003db0"
      },
      "source": [
        "# 如果想要选取特定的行，和列的元素。\n",
        "arr[[1,5,7,2]][:,[0,3,1,2]]   #先进行行的选择，然后再进行列的选择。"
      ],
      "execution_count": null,
      "outputs": [
        {
          "output_type": "execute_result",
          "data": {
            "text/plain": [
              "array([[ 4,  7,  5,  6],\n",
              "       [20, 23, 21, 22],\n",
              "       [28, 31, 29, 30],\n",
              "       [ 8, 11,  9, 10]])"
            ]
          },
          "metadata": {
            "tags": []
          },
          "execution_count": 82
        }
      ]
    },
    {
      "cell_type": "code",
      "metadata": {
        "id": "IvAhPSYSEF3X",
        "colab_type": "code",
        "colab": {
          "base_uri": "https://localhost:8080/",
          "height": 89
        },
        "outputId": "0abf2ba3-616c-4535-fbae-063417c490d1"
      },
      "source": [
        "# 还有一个办法是np.ix_方法。\n",
        "arr[np.ix_([1,5,7,2],[0,3,1,2])]"
      ],
      "execution_count": null,
      "outputs": [
        {
          "output_type": "execute_result",
          "data": {
            "text/plain": [
              "array([[ 4,  7,  5,  6],\n",
              "       [20, 23, 21, 22],\n",
              "       [28, 31, 29, 30],\n",
              "       [ 8, 11,  9, 10]])"
            ]
          },
          "metadata": {
            "tags": []
          },
          "execution_count": 83
        }
      ]
    },
    {
      "cell_type": "markdown",
      "metadata": {
        "id": "AD_KHTNgFBT4",
        "colab_type": "text"
      },
      "source": [
        "### **花式索引与bool索引一样，也是将数据复制到新的内存中。**"
      ]
    },
    {
      "cell_type": "markdown",
      "metadata": {
        "id": "t5LQrcGVFRTw",
        "colab_type": "text"
      },
      "source": [
        "## **数组转置和轴对换**"
      ]
    },
    {
      "cell_type": "code",
      "metadata": {
        "id": "v1NbfurPE5f9",
        "colab_type": "code",
        "colab": {
          "base_uri": "https://localhost:8080/",
          "height": 125
        },
        "outputId": "4f92e846-0ccc-4bd7-d232-35a717f00488"
      },
      "source": [
        "arr = np.random.randn(6,3)\n",
        "arr"
      ],
      "execution_count": null,
      "outputs": [
        {
          "output_type": "execute_result",
          "data": {
            "text/plain": [
              "array([[-1.17543313,  1.07470168,  0.22998337],\n",
              "       [ 0.2086713 ,  0.4491219 ,  2.96898837],\n",
              "       [-1.15272684, -0.72550978,  0.12306602],\n",
              "       [-0.23886367, -0.36536439, -0.02156319],\n",
              "       [-0.4214905 ,  0.3641513 ,  0.14744618],\n",
              "       [ 0.22206996, -0.54208965, -0.22919648]])"
            ]
          },
          "metadata": {
            "tags": []
          },
          "execution_count": 87
        }
      ]
    },
    {
      "cell_type": "markdown",
      "metadata": {
        "id": "bciVTkjQGJ6p",
        "colab_type": "text"
      },
      "source": [
        "arr.T   \n",
        "arr.transpose  \n",
        "arr.swapaxes  \n",
        "\n"
      ]
    },
    {
      "cell_type": "markdown",
      "metadata": {
        "id": "8uMtniaKHeyx",
        "colab_type": "text"
      },
      "source": [
        "## **通用函数：快速的元素级数组函数**\n",
        "#### 简单来说就是简单函数的矢量化包装器\n"
      ]
    },
    {
      "cell_type": "code",
      "metadata": {
        "id": "Aa7neZhuFln0",
        "colab_type": "code",
        "colab": {}
      },
      "source": [
        "arr = np.arange(10)\n"
      ],
      "execution_count": null,
      "outputs": []
    },
    {
      "cell_type": "code",
      "metadata": {
        "id": "gZRQvr22Hv2l",
        "colab_type": "code",
        "colab": {
          "base_uri": "https://localhost:8080/",
          "height": 53
        },
        "outputId": "9ff2c983-bd22-431a-f66a-8a250a096270"
      },
      "source": [
        "np.sqrt(arr)"
      ],
      "execution_count": null,
      "outputs": [
        {
          "output_type": "execute_result",
          "data": {
            "text/plain": [
              "array([0.        , 1.        , 1.41421356, 1.73205081, 2.        ,\n",
              "       2.23606798, 2.44948974, 2.64575131, 2.82842712, 3.        ])"
            ]
          },
          "metadata": {
            "tags": []
          },
          "execution_count": 89
        }
      ]
    },
    {
      "cell_type": "code",
      "metadata": {
        "id": "2x0B1WR9HyWw",
        "colab_type": "code",
        "colab": {
          "base_uri": "https://localhost:8080/",
          "height": 71
        },
        "outputId": "57bec73a-95dc-4493-8ba6-0eb3c6554521"
      },
      "source": [
        "np.exp(arr)"
      ],
      "execution_count": null,
      "outputs": [
        {
          "output_type": "execute_result",
          "data": {
            "text/plain": [
              "array([1.00000000e+00, 2.71828183e+00, 7.38905610e+00, 2.00855369e+01,\n",
              "       5.45981500e+01, 1.48413159e+02, 4.03428793e+02, 1.09663316e+03,\n",
              "       2.98095799e+03, 8.10308393e+03])"
            ]
          },
          "metadata": {
            "tags": []
          },
          "execution_count": 90
        }
      ]
    },
    {
      "cell_type": "code",
      "metadata": {
        "id": "xjPhdfDCH2mf",
        "colab_type": "code",
        "colab": {
          "base_uri": "https://localhost:8080/",
          "height": 89
        },
        "outputId": "aa5d5998-68ae-427a-cfea-36522a7de705"
      },
      "source": [
        "# 还有二元ufunc\n",
        "from numpy.random import randn\n",
        "x = randn(8)\n",
        "y = randn(8)\n",
        "print(x)\n",
        "print(y)"
      ],
      "execution_count": null,
      "outputs": [
        {
          "output_type": "stream",
          "text": [
            "[-0.78295611 -0.3263778   0.90648592  0.17526699 -0.4394382  -1.84243207\n",
            "  0.33519905  0.43654599]\n",
            "[ 0.19616096 -0.84128246 -1.98279514  0.19036392 -1.54944214 -0.76067969\n",
            " -0.28737118  1.93731374]\n"
          ],
          "name": "stdout"
        }
      ]
    },
    {
      "cell_type": "code",
      "metadata": {
        "id": "xLdIL4tvIJR_",
        "colab_type": "code",
        "colab": {
          "base_uri": "https://localhost:8080/",
          "height": 53
        },
        "outputId": "d2e07c19-e7ca-4194-c092-5e63e1fba1da"
      },
      "source": [
        "np.maximum(x,y)"
      ],
      "execution_count": null,
      "outputs": [
        {
          "output_type": "execute_result",
          "data": {
            "text/plain": [
              "array([ 0.19616096, -0.3263778 ,  0.90648592,  0.19036392, -0.4394382 ,\n",
              "       -0.76067969,  0.33519905,  1.93731374])"
            ]
          },
          "metadata": {
            "tags": []
          },
          "execution_count": 93
        }
      ]
    },
    {
      "cell_type": "markdown",
      "metadata": {
        "id": "2fB8HARqI7fi",
        "colab_type": "text"
      },
      "source": [
        "![一元函数](https://img-blog.csdnimg.cn/20200806222032542.png?x-oss-process=image/watermark,type_ZmFuZ3poZW5naGVpdGk,shadow_10,text_aHR0cHM6Ly9ibG9nLmNzZG4ubmV0L2dhb2N1aTg4Mw==,size_16,color_FFFFFF,t_70)\n",
        "\n",
        "![一元函数](https://img-blog.csdnimg.cn/20200806222049123.png)\n",
        "\n",
        "![二元ufunc](https://img-blog.csdnimg.cn/20200806222100494.png?x-oss-process=image/watermark,type_ZmFuZ3poZW5naGVpdGk,shadow_10,text_aHR0cHM6Ly9ibG9nLmNzZG4ubmV0L2dhb2N1aTg4Mw==,size_16,color_FFFFFF,t_70)"
      ]
    },
    {
      "cell_type": "markdown",
      "metadata": {
        "id": "y-GSOk4oKvkK",
        "colab_type": "text"
      },
      "source": [
        "### 利用数组进行数据处理\n",
        "## np.meshgrid 接收两个一维数组，产生两个二维矩阵。\n",
        "## 对应于所有的（x,y）对。"
      ]
    },
    {
      "cell_type": "code",
      "metadata": {
        "id": "7k3glH_9ISvP",
        "colab_type": "code",
        "colab": {
          "base_uri": "https://localhost:8080/",
          "height": 143
        },
        "outputId": "d9287ec3-881e-4657-fddf-b7f66a364998"
      },
      "source": [
        "points = np.arange(-5,5,0.01)\n",
        "xs,ys = np.meshgrid(points, points)\n",
        "ys"
      ],
      "execution_count": null,
      "outputs": [
        {
          "output_type": "execute_result",
          "data": {
            "text/plain": [
              "array([[-5.  , -5.  , -5.  , ..., -5.  , -5.  , -5.  ],\n",
              "       [-4.99, -4.99, -4.99, ..., -4.99, -4.99, -4.99],\n",
              "       [-4.98, -4.98, -4.98, ..., -4.98, -4.98, -4.98],\n",
              "       ...,\n",
              "       [ 4.97,  4.97,  4.97, ...,  4.97,  4.97,  4.97],\n",
              "       [ 4.98,  4.98,  4.98, ...,  4.98,  4.98,  4.98],\n",
              "       [ 4.99,  4.99,  4.99, ...,  4.99,  4.99,  4.99]])"
            ]
          },
          "metadata": {
            "tags": []
          },
          "execution_count": 94
        }
      ]
    },
    {
      "cell_type": "code",
      "metadata": {
        "id": "Sb_pHQQoLP35",
        "colab_type": "code",
        "colab": {
          "base_uri": "https://localhost:8080/",
          "height": 143
        },
        "outputId": "e9d03487-182c-4243-8752-5b3c8e39d19f"
      },
      "source": [
        "xs"
      ],
      "execution_count": null,
      "outputs": [
        {
          "output_type": "execute_result",
          "data": {
            "text/plain": [
              "array([[-5.  , -4.99, -4.98, ...,  4.97,  4.98,  4.99],\n",
              "       [-5.  , -4.99, -4.98, ...,  4.97,  4.98,  4.99],\n",
              "       [-5.  , -4.99, -4.98, ...,  4.97,  4.98,  4.99],\n",
              "       ...,\n",
              "       [-5.  , -4.99, -4.98, ...,  4.97,  4.98,  4.99],\n",
              "       [-5.  , -4.99, -4.98, ...,  4.97,  4.98,  4.99],\n",
              "       [-5.  , -4.99, -4.98, ...,  4.97,  4.98,  4.99]])"
            ]
          },
          "metadata": {
            "tags": []
          },
          "execution_count": 95
        }
      ]
    },
    {
      "cell_type": "code",
      "metadata": {
        "id": "CnGovQ9YLpqH",
        "colab_type": "code",
        "colab": {
          "base_uri": "https://localhost:8080/",
          "height": 251
        },
        "outputId": "ccdb098a-b8f9-4e0a-83b2-2eaa11ea801f"
      },
      "source": [
        "import matplotlib.pyplot as plt\n",
        "z = np.sqrt(xs**2 + ys**2)\n",
        "z"
      ],
      "execution_count": null,
      "outputs": [
        {
          "output_type": "execute_result",
          "data": {
            "text/plain": [
              "array([[7.07106781, 7.06400028, 7.05693985, ..., 7.04988652, 7.05693985,\n",
              "        7.06400028],\n",
              "       [7.06400028, 7.05692568, 7.04985815, ..., 7.04279774, 7.04985815,\n",
              "        7.05692568],\n",
              "       [7.05693985, 7.04985815, 7.04278354, ..., 7.03571603, 7.04278354,\n",
              "        7.04985815],\n",
              "       ...,\n",
              "       [7.04988652, 7.04279774, 7.03571603, ..., 7.0286414 , 7.03571603,\n",
              "        7.04279774],\n",
              "       [7.05693985, 7.04985815, 7.04278354, ..., 7.03571603, 7.04278354,\n",
              "        7.04985815],\n",
              "       [7.06400028, 7.05692568, 7.04985815, ..., 7.04279774, 7.04985815,\n",
              "        7.05692568]])"
            ]
          },
          "metadata": {
            "tags": []
          },
          "execution_count": 96
        }
      ]
    },
    {
      "cell_type": "code",
      "metadata": {
        "id": "Q36360vnL-w4",
        "colab_type": "code",
        "colab": {
          "base_uri": "https://localhost:8080/",
          "height": 35
        },
        "outputId": "23533368-d705-4846-d08e-45b17e7a9f15"
      },
      "source": [
        "z.shape"
      ],
      "execution_count": null,
      "outputs": [
        {
          "output_type": "execute_result",
          "data": {
            "text/plain": [
              "(1000, 1000)"
            ]
          },
          "metadata": {
            "tags": []
          },
          "execution_count": 97
        }
      ]
    },
    {
      "cell_type": "code",
      "metadata": {
        "id": "xM-jldsFMBRA",
        "colab_type": "code",
        "colab": {
          "base_uri": "https://localhost:8080/",
          "height": 306
        },
        "outputId": "fc9fbeb8-e695-424b-97ff-6352f720453d"
      },
      "source": [
        "plt.imshow(z,cmap=plt.cm.gray); plt.colorbar()\n",
        "plt.title('Image plot of $\\sqrt{x^2+y^2}$ for a grid of values')"
      ],
      "execution_count": null,
      "outputs": [
        {
          "output_type": "execute_result",
          "data": {
            "text/plain": [
              "Text(0.5, 1.0, 'Image plot of $\\\\sqrt{x^2+y^2}$ for a grid of values')"
            ]
          },
          "metadata": {
            "tags": []
          },
          "execution_count": 102
        },
        {
          "output_type": "display_data",
          "data": {
            "image/png": "[encoded data removed]",
            "text/plain": [
              "<Figure size 432x288 with 2 Axes>"
            ]
          },
          "metadata": {
            "tags": [],
            "needs_background": "light"
          }
        }
      ]
    },
    {
      "cell_type": "markdown",
      "metadata": {
        "id": "HMD-ylmZNsXy",
        "colab_type": "text"
      },
      "source": [
        "## **将条件逻辑表述为数组运算**\n",
        "\n",
        "numpy.where 函数是三元表达式 x if condition else y 的矢量化版本。"
      ]
    },
    {
      "cell_type": "code",
      "metadata": {
        "id": "bFIZpAdIMQ8A",
        "colab_type": "code",
        "colab": {}
      },
      "source": [
        "xarr = np.array([1.1, 1.2, 1.3, 1.4, 1.5])\n",
        "yarr = np.array([2.1, 2.2, 2.3, 2.4, 2.5])\n",
        "cond = np.array([True, False, True, True, False])\n",
        "#我们想要根据cond的值选取xarr和yarr，当cond的true，选取xarr的值，否则选取yarr的值。 "
      ],
      "execution_count": null,
      "outputs": []
    },
    {
      "cell_type": "code",
      "metadata": {
        "id": "Jvtj4779OlIv",
        "colab_type": "code",
        "colab": {
          "base_uri": "https://localhost:8080/",
          "height": 35
        },
        "outputId": "bbd4c658-1c5e-4212-ab15-3f0f13c02b58"
      },
      "source": [
        "result = [(x if c else y) for x, y, c in zip(xarr, yarr, cond)]\n",
        "result"
      ],
      "execution_count": null,
      "outputs": [
        {
          "output_type": "execute_result",
          "data": {
            "text/plain": [
              "[1.1, 2.2, 1.3, 1.4, 2.5]"
            ]
          },
          "metadata": {
            "tags": []
          },
          "execution_count": 104
        }
      ]
    },
    {
      "cell_type": "code",
      "metadata": {
        "id": "alQ9tmI-O9aw",
        "colab_type": "code",
        "colab": {}
      },
      "source": [
        "# 上边这种方法对大数据处理不是很快。二是无法用于多维数组。\n",
        "# 可以使用np.where."
      ],
      "execution_count": null,
      "outputs": []
    },
    {
      "cell_type": "code",
      "metadata": {
        "id": "cq2rl7SRPL1w",
        "colab_type": "code",
        "colab": {}
      },
      "source": [
        ""
      ],
      "execution_count": null,
      "outputs": []
    }
  ]
}