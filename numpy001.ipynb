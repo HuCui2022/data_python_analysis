{
  "nbformat": 4,
  "nbformat_minor": 0,
  "metadata": {
    "colab": {
      "name": "numpy001.ipynb",
      "provenance": [],
      "collapsed_sections": [],
      "toc_visible": true,
      "authorship_tag": "ABX9TyNL1X9xVama3YWy6cLNWq3k",
      "include_colab_link": true
    },
    "kernelspec": {
      "name": "python3",
      "display_name": "Python 3"
    }
  },
  "cells": [
    {
      "cell_type": "markdown",
      "metadata": {
        "id": "view-in-github",
        "colab_type": "text"
      },
      "source": [
        "<a href=\"https://colab.research.google.com/github/smiledinisa/data_python_analysis/blob/master/numpy001.ipynb\" target=\"_parent\"><img src=\"https://colab.research.google.com/assets/colab-badge.svg\" alt=\"Open In Colab\"/></a>"
      ]
    },
    {
      "cell_type": "code",
      "metadata": {
        "id": "uDPNliWKuz3O",
        "colab_type": "code",
        "colab": {}
      },
      "source": [
        "import torch\n"
      ],
      "execution_count": null,
      "outputs": []
    },
    {
      "cell_type": "code",
      "metadata": {
        "id": "f-uhSJ7zv_Tg",
        "colab_type": "code",
        "colab": {}
      },
      "source": [
        "import datetime"
      ],
      "execution_count": null,
      "outputs": []
    },
    {
      "cell_type": "code",
      "metadata": {
        "id": "pZM5f4OSwK4e",
        "colab_type": "code",
        "colab": {}
      },
      "source": [
        "class Message:\n",
        "  def __init__(self,msg):\n",
        "    self.msg = msg\n",
        "  def __repr__(self):\n",
        "    return 'Message:%s' % self.msg\n",
        "class Message2:\n",
        "  def __init__(self,msg):\n",
        "    self.msg = msg\n",
        " \n",
        "\n"
      ],
      "execution_count": null,
      "outputs": []
    },
    {
      "cell_type": "code",
      "metadata": {
        "id": "ZNdNRwkdwTvW",
        "colab_type": "code",
        "colab": {
          "base_uri": "https://localhost:8080/",
          "height": 35
        },
        "outputId": "fbe354f6-1974-4b05-c499-73278a7a4a03"
      },
      "source": [
        "x = Message('I have a secret!!')\n",
        "x"
      ],
      "execution_count": null,
      "outputs": [
        {
          "output_type": "execute_result",
          "data": {
            "text/plain": [
              "Message:I have a secret!!"
            ]
          },
          "metadata": {
            "tags": []
          },
          "execution_count": 13
        }
      ]
    },
    {
      "cell_type": "code",
      "metadata": {
        "id": "S2zNmVV1wWCm",
        "colab_type": "code",
        "colab": {
          "base_uri": "https://localhost:8080/",
          "height": 35
        },
        "outputId": "93560127-f960-4475-d5a7-48b36f6fd0de"
      },
      "source": [
        "y = Message2('I HAVE A SECRET TOO!!')\n",
        "y"
      ],
      "execution_count": null,
      "outputs": [
        {
          "output_type": "execute_result",
          "data": {
            "text/plain": [
              "<__main__.Message2 at 0x7f5fade28f98>"
            ]
          },
          "metadata": {
            "tags": []
          },
          "execution_count": 15
        }
      ]
    },
    {
      "cell_type": "markdown",
      "metadata": {
        "id": "oF5Rjz8qyyfw",
        "colab_type": "text"
      },
      "source": [
        "可以看到两个结果是不一样的，`__repr__`方法会自动返回字符串。"
      ]
    },
    {
      "cell_type": "markdown",
      "metadata": {
        "id": "cg8GB7ofyuCn",
        "colab_type": "text"
      },
      "source": [
        "# 第四章 numpy基础：数组和矢量计算"
      ]
    },
    {
      "cell_type": "markdown",
      "metadata": {
        "id": "E3ic5xeg0JPD",
        "colab_type": "text"
      },
      "source": [
        "- 创建ndaary"
      ]
    },
    {
      "cell_type": "code",
      "metadata": {
        "id": "ZEz2wWsoznx2",
        "colab_type": "code",
        "colab": {}
      },
      "source": [
        "data1 = [5,6.5,3,7,8]"
      ],
      "execution_count": null,
      "outputs": []
    },
    {
      "cell_type": "code",
      "metadata": {
        "id": "ZUZQerzb1Aoz",
        "colab_type": "code",
        "colab": {}
      },
      "source": [
        "import numpy as np"
      ],
      "execution_count": null,
      "outputs": []
    },
    {
      "cell_type": "code",
      "metadata": {
        "id": "f9lPTgwf1GXe",
        "colab_type": "code",
        "colab": {
          "base_uri": "https://localhost:8080/",
          "height": 35
        },
        "outputId": "2b078d28-3a5e-4b66-a981-b0e0893894cd"
      },
      "source": [
        "arr1 = np.array(data1)\n",
        "arr1"
      ],
      "execution_count": null,
      "outputs": [
        {
          "output_type": "execute_result",
          "data": {
            "text/plain": [
              "array([5. , 6.5, 3. , 7. , 8. ])"
            ]
          },
          "metadata": {
            "tags": []
          },
          "execution_count": 18
        }
      ]
    },
    {
      "cell_type": "code",
      "metadata": {
        "id": "5erJBZo11KxO",
        "colab_type": "code",
        "colab": {
          "base_uri": "https://localhost:8080/",
          "height": 35
        },
        "outputId": "a9e59dbc-36d5-434a-fb08-61284928aede"
      },
      "source": [
        "arr1.ndim"
      ],
      "execution_count": null,
      "outputs": [
        {
          "output_type": "execute_result",
          "data": {
            "text/plain": [
              "1"
            ]
          },
          "metadata": {
            "tags": []
          },
          "execution_count": 19
        }
      ]
    },
    {
      "cell_type": "code",
      "metadata": {
        "id": "bxCbquHz1QmW",
        "colab_type": "code",
        "colab": {
          "base_uri": "https://localhost:8080/",
          "height": 35
        },
        "outputId": "534a024b-88c7-46de-ff31-12fc0fed0cd7"
      },
      "source": [
        "arr1.shape"
      ],
      "execution_count": null,
      "outputs": [
        {
          "output_type": "execute_result",
          "data": {
            "text/plain": [
              "(5,)"
            ]
          },
          "metadata": {
            "tags": []
          },
          "execution_count": 20
        }
      ]
    },
    {
      "cell_type": "code",
      "metadata": {
        "id": "_NHJZd1c1SCO",
        "colab_type": "code",
        "colab": {
          "base_uri": "https://localhost:8080/",
          "height": 35
        },
        "outputId": "97d8256b-1bd5-43ec-81fe-351b19b9a541"
      },
      "source": [
        "arr1.dtype"
      ],
      "execution_count": null,
      "outputs": [
        {
          "output_type": "execute_result",
          "data": {
            "text/plain": [
              "dtype('float64')"
            ]
          },
          "metadata": {
            "tags": []
          },
          "execution_count": 21
        }
      ]
    },
    {
      "cell_type": "code",
      "metadata": {
        "id": "bKof2SyG1XBO",
        "colab_type": "code",
        "colab": {
          "base_uri": "https://localhost:8080/",
          "height": 35
        },
        "outputId": "b7adeb87-6dda-4540-b634-90d6890abf93"
      },
      "source": [
        "a = np.zeros(10)\n",
        "a"
      ],
      "execution_count": null,
      "outputs": [
        {
          "output_type": "execute_result",
          "data": {
            "text/plain": [
              "array([0., 0., 0., 0., 0., 0., 0., 0., 0., 0.])"
            ]
          },
          "metadata": {
            "tags": []
          },
          "execution_count": 23
        }
      ]
    },
    {
      "cell_type": "code",
      "metadata": {
        "id": "w3g3ypVo1cnW",
        "colab_type": "code",
        "colab": {
          "base_uri": "https://localhost:8080/",
          "height": 233
        },
        "outputId": "975aa894-e19f-427a-d6cf-e4e3883f152d"
      },
      "source": [
        "b = np.ones((12,12))\n",
        "b"
      ],
      "execution_count": null,
      "outputs": [
        {
          "output_type": "execute_result",
          "data": {
            "text/plain": [
              "array([[1., 1., 1., 1., 1., 1., 1., 1., 1., 1., 1., 1.],\n",
              "       [1., 1., 1., 1., 1., 1., 1., 1., 1., 1., 1., 1.],\n",
              "       [1., 1., 1., 1., 1., 1., 1., 1., 1., 1., 1., 1.],\n",
              "       [1., 1., 1., 1., 1., 1., 1., 1., 1., 1., 1., 1.],\n",
              "       [1., 1., 1., 1., 1., 1., 1., 1., 1., 1., 1., 1.],\n",
              "       [1., 1., 1., 1., 1., 1., 1., 1., 1., 1., 1., 1.],\n",
              "       [1., 1., 1., 1., 1., 1., 1., 1., 1., 1., 1., 1.],\n",
              "       [1., 1., 1., 1., 1., 1., 1., 1., 1., 1., 1., 1.],\n",
              "       [1., 1., 1., 1., 1., 1., 1., 1., 1., 1., 1., 1.],\n",
              "       [1., 1., 1., 1., 1., 1., 1., 1., 1., 1., 1., 1.],\n",
              "       [1., 1., 1., 1., 1., 1., 1., 1., 1., 1., 1., 1.],\n",
              "       [1., 1., 1., 1., 1., 1., 1., 1., 1., 1., 1., 1.]])"
            ]
          },
          "metadata": {
            "tags": []
          },
          "execution_count": 25
        }
      ]
    },
    {
      "cell_type": "code",
      "metadata": {
        "id": "ygdkKNjJ1isu",
        "colab_type": "code",
        "colab": {
          "base_uri": "https://localhost:8080/",
          "height": 251
        },
        "outputId": "a2b9bc54-5a3a-48b4-e237-0cab9bde85f2"
      },
      "source": [
        "c = np.empty((2,3,4))\n",
        "c"
      ],
      "execution_count": null,
      "outputs": [
        {
          "output_type": "execute_result",
          "data": {
            "text/plain": [
              "array([[[5.02911713e-316, 0.00000000e+000, 0.00000000e+000,\n",
              "         0.00000000e+000],\n",
              "        [0.00000000e+000, 0.00000000e+000, 0.00000000e+000,\n",
              "         0.00000000e+000],\n",
              "        [0.00000000e+000, 0.00000000e+000, 0.00000000e+000,\n",
              "         0.00000000e+000]],\n",
              "\n",
              "       [[0.00000000e+000, 0.00000000e+000, 0.00000000e+000,\n",
              "         0.00000000e+000],\n",
              "        [0.00000000e+000, 0.00000000e+000, 0.00000000e+000,\n",
              "         0.00000000e+000],\n",
              "        [0.00000000e+000, 0.00000000e+000, 0.00000000e+000,\n",
              "         0.00000000e+000]]])"
            ]
          },
          "metadata": {
            "tags": []
          },
          "execution_count": 27
        }
      ]
    },
    {
      "cell_type": "markdown",
      "metadata": {
        "id": "aId97yYw2KyK",
        "colab_type": "text"
      },
      "source": [
        "## 数组创建函数\n",
        "\n",
        "1.   array\n",
        "2.   asarray\n",
        "3.   arange\n",
        "4.   ones,ones_like\n",
        "5.   zeros,zeros_like\n",
        "6.   empty. empty_like.\n",
        "7.   eye, identity\n",
        "\n",
        "\n"
      ]
    },
    {
      "cell_type": "markdown",
      "metadata": {
        "id": "Bs1kVcf72r7g",
        "colab_type": "text"
      },
      "source": [
        "## numpy 的数据类型\n",
        "int8 uint8  i1 u1    \n",
        "int16 uint16 i2 u2  \n",
        "int32 uint32 i3 u3   \n",
        "int64 uint64 i4 u4   \n",
        "float16 f2  \n",
        "float32 f4\\f  \n",
        "float64 f8\\d  \n",
        "\n",
        "float128 f16\\g    \n",
        "complex64 complex128 c8 c16    \n",
        "complex256  c32    \n",
        "bool ?  \n",
        "\n",
        "object           O    \n",
        "string_ S   S10    \n",
        "unicode_    U    U10  \n"
      ]
    },
    {
      "cell_type": "code",
      "metadata": {
        "id": "fxRt3PZt1s_G",
        "colab_type": "code",
        "colab": {
          "base_uri": "https://localhost:8080/",
          "height": 35
        },
        "outputId": "40b976b6-681e-4aff-9f7d-f5d94e4c7e78"
      },
      "source": [
        "arr = np.array([1,2,3,4,5])\n",
        "arr.dtype"
      ],
      "execution_count": null,
      "outputs": [
        {
          "output_type": "execute_result",
          "data": {
            "text/plain": [
              "dtype('int64')"
            ]
          },
          "metadata": {
            "tags": []
          },
          "execution_count": 28
        }
      ]
    },
    {
      "cell_type": "code",
      "metadata": {
        "id": "HlDs5ueP34Nv",
        "colab_type": "code",
        "colab": {
          "base_uri": "https://localhost:8080/",
          "height": 35
        },
        "outputId": "499240a4-40ec-4087-e3a3-3b8217439d2b"
      },
      "source": [
        "float_arr = arr.astype(np.float64)\n",
        "float_arr"
      ],
      "execution_count": null,
      "outputs": [
        {
          "output_type": "execute_result",
          "data": {
            "text/plain": [
              "array([1., 2., 3., 4., 5.])"
            ]
          },
          "metadata": {
            "tags": []
          },
          "execution_count": 29
        }
      ]
    },
    {
      "cell_type": "markdown",
      "metadata": {
        "id": "e46hxfja66y_",
        "colab_type": "text"
      },
      "source": [
        "#### 标量值可以直接赋值给ndarry以及ndarry的部分"
      ]
    },
    {
      "cell_type": "code",
      "metadata": {
        "id": "nRqkMf7a4He_",
        "colab_type": "code",
        "colab": {
          "base_uri": "https://localhost:8080/",
          "height": 107
        },
        "outputId": "abe0f71e-3f64-4862-cf2a-542038bdc1aa"
      },
      "source": [
        "arr3d = np.array([[[1,2,3],[3,4,5]],[[6,7,8],[0,3,4]]])\n",
        "arr3d"
      ],
      "execution_count": null,
      "outputs": [
        {
          "output_type": "execute_result",
          "data": {
            "text/plain": [
              "array([[[1, 2, 3],\n",
              "        [3, 4, 5]],\n",
              "\n",
              "       [[6, 7, 8],\n",
              "        [0, 3, 4]]])"
            ]
          },
          "metadata": {
            "tags": []
          },
          "execution_count": 30
        }
      ]
    },
    {
      "cell_type": "code",
      "metadata": {
        "id": "q70-tI0T7TP3",
        "colab_type": "code",
        "colab": {
          "base_uri": "https://localhost:8080/",
          "height": 35
        },
        "outputId": "e892f8b5-0b33-4987-86f1-10baacc6658a"
      },
      "source": [
        "arr3d.shape"
      ],
      "execution_count": null,
      "outputs": [
        {
          "output_type": "execute_result",
          "data": {
            "text/plain": [
              "(2, 2, 3)"
            ]
          },
          "metadata": {
            "tags": []
          },
          "execution_count": 31
        }
      ]
    },
    {
      "cell_type": "code",
      "metadata": {
        "id": "qYx4diDt7Vh_",
        "colab_type": "code",
        "colab": {
          "base_uri": "https://localhost:8080/",
          "height": 53
        },
        "outputId": "55c8f604-e202-49de-e127-fc17b0a2cf70"
      },
      "source": [
        "arr3d[0]"
      ],
      "execution_count": null,
      "outputs": [
        {
          "output_type": "execute_result",
          "data": {
            "text/plain": [
              "array([[1, 2, 3],\n",
              "       [3, 4, 5]])"
            ]
          },
          "metadata": {
            "tags": []
          },
          "execution_count": 32
        }
      ]
    },
    {
      "cell_type": "code",
      "metadata": {
        "id": "GaPsgBT87YVX",
        "colab_type": "code",
        "colab": {
          "base_uri": "https://localhost:8080/",
          "height": 107
        },
        "outputId": "182e4a0b-5abc-450a-c8ae-51c0b9007a08"
      },
      "source": [
        "arr3d[0] = 100\n",
        "arr3d"
      ],
      "execution_count": null,
      "outputs": [
        {
          "output_type": "execute_result",
          "data": {
            "text/plain": [
              "array([[[100, 100, 100],\n",
              "        [100, 100, 100]],\n",
              "\n",
              "       [[  6,   7,   8],\n",
              "        [  0,   3,   4]]])"
            ]
          },
          "metadata": {
            "tags": []
          },
          "execution_count": 33
        }
      ]
    },
    {
      "cell_type": "code",
      "metadata": {
        "id": "e0VFj3a77ch-",
        "colab_type": "code",
        "colab": {}
      },
      "source": [
        "arr2d = np.arange(1,10,1).reshape((3,3))"
      ],
      "execution_count": null,
      "outputs": []
    },
    {
      "cell_type": "code",
      "metadata": {
        "id": "MiFfX28I77ZP",
        "colab_type": "code",
        "colab": {
          "base_uri": "https://localhost:8080/",
          "height": 71
        },
        "outputId": "9a2a79f5-97d6-4e3f-a21e-42be72fa9821"
      },
      "source": [
        "arr2d"
      ],
      "execution_count": null,
      "outputs": [
        {
          "output_type": "execute_result",
          "data": {
            "text/plain": [
              "array([[1, 2, 3],\n",
              "       [4, 5, 6],\n",
              "       [7, 8, 9]])"
            ]
          },
          "metadata": {
            "tags": []
          },
          "execution_count": 40
        }
      ]
    },
    {
      "cell_type": "code",
      "metadata": {
        "id": "XTQ-BSEX78Cf",
        "colab_type": "code",
        "colab": {
          "base_uri": "https://localhost:8080/",
          "height": 53
        },
        "outputId": "284279b5-0f90-4782-c742-2dfaa88abb4a"
      },
      "source": [
        "arr2d[:2]"
      ],
      "execution_count": null,
      "outputs": [
        {
          "output_type": "execute_result",
          "data": {
            "text/plain": [
              "array([[1, 2, 3],\n",
              "       [4, 5, 6]])"
            ]
          },
          "metadata": {
            "tags": []
          },
          "execution_count": 41
        }
      ]
    },
    {
      "cell_type": "code",
      "metadata": {
        "id": "rI-CL-uq8cjd",
        "colab_type": "code",
        "colab": {
          "base_uri": "https://localhost:8080/",
          "height": 71
        },
        "outputId": "6140c1a1-2b6f-4564-e10c-ec6c9c66bb74"
      },
      "source": [
        "arr2d[:,:1]"
      ],
      "execution_count": null,
      "outputs": [
        {
          "output_type": "execute_result",
          "data": {
            "text/plain": [
              "array([[1],\n",
              "       [4],\n",
              "       [7]])"
            ]
          },
          "metadata": {
            "tags": []
          },
          "execution_count": 42
        }
      ]
    },
    {
      "cell_type": "markdown",
      "metadata": {
        "id": "Dgd4sc058vtQ",
        "colab_type": "text"
      },
      "source": [
        "##  **布尔型索引**"
      ]
    },
    {
      "cell_type": "code",
      "metadata": {
        "id": "i51zAT5K8pwv",
        "colab_type": "code",
        "colab": {
          "base_uri": "https://localhost:8080/",
          "height": 35
        },
        "outputId": "6f82cfd8-0272-42d4-8f79-5ef16f7112c3"
      },
      "source": [
        "from numpy.random import randn\n",
        "names = np.array(['bob','joe','will','joe','will','joe','joe'])\n",
        "data = randn(7,4)\n",
        "\n",
        "names"
      ],
      "execution_count": null,
      "outputs": [
        {
          "output_type": "execute_result",
          "data": {
            "text/plain": [
              "array(['bob', 'joe', 'will', 'joe', 'will', 'joe', 'joe'], dtype='<U4')"
            ]
          },
          "metadata": {
            "tags": []
          },
          "execution_count": 56
        }
      ]
    },
    {
      "cell_type": "code",
      "metadata": {
        "id": "lgAymIJn9QuA",
        "colab_type": "code",
        "colab": {
          "base_uri": "https://localhost:8080/",
          "height": 143
        },
        "outputId": "0d962f51-e8fc-4f49-9d76-4ff46bae5e93"
      },
      "source": [
        "data"
      ],
      "execution_count": null,
      "outputs": [
        {
          "output_type": "execute_result",
          "data": {
            "text/plain": [
              "array([[ 1.19705862, -1.84833732, -0.53610763, -0.24860688],\n",
              "       [ 1.40575041,  0.02312019,  0.26187266,  1.73468307],\n",
              "       [ 0.14479555, -1.44021229,  1.26786657, -0.52896622],\n",
              "       [-0.33975257,  2.14217173, -1.74758993,  1.12810281],\n",
              "       [ 0.3196677 , -0.73328468,  1.24746965,  0.9140975 ],\n",
              "       [ 0.1441346 , -0.02104863, -0.83531185, -1.87052268],\n",
              "       [-0.80859196, -0.43847478, -0.31034722,  0.70821524]])"
            ]
          },
          "metadata": {
            "tags": []
          },
          "execution_count": 51
        }
      ]
    },
    {
      "cell_type": "code",
      "metadata": {
        "id": "_ImDMYH_9ZaX",
        "colab_type": "code",
        "colab": {
          "base_uri": "https://localhost:8080/",
          "height": 35
        },
        "outputId": "115147fe-7527-4be1-bcb7-a522e1b46633"
      },
      "source": [
        "names == 'bob' #数组的比较运算也是矢量化的。会产生一个同样的数组。"
      ],
      "execution_count": null,
      "outputs": [
        {
          "output_type": "execute_result",
          "data": {
            "text/plain": [
              "array([ True, False, False, False, False, False, False])"
            ]
          },
          "metadata": {
            "tags": []
          },
          "execution_count": 57
        }
      ]
    },
    {
      "cell_type": "code",
      "metadata": {
        "id": "VxMsmSja-I-3",
        "colab_type": "code",
        "colab": {
          "base_uri": "https://localhost:8080/",
          "height": 35
        },
        "outputId": "32a8ba37-8098-4ff3-aa47-b6e10b920dfe"
      },
      "source": [
        "#将该bull数组用作索引。\n",
        "data[names == 'bob']\n"
      ],
      "execution_count": null,
      "outputs": [
        {
          "output_type": "execute_result",
          "data": {
            "text/plain": [
              "array([[ 0.00287188,  1.96603584, -0.46580255,  0.77702733]])"
            ]
          },
          "metadata": {
            "tags": []
          },
          "execution_count": 58
        }
      ]
    },
    {
      "cell_type": "code",
      "metadata": {
        "id": "lRTtxVfw-Y-v",
        "colab_type": "code",
        "colab": {}
      },
      "source": [
        "# 但是要注意，索引的行数和要索引的行数应该是相同的。"
      ],
      "execution_count": null,
      "outputs": []
    },
    {
      "cell_type": "code",
      "metadata": {
        "id": "JfOichLz_NLd",
        "colab_type": "code",
        "colab": {
          "base_uri": "https://localhost:8080/",
          "height": 89
        },
        "outputId": "18e0f3c8-f09b-40a7-b00f-bfcdc257a055"
      },
      "source": [
        "data[names == 'joe',2:]"
      ],
      "execution_count": null,
      "outputs": [
        {
          "output_type": "execute_result",
          "data": {
            "text/plain": [
              "array([[-1.81017576, -0.43808337],\n",
              "       [-0.07229622,  0.89552443],\n",
              "       [-0.40059111,  1.40068839],\n",
              "       [-2.49594396,  0.52120803]])"
            ]
          },
          "metadata": {
            "tags": []
          },
          "execution_count": 60
        }
      ]
    },
    {
      "cell_type": "code",
      "metadata": {
        "id": "4OA5gZVU_WQ3",
        "colab_type": "code",
        "colab": {
          "base_uri": "https://localhost:8080/",
          "height": 35
        },
        "outputId": "0d4fa42d-5174-4730-d075-1ca1b9c366c2"
      },
      "source": [
        "# 还可以用 ！= 和 - 号来进行条件判断。\n",
        "names != 'bob'"
      ],
      "execution_count": null,
      "outputs": [
        {
          "output_type": "execute_result",
          "data": {
            "text/plain": [
              "array([False,  True,  True,  True,  True,  True,  True])"
            ]
          },
          "metadata": {
            "tags": []
          },
          "execution_count": 62
        }
      ]
    },
    {
      "cell_type": "code",
      "metadata": {
        "id": "xQJglUYD_uun",
        "colab_type": "code",
        "colab": {
          "base_uri": "https://localhost:8080/",
          "height": 35
        },
        "outputId": "e20d0de3-f71f-4719-ae8f-fc206b5a9eed"
      },
      "source": [
        "~(names != 'bob') # 注意这里负号改为上波浪号。取非。"
      ],
      "execution_count": null,
      "outputs": [
        {
          "output_type": "execute_result",
          "data": {
            "text/plain": [
              "array([ True, False, False, False, False, False, False])"
            ]
          },
          "metadata": {
            "tags": []
          },
          "execution_count": 64
        }
      ]
    },
    {
      "cell_type": "code",
      "metadata": {
        "id": "ywOBSDHS_6Je",
        "colab_type": "code",
        "colab": {
          "base_uri": "https://localhost:8080/",
          "height": 125
        },
        "outputId": "be0b05f7-c83d-4d31-e145-5d02548b23ac"
      },
      "source": [
        "data[(names != 'bob')]"
      ],
      "execution_count": null,
      "outputs": [
        {
          "output_type": "execute_result",
          "data": {
            "text/plain": [
              "array([[-0.11744556,  0.3446987 , -1.81017576, -0.43808337],\n",
              "       [-0.76934377, -0.93352841, -1.54616368,  0.88382592],\n",
              "       [ 0.00685972, -1.0952468 , -0.07229622,  0.89552443],\n",
              "       [ 1.62397882,  1.61918821, -0.14352577, -0.89839235],\n",
              "       [ 1.62595988, -0.10574449, -0.40059111,  1.40068839],\n",
              "       [-0.30118383,  1.0133182 , -2.49594396,  0.52120803]])"
            ]
          },
          "metadata": {
            "tags": []
          },
          "execution_count": 65
        }
      ]
    },
    {
      "cell_type": "code",
      "metadata": {
        "id": "wLx7PzZYAMBO",
        "colab_type": "code",
        "colab": {
          "base_uri": "https://localhost:8080/",
          "height": 35
        },
        "outputId": "f7dd4351-f8e0-4525-ee83-7e27e9e4c01d"
      },
      "source": [
        "data[~(names != 'bob')]"
      ],
      "execution_count": null,
      "outputs": [
        {
          "output_type": "execute_result",
          "data": {
            "text/plain": [
              "array([[ 0.00287188,  1.96603584, -0.46580255,  0.77702733]])"
            ]
          },
          "metadata": {
            "tags": []
          },
          "execution_count": 67
        }
      ]
    },
    {
      "cell_type": "code",
      "metadata": {
        "id": "SZJZhE-hAOWu",
        "colab_type": "code",
        "colab": {
          "base_uri": "https://localhost:8080/",
          "height": 35
        },
        "outputId": "77263777-b7f3-495b-d044-7f7b4bc3a7d1"
      },
      "source": [
        "# 也可是哦那个 & | \n",
        "mask = (names == 'bob')|(names == 'will')\n",
        "mask"
      ],
      "execution_count": null,
      "outputs": [
        {
          "output_type": "execute_result",
          "data": {
            "text/plain": [
              "array([ True, False,  True, False,  True, False, False])"
            ]
          },
          "metadata": {
            "tags": []
          },
          "execution_count": 68
        }
      ]
    },
    {
      "cell_type": "code",
      "metadata": {
        "id": "QDXHAj2FAjWH",
        "colab_type": "code",
        "colab": {
          "base_uri": "https://localhost:8080/",
          "height": 71
        },
        "outputId": "fe748286-b4a2-4467-afb0-a778bac9b98b"
      },
      "source": [
        "data[mask]"
      ],
      "execution_count": null,
      "outputs": [
        {
          "output_type": "execute_result",
          "data": {
            "text/plain": [
              "array([[ 0.00287188,  1.96603584, -0.46580255,  0.77702733],\n",
              "       [-0.76934377, -0.93352841, -1.54616368,  0.88382592],\n",
              "       [ 1.62397882,  1.61918821, -0.14352577, -0.89839235]])"
            ]
          },
          "metadata": {
            "tags": []
          },
          "execution_count": 69
        }
      ]
    },
    {
      "cell_type": "code",
      "metadata": {
        "id": "_A1otifcAoz3",
        "colab_type": "code",
        "colab": {}
      },
      "source": [
        "# 通过bool 索引，总是创建数据的副本。\n",
        "data[data<0] = 0"
      ],
      "execution_count": null,
      "outputs": []
    },
    {
      "cell_type": "code",
      "metadata": {
        "id": "IKoU_BOxA_Xv",
        "colab_type": "code",
        "colab": {
          "base_uri": "https://localhost:8080/",
          "height": 143
        },
        "outputId": "1699fc74-7886-49b8-8be3-078151d87c4e"
      },
      "source": [
        "data"
      ],
      "execution_count": null,
      "outputs": [
        {
          "output_type": "execute_result",
          "data": {
            "text/plain": [
              "array([[0.00287188, 1.96603584, 0.        , 0.77702733],\n",
              "       [0.        , 0.3446987 , 0.        , 0.        ],\n",
              "       [0.        , 0.        , 0.        , 0.88382592],\n",
              "       [0.00685972, 0.        , 0.        , 0.89552443],\n",
              "       [1.62397882, 1.61918821, 0.        , 0.        ],\n",
              "       [1.62595988, 0.        , 0.        , 1.40068839],\n",
              "       [0.        , 1.0133182 , 0.        , 0.52120803]])"
            ]
          },
          "metadata": {
            "tags": []
          },
          "execution_count": 71
        }
      ]
    },
    {
      "cell_type": "code",
      "metadata": {
        "id": "GHyySFYLBAQn",
        "colab_type": "code",
        "colab": {
          "base_uri": "https://localhost:8080/",
          "height": 161
        },
        "outputId": "ba40a5f0-7785-4848-f33e-97115c9c2cec"
      },
      "source": [
        "# 花式索引，利用整数数组进行索引\n",
        "arr = np.empty((8,4))\n",
        "for i in range(8):\n",
        "  arr[i] = i\n",
        "arr"
      ],
      "execution_count": null,
      "outputs": [
        {
          "output_type": "execute_result",
          "data": {
            "text/plain": [
              "array([[0., 0., 0., 0.],\n",
              "       [1., 1., 1., 1.],\n",
              "       [2., 2., 2., 2.],\n",
              "       [3., 3., 3., 3.],\n",
              "       [4., 4., 4., 4.],\n",
              "       [5., 5., 5., 5.],\n",
              "       [6., 6., 6., 6.],\n",
              "       [7., 7., 7., 7.]])"
            ]
          },
          "metadata": {
            "tags": []
          },
          "execution_count": 73
        }
      ]
    },
    {
      "cell_type": "code",
      "metadata": {
        "id": "YLJgRrKUB--n",
        "colab_type": "code",
        "colab": {
          "base_uri": "https://localhost:8080/",
          "height": 89
        },
        "outputId": "877eb503-1031-4c8f-e97f-5c555fe01d9a"
      },
      "source": [
        "# 选取特定行的\n",
        "arr[[4,3,0,6]]"
      ],
      "execution_count": null,
      "outputs": [
        {
          "output_type": "execute_result",
          "data": {
            "text/plain": [
              "array([[4., 4., 4., 4.],\n",
              "       [3., 3., 3., 3.],\n",
              "       [0., 0., 0., 0.],\n",
              "       [6., 6., 6., 6.]])"
            ]
          },
          "metadata": {
            "tags": []
          },
          "execution_count": 74
        }
      ]
    },
    {
      "cell_type": "code",
      "metadata": {
        "id": "qNGVCbwRCnuv",
        "colab_type": "code",
        "colab": {
          "base_uri": "https://localhost:8080/",
          "height": 71
        },
        "outputId": "ec04d6de-7d55-479e-900b-3cd5bb7f7866"
      },
      "source": [
        "arr[[-3,-5,-7]]"
      ],
      "execution_count": null,
      "outputs": [
        {
          "output_type": "execute_result",
          "data": {
            "text/plain": [
              "array([[5., 5., 5., 5.],\n",
              "       [3., 3., 3., 3.],\n",
              "       [1., 1., 1., 1.]])"
            ]
          },
          "metadata": {
            "tags": []
          },
          "execution_count": 75
        }
      ]
    },
    {
      "cell_type": "code",
      "metadata": {
        "id": "QzUSaw7HCsLX",
        "colab_type": "code",
        "colab": {
          "base_uri": "https://localhost:8080/",
          "height": 161
        },
        "outputId": "a86e0452-cb79-4bd8-e485-6e24b96d7d32"
      },
      "source": [
        "# 也可一次传入多个索引，不过返回有些特别。\n",
        "arr = np.arange(32).reshape((8,4))\n",
        "arr"
      ],
      "execution_count": null,
      "outputs": [
        {
          "output_type": "execute_result",
          "data": {
            "text/plain": [
              "array([[ 0,  1,  2,  3],\n",
              "       [ 4,  5,  6,  7],\n",
              "       [ 8,  9, 10, 11],\n",
              "       [12, 13, 14, 15],\n",
              "       [16, 17, 18, 19],\n",
              "       [20, 21, 22, 23],\n",
              "       [24, 25, 26, 27],\n",
              "       [28, 29, 30, 31]])"
            ]
          },
          "metadata": {
            "tags": []
          },
          "execution_count": 76
        }
      ]
    },
    {
      "cell_type": "code",
      "metadata": {
        "id": "3NfnJZW9DI23",
        "colab_type": "code",
        "colab": {
          "base_uri": "https://localhost:8080/",
          "height": 35
        },
        "outputId": "5759c9de-5d1b-41ba-9599-0a2d4b415bb3"
      },
      "source": [
        "arr[[1,5,7,2],[0,3,1,2]]"
      ],
      "execution_count": null,
      "outputs": [
        {
          "output_type": "execute_result",
          "data": {
            "text/plain": [
              "array([ 4, 23, 29, 10])"
            ]
          },
          "metadata": {
            "tags": []
          },
          "execution_count": 77
        }
      ]
    },
    {
      "cell_type": "markdown",
      "metadata": {
        "id": "KHIAKrrvDdYB",
        "colab_type": "text"
      },
      "source": [
        "最终选出的元素是 （1，0） （5，3） （7，1）， （2，2）"
      ]
    },
    {
      "cell_type": "code",
      "metadata": {
        "id": "U3rJrlTKDPE3",
        "colab_type": "code",
        "colab": {
          "base_uri": "https://localhost:8080/",
          "height": 89
        },
        "outputId": "62668685-6679-4a40-b2e3-7a2d79003db0"
      },
      "source": [
        "# 如果想要选取特定的行，和列的元素。\n",
        "arr[[1,5,7,2]][:,[0,3,1,2]]   #先进行行的选择，然后再进行列的选择。"
      ],
      "execution_count": null,
      "outputs": [
        {
          "output_type": "execute_result",
          "data": {
            "text/plain": [
              "array([[ 4,  7,  5,  6],\n",
              "       [20, 23, 21, 22],\n",
              "       [28, 31, 29, 30],\n",
              "       [ 8, 11,  9, 10]])"
            ]
          },
          "metadata": {
            "tags": []
          },
          "execution_count": 82
        }
      ]
    },
    {
      "cell_type": "code",
      "metadata": {
        "id": "IvAhPSYSEF3X",
        "colab_type": "code",
        "colab": {
          "base_uri": "https://localhost:8080/",
          "height": 89
        },
        "outputId": "0abf2ba3-616c-4535-fbae-063417c490d1"
      },
      "source": [
        "# 还有一个办法是np.ix_方法。\n",
        "arr[np.ix_([1,5,7,2],[0,3,1,2])]"
      ],
      "execution_count": null,
      "outputs": [
        {
          "output_type": "execute_result",
          "data": {
            "text/plain": [
              "array([[ 4,  7,  5,  6],\n",
              "       [20, 23, 21, 22],\n",
              "       [28, 31, 29, 30],\n",
              "       [ 8, 11,  9, 10]])"
            ]
          },
          "metadata": {
            "tags": []
          },
          "execution_count": 83
        }
      ]
    },
    {
      "cell_type": "markdown",
      "metadata": {
        "id": "AD_KHTNgFBT4",
        "colab_type": "text"
      },
      "source": [
        "### **花式索引与bool索引一样，也是将数据复制到新的内存中。**"
      ]
    },
    {
      "cell_type": "markdown",
      "metadata": {
        "id": "t5LQrcGVFRTw",
        "colab_type": "text"
      },
      "source": [
        "## **数组转置和轴对换**"
      ]
    },
    {
      "cell_type": "code",
      "metadata": {
        "id": "v1NbfurPE5f9",
        "colab_type": "code",
        "colab": {
          "base_uri": "https://localhost:8080/",
          "height": 125
        },
        "outputId": "4f92e846-0ccc-4bd7-d232-35a717f00488"
      },
      "source": [
        "arr = np.random.randn(6,3)\n",
        "arr"
      ],
      "execution_count": null,
      "outputs": [
        {
          "output_type": "execute_result",
          "data": {
            "text/plain": [
              "array([[-1.17543313,  1.07470168,  0.22998337],\n",
              "       [ 0.2086713 ,  0.4491219 ,  2.96898837],\n",
              "       [-1.15272684, -0.72550978,  0.12306602],\n",
              "       [-0.23886367, -0.36536439, -0.02156319],\n",
              "       [-0.4214905 ,  0.3641513 ,  0.14744618],\n",
              "       [ 0.22206996, -0.54208965, -0.22919648]])"
            ]
          },
          "metadata": {
            "tags": []
          },
          "execution_count": 87
        }
      ]
    },
    {
      "cell_type": "markdown",
      "metadata": {
        "id": "bciVTkjQGJ6p",
        "colab_type": "text"
      },
      "source": [
        "arr.T   \n",
        "arr.transpose  \n",
        "arr.swapaxes  \n",
        "\n"
      ]
    },
    {
      "cell_type": "markdown",
      "metadata": {
        "id": "8uMtniaKHeyx",
        "colab_type": "text"
      },
      "source": [
        "## **通用函数：快速的元素级数组函数**\n",
        "#### 简单来说就是简单函数的矢量化包装器\n"
      ]
    },
    {
      "cell_type": "code",
      "metadata": {
        "id": "Aa7neZhuFln0",
        "colab_type": "code",
        "colab": {}
      },
      "source": [
        "arr = np.arange(10)\n"
      ],
      "execution_count": null,
      "outputs": []
    },
    {
      "cell_type": "code",
      "metadata": {
        "id": "gZRQvr22Hv2l",
        "colab_type": "code",
        "colab": {
          "base_uri": "https://localhost:8080/",
          "height": 53
        },
        "outputId": "9ff2c983-bd22-431a-f66a-8a250a096270"
      },
      "source": [
        "np.sqrt(arr)"
      ],
      "execution_count": null,
      "outputs": [
        {
          "output_type": "execute_result",
          "data": {
            "text/plain": [
              "array([0.        , 1.        , 1.41421356, 1.73205081, 2.        ,\n",
              "       2.23606798, 2.44948974, 2.64575131, 2.82842712, 3.        ])"
            ]
          },
          "metadata": {
            "tags": []
          },
          "execution_count": 89
        }
      ]
    },
    {
      "cell_type": "code",
      "metadata": {
        "id": "2x0B1WR9HyWw",
        "colab_type": "code",
        "colab": {
          "base_uri": "https://localhost:8080/",
          "height": 71
        },
        "outputId": "57bec73a-95dc-4493-8ba6-0eb3c6554521"
      },
      "source": [
        "np.exp(arr)"
      ],
      "execution_count": null,
      "outputs": [
        {
          "output_type": "execute_result",
          "data": {
            "text/plain": [
              "array([1.00000000e+00, 2.71828183e+00, 7.38905610e+00, 2.00855369e+01,\n",
              "       5.45981500e+01, 1.48413159e+02, 4.03428793e+02, 1.09663316e+03,\n",
              "       2.98095799e+03, 8.10308393e+03])"
            ]
          },
          "metadata": {
            "tags": []
          },
          "execution_count": 90
        }
      ]
    },
    {
      "cell_type": "code",
      "metadata": {
        "id": "xjPhdfDCH2mf",
        "colab_type": "code",
        "colab": {
          "base_uri": "https://localhost:8080/",
          "height": 89
        },
        "outputId": "aa5d5998-68ae-427a-cfea-36522a7de705"
      },
      "source": [
        "# 还有二元ufunc\n",
        "from numpy.random import randn\n",
        "x = randn(8)\n",
        "y = randn(8)\n",
        "print(x)\n",
        "print(y)"
      ],
      "execution_count": null,
      "outputs": [
        {
          "output_type": "stream",
          "text": [
            "[-0.78295611 -0.3263778   0.90648592  0.17526699 -0.4394382  -1.84243207\n",
            "  0.33519905  0.43654599]\n",
            "[ 0.19616096 -0.84128246 -1.98279514  0.19036392 -1.54944214 -0.76067969\n",
            " -0.28737118  1.93731374]\n"
          ],
          "name": "stdout"
        }
      ]
    },
    {
      "cell_type": "code",
      "metadata": {
        "id": "xLdIL4tvIJR_",
        "colab_type": "code",
        "colab": {
          "base_uri": "https://localhost:8080/",
          "height": 53
        },
        "outputId": "d2e07c19-e7ca-4194-c092-5e63e1fba1da"
      },
      "source": [
        "np.maximum(x,y)"
      ],
      "execution_count": null,
      "outputs": [
        {
          "output_type": "execute_result",
          "data": {
            "text/plain": [
              "array([ 0.19616096, -0.3263778 ,  0.90648592,  0.19036392, -0.4394382 ,\n",
              "       -0.76067969,  0.33519905,  1.93731374])"
            ]
          },
          "metadata": {
            "tags": []
          },
          "execution_count": 93
        }
      ]
    },
    {
      "cell_type": "markdown",
      "metadata": {
        "id": "2fB8HARqI7fi",
        "colab_type": "text"
      },
      "source": [
        "![一元函数](https://img-blog.csdnimg.cn/20200806222032542.png?x-oss-process=image/watermark,type_ZmFuZ3poZW5naGVpdGk,shadow_10,text_aHR0cHM6Ly9ibG9nLmNzZG4ubmV0L2dhb2N1aTg4Mw==,size_16,color_FFFFFF,t_70)\n",
        "\n",
        "![一元函数](https://img-blog.csdnimg.cn/20200806222049123.png)\n",
        "\n",
        "![二元ufunc](https://img-blog.csdnimg.cn/20200806222100494.png?x-oss-process=image/watermark,type_ZmFuZ3poZW5naGVpdGk,shadow_10,text_aHR0cHM6Ly9ibG9nLmNzZG4ubmV0L2dhb2N1aTg4Mw==,size_16,color_FFFFFF,t_70)"
      ]
    },
    {
      "cell_type": "markdown",
      "metadata": {
        "id": "y-GSOk4oKvkK",
        "colab_type": "text"
      },
      "source": [
        "### 利用数组进行数据处理\n",
        "## np.meshgrid 接收两个一维数组，产生两个二维矩阵。\n",
        "## 对应于所有的（x,y）对。"
      ]
    },
    {
      "cell_type": "code",
      "metadata": {
        "id": "7k3glH_9ISvP",
        "colab_type": "code",
        "colab": {
          "base_uri": "https://localhost:8080/",
          "height": 143
        },
        "outputId": "d9287ec3-881e-4657-fddf-b7f66a364998"
      },
      "source": [
        "points = np.arange(-5,5,0.01)\n",
        "xs,ys = np.meshgrid(points, points)\n",
        "ys"
      ],
      "execution_count": null,
      "outputs": [
        {
          "output_type": "execute_result",
          "data": {
            "text/plain": [
              "array([[-5.  , -5.  , -5.  , ..., -5.  , -5.  , -5.  ],\n",
              "       [-4.99, -4.99, -4.99, ..., -4.99, -4.99, -4.99],\n",
              "       [-4.98, -4.98, -4.98, ..., -4.98, -4.98, -4.98],\n",
              "       ...,\n",
              "       [ 4.97,  4.97,  4.97, ...,  4.97,  4.97,  4.97],\n",
              "       [ 4.98,  4.98,  4.98, ...,  4.98,  4.98,  4.98],\n",
              "       [ 4.99,  4.99,  4.99, ...,  4.99,  4.99,  4.99]])"
            ]
          },
          "metadata": {
            "tags": []
          },
          "execution_count": 94
        }
      ]
    },
    {
      "cell_type": "code",
      "metadata": {
        "id": "Sb_pHQQoLP35",
        "colab_type": "code",
        "colab": {
          "base_uri": "https://localhost:8080/",
          "height": 143
        },
        "outputId": "e9d03487-182c-4243-8752-5b3c8e39d19f"
      },
      "source": [
        "xs"
      ],
      "execution_count": null,
      "outputs": [
        {
          "output_type": "execute_result",
          "data": {
            "text/plain": [
              "array([[-5.  , -4.99, -4.98, ...,  4.97,  4.98,  4.99],\n",
              "       [-5.  , -4.99, -4.98, ...,  4.97,  4.98,  4.99],\n",
              "       [-5.  , -4.99, -4.98, ...,  4.97,  4.98,  4.99],\n",
              "       ...,\n",
              "       [-5.  , -4.99, -4.98, ...,  4.97,  4.98,  4.99],\n",
              "       [-5.  , -4.99, -4.98, ...,  4.97,  4.98,  4.99],\n",
              "       [-5.  , -4.99, -4.98, ...,  4.97,  4.98,  4.99]])"
            ]
          },
          "metadata": {
            "tags": []
          },
          "execution_count": 95
        }
      ]
    },
    {
      "cell_type": "code",
      "metadata": {
        "id": "CnGovQ9YLpqH",
        "colab_type": "code",
        "colab": {
          "base_uri": "https://localhost:8080/",
          "height": 251
        },
        "outputId": "ccdb098a-b8f9-4e0a-83b2-2eaa11ea801f"
      },
      "source": [
        "import matplotlib.pyplot as plt\n",
        "z = np.sqrt(xs**2 + ys**2)\n",
        "z"
      ],
      "execution_count": null,
      "outputs": [
        {
          "output_type": "execute_result",
          "data": {
            "text/plain": [
              "array([[7.07106781, 7.06400028, 7.05693985, ..., 7.04988652, 7.05693985,\n",
              "        7.06400028],\n",
              "       [7.06400028, 7.05692568, 7.04985815, ..., 7.04279774, 7.04985815,\n",
              "        7.05692568],\n",
              "       [7.05693985, 7.04985815, 7.04278354, ..., 7.03571603, 7.04278354,\n",
              "        7.04985815],\n",
              "       ...,\n",
              "       [7.04988652, 7.04279774, 7.03571603, ..., 7.0286414 , 7.03571603,\n",
              "        7.04279774],\n",
              "       [7.05693985, 7.04985815, 7.04278354, ..., 7.03571603, 7.04278354,\n",
              "        7.04985815],\n",
              "       [7.06400028, 7.05692568, 7.04985815, ..., 7.04279774, 7.04985815,\n",
              "        7.05692568]])"
            ]
          },
          "metadata": {
            "tags": []
          },
          "execution_count": 96
        }
      ]
    },
    {
      "cell_type": "code",
      "metadata": {
        "id": "Q36360vnL-w4",
        "colab_type": "code",
        "colab": {
          "base_uri": "https://localhost:8080/",
          "height": 35
        },
        "outputId": "23533368-d705-4846-d08e-45b17e7a9f15"
      },
      "source": [
        "z.shape"
      ],
      "execution_count": null,
      "outputs": [
        {
          "output_type": "execute_result",
          "data": {
            "text/plain": [
              "(1000, 1000)"
            ]
          },
          "metadata": {
            "tags": []
          },
          "execution_count": 97
        }
      ]
    },
    {
      "cell_type": "code",
      "metadata": {
        "id": "xM-jldsFMBRA",
        "colab_type": "code",
        "colab": {
          "base_uri": "https://localhost:8080/",
          "height": 306
        },
        "outputId": "fc9fbeb8-e695-424b-97ff-6352f720453d"
      },
      "source": [
        "plt.imshow(z,cmap=plt.cm.gray); plt.colorbar()\n",
        "plt.title('Image plot of $\\sqrt{x^2+y^2}$ for a grid of values')"
      ],
      "execution_count": null,
      "outputs": [
        {
          "output_type": "execute_result",
          "data": {
            "text/plain": [
              "Text(0.5, 1.0, 'Image plot of $\\\\sqrt{x^2+y^2}$ for a grid of values')"
            ]
          },
          "metadata": {
            "tags": []
          },
          "execution_count": 102
        },
        {
          "output_type": "display_data",
          "data": {
            "image/png": "[encoded data removed]",
            "text/plain": [
              "<Figure size 432x288 with 2 Axes>"
            ]
          },
          "metadata": {
            "tags": [],
            "needs_background": "light"
          }
        }
      ]
    },
    {
      "cell_type": "markdown",
      "metadata": {
        "id": "HMD-ylmZNsXy",
        "colab_type": "text"
      },
      "source": [
        "## **将条件逻辑表述为数组运算**\n",
        "\n",
        "numpy.where 函数是三元表达式 x if condition else y 的矢量化版本。"
      ]
    },
    {
      "cell_type": "code",
      "metadata": {
        "id": "bFIZpAdIMQ8A",
        "colab_type": "code",
        "colab": {}
      },
      "source": [
        "import numpy as np\n",
        "\n",
        "xarr = np.array([1.1, 1.2, 1.3, 1.4, 1.5])\n",
        "yarr = np.array([2.1, 2.2, 2.3, 2.4, 2.5])\n",
        "cond = np.array([True, False, True, True, False])\n",
        "#我们想要根据cond的值选取xarr和yarr，当cond的true，选取xarr的值，否则选取yarr的值。 "
      ],
      "execution_count": 2,
      "outputs": []
    },
    {
      "cell_type": "code",
      "metadata": {
        "id": "Jvtj4779OlIv",
        "colab_type": "code",
        "colab": {
          "base_uri": "https://localhost:8080/",
          "height": 35
        },
        "outputId": "cbe2fd58-93c0-4deb-f566-da2ccf99c7ec"
      },
      "source": [
        "result = [(x if c else y) for x, y, c in zip(xarr, yarr, cond)]\n",
        "result"
      ],
      "execution_count": 3,
      "outputs": [
        {
          "output_type": "execute_result",
          "data": {
            "text/plain": [
              "[1.1, 2.2, 1.3, 1.4, 2.5]"
            ]
          },
          "metadata": {
            "tags": []
          },
          "execution_count": 3
        }
      ]
    },
    {
      "cell_type": "code",
      "metadata": {
        "id": "alQ9tmI-O9aw",
        "colab_type": "code",
        "colab": {}
      },
      "source": [
        "# 上边这种方法对大数据处理不是很快。二是无法用于多维数组。\n",
        "# 可以使用np.where."
      ],
      "execution_count": 4,
      "outputs": []
    },
    {
      "cell_type": "code",
      "metadata": {
        "id": "cq2rl7SRPL1w",
        "colab_type": "code",
        "colab": {}
      },
      "source": [
        "d = zip(xarr, yarr, cond)\n"
      ],
      "execution_count": 9,
      "outputs": []
    },
    {
      "cell_type": "code",
      "metadata": {
        "id": "s48kNsZvrq2e",
        "colab_type": "code",
        "colab": {
          "base_uri": "https://localhost:8080/",
          "height": 35
        },
        "outputId": "22940423-3c6b-4030-95e3-5cbfdd76eb37"
      },
      "source": [
        "# 使用np.where \n",
        "result = np.where(cond, xarr, yarr)\n",
        "result\n"
      ],
      "execution_count": 10,
      "outputs": [
        {
          "output_type": "execute_result",
          "data": {
            "text/plain": [
              "array([1.1, 2.2, 1.3, 1.4, 2.5])"
            ]
          },
          "metadata": {
            "tags": []
          },
          "execution_count": 10
        }
      ]
    },
    {
      "cell_type": "code",
      "metadata": {
        "id": "yOnvcFyBsU1l",
        "colab_type": "code",
        "colab": {
          "base_uri": "https://localhost:8080/",
          "height": 89
        },
        "outputId": "030a55bc-b2a1-4ef1-e301-912b84d711ac"
      },
      "source": [
        "from numpy.random import randn\n",
        "arr = randn(4,4)\n",
        "arr"
      ],
      "execution_count": 11,
      "outputs": [
        {
          "output_type": "execute_result",
          "data": {
            "text/plain": [
              "array([[-1.00815132,  0.02094386, -1.40737364,  0.57612992],\n",
              "       [-0.27886028,  0.76804402, -0.28459415, -1.75665045],\n",
              "       [-0.39905925, -2.3398309 ,  0.26511772, -0.37557294],\n",
              "       [ 0.44804335,  3.08441085,  0.7388182 , -0.5724736 ]])"
            ]
          },
          "metadata": {
            "tags": []
          },
          "execution_count": 11
        }
      ]
    },
    {
      "cell_type": "code",
      "metadata": {
        "id": "s1P8MqwYsxzW",
        "colab_type": "code",
        "colab": {
          "base_uri": "https://localhost:8080/",
          "height": 89
        },
        "outputId": "083c0e8b-d16f-4e3a-9e39-9c1341c40b5a"
      },
      "source": [
        "np.where(arr > 0, 2, -2) # 条件后边还可以直接跟标量。如果为矢量的话，那么维度就需要跟arr有相一致。"
      ],
      "execution_count": 12,
      "outputs": [
        {
          "output_type": "execute_result",
          "data": {
            "text/plain": [
              "array([[-2,  2, -2,  2],\n",
              "       [-2,  2, -2, -2],\n",
              "       [-2, -2,  2, -2],\n",
              "       [ 2,  2,  2, -2]])"
            ]
          },
          "metadata": {
            "tags": []
          },
          "execution_count": 12
        }
      ]
    },
    {
      "cell_type": "code",
      "metadata": {
        "id": "q5KJGDoks3-2",
        "colab_type": "code",
        "colab": {
          "base_uri": "https://localhost:8080/",
          "height": 89
        },
        "outputId": "6393fe70-68f8-49ff-fe5b-ec1bc19c75b7"
      },
      "source": [
        "arr"
      ],
      "execution_count": 13,
      "outputs": [
        {
          "output_type": "execute_result",
          "data": {
            "text/plain": [
              "array([[-1.00815132,  0.02094386, -1.40737364,  0.57612992],\n",
              "       [-0.27886028,  0.76804402, -0.28459415, -1.75665045],\n",
              "       [-0.39905925, -2.3398309 ,  0.26511772, -0.37557294],\n",
              "       [ 0.44804335,  3.08441085,  0.7388182 , -0.5724736 ]])"
            ]
          },
          "metadata": {
            "tags": []
          },
          "execution_count": 13
        }
      ]
    },
    {
      "cell_type": "markdown",
      "metadata": {
        "id": "Nj9-Z9wMs8zj",
        "colab_type": "text"
      },
      "source": [
        "从结果可以看出，进行了深拷贝。"
      ]
    },
    {
      "cell_type": "code",
      "metadata": {
        "id": "rfGIwb1js6Xu",
        "colab_type": "code",
        "colab": {
          "base_uri": "https://localhost:8080/",
          "height": 89
        },
        "outputId": "53bd7cd6-7ced-4c52-9098-7942cb550043"
      },
      "source": [
        "np.where(arr>0, 0, arr)"
      ],
      "execution_count": 14,
      "outputs": [
        {
          "output_type": "execute_result",
          "data": {
            "text/plain": [
              "array([[-1.00815132,  0.        , -1.40737364,  0.        ],\n",
              "       [-0.27886028,  0.        , -0.28459415, -1.75665045],\n",
              "       [-0.39905925, -2.3398309 ,  0.        , -0.37557294],\n",
              "       [ 0.        ,  0.        ,  0.        , -0.5724736 ]])"
            ]
          },
          "metadata": {
            "tags": []
          },
          "execution_count": 14
        }
      ]
    },
    {
      "cell_type": "code",
      "metadata": {
        "id": "s_qkINfgtZc2",
        "colab_type": "code",
        "colab": {
          "base_uri": "https://localhost:8080/",
          "height": 71
        },
        "outputId": "bb58bff0-5633-483c-9c25-e52fbd422fab"
      },
      "source": [
        "\n",
        "def test(n):\n",
        "  result = []\n",
        "  cond1 = randn(n)\n",
        "  cond2 = randn(n)\n",
        "  cond1 = cond1 > 0\n",
        "  cond2 = cond2 < 0\n",
        "  for i in range(n):\n",
        "    if cond1[i] and cond2[i]:\n",
        "      result.append(0)\n",
        "    elif cond1[i]:\n",
        "      result.append(1)\n",
        "    elif cond2[i]:\n",
        "      result.append(2)\n",
        "    else:\n",
        "      result.append(3)\n",
        "  return cond1, cond2, result\n",
        "\n",
        "cond1, cond2, result = test(10)\n",
        "print(cond1)\n",
        "print(cond2)\n",
        "print(result)"
      ],
      "execution_count": 18,
      "outputs": [
        {
          "output_type": "stream",
          "text": [
            "[ True False  True  True  True  True False False  True  True]\n",
            "[ True  True False False False False  True False  True  True]\n",
            "[0, 2, 1, 1, 1, 1, 2, 3, 0, 0]\n"
          ],
          "name": "stdout"
        }
      ]
    },
    {
      "cell_type": "code",
      "metadata": {
        "id": "U5pSR0d1uuOO",
        "colab_type": "code",
        "colab": {
          "base_uri": "https://localhost:8080/",
          "height": 35
        },
        "outputId": "24960d55-b2dc-4ac0-a4fa-1e2dc7f2b726"
      },
      "source": [
        "# 用np.where 实现上述的函数\n",
        "np.where(cond1&cond2, 0, np.where(cond1,1, np.where(cond2, 2, 3)) )"
      ],
      "execution_count": 20,
      "outputs": [
        {
          "output_type": "execute_result",
          "data": {
            "text/plain": [
              "array([0, 2, 1, 1, 1, 1, 2, 3, 0, 0])"
            ]
          },
          "metadata": {
            "tags": []
          },
          "execution_count": 20
        }
      ]
    },
    {
      "cell_type": "markdown",
      "metadata": {
        "id": "oF3WEb4rwEM3",
        "colab_type": "text"
      },
      "source": [
        "可以看出结果是相同的。"
      ]
    },
    {
      "cell_type": "code",
      "metadata": {
        "id": "jUKGo2HMv71F",
        "colab_type": "code",
        "colab": {
          "base_uri": "https://localhost:8080/",
          "height": 35
        },
        "outputId": "d3de21f2-f975-4970-d322-3b9c7cef2b26"
      },
      "source": [
        "# 还可以将bool值再运算中当作0 1 来处理的特性。\n",
        "result = 1*(cond1&~cond2) + 2*(cond2&~cond1) + 3*~(cond1|cond2)\n",
        "result"
      ],
      "execution_count": 23,
      "outputs": [
        {
          "output_type": "execute_result",
          "data": {
            "text/plain": [
              "array([0, 2, 1, 1, 1, 1, 2, 3, 0, 0])"
            ]
          },
          "metadata": {
            "tags": []
          },
          "execution_count": 23
        }
      ]
    },
    {
      "cell_type": "markdown",
      "metadata": {
        "id": "FMkfNBqMxLp5",
        "colab_type": "text"
      },
      "source": [
        "## **数学和统计方法**\n",
        "聚合运算：aggregation，约简 reduction\n",
        "\n",
        "sum,mean,max,min,std...."
      ]
    },
    {
      "cell_type": "code",
      "metadata": {
        "id": "Ieq38Rz5whe2",
        "colab_type": "code",
        "colab": {
          "base_uri": "https://localhost:8080/",
          "height": 107
        },
        "outputId": "a77b355e-af62-4c2a-eba0-8bebae2f2484"
      },
      "source": [
        "arr = np.random.randn(5,4) #正态分布\n",
        "arr"
      ],
      "execution_count": 25,
      "outputs": [
        {
          "output_type": "execute_result",
          "data": {
            "text/plain": [
              "array([[-0.27819629,  0.70650501,  1.97298201,  1.18746898],\n",
              "       [-0.33446903,  1.00926871, -1.06876056, -0.08307811],\n",
              "       [-0.39700949, -0.68479111, -0.42817805,  1.62207678],\n",
              "       [ 0.07427712, -0.84782735, -0.41501351, -0.83010449],\n",
              "       [-0.49070595,  0.94456691, -0.58125612,  0.16201045]])"
            ]
          },
          "metadata": {
            "tags": []
          },
          "execution_count": 25
        }
      ]
    },
    {
      "cell_type": "code",
      "metadata": {
        "id": "Zy9yrJPQxuN8",
        "colab_type": "code",
        "colab": {
          "base_uri": "https://localhost:8080/",
          "height": 35
        },
        "outputId": "f6577dcb-8888-43c1-faee-03c1bd6fc3db"
      },
      "source": [
        "arr.mean()"
      ],
      "execution_count": 26,
      "outputs": [
        {
          "output_type": "execute_result",
          "data": {
            "text/plain": [
              "0.0619882955593565"
            ]
          },
          "metadata": {
            "tags": []
          },
          "execution_count": 26
        }
      ]
    },
    {
      "cell_type": "code",
      "metadata": {
        "id": "8WUFC3P4xzYG",
        "colab_type": "code",
        "colab": {
          "base_uri": "https://localhost:8080/",
          "height": 35
        },
        "outputId": "2cefbfd2-f438-44cf-c645-155ca36f4f2b"
      },
      "source": [
        "np.mean(arr)"
      ],
      "execution_count": 27,
      "outputs": [
        {
          "output_type": "execute_result",
          "data": {
            "text/plain": [
              "0.0619882955593565"
            ]
          },
          "metadata": {
            "tags": []
          },
          "execution_count": 27
        }
      ]
    },
    {
      "cell_type": "code",
      "metadata": {
        "id": "kElYzs9Dx3Vm",
        "colab_type": "code",
        "colab": {
          "base_uri": "https://localhost:8080/",
          "height": 35
        },
        "outputId": "137a2dc2-568e-428f-ae4c-47e490061f32"
      },
      "source": [
        "arr.sum()"
      ],
      "execution_count": 28,
      "outputs": [
        {
          "output_type": "execute_result",
          "data": {
            "text/plain": [
              "1.23976591118713"
            ]
          },
          "metadata": {
            "tags": []
          },
          "execution_count": 28
        }
      ]
    },
    {
      "cell_type": "code",
      "metadata": {
        "id": "r-fSel4nx5X9",
        "colab_type": "code",
        "colab": {
          "base_uri": "https://localhost:8080/",
          "height": 35
        },
        "outputId": "24d4cdb0-a925-47e3-f1a6-5001748f9c85"
      },
      "source": [
        "np.sum(arr)"
      ],
      "execution_count": 29,
      "outputs": [
        {
          "output_type": "execute_result",
          "data": {
            "text/plain": [
              "1.23976591118713"
            ]
          },
          "metadata": {
            "tags": []
          },
          "execution_count": 29
        }
      ]
    },
    {
      "cell_type": "code",
      "metadata": {
        "id": "3Xe2I93Ox7Kd",
        "colab_type": "code",
        "colab": {
          "base_uri": "https://localhost:8080/",
          "height": 35
        },
        "outputId": "9536e099-82af-43c2-f7be-10c940057a88"
      },
      "source": [
        "arr.mean(axis=1)"
      ],
      "execution_count": 30,
      "outputs": [
        {
          "output_type": "execute_result",
          "data": {
            "text/plain": [
              "array([ 0.89718993, -0.11925975,  0.02802453, -0.50466706,  0.00865382])"
            ]
          },
          "metadata": {
            "tags": []
          },
          "execution_count": 30
        }
      ]
    },
    {
      "cell_type": "code",
      "metadata": {
        "id": "NODE6NlryA3-",
        "colab_type": "code",
        "colab": {
          "base_uri": "https://localhost:8080/",
          "height": 35
        },
        "outputId": "fdd65d71-e675-4960-d70d-116957a7cb4b"
      },
      "source": [
        "arr.mean(axis=0)"
      ],
      "execution_count": 31,
      "outputs": [
        {
          "output_type": "execute_result",
          "data": {
            "text/plain": [
              "array([-0.28522073,  0.22554443, -0.10404524,  0.41167472])"
            ]
          },
          "metadata": {
            "tags": []
          },
          "execution_count": 31
        }
      ]
    },
    {
      "cell_type": "markdown",
      "metadata": {
        "id": "zP4o-yO2zWEy",
        "colab_type": "text"
      },
      "source": [
        "Signature: **np.cumsum(a, axis=None, dtype=None, out=None)**\n",
        "Docstring:\n",
        "Return the cumulative sum of the elements along a given axis.\n",
        "\n",
        "**Parameters**\n",
        "\n",
        "a : array_like\n",
        "    Input array.\n",
        "axis : int, optional\n",
        "    Axis along which the cumulative sum is computed. The default\n",
        "    (None) is to compute the cumsum over the flattened array.\n",
        "dtype : dtype, optional\n",
        "    Type of the returned array and of the accumulator in which the\n",
        "    elements are summed.  If `dtype` is not specified, it defaults\n",
        "    to the dtype of `a`, unless `a` has an integer dtype with a\n",
        "    precision less than that of the default platform integer.  In\n",
        "    that case, the default platform integer is used.\n",
        "out : ndarray, optional\n",
        "    Alternative output array in which to place the result. It must\n",
        "    have the same shape and buffer length as the expected output\n",
        "    but the type will be cast if necessary. See `ufuncs-output-type` for\n",
        "    more details.\n",
        "\n",
        "**Returns**\n",
        "\n",
        "cumsum_along_axis : ndarray.\n",
        "    A new array holding the result is returned unless `out` is\n",
        "    specified, in which case a reference to `out` is returned. The\n",
        "    result has the same size as `a`, and the same shape as `a` if\n",
        "    `axis` is not None or `a` is a 1-d array."
      ]
    },
    {
      "cell_type": "code",
      "metadata": {
        "id": "Jflflf6SyEG-",
        "colab_type": "code",
        "colab": {
          "base_uri": "https://localhost:8080/",
          "height": 53
        },
        "outputId": "e43afcaa-515f-4e1f-b651-8356f4fcdc43"
      },
      "source": [
        "a = np.array([[1,2,3], [4,5,6]])\n",
        "a"
      ],
      "execution_count": 37,
      "outputs": [
        {
          "output_type": "execute_result",
          "data": {
            "text/plain": [
              "array([[1, 2, 3],\n",
              "       [4, 5, 6]])"
            ]
          },
          "metadata": {
            "tags": []
          },
          "execution_count": 37
        }
      ]
    },
    {
      "cell_type": "code",
      "metadata": {
        "id": "m3TC2_5TymdO",
        "colab_type": "code",
        "colab": {
          "base_uri": "https://localhost:8080/",
          "height": 35
        },
        "outputId": "14bcf903-d310-431a-a2b3-e1fbfd29d16b"
      },
      "source": [
        "np.cumsum(a)"
      ],
      "execution_count": 35,
      "outputs": [
        {
          "output_type": "execute_result",
          "data": {
            "text/plain": [
              "array([ 1,  3,  6, 10, 15, 21])"
            ]
          },
          "metadata": {
            "tags": []
          },
          "execution_count": 35
        }
      ]
    },
    {
      "cell_type": "code",
      "metadata": {
        "id": "XMcTu2ZY0LN3",
        "colab_type": "code",
        "colab": {
          "base_uri": "https://localhost:8080/",
          "height": 53
        },
        "outputId": "f0378f02-04a4-4b91-bfff-46b875dc60fc"
      },
      "source": [
        "np.cumsum(a,axis=0)"
      ],
      "execution_count": 36,
      "outputs": [
        {
          "output_type": "execute_result",
          "data": {
            "text/plain": [
              "array([[1, 2, 3],\n",
              "       [5, 7, 9]])"
            ]
          },
          "metadata": {
            "tags": []
          },
          "execution_count": 36
        }
      ]
    },
    {
      "cell_type": "code",
      "metadata": {
        "id": "6oXw8rlU0OhW",
        "colab_type": "code",
        "colab": {
          "base_uri": "https://localhost:8080/",
          "height": 53
        },
        "outputId": "fcb17fa8-b786-4831-f0d1-8fa35ad47905"
      },
      "source": [
        "np.cumsum(a,axis=1)"
      ],
      "execution_count": 38,
      "outputs": [
        {
          "output_type": "execute_result",
          "data": {
            "text/plain": [
              "array([[ 1,  3,  6],\n",
              "       [ 4,  9, 15]])"
            ]
          },
          "metadata": {
            "tags": []
          },
          "execution_count": 38
        }
      ]
    },
    {
      "cell_type": "markdown",
      "metadata": {
        "id": "4d5k2HIz0ne4",
        "colab_type": "text"
      },
      "source": [
        "可以看出，累计和cumlative 也可以按轴来进行。但是并不产生聚合的效果。\n"
      ]
    },
    {
      "cell_type": "markdown",
      "metadata": {
        "id": "pslYKJ4x1DWR",
        "colab_type": "text"
      },
      "source": [
        "Signature: **np.cumprod**(a, axis=None, dtype=None, out=None)\n",
        "Docstring:\n",
        "Return the cumulative product of elements along a given axis.\n"
      ]
    },
    {
      "cell_type": "code",
      "metadata": {
        "id": "iISIZyOw0mtg",
        "colab_type": "code",
        "colab": {
          "base_uri": "https://localhost:8080/",
          "height": 35
        },
        "outputId": "a48d7cf4-aa25-44a8-e7cd-5a3eb2265ab1"
      },
      "source": [
        "# cumlative product 函数也不产生聚合效果。按轴进行累计乘积。\n",
        "np.cumprod(a)"
      ],
      "execution_count": 40,
      "outputs": [
        {
          "output_type": "execute_result",
          "data": {
            "text/plain": [
              "array([  1,   2,   6,  24, 120, 720])"
            ]
          },
          "metadata": {
            "tags": []
          },
          "execution_count": 40
        }
      ]
    },
    {
      "cell_type": "code",
      "metadata": {
        "id": "fxdbRoXu0h4G",
        "colab_type": "code",
        "colab": {
          "base_uri": "https://localhost:8080/",
          "height": 35
        },
        "outputId": "2e27ed6e-1303-4f84-f950-95bcca6e9c59"
      },
      "source": [
        "np.cumproduct(a)"
      ],
      "execution_count": 41,
      "outputs": [
        {
          "output_type": "execute_result",
          "data": {
            "text/plain": [
              "array([  1,   2,   6,  24, 120, 720])"
            ]
          },
          "metadata": {
            "tags": []
          },
          "execution_count": 41
        }
      ]
    },
    {
      "cell_type": "code",
      "metadata": {
        "id": "ERiWJbSU1gNP",
        "colab_type": "code",
        "colab": {}
      },
      "source": [
        "np.cumproduct?"
      ],
      "execution_count": 42,
      "outputs": []
    },
    {
      "cell_type": "code",
      "metadata": {
        "id": "yMyqrKuK1jJe",
        "colab_type": "code",
        "colab": {
          "base_uri": "https://localhost:8080/",
          "height": 53
        },
        "outputId": "f6e0a2d8-6849-4a45-a627-451d63eadc3c"
      },
      "source": [
        "np.cumprod(a, axis=0)"
      ],
      "execution_count": 43,
      "outputs": [
        {
          "output_type": "execute_result",
          "data": {
            "text/plain": [
              "array([[ 1,  2,  3],\n",
              "       [ 4, 10, 18]])"
            ]
          },
          "metadata": {
            "tags": []
          },
          "execution_count": 43
        }
      ]
    },
    {
      "cell_type": "code",
      "metadata": {
        "id": "6QGqpGHe1tDv",
        "colab_type": "code",
        "colab": {
          "base_uri": "https://localhost:8080/",
          "height": 53
        },
        "outputId": "aa7c7319-d282-4c2d-820d-93846ca97a2d"
      },
      "source": [
        "np.cumprod(a, axis=1)"
      ],
      "execution_count": 44,
      "outputs": [
        {
          "output_type": "execute_result",
          "data": {
            "text/plain": [
              "array([[  1,   2,   6],\n",
              "       [  4,  20, 120]])"
            ]
          },
          "metadata": {
            "tags": []
          },
          "execution_count": 44
        }
      ]
    },
    {
      "cell_type": "markdown",
      "metadata": {
        "id": "-8VdQnmZ2M6H",
        "colab_type": "text"
      },
      "source": [
        "![替代文字](https://img-blog.csdnimg.cn/20200807105527115.png?x-oss-process=image/watermark,type_ZmFuZ3poZW5naGVpdGk,shadow_10,text_aHR0cHM6Ly9ibG9nLmNzZG4ubmV0L2dhb2N1aTg4Mw==,size_16,color_FFFFFF,t_70)\n",
        "![替代文字](https://img-blog.csdnimg.cn/20200807105545969.png)"
      ]
    },
    {
      "cell_type": "markdown",
      "metadata": {
        "id": "XO2PEgmy2ahY",
        "colab_type": "text"
      },
      "source": [
        "## 用于布尔型数组的方法"
      ]
    },
    {
      "cell_type": "code",
      "metadata": {
        "id": "tjnj6EJx1v0f",
        "colab_type": "code",
        "colab": {
          "base_uri": "https://localhost:8080/",
          "height": 233
        },
        "outputId": "d73dde1e-54a4-4e12-e8da-0e3d34794441"
      },
      "source": [
        "arr = randn(100)\n",
        "(arr > 0)"
      ],
      "execution_count": 45,
      "outputs": [
        {
          "output_type": "execute_result",
          "data": {
            "text/plain": [
              "array([ True, False,  True, False,  True, False,  True, False, False,\n",
              "       False,  True,  True, False,  True,  True,  True,  True, False,\n",
              "       False,  True, False, False, False,  True,  True,  True,  True,\n",
              "       False,  True, False, False, False,  True, False,  True,  True,\n",
              "       False,  True, False, False, False,  True,  True, False,  True,\n",
              "       False,  True, False, False, False,  True,  True,  True, False,\n",
              "       False, False, False, False, False, False,  True, False, False,\n",
              "       False, False, False,  True,  True,  True, False,  True, False,\n",
              "       False,  True,  True, False,  True,  True,  True, False, False,\n",
              "       False,  True, False,  True, False, False,  True,  True, False,\n",
              "       False, False, False,  True,  True,  True, False,  True, False,\n",
              "        True])"
            ]
          },
          "metadata": {
            "tags": []
          },
          "execution_count": 45
        }
      ]
    },
    {
      "cell_type": "code",
      "metadata": {
        "id": "oe-g0bWM2ptE",
        "colab_type": "code",
        "colab": {
          "base_uri": "https://localhost:8080/",
          "height": 35
        },
        "outputId": "c9e735be-8231-4e66-c601-0ef9e5f74a2b"
      },
      "source": [
        "(arr > 0).sum() #统计ture的个数。"
      ],
      "execution_count": 46,
      "outputs": [
        {
          "output_type": "execute_result",
          "data": {
            "text/plain": [
              "46"
            ]
          },
          "metadata": {
            "tags": []
          },
          "execution_count": 46
        }
      ]
    },
    {
      "cell_type": "code",
      "metadata": {
        "id": "PWyoD9JI2t-H",
        "colab_type": "code",
        "colab": {}
      },
      "source": [
        "# any,all\n",
        "np.all?"
      ],
      "execution_count": 48,
      "outputs": []
    },
    {
      "cell_type": "markdown",
      "metadata": {
        "id": "WSV9a7Lj2-IQ",
        "colab_type": "text"
      },
      "source": [
        "Signature: **np.any**(a, axis=None, out=None, keepdims=numpy._globals._NoValueType instance)\n",
        "\n",
        "Docstring:\n",
        "Test whether any array element along a given axis evaluates to True.\n",
        "\n",
        "Returns single boolean unless `axis` is not ``None``\n",
        "\n",
        "**np.all**(a, axis=None, out=None, keepdims=numpy._globals._NoValueType instance)\n",
        "\n",
        "Docstring:\n",
        "Test whether all array elements along a given axis evaluate to True."
      ]
    },
    {
      "cell_type": "code",
      "metadata": {
        "id": "XPvBnOsH24J3",
        "colab_type": "code",
        "colab": {
          "base_uri": "https://localhost:8080/",
          "height": 35
        },
        "outputId": "f77e7cac-b19f-4bf4-a545-037826aa602d"
      },
      "source": [
        "np.any(arr)"
      ],
      "execution_count": 49,
      "outputs": [
        {
          "output_type": "execute_result",
          "data": {
            "text/plain": [
              "True"
            ]
          },
          "metadata": {
            "tags": []
          },
          "execution_count": 49
        }
      ]
    },
    {
      "cell_type": "code",
      "metadata": {
        "id": "PrqhxFco3ZTH",
        "colab_type": "code",
        "colab": {
          "base_uri": "https://localhost:8080/",
          "height": 35
        },
        "outputId": "ca3e3861-0b95-4049-ea67-c9ee54866b05"
      },
      "source": [
        "np.any(arr,axis=0)"
      ],
      "execution_count": 52,
      "outputs": [
        {
          "output_type": "execute_result",
          "data": {
            "text/plain": [
              "True"
            ]
          },
          "metadata": {
            "tags": []
          },
          "execution_count": 52
        }
      ]
    },
    {
      "cell_type": "code",
      "metadata": {
        "id": "YB4-jJ0J3cTf",
        "colab_type": "code",
        "colab": {}
      },
      "source": [
        "arr = randn(10,20)\n"
      ],
      "execution_count": 53,
      "outputs": []
    },
    {
      "cell_type": "code",
      "metadata": {
        "id": "q7QJl3uE3uL2",
        "colab_type": "code",
        "colab": {}
      },
      "source": [
        "bools = arr>0"
      ],
      "execution_count": 54,
      "outputs": []
    },
    {
      "cell_type": "code",
      "metadata": {
        "id": "V7s87D0X3352",
        "colab_type": "code",
        "colab": {
          "base_uri": "https://localhost:8080/",
          "height": 557
        },
        "outputId": "abac37c3-ea84-4593-ef6e-28482b87c4ac"
      },
      "source": [
        "bools"
      ],
      "execution_count": 55,
      "outputs": [
        {
          "output_type": "execute_result",
          "data": {
            "text/plain": [
              "array([[False,  True, False, False,  True, False, False,  True, False,\n",
              "        False,  True,  True,  True,  True,  True,  True, False,  True,\n",
              "         True, False],\n",
              "       [ True,  True,  True, False,  True,  True, False, False,  True,\n",
              "         True, False,  True,  True,  True, False,  True,  True, False,\n",
              "        False,  True],\n",
              "       [False, False,  True, False,  True, False,  True, False, False,\n",
              "         True, False, False, False,  True,  True,  True, False, False,\n",
              "        False,  True],\n",
              "       [False,  True, False, False,  True, False, False, False, False,\n",
              "        False, False, False, False, False, False, False, False, False,\n",
              "         True,  True],\n",
              "       [False, False, False,  True,  True, False,  True, False,  True,\n",
              "        False,  True, False, False, False,  True,  True,  True,  True,\n",
              "         True,  True],\n",
              "       [False, False, False,  True,  True,  True, False,  True, False,\n",
              "        False,  True, False,  True, False, False,  True,  True,  True,\n",
              "        False, False],\n",
              "       [ True,  True,  True, False, False,  True,  True, False, False,\n",
              "         True, False,  True,  True, False,  True, False, False, False,\n",
              "         True,  True],\n",
              "       [ True, False, False,  True,  True, False,  True,  True, False,\n",
              "         True,  True, False, False, False,  True,  True,  True, False,\n",
              "        False, False],\n",
              "       [False,  True, False,  True,  True,  True,  True, False,  True,\n",
              "        False,  True,  True, False, False, False,  True,  True, False,\n",
              "         True,  True],\n",
              "       [ True, False,  True,  True, False,  True, False,  True, False,\n",
              "         True, False, False, False,  True, False, False, False,  True,\n",
              "        False, False]])"
            ]
          },
          "metadata": {
            "tags": []
          },
          "execution_count": 55
        }
      ]
    },
    {
      "cell_type": "code",
      "metadata": {
        "id": "u-Jzckyz34nO",
        "colab_type": "code",
        "colab": {
          "base_uri": "https://localhost:8080/",
          "height": 53
        },
        "outputId": "4ff7c266-7775-4048-fa08-c40f26751790"
      },
      "source": [
        "np.any(bools, axis=1)"
      ],
      "execution_count": 56,
      "outputs": [
        {
          "output_type": "execute_result",
          "data": {
            "text/plain": [
              "array([ True,  True,  True,  True,  True,  True,  True,  True,  True,\n",
              "        True])"
            ]
          },
          "metadata": {
            "tags": []
          },
          "execution_count": 56
        }
      ]
    },
    {
      "cell_type": "code",
      "metadata": {
        "id": "hYzWF4Vq39dX",
        "colab_type": "code",
        "colab": {
          "base_uri": "https://localhost:8080/",
          "height": 71
        },
        "outputId": "6c812f1c-fb25-4c48-ae12-9ed2974ca396"
      },
      "source": [
        "np.any(bools, axis=0)"
      ],
      "execution_count": 57,
      "outputs": [
        {
          "output_type": "execute_result",
          "data": {
            "text/plain": [
              "array([ True,  True,  True,  True,  True,  True,  True,  True,  True,\n",
              "        True,  True,  True,  True,  True,  True,  True,  True,  True,\n",
              "        True,  True])"
            ]
          },
          "metadata": {
            "tags": []
          },
          "execution_count": 57
        }
      ]
    },
    {
      "cell_type": "code",
      "metadata": {
        "id": "FE60_xUJ4Cpv",
        "colab_type": "code",
        "colab": {
          "base_uri": "https://localhost:8080/",
          "height": 35
        },
        "outputId": "f09df421-eaef-490c-e506-37af8621092d"
      },
      "source": [
        "np.all(bools) #检测是否所有的元素都为真。"
      ],
      "execution_count": 58,
      "outputs": [
        {
          "output_type": "execute_result",
          "data": {
            "text/plain": [
              "False"
            ]
          },
          "metadata": {
            "tags": []
          },
          "execution_count": 58
        }
      ]
    },
    {
      "cell_type": "code",
      "metadata": {
        "id": "4bR3fWxc4RXO",
        "colab_type": "code",
        "colab": {
          "base_uri": "https://localhost:8080/",
          "height": 71
        },
        "outputId": "3633f4e1-5f46-4a8a-d46b-2fb6067c27b2"
      },
      "source": [
        "np.all(bools, axis=0)"
      ],
      "execution_count": 59,
      "outputs": [
        {
          "output_type": "execute_result",
          "data": {
            "text/plain": [
              "array([False, False, False, False, False, False, False, False, False,\n",
              "       False, False, False, False, False, False, False, False, False,\n",
              "       False, False])"
            ]
          },
          "metadata": {
            "tags": []
          },
          "execution_count": 59
        }
      ]
    },
    {
      "cell_type": "code",
      "metadata": {
        "id": "RiDgyGbq4eA-",
        "colab_type": "code",
        "colab": {
          "base_uri": "https://localhost:8080/",
          "height": 53
        },
        "outputId": "f15fc501-f268-495f-91ff-2060fc0daef9"
      },
      "source": [
        "np.all(bools, axis=1)"
      ],
      "execution_count": 60,
      "outputs": [
        {
          "output_type": "execute_result",
          "data": {
            "text/plain": [
              "array([False, False, False, False, False, False, False, False, False,\n",
              "       False])"
            ]
          },
          "metadata": {
            "tags": []
          },
          "execution_count": 60
        }
      ]
    },
    {
      "cell_type": "markdown",
      "metadata": {
        "id": "89OVxNsP4iNA",
        "colab_type": "text"
      },
      "source": [
        "## **排序**"
      ]
    },
    {
      "cell_type": "code",
      "metadata": {
        "id": "PitH5piw4g1f",
        "colab_type": "code",
        "colab": {
          "base_uri": "https://localhost:8080/",
          "height": 53
        },
        "outputId": "a20a94f8-2e73-4569-ef1b-aac4a33245cd"
      },
      "source": [
        "arr = randn(10)\n",
        "arr"
      ],
      "execution_count": 61,
      "outputs": [
        {
          "output_type": "execute_result",
          "data": {
            "text/plain": [
              "array([ 1.42590084,  0.9008829 , -1.08814813, -0.77671731, -1.37269156,\n",
              "        1.20551109, -0.58977523, -0.54475375, -2.12858533, -0.08091685])"
            ]
          },
          "metadata": {
            "tags": []
          },
          "execution_count": 61
        }
      ]
    },
    {
      "cell_type": "code",
      "metadata": {
        "id": "EbjglBCz4rC-",
        "colab_type": "code",
        "colab": {
          "base_uri": "https://localhost:8080/",
          "height": 53
        },
        "outputId": "87a2220d-47d6-43dd-ee8a-96dd83c6a4b7"
      },
      "source": [
        "arr.sort() #从小到大排序。\n",
        "arr"
      ],
      "execution_count": 64,
      "outputs": [
        {
          "output_type": "execute_result",
          "data": {
            "text/plain": [
              "array([-2.12858533, -1.37269156, -1.08814813, -0.77671731, -0.58977523,\n",
              "       -0.54475375, -0.08091685,  0.9008829 ,  1.20551109,  1.42590084])"
            ]
          },
          "metadata": {
            "tags": []
          },
          "execution_count": 64
        }
      ]
    },
    {
      "cell_type": "code",
      "metadata": {
        "id": "0fg2GG_a4tXH",
        "colab_type": "code",
        "colab": {
          "base_uri": "https://localhost:8080/",
          "height": 89
        },
        "outputId": "dcf3d542-a5d1-4c3b-9757-fc60abc3389c"
      },
      "source": [
        "arr = randn(4,5)\n",
        "arr"
      ],
      "execution_count": 67,
      "outputs": [
        {
          "output_type": "execute_result",
          "data": {
            "text/plain": [
              "array([[ 0.64874692,  0.32004521,  1.69455689,  0.33396213,  0.25298357],\n",
              "       [-0.87295926, -2.64379678,  0.13031506, -0.03192614,  0.39758007],\n",
              "       [-0.11049771,  0.18292605,  0.27274585, -0.08934593, -1.10368605],\n",
              "       [ 0.46253362, -1.66323759, -0.39167313, -1.13668026, -0.10985391]])"
            ]
          },
          "metadata": {
            "tags": []
          },
          "execution_count": 67
        }
      ]
    },
    {
      "cell_type": "code",
      "metadata": {
        "id": "ACdbZWXY44_-",
        "colab_type": "code",
        "colab": {
          "base_uri": "https://localhost:8080/",
          "height": 89
        },
        "outputId": "ede5bfac-6698-42de-8413-b5656f587a14"
      },
      "source": [
        "arr.sort(axis=0)\n",
        "arr"
      ],
      "execution_count": 69,
      "outputs": [
        {
          "output_type": "execute_result",
          "data": {
            "text/plain": [
              "array([[-0.87295926, -2.64379678, -0.39167313, -1.13668026, -1.10368605],\n",
              "       [-0.11049771, -1.66323759,  0.13031506, -0.08934593, -0.10985391],\n",
              "       [ 0.46253362,  0.18292605,  0.27274585, -0.03192614,  0.25298357],\n",
              "       [ 0.64874692,  0.32004521,  1.69455689,  0.33396213,  0.39758007]])"
            ]
          },
          "metadata": {
            "tags": []
          },
          "execution_count": 69
        }
      ]
    },
    {
      "cell_type": "markdown",
      "metadata": {
        "id": "lz2F9Ghb5isZ",
        "colab_type": "text"
      },
      "source": [
        "## **唯一话以及其他集合逻辑**"
      ]
    },
    {
      "cell_type": "markdown",
      "metadata": {
        "id": "bsPmnedb57WX",
        "colab_type": "text"
      },
      "source": [
        "Signature: **np.unique**(ar, return_index=False, return_inverse=False, return_counts=False, axis=None)\n",
        "Docstring:\n",
        "Find the unique elements of an array.\n",
        "\n",
        "Returns the sorted unique elements of an array. There are three optional\n",
        "outputs in addition to the unique elements:\n",
        "\n",
        "* the indices of the input array that give the unique values\n",
        "* the indices of the unique array that reconstruct the input array\n",
        "* the number of times each unique value comes up in the input array\n",
        "\n",
        "**Examples**\n",
        "\n",
        ">>> np.unique([1, 1, 2, 2, 3, 3])\n",
        "array([1, 2, 3])\n",
        ">>> a = np.array([[1, 1], [2, 3]])\n",
        ">>> np.unique(a)\n",
        "array([1, 2, 3])\n",
        "\n",
        "Return the unique rows of a 2D array\n",
        "\n",
        ">>> a = np.array([[1, 0, 0], [1, 0, 0], [2, 3, 4]])\n",
        ">>> np.unique(a, axis=0)\n",
        "array([[1, 0, 0], [2, 3, 4]])\n",
        "\n",
        "Return the indices of the original array that give the unique values:\n",
        "\n",
        ">>> a = np.array(['a', 'b', 'b', 'c', 'a'])\n",
        ">>> u, indices = np.unique(a, return_index=True)\n",
        ">>> u\n",
        "array(['a', 'b', 'c'], dtype='<U1')\n",
        ">>> indices\n",
        "array([0, 1, 3])\n",
        ">>> a[indices]\n",
        "array(['a', 'b', 'c'], dtype='<U1')\n",
        "\n",
        "Reconstruct the input array from the unique values:\n",
        "\n",
        ">>> a = np.array([1, 2, 6, 4, 2, 3, 2])\n",
        ">>> u, indices = np.unique(a, return_inverse=True)\n",
        ">>> u\n",
        "array([1, 2, 3, 4, 6])\n",
        ">>> indices\n",
        "array([0, 1, 4, ..., 1, 2, 1])\n",
        ">>> u[indices]\n",
        "array([1, 2, 6, ..., 2, 3, 2])"
      ]
    },
    {
      "cell_type": "code",
      "metadata": {
        "id": "LeBO5Iky49sv",
        "colab_type": "code",
        "colab": {
          "base_uri": "https://localhost:8080/",
          "height": 35
        },
        "outputId": "3a501101-a7df-4139-8e50-126263292dcd"
      },
      "source": [
        "# np.unique(names)\n",
        "# sorted(set(names))\n",
        "\n",
        "names = np.array(['joe', 'bob','will', 'will', 'joe', 'bob', 'hell'])\n",
        "b = set(names)\n",
        "b"
      ],
      "execution_count": 71,
      "outputs": [
        {
          "output_type": "execute_result",
          "data": {
            "text/plain": [
              "{'bob', 'hell', 'joe', 'will'}"
            ]
          },
          "metadata": {
            "tags": []
          },
          "execution_count": 71
        }
      ]
    },
    {
      "cell_type": "code",
      "metadata": {
        "id": "NnpinCww53AW",
        "colab_type": "code",
        "colab": {
          "base_uri": "https://localhost:8080/",
          "height": 35
        },
        "outputId": "c09d78d5-04ca-4a23-a2c3-ba99360885aa"
      },
      "source": [
        "sorted(b)"
      ],
      "execution_count": 72,
      "outputs": [
        {
          "output_type": "execute_result",
          "data": {
            "text/plain": [
              "['bob', 'hell', 'joe', 'will']"
            ]
          },
          "metadata": {
            "tags": []
          },
          "execution_count": 72
        }
      ]
    },
    {
      "cell_type": "code",
      "metadata": {
        "id": "qg3gTHwK7sdQ",
        "colab_type": "code",
        "colab": {
          "base_uri": "https://localhost:8080/",
          "height": 35
        },
        "outputId": "218f6fa6-05f0-46bd-be14-139b31612c84"
      },
      "source": [
        "np.unique(names)"
      ],
      "execution_count": 73,
      "outputs": [
        {
          "output_type": "execute_result",
          "data": {
            "text/plain": [
              "array(['bob', 'hell', 'joe', 'will'], dtype='<U4')"
            ]
          },
          "metadata": {
            "tags": []
          },
          "execution_count": 73
        }
      ]
    },
    {
      "cell_type": "markdown",
      "metadata": {
        "id": "WTm8L-I78DDS",
        "colab_type": "text"
      },
      "source": [
        "Signature: np.in1d(ar1, ar2, assume_unique=False, invert=False)\n",
        "Docstring:\n",
        "Test whether each element of a 1-D array is also present in a second array."
      ]
    },
    {
      "cell_type": "code",
      "metadata": {
        "id": "FXI8UR2k7yHH",
        "colab_type": "code",
        "colab": {
          "base_uri": "https://localhost:8080/",
          "height": 35
        },
        "outputId": "330d3b3a-dd0c-4ec2-cbe8-5a4a2abef424"
      },
      "source": [
        "values = np.array([6,0,3,2,5,6])\n",
        "\n",
        "np.in1d(values, [2,3,5]) # 测试values的成员是否在当前集合中。"
      ],
      "execution_count": 75,
      "outputs": [
        {
          "output_type": "execute_result",
          "data": {
            "text/plain": [
              "array([False, False,  True,  True,  True, False])"
            ]
          },
          "metadata": {
            "tags": []
          },
          "execution_count": 75
        }
      ]
    },
    {
      "cell_type": "markdown",
      "metadata": {
        "id": "zkdgaMDz8xiJ",
        "colab_type": "text"
      },
      "source": [
        "![集合运算](https://img-blog.csdnimg.cn/20200807112429493.png?x-oss-process=image/watermark,type_ZmFuZ3poZW5naGVpdGk,shadow_10,text_aHR0cHM6Ly9ibG9nLmNzZG4ubmV0L2dhb2N1aTg4Mw==,size_16,color_FFFFFF,t_70)"
      ]
    },
    {
      "cell_type": "markdown",
      "metadata": {
        "id": "lTlY7HDf9Dcz",
        "colab_type": "text"
      },
      "source": [
        "## 用于数组的文件输入输出"
      ]
    },
    {
      "cell_type": "code",
      "metadata": {
        "id": "VMCUPIYE8As3",
        "colab_type": "code",
        "colab": {}
      },
      "source": [
        "arr = np.arange(10)\n",
        "np.save('some_array',arr)"
      ],
      "execution_count": 76,
      "outputs": []
    },
    {
      "cell_type": "code",
      "metadata": {
        "id": "NHk4jidk9aDQ",
        "colab_type": "code",
        "colab": {
          "base_uri": "https://localhost:8080/",
          "height": 35
        },
        "outputId": "8f33c536-3319-47e6-bb7a-2f8e8b742c51"
      },
      "source": [
        "np.load('some_array.npy')"
      ],
      "execution_count": 77,
      "outputs": [
        {
          "output_type": "execute_result",
          "data": {
            "text/plain": [
              "array([0, 1, 2, 3, 4, 5, 6, 7, 8, 9])"
            ]
          },
          "metadata": {
            "tags": []
          },
          "execution_count": 77
        }
      ]
    },
    {
      "cell_type": "code",
      "metadata": {
        "id": "MNMwsL-M9214",
        "colab_type": "code",
        "colab": {
          "base_uri": "https://localhost:8080/",
          "height": 35
        },
        "outputId": "d58c1dc2-dfe5-438e-adfb-2ee1e1e7acdb"
      },
      "source": [
        "np.savez('some_array.npz',a=arr,b=arr) # 将两个数组压缩到一起存储。\n",
        "arch = np.load('some_array.npz')\n",
        "arch['a']"
      ],
      "execution_count": 79,
      "outputs": [
        {
          "output_type": "execute_result",
          "data": {
            "text/plain": [
              "array([0, 1, 2, 3, 4, 5, 6, 7, 8, 9])"
            ]
          },
          "metadata": {
            "tags": []
          },
          "execution_count": 79
        }
      ]
    },
    {
      "cell_type": "markdown",
      "metadata": {
        "id": "mhugt33s-mcC",
        "colab_type": "text"
      },
      "source": [
        "## 存取文本文件\n",
        "- read_csv\n",
        "\n",
        "- rea_talbe"
      ]
    },
    {
      "cell_type": "code",
      "metadata": {
        "id": "dcSJqLrT-SKX",
        "colab_type": "code",
        "colab": {
          "base_uri": "https://localhost:8080/",
          "height": 125
        },
        "outputId": "10974cb0-99cb-493b-c44e-fd80ebab5835"
      },
      "source": [
        "!cat array_ex.txt\n"
      ],
      "execution_count": 86,
      "outputs": [
        {
          "output_type": "stream",
          "text": [
            "0.58,334,223,536\r\n",
            "345,3453,66,564\r\n",
            "23,44,5667,534\r\n",
            "353,453,353,534\r\n",
            "234,5554,6,6\r\n",
            "232,24,6,2"
          ],
          "name": "stdout"
        }
      ]
    },
    {
      "cell_type": "code",
      "metadata": {
        "id": "rNX-XT92-_1o",
        "colab_type": "code",
        "colab": {
          "base_uri": "https://localhost:8080/",
          "height": 125
        },
        "outputId": "ebdbf2b3-4ed4-434b-e35c-e9157f833360"
      },
      "source": [
        "arr = np.loadtxt('array_ex.txt',delimiter=',')\n",
        "arr"
      ],
      "execution_count": 87,
      "outputs": [
        {
          "output_type": "execute_result",
          "data": {
            "text/plain": [
              "array([[5.800e-01, 3.340e+02, 2.230e+02, 5.360e+02],\n",
              "       [3.450e+02, 3.453e+03, 6.600e+01, 5.640e+02],\n",
              "       [2.300e+01, 4.400e+01, 5.667e+03, 5.340e+02],\n",
              "       [3.530e+02, 4.530e+02, 3.530e+02, 5.340e+02],\n",
              "       [2.340e+02, 5.554e+03, 6.000e+00, 6.000e+00],\n",
              "       [2.320e+02, 2.400e+01, 6.000e+00, 2.000e+00]])"
            ]
          },
          "metadata": {
            "tags": []
          },
          "execution_count": 87
        }
      ]
    },
    {
      "cell_type": "markdown",
      "metadata": {
        "id": "tjlnrynkBIVJ",
        "colab_type": "text"
      },
      "source": [
        "np.savetxt 执行的相反的操作。"
      ]
    },
    {
      "cell_type": "markdown",
      "metadata": {
        "id": "oYoBxV_gBMtJ",
        "colab_type": "text"
      },
      "source": [
        "## 线性代数 \n"
      ]
    },
    {
      "cell_type": "code",
      "metadata": {
        "id": "eI9NZoVEAHFR",
        "colab_type": "code",
        "colab": {
          "base_uri": "https://localhost:8080/",
          "height": 107
        },
        "outputId": "d70aa755-da4a-4de7-823c-1eca9c6414f9"
      },
      "source": [
        "# dot 方法。函数。即是数组方法，也是一个命名空间的函数。\n",
        "x = np.array([[1.,2.,3.],[4.,5.,6.]])\n",
        "y = np.array([[6.,23.],[-1,7],[8,9]])\n",
        "\n",
        "print(x)\n",
        "print(y)"
      ],
      "execution_count": 88,
      "outputs": [
        {
          "output_type": "stream",
          "text": [
            "[[1. 2. 3.]\n",
            " [4. 5. 6.]]\n",
            "[[ 6. 23.]\n",
            " [-1.  7.]\n",
            " [ 8.  9.]]\n"
          ],
          "name": "stdout"
        }
      ]
    },
    {
      "cell_type": "code",
      "metadata": {
        "id": "c3inYTlWCBAh",
        "colab_type": "code",
        "colab": {
          "base_uri": "https://localhost:8080/",
          "height": 53
        },
        "outputId": "bf5d8fbb-59dd-4b4f-ec0b-fef33b60a0ee"
      },
      "source": [
        "x.dot(y)"
      ],
      "execution_count": 89,
      "outputs": [
        {
          "output_type": "execute_result",
          "data": {
            "text/plain": [
              "array([[ 28.,  64.],\n",
              "       [ 67., 181.]])"
            ]
          },
          "metadata": {
            "tags": []
          },
          "execution_count": 89
        }
      ]
    },
    {
      "cell_type": "code",
      "metadata": {
        "id": "ES0ebgl2CDlw",
        "colab_type": "code",
        "colab": {
          "base_uri": "https://localhost:8080/",
          "height": 53
        },
        "outputId": "d23fff67-d6f8-46a1-9714-5e3e41c018be"
      },
      "source": [
        "np.dot(x,y)"
      ],
      "execution_count": 90,
      "outputs": [
        {
          "output_type": "execute_result",
          "data": {
            "text/plain": [
              "array([[ 28.,  64.],\n",
              "       [ 67., 181.]])"
            ]
          },
          "metadata": {
            "tags": []
          },
          "execution_count": 90
        }
      ]
    },
    {
      "cell_type": "code",
      "metadata": {
        "id": "GuYziEkfCFO3",
        "colab_type": "code",
        "colab": {}
      },
      "source": [
        "# numpy.linalg 相关的方法： 分解，行列式，求逆运，方程组的解。\n"
      ],
      "execution_count": 91,
      "outputs": []
    },
    {
      "cell_type": "code",
      "metadata": {
        "id": "TlMVc2p9Ci9A",
        "colab_type": "code",
        "colab": {}
      },
      "source": [
        "from numpy.linalg import inv,qr\n",
        "\n",
        "x = randn(5,5)\n",
        "\n",
        "mat = x.T.dot(x)"
      ],
      "execution_count": 92,
      "outputs": []
    },
    {
      "cell_type": "code",
      "metadata": {
        "id": "pK2BI5YJCwuI",
        "colab_type": "code",
        "colab": {
          "base_uri": "https://localhost:8080/",
          "height": 197
        },
        "outputId": "a85f9785-aca1-480b-dc6a-6248f2087227"
      },
      "source": [
        "print(x)\n",
        "print(mat)"
      ],
      "execution_count": 93,
      "outputs": [
        {
          "output_type": "stream",
          "text": [
            "[[-0.36561297  0.16305164 -0.03726423 -0.93069382 -0.02110242]\n",
            " [-0.88135904  0.63086243 -1.16211765  0.61346877 -0.85800828]\n",
            " [ 0.29512943  0.41844491  0.74513824 -0.90428082 -0.66010379]\n",
            " [-0.85694087  0.54024241  0.56861584  0.28302566  1.04735243]\n",
            " [ 0.92712361 -1.50555367 -1.22797302  1.7814158   0.11453635]]\n",
            "[[ 2.59147382 -2.35092486 -0.36797352  0.94176401 -0.22221713]\n",
            " [-2.35092486  3.15822311  1.72855661 -2.6722431  -0.42755946]\n",
            " [-0.36797352  1.72855661  3.73837876 -3.37865318  0.96091799]\n",
            " [ 0.94176401 -2.6722431  -3.37865318  5.3138045   0.59066228]\n",
            " [-0.22221713 -0.42755946  0.96091799  0.59066228  2.28242621]]\n"
          ],
          "name": "stdout"
        }
      ]
    },
    {
      "cell_type": "code",
      "metadata": {
        "id": "BMeJ_lItCzIQ",
        "colab_type": "code",
        "colab": {
          "base_uri": "https://localhost:8080/",
          "height": 197
        },
        "outputId": "a9969a4e-2634-4c86-8189-a4c4393765dd"
      },
      "source": [
        "inv(mat)"
      ],
      "execution_count": 94,
      "outputs": [
        {
          "output_type": "execute_result",
          "data": {
            "text/plain": [
              "array([[116.66837034, 127.3335463 , -81.20548103, -16.46304841,\n",
              "         73.66033623],\n",
              "       [127.3335463 , 139.53177609, -88.70579834, -17.74509146,\n",
              "         80.47321701],\n",
              "       [-81.20548103, -88.70579834,  57.80749069,  12.32418061,\n",
              "        -52.04984855],\n",
              "       [-16.46304841, -17.74509146,  12.32418061,   3.23566666,\n",
              "        -10.95289131],\n",
              "       [ 73.66033623,  80.47321701, -52.04984855, -10.95289131,\n",
              "         47.43231955]])"
            ]
          },
          "metadata": {
            "tags": []
          },
          "execution_count": 94
        }
      ]
    },
    {
      "cell_type": "code",
      "metadata": {
        "id": "4CXdtavVC1k_",
        "colab_type": "code",
        "colab": {
          "base_uri": "https://localhost:8080/",
          "height": 197
        },
        "outputId": "bb139a10-dad5-4981-be9e-8265285e27c2"
      },
      "source": [
        "mat.dot(inv(mat)) #得到的近似的单位矩阵。"
      ],
      "execution_count": 95,
      "outputs": [
        {
          "output_type": "execute_result",
          "data": {
            "text/plain": [
              "array([[ 1.00000000e+00, -2.50577699e-14, -1.62987029e-14,\n",
              "        -1.08592590e-15, -2.25848994e-14],\n",
              "       [ 1.30525653e-14,  1.00000000e+00,  7.55695008e-16,\n",
              "         1.59004681e-16,  1.95192405e-14],\n",
              "       [ 1.54639397e-14, -5.49798557e-14,  1.00000000e+00,\n",
              "         6.28517837e-15, -2.47618245e-14],\n",
              "       [ 1.44169868e-14,  1.82283469e-14,  8.07078923e-15,\n",
              "         1.00000000e+00,  1.68665496e-14],\n",
              "       [ 2.08551528e-14, -1.97422779e-14,  1.98048313e-14,\n",
              "         6.28915319e-15,  1.00000000e+00]])"
            ]
          },
          "metadata": {
            "tags": []
          },
          "execution_count": 95
        }
      ]
    },
    {
      "cell_type": "code",
      "metadata": {
        "id": "J6Jk2I8EC7tw",
        "colab_type": "code",
        "colab": {
          "base_uri": "https://localhost:8080/",
          "height": 107
        },
        "outputId": "9d49e671-f5fd-4cad-e4c9-8f0a96c9e848"
      },
      "source": [
        "q,r = qr(mat) #计算矩阵的qr分解。\n",
        "q"
      ],
      "execution_count": 97,
      "outputs": [
        {
          "output_type": "execute_result",
          "data": {
            "text/plain": [
              "array([[-0.71021173, -0.38455947,  0.00850685, -0.16766626,  0.56526893],\n",
              "       [ 0.64428759, -0.10176288,  0.17059803, -0.40504935,  0.61755094],\n",
              "       [ 0.10084575, -0.55826168, -0.49955699, -0.51872185, -0.39943019],\n",
              "       [-0.25809709,  0.65905529,  0.00687754, -0.70137002, -0.08405242],\n",
              "       [ 0.06090018,  0.3094323 , -0.8492464 ,  0.21640421,  0.36399531]])"
            ]
          },
          "metadata": {
            "tags": []
          },
          "execution_count": 97
        }
      ]
    },
    {
      "cell_type": "code",
      "metadata": {
        "id": "FxlB1DzxDFtY",
        "colab_type": "code",
        "colab": {
          "base_uri": "https://localhost:8080/",
          "height": 107
        },
        "outputId": "1c0bddc0-d585-4f50-ad18-f65a06cd66e3"
      },
      "source": [
        "r"
      ],
      "execution_count": 98,
      "outputs": [
        {
          "output_type": "execute_result",
          "data": {
            "text/plain": [
              "array([[-3.64887499,  4.54243566,  2.6825669 , -4.06677373, -0.0341936 ],\n",
              "       [ 0.        , -2.27576305, -4.05076901,  5.48080446,  0.68805718],\n",
              "       [ 0.        ,  0.        , -2.41506817,  0.77488996, -2.48914442],\n",
              "       [ 0.        ,  0.        ,  0.        , -0.92205184, -0.20835434],\n",
              "       [ 0.        ,  0.        ,  0.        ,  0.        ,  0.00767399]])"
            ]
          },
          "metadata": {
            "tags": []
          },
          "execution_count": 98
        }
      ]
    },
    {
      "cell_type": "code",
      "metadata": {
        "id": "mAUy3IRDDIkQ",
        "colab_type": "code",
        "colab": {}
      },
      "source": [
        "qr?"
      ],
      "execution_count": 99,
      "outputs": []
    },
    {
      "cell_type": "code",
      "metadata": {
        "id": "FFQhdo61Dma4",
        "colab_type": "code",
        "colab": {
          "base_uri": "https://localhost:8080/",
          "height": 197
        },
        "outputId": "34209c14-c2f7-4c2a-d695-28a6f9f5f538"
      },
      "source": [
        "inv(r).dot(r)"
      ],
      "execution_count": 103,
      "outputs": [
        {
          "output_type": "execute_result",
          "data": {
            "text/plain": [
              "array([[ 1.00000000e+00, -1.46139601e-17, -1.32051765e-16,\n",
              "        -6.69170121e-16,  4.63307900e-16],\n",
              "       [ 0.00000000e+00,  1.00000000e+00, -1.21670627e-16,\n",
              "        -4.59684015e-16,  6.45782841e-16],\n",
              "       [ 0.00000000e+00,  0.00000000e+00,  1.00000000e+00,\n",
              "         6.52140203e-18, -3.51750967e-16],\n",
              "       [ 0.00000000e+00,  0.00000000e+00,  0.00000000e+00,\n",
              "         1.00000000e+00, -2.47087887e-18],\n",
              "       [ 0.00000000e+00,  0.00000000e+00,  0.00000000e+00,\n",
              "         0.00000000e+00,  1.00000000e+00]])"
            ]
          },
          "metadata": {
            "tags": []
          },
          "execution_count": 103
        }
      ]
    },
    {
      "cell_type": "markdown",
      "metadata": {
        "id": "S5uj5nC-Huzb",
        "colab_type": "text"
      },
      "source": [
        "因为q是正交的，所以q.dot(q.T) 为单位矩阵。\n",
        "\n",
        "因为r为对角的，所以 inv(r).dot(r) 也是单位。从而应用q,r,就可以计算多元方程组。\n",
        "\n",
        "ax = b\n",
        "\n",
        "\n",
        "a= qr\n",
        "\n",
        "x = inv(r).dot(q.T).dot(b)"
      ]
    },
    {
      "cell_type": "markdown",
      "metadata": {
        "id": "Hj0-dy6zj55v",
        "colab_type": "text"
      },
      "source": [
        "![numpy线性函数](https://img-blog.csdnimg.cn/20200807141531665.png?x-oss-process=image/watermark,type_ZmFuZ3poZW5naGVpdGk,shadow_10,text_aHR0cHM6Ly9ibG9nLmNzZG4ubmV0L2dhb2N1aTg4Mw==,size_16,color_FFFFFF,t_70)"
      ]
    },
    {
      "cell_type": "markdown",
      "metadata": {
        "id": "dAiqXzPykG-M",
        "colab_type": "text"
      },
      "source": [
        "## 随机数生成\n"
      ]
    },
    {
      "cell_type": "code",
      "metadata": {
        "id": "1gNILE-oGkR6",
        "colab_type": "code",
        "colab": {}
      },
      "source": [
        "#nump.random相比python内置的random函数更加强大。\n",
        "samples = np.random.normal(size=(4,4))"
      ],
      "execution_count": 104,
      "outputs": []
    },
    {
      "cell_type": "code",
      "metadata": {
        "id": "5CkB8oO8kdo4",
        "colab_type": "code",
        "colab": {
          "base_uri": "https://localhost:8080/",
          "height": 89
        },
        "outputId": "6dff2958-1d1b-4e8b-d419-08dce3a4cbf1"
      },
      "source": [
        "samples"
      ],
      "execution_count": 105,
      "outputs": [
        {
          "output_type": "execute_result",
          "data": {
            "text/plain": [
              "array([[ 0.55473236, -0.99719007, -0.1016892 ,  0.3358366 ],\n",
              "       [-0.34846185,  1.35793205,  0.60000183, -0.58898809],\n",
              "       [-0.23780516, -0.41957167,  1.41099327, -0.29029291],\n",
              "       [-0.61461438,  0.3818626 ,  0.92254382, -1.83517088]])"
            ]
          },
          "metadata": {
            "tags": []
          },
          "execution_count": 105
        }
      ]
    },
    {
      "cell_type": "markdown",
      "metadata": {
        "id": "FlnspO14k_vc",
        "colab_type": "text"
      },
      "source": [
        "![替代文字](https://img-blog.csdnimg.cn/20200807142010120.png?x-oss-process=image/watermark,type_ZmFuZ3poZW5naGVpdGk,shadow_10,text_aHR0cHM6Ly9ibG9nLmNzZG4ubmV0L2dhb2N1aTg4Mw==,size_16,color_FFFFFF,t_70)\n",
        "![替代文字](https://img-blog.csdnimg.cn/20200807142016982.png?x-oss-process=image/watermark,type_ZmFuZ3poZW5naGVpdGk,shadow_10,text_aHR0cHM6Ly9ibG9nLmNzZG4ubmV0L2dhb2N1aTg4Mw==,size_16,color_FFFFFF,t_70)"
      ]
    },
    {
      "cell_type": "markdown",
      "metadata": {
        "id": "NnTr5ZG6ljSc",
        "colab_type": "text"
      },
      "source": [
        "# 范例，随机漫步\n"
      ]
    },
    {
      "cell_type": "code",
      "metadata": {
        "id": "STK2MR7LkfUx",
        "colab_type": "code",
        "colab": {}
      },
      "source": [
        "import random\n",
        "position = 0\n",
        "walk = [position]\n",
        "steps = 1000\n",
        "for i in range(steps):\n",
        "  step = 1 if random.randint(0,1) else -1\n",
        "  position += step\n",
        "  walk.append(position)"
      ],
      "execution_count": 108,
      "outputs": []
    },
    {
      "cell_type": "code",
      "metadata": {
        "id": "tlIqILmWl5sb",
        "colab_type": "code",
        "colab": {
          "base_uri": "https://localhost:8080/",
          "height": 283
        },
        "outputId": "0e446555-97e4-4c75-899d-eeabb49114b2"
      },
      "source": [
        "import matplotlib.pyplot as plt\n",
        "plt.plot([x for x in range(steps+1)],walk)"
      ],
      "execution_count": 114,
      "outputs": [
        {
          "output_type": "execute_result",
          "data": {
            "text/plain": [
              "[<matplotlib.lines.Line2D at 0x7f5832cb8160>]"
            ]
          },
          "metadata": {
            "tags": []
          },
          "execution_count": 114
        },
        {
          "output_type": "display_data",
          "data": {
            "image/png": "[encoded data removed]",
            "text/plain": [
              "<Figure size 432x288 with 1 Axes>"
            ]
          },
          "metadata": {
            "tags": [],
            "needs_background": "light"
          }
        }
      ]
    },
    {
      "cell_type": "code",
      "metadata": {
        "id": "UtQpUiYtph9x",
        "colab_type": "code",
        "colab": {}
      },
      "source": [
        "#用np的方法来实现\n",
        "nsteps = 1000\n",
        "draws = np.random.randint(0,2,size=nsteps)\n",
        "draws"
      ],
      "execution_count": null,
      "outputs": []
    },
    {
      "cell_type": "code",
      "metadata": {
        "id": "OheSoIvbqhxz",
        "colab_type": "code",
        "colab": {}
      },
      "source": [
        "steps = np.where(draws >0,1,-1)\n",
        "steps"
      ],
      "execution_count": null,
      "outputs": []
    },
    {
      "cell_type": "code",
      "metadata": {
        "id": "erFgvxqrq9JL",
        "colab_type": "code",
        "colab": {}
      },
      "source": [
        "walk = steps.cumsum()"
      ],
      "execution_count": 117,
      "outputs": []
    },
    {
      "cell_type": "code",
      "metadata": {
        "id": "8j04S5eSrBej",
        "colab_type": "code",
        "colab": {}
      },
      "source": [
        "walk"
      ],
      "execution_count": null,
      "outputs": []
    },
    {
      "cell_type": "code",
      "metadata": {
        "id": "itQRMEU-rCj7",
        "colab_type": "code",
        "colab": {
          "base_uri": "https://localhost:8080/",
          "height": 35
        },
        "outputId": "00fc0fe8-5f7d-408d-a3a4-7111b05be926"
      },
      "source": [
        "walk.min()"
      ],
      "execution_count": 119,
      "outputs": [
        {
          "output_type": "execute_result",
          "data": {
            "text/plain": [
              "-19"
            ]
          },
          "metadata": {
            "tags": []
          },
          "execution_count": 119
        }
      ]
    },
    {
      "cell_type": "code",
      "metadata": {
        "id": "GN8bh1FXrHnD",
        "colab_type": "code",
        "colab": {
          "base_uri": "https://localhost:8080/",
          "height": 35
        },
        "outputId": "c7227877-8f02-41c2-85c8-d820c3a61659"
      },
      "source": [
        "walk.max()"
      ],
      "execution_count": 121,
      "outputs": [
        {
          "output_type": "execute_result",
          "data": {
            "text/plain": [
              "14"
            ]
          },
          "metadata": {
            "tags": []
          },
          "execution_count": 121
        }
      ]
    },
    {
      "cell_type": "code",
      "metadata": {
        "id": "N7ZKPeqkrJGb",
        "colab_type": "code",
        "colab": {
          "base_uri": "https://localhost:8080/",
          "height": 283
        },
        "outputId": "21e9e9c6-0ffb-41e3-f992-3f60bda84250"
      },
      "source": [
        "plt.plot([x for x in range(nsteps)],walk)"
      ],
      "execution_count": 126,
      "outputs": [
        {
          "output_type": "execute_result",
          "data": {
            "text/plain": [
              "[<matplotlib.lines.Line2D at 0x7f5832b716d8>]"
            ]
          },
          "metadata": {
            "tags": []
          },
          "execution_count": 126
        },
        {
          "output_type": "display_data",
          "data": {
            "image/png": "[encoded data removed]",
            "text/plain": [
              "<Figure size 432x288 with 1 Axes>"
            ]
          },
          "metadata": {
            "tags": [],
            "needs_background": "light"
          }
        }
      ]
    },
    {
      "cell_type": "code",
      "metadata": {
        "id": "_KP64aYyraZr",
        "colab_type": "code",
        "colab": {}
      },
      "source": [
        "# 第一次离0点距离大于10\n",
        "a = np.abs(walk) >= 10"
      ],
      "execution_count": 128,
      "outputs": []
    },
    {
      "cell_type": "code",
      "metadata": {
        "id": "tAae2Qp8sWQz",
        "colab_type": "code",
        "colab": {
          "base_uri": "https://localhost:8080/",
          "height": 35
        },
        "outputId": "1d7be510-c0b6-4568-a133-17a36af1cbdf"
      },
      "source": [
        "a.argmax()"
      ],
      "execution_count": 129,
      "outputs": [
        {
          "output_type": "execute_result",
          "data": {
            "text/plain": [
              "329"
            ]
          },
          "metadata": {
            "tags": []
          },
          "execution_count": 129
        }
      ]
    },
    {
      "cell_type": "code",
      "metadata": {
        "id": "1p-y6lCVsllr",
        "colab_type": "code",
        "colab": {
          "base_uri": "https://localhost:8080/",
          "height": 35
        },
        "outputId": "91eab076-8732-4991-9a2a-16c93651578e"
      },
      "source": [
        "# 可以看出，第一次距离0点大于10的位置在329处。\n",
        "walk[329]"
      ],
      "execution_count": 130,
      "outputs": [
        {
          "output_type": "execute_result",
          "data": {
            "text/plain": [
              "10"
            ]
          },
          "metadata": {
            "tags": []
          },
          "execution_count": 130
        }
      ]
    },
    {
      "cell_type": "markdown",
      "metadata": {
        "id": "Nm4GGtGQszx1",
        "colab_type": "text"
      },
      "source": [
        "## 一次模拟多个随机漫步\n"
      ]
    },
    {
      "cell_type": "code",
      "metadata": {
        "id": "TAnJGj6XsvfD",
        "colab_type": "code",
        "colab": {}
      },
      "source": [
        "nwalks = 5000\n",
        "nsteps = 1000\n",
        "draws = np.random.randint(0,2,size=(nwalks, nsteps))\n",
        "steps = np.where(draws > 0, 1, -1)\n",
        "walks = steps.cumsum(1) #在列方向进行累加。\n"
      ],
      "execution_count": 131,
      "outputs": []
    },
    {
      "cell_type": "code",
      "metadata": {
        "id": "6LrO-pastjcl",
        "colab_type": "code",
        "colab": {
          "base_uri": "https://localhost:8080/",
          "height": 143
        },
        "outputId": "7210cd3e-8628-4f10-deb8-48ef1b7ec7d7"
      },
      "source": [
        "walks # 总共5000个随机漫步。每行一个。"
      ],
      "execution_count": 132,
      "outputs": [
        {
          "output_type": "execute_result",
          "data": {
            "text/plain": [
              "array([[  1,   2,   1, ..., -40, -39, -40],\n",
              "       [  1,   2,   3, ...,  -2,  -3,  -4],\n",
              "       [ -1,  -2,  -1, ...,   8,   7,   8],\n",
              "       ...,\n",
              "       [ -1,   0,   1, ...,  12,  11,  10],\n",
              "       [  1,   0,  -1, ..., -16, -15, -16],\n",
              "       [ -1,   0,   1, ...,  10,   9,   8]])"
            ]
          },
          "metadata": {
            "tags": []
          },
          "execution_count": 132
        }
      ]
    },
    {
      "cell_type": "code",
      "metadata": {
        "id": "DUx2IvrKtmBz",
        "colab_type": "code",
        "colab": {
          "base_uri": "https://localhost:8080/",
          "height": 35
        },
        "outputId": "dbe9ac66-3b13-46fc-cc7c-5113afb64989"
      },
      "source": [
        "walks.max()"
      ],
      "execution_count": 133,
      "outputs": [
        {
          "output_type": "execute_result",
          "data": {
            "text/plain": [
              "129"
            ]
          },
          "metadata": {
            "tags": []
          },
          "execution_count": 133
        }
      ]
    },
    {
      "cell_type": "code",
      "metadata": {
        "id": "KEC24bk8t1Yj",
        "colab_type": "code",
        "colab": {
          "base_uri": "https://localhost:8080/",
          "height": 35
        },
        "outputId": "2263d42b-aea6-4b1e-9161-8541bb36f7c5"
      },
      "source": [
        "walks.min()"
      ],
      "execution_count": 134,
      "outputs": [
        {
          "output_type": "execute_result",
          "data": {
            "text/plain": [
              "-121"
            ]
          },
          "metadata": {
            "tags": []
          },
          "execution_count": 134
        }
      ]
    },
    {
      "cell_type": "code",
      "metadata": {
        "id": "fxhh0EmCt2wD",
        "colab_type": "code",
        "colab": {
          "base_uri": "https://localhost:8080/",
          "height": 35
        },
        "outputId": "dd475300-a325-4541-dba7-e41cbe06caf8"
      },
      "source": [
        "hist30 = (np.abs(walks)>= 30).any(1)\n",
        "hist30"
      ],
      "execution_count": 135,
      "outputs": [
        {
          "output_type": "execute_result",
          "data": {
            "text/plain": [
              "array([ True, False, False, ..., False,  True, False])"
            ]
          },
          "metadata": {
            "tags": []
          },
          "execution_count": 135
        }
      ]
    },
    {
      "cell_type": "code",
      "metadata": {
        "id": "sgFVt1o5uNJD",
        "colab_type": "code",
        "colab": {
          "base_uri": "https://localhost:8080/",
          "height": 35
        },
        "outputId": "c500b0ca-8333-4c37-c7fc-2ca84cc562dd"
      },
      "source": [
        "# 可以看出，有的达到了30，有的没有达到。\n",
        "hist30.sum()"
      ],
      "execution_count": 136,
      "outputs": [
        {
          "output_type": "execute_result",
          "data": {
            "text/plain": [
              "3369"
            ]
          },
          "metadata": {
            "tags": []
          },
          "execution_count": 136
        }
      ]
    },
    {
      "cell_type": "code",
      "metadata": {
        "id": "3dRn1Icdua9L",
        "colab_type": "code",
        "colab": {
          "base_uri": "https://localhost:8080/",
          "height": 35
        },
        "outputId": "737142ac-e76d-41b7-dae6-1d36d205079c"
      },
      "source": [
        "# 选出那些穿过正负30的。\n",
        "crossing_times = (np.abs(walks[hist30]) >=30).argmax(1) #转换成绝对值，然后提取每个漫步中第一个穿过的索引。\n",
        "crossing_times"
      ],
      "execution_count": 137,
      "outputs": [
        {
          "output_type": "execute_result",
          "data": {
            "text/plain": [
              "array([227, 519, 111, ..., 371, 975, 199])"
            ]
          },
          "metadata": {
            "tags": []
          },
          "execution_count": 137
        }
      ]
    },
    {
      "cell_type": "code",
      "metadata": {
        "id": "k-MMyZLhvRCj",
        "colab_type": "code",
        "colab": {
          "base_uri": "https://localhost:8080/",
          "height": 35
        },
        "outputId": "b9187d6b-3dcf-4f10-eb5f-714f3bfc9d07"
      },
      "source": [
        "crossing_times.mean()"
      ],
      "execution_count": 138,
      "outputs": [
        {
          "output_type": "execute_result",
          "data": {
            "text/plain": [
              "503.4464232710003"
            ]
          },
          "metadata": {
            "tags": []
          },
          "execution_count": 138
        }
      ]
    },
    {
      "cell_type": "code",
      "metadata": {
        "id": "V8-iNOvRvUAr",
        "colab_type": "code",
        "colab": {}
      },
      "source": [
        ""
      ],
      "execution_count": null,
      "outputs": []
    }
  ]
}