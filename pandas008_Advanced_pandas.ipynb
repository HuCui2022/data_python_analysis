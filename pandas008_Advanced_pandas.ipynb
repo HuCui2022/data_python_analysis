{
  "nbformat": 4,
  "nbformat_minor": 0,
  "metadata": {
    "colab": {
      "name": "pandas008_Advanced_pandas.ipynb",
      "provenance": [],
      "collapsed_sections": [],
      "authorship_tag": "ABX9TyNfrw1wBYk9DlxcfSBPtPjt",
      "include_colab_link": true
    },
    "kernelspec": {
      "name": "python3",
      "display_name": "Python 3"
    }
  },
  "cells": [
    {
      "cell_type": "markdown",
      "metadata": {
        "id": "view-in-github",
        "colab_type": "text"
      },
      "source": [
        "<a href=\"https://colab.research.google.com/github/smiledinisa/data_python_analysis/blob/master/pandas008_Advanced_pandas.ipynb\" target=\"_parent\"><img src=\"https://colab.research.google.com/assets/colab-badge.svg\" alt=\"Open In Colab\"/></a>"
      ]
    },
    {
      "cell_type": "code",
      "metadata": {
        "id": "EL4EtTz8dDrt",
        "colab_type": "code",
        "colab": {
          "base_uri": "https://localhost:8080/",
          "height": 127
        },
        "outputId": "da0d1bc8-e08f-406b-d3f6-9d1bb056866f"
      },
      "source": [
        "from google.colab import drive\n",
        "drive.mount('/content/drive/')"
      ],
      "execution_count": 1,
      "outputs": [
        {
          "output_type": "stream",
          "text": [
            "Go to this URL in a browser: https://accounts.google.com/o/oauth2/auth?client_id=947318989803-6bn6qk8qdgf4n4g3pfee6491hc0brc4i.apps.googleusercontent.com&redirect_uri=urn%3aietf%3awg%3aoauth%3a2.0%3aoob&scope=email%20https%3a%2f%2fwww.googleapis.com%2fauth%2fdocs.test%20https%3a%2f%2fwww.googleapis.com%2fauth%2fdrive%20https%3a%2f%2fwww.googleapis.com%2fauth%2fdrive.photos.readonly%20https%3a%2f%2fwww.googleapis.com%2fauth%2fpeopleapi.readonly&response_type=code\n",
            "\n",
            "Enter your authorization code:\n",
            "··········\n",
            "Mounted at /content/drive/\n"
          ],
          "name": "stdout"
        }
      ]
    },
    {
      "cell_type": "markdown",
      "metadata": {
        "id": "BAGJU5_LdiRv",
        "colab_type": "text"
      },
      "source": [
        "# CHAPTER 12 Advanced pandas\n",
        "\n",
        "\n",
        "The preceding chapters have focused on introducing different types of data wrangling\n",
        "workflows and features of NumPy, pandas, and other libraries. Over time, pandas has\n",
        "developed a depth of features for power users. This chapter digs into a few more\n",
        "advanced feature areas to help you deepen your expertise as a pandas user."
      ]
    },
    {
      "cell_type": "markdown",
      "metadata": {
        "id": "NUUKIhekdjwo",
        "colab_type": "text"
      },
      "source": [
        "## 12.1 Categorical Data\n",
        "This section introduces the pandas  Categorical type. I will show how you can ach‐\n",
        "ieve better performance and memory use in some pandas operations by using it. I\n",
        "also introduce some tools for using categorical data in statistics and machine learning\n",
        "applications\n",
        "\n",
        "分类类型，更好的性能和内存使用，在分类数据或者机器学习的应用中。\n",
        "\n",
        "\n"
      ]
    },
    {
      "cell_type": "markdown",
      "metadata": {
        "id": "OAzJsHa3djz4",
        "colab_type": "text"
      },
      "source": [
        "### Background and Motivation"
      ]
    },
    {
      "cell_type": "code",
      "metadata": {
        "id": "HegA4jpmfG30",
        "colab_type": "code",
        "colab": {
          "base_uri": "https://localhost:8080/",
          "height": 179
        },
        "outputId": "466b8568-0237-4dce-9376-6e851be11d90"
      },
      "source": [
        "# Frequently, a column in a table may contain repeated instances of a smaller set of dis‐\n",
        "# tinct values. We have already seen functions like  unique and  value_counts , which\n",
        "# enable us to extract the distinct values from an array and compute their frequencies,\n",
        "# respectively:\n",
        "\n",
        "# 我们已经结实了两个统计数据中关于频率或者次数的函数：unique, value_counts\n",
        "# 我们经常遇到在一行或者一列中，都是一些重复的小数据集的个体。\n",
        "\n",
        "import numpy as np\n",
        "import pandas as pd\n",
        "\n",
        "values = pd.Series(['apple', 'orange', 'apple',\n",
        "            'apple'] * 2)\n",
        "values"
      ],
      "execution_count": 2,
      "outputs": [
        {
          "output_type": "execute_result",
          "data": {
            "text/plain": [
              "0     apple\n",
              "1    orange\n",
              "2     apple\n",
              "3     apple\n",
              "4     apple\n",
              "5    orange\n",
              "6     apple\n",
              "7     apple\n",
              "dtype: object"
            ]
          },
          "metadata": {
            "tags": []
          },
          "execution_count": 2
        }
      ]
    },
    {
      "cell_type": "code",
      "metadata": {
        "id": "l77chrepfHnw",
        "colab_type": "code",
        "colab": {
          "base_uri": "https://localhost:8080/",
          "height": 35
        },
        "outputId": "a1f69e5c-7285-4ab7-dc5a-882bf938e2c0"
      },
      "source": [
        "pd.unique(values)"
      ],
      "execution_count": 3,
      "outputs": [
        {
          "output_type": "execute_result",
          "data": {
            "text/plain": [
              "array(['apple', 'orange'], dtype=object)"
            ]
          },
          "metadata": {
            "tags": []
          },
          "execution_count": 3
        }
      ]
    },
    {
      "cell_type": "code",
      "metadata": {
        "id": "iPkChUD1gMQG",
        "colab_type": "code",
        "colab": {
          "base_uri": "https://localhost:8080/",
          "height": 71
        },
        "outputId": "c7d9ec43-df77-4729-fb6c-fd1388adfff1"
      },
      "source": [
        "pd.value_counts(values)"
      ],
      "execution_count": 4,
      "outputs": [
        {
          "output_type": "execute_result",
          "data": {
            "text/plain": [
              "apple     6\n",
              "orange    2\n",
              "dtype: int64"
            ]
          },
          "metadata": {
            "tags": []
          },
          "execution_count": 4
        }
      ]
    },
    {
      "cell_type": "code",
      "metadata": {
        "id": "48JhI1sAgSh9",
        "colab_type": "code",
        "colab": {
          "base_uri": "https://localhost:8080/",
          "height": 179
        },
        "outputId": "a5b50d78-6235-4181-ce42-cf6c18a7ff00"
      },
      "source": [
        "# 利用关键词 take 来进行映射。\n",
        "\n",
        "values = pd.Series([0,1,0,0]*2)\n",
        "\n",
        "dim = pd.Series(['apple', 'orange'])\n",
        "\n",
        "values"
      ],
      "execution_count": 5,
      "outputs": [
        {
          "output_type": "execute_result",
          "data": {
            "text/plain": [
              "0    0\n",
              "1    1\n",
              "2    0\n",
              "3    0\n",
              "4    0\n",
              "5    1\n",
              "6    0\n",
              "7    0\n",
              "dtype: int64"
            ]
          },
          "metadata": {
            "tags": []
          },
          "execution_count": 5
        }
      ]
    },
    {
      "cell_type": "code",
      "metadata": {
        "id": "hzKBwsY7inpU",
        "colab_type": "code",
        "colab": {
          "base_uri": "https://localhost:8080/",
          "height": 71
        },
        "outputId": "bf94a838-537a-4ce8-b566-fa3da6bf0477"
      },
      "source": [
        "dim"
      ],
      "execution_count": 6,
      "outputs": [
        {
          "output_type": "execute_result",
          "data": {
            "text/plain": [
              "0     apple\n",
              "1    orange\n",
              "dtype: object"
            ]
          },
          "metadata": {
            "tags": []
          },
          "execution_count": 6
        }
      ]
    },
    {
      "cell_type": "code",
      "metadata": {
        "id": "S36GlNodioyD",
        "colab_type": "code",
        "colab": {}
      },
      "source": [
        "dim.take?\n",
        "Signature: dim.take(indices, axis=0, is_copy=None, **kwargs) -> 'Series'\n",
        "Docstring:\n",
        "Return the elements in the given *positional* indices along an axis.\n",
        "\n",
        "This means that we are not indexing according to actual values in\n",
        "the index attribute of the object. We are indexing according to the\n",
        "actual position of the element in the object.\n",
        "\n",
        "Parameters\n",
        "----------\n",
        "indices : array-like\n",
        "    An array of ints indicating which positions to take.\n",
        "axis : {0 or 'index', 1 or 'columns', None}, default 0\n",
        "    The axis on which to select elements. ``0`` means that we are\n",
        "    selecting rows, ``1`` means that we are selecting columns.\n",
        "is_copy : bool\n",
        "    Before pandas 1.0, ``is_copy=False`` can be specified to ensure\n",
        "    that the return value is an actual copy. Starting with pandas 1.0,\n",
        "    ``take`` always returns a copy, and the keyword is therefore\n",
        "    deprecated.\n",
        "\n",
        "    .. deprecated:: 1.0.0\n",
        "**kwargs\n",
        "    For compatibility with :meth:`numpy.take`. Has no effect on the\n",
        "    output.\n",
        "\n",
        "Returns\n",
        "-------\n",
        "taken : same type as caller\n",
        "    An array-like containing the elements taken from the object.\n",
        "\n",
        "See Also\n",
        "--------\n",
        "DataFrame.loc : Select a subset of a DataFrame by labels.\n",
        "DataFrame.iloc : Select a subset of a DataFrame by positions.\n",
        "numpy.take : Take elements from an array along an axis.\n",
        "\n",
        "Examples\n",
        "--------\n",
        ">>> df = pd.DataFrame([('falcon', 'bird', 389.0),\n",
        "...                    ('parrot', 'bird', 24.0),\n",
        "...                    ('lion', 'mammal', 80.5),\n",
        "...                    ('monkey', 'mammal', np.nan)],\n",
        "...                   columns=['name', 'class', 'max_speed'],\n",
        "...                   index=[0, 2, 3, 1])\n",
        ">>> df\n",
        "     name   class  max_speed\n",
        "0  falcon    bird      389.0\n",
        "2  parrot    bird       24.0\n",
        "3    lion  mammal       80.5\n",
        "1  monkey  mammal        NaN\n",
        "\n",
        "Take elements at positions 0 and 3 along the axis 0 (default).\n",
        "\n",
        "Note how the actual indices selected (0 and 1) do not correspond to\n",
        "our selected indices 0 and 3. That's because we are selecting the 0th\n",
        "and 3rd rows, not rows whose indices equal 0 and 3.\n",
        "\n",
        ">>> df.take([0, 3])\n",
        "     name   class  max_speed\n",
        "0  falcon    bird      389.0\n",
        "1  monkey  mammal        NaN\n",
        "\n",
        "Take elements at indices 1 and 2 along the axis 1 (column selection).\n",
        "\n",
        ">>> df.take([1, 2], axis=1)\n",
        "    class  max_speed\n",
        "0    bird      389.0\n",
        "2    bird       24.0\n",
        "3  mammal       80.5\n",
        "1  mammal        NaN\n",
        "\n",
        "We may take elements using negative integers for positive indices,\n",
        "starting from the end of the object, just like with Python lists.\n",
        "\n",
        ">>> df.take([-1, -2])\n",
        "     name   class  max_speed\n",
        "1  monkey  mammal        NaN\n",
        "3    lion  mammal       80.5\n",
        "File:      /usr/local/lib/python3.6/dist-packages/pandas/core/series.py\n",
        "Type:      method\n"
      ],
      "execution_count": 7,
      "outputs": []
    },
    {
      "cell_type": "code",
      "metadata": {
        "id": "FStUlTLwkAJV",
        "colab_type": "code",
        "colab": {
          "base_uri": "https://localhost:8080/",
          "height": 179
        },
        "outputId": "6ad880d8-f72b-4c66-fe3d-80133d30763d"
      },
      "source": [
        "# 从take函数说明可以得出，可以根据位置来映射，值。\n",
        "\n",
        "dim.take(values) # values 代表了一系列的位置 list"
      ],
      "execution_count": 8,
      "outputs": [
        {
          "output_type": "execute_result",
          "data": {
            "text/plain": [
              "0     apple\n",
              "1    orange\n",
              "0     apple\n",
              "0     apple\n",
              "0     apple\n",
              "1    orange\n",
              "0     apple\n",
              "0     apple\n",
              "dtype: object"
            ]
          },
          "metadata": {
            "tags": []
          },
          "execution_count": 8
        }
      ]
    },
    {
      "cell_type": "code",
      "metadata": {
        "id": "dPLRKfMFkUGU",
        "colab_type": "code",
        "colab": {}
      },
      "source": [
        "# 我们将 0 1 代表的 apple orange ，成为类别代码，或者简述代码。\n",
        "\n",
        "# 这种方式有两个便利之处：\n",
        "\n",
        "#Renaming categories\n",
        "# Appending a new category without changing the order or position of the existing\n",
        "#categories\n",
        "\n",
        "# 改变类别名称的时候，不用大量修改代码内部。\n",
        "\n",
        "# 添加新类别的时候，只进行对应类别代码的添加就可以了。"
      ],
      "execution_count": 9,
      "outputs": []
    },
    {
      "cell_type": "markdown",
      "metadata": {
        "id": "4QqTBIKSdj24",
        "colab_type": "text"
      },
      "source": [
        "### Categorical Type in pandas\n",
        "\n",
        "分类类型。\n",
        "\n",
        "pandas 中有多种 分类类型。"
      ]
    },
    {
      "cell_type": "code",
      "metadata": {
        "id": "bj0E6-gHkh9L",
        "colab_type": "code",
        "colab": {}
      },
      "source": [
        "# 关键词： \n",
        "# Categorical\n",
        "# astype('category') 将类型转换为pandas.Categorical 对象。\n",
        "# \n",
        "# 属性： values.categories && values.codes\n",
        "# # 直接建立Categorical 对象。 pandas.Categorical() 类似于 dataframe,series.\n",
        "\n",
        "# # 也可以指定 相应的代码。\n",
        "# categories = [xxx]\n",
        "# codes = [xx]\n",
        "# my_cats_2 = pd.Categorical.from_codes(codes, categories, ordered = Ture or False)\n",
        "\n"
      ],
      "execution_count": 10,
      "outputs": []
    },
    {
      "cell_type": "code",
      "metadata": {
        "id": "c6s13bF2pCBb",
        "colab_type": "code",
        "colab": {
          "base_uri": "https://localhost:8080/",
          "height": 297
        },
        "outputId": "d478c586-0741-4bed-c594-1581e8c293d7"
      },
      "source": [
        "# 示例：\n",
        "fruits = ['apple', 'orange', 'apple', 'apple']*2\n",
        "N = len(fruits)\n",
        "df = pd.DataFrame({'fruit': fruits,\n",
        "          'basket_id': np.arange(N),\n",
        "          'count': np.random.randint(3, 15, size=N),\n",
        "          'weight': np.random.uniform(0, 4, size=N)},\n",
        "          columns=['basket_id', 'fruit', 'count', 'weight'])\n",
        "\n",
        "df"
      ],
      "execution_count": 15,
      "outputs": [
        {
          "output_type": "execute_result",
          "data": {
            "text/html": [
              "<div>\n",
              "<style scoped>\n",
              "    .dataframe tbody tr th:only-of-type {\n",
              "        vertical-align: middle;\n",
              "    }\n",
              "\n",
              "    .dataframe tbody tr th {\n",
              "        vertical-align: top;\n",
              "    }\n",
              "\n",
              "    .dataframe thead th {\n",
              "        text-align: right;\n",
              "    }\n",
              "</style>\n",
              "<table border=\"1\" class=\"dataframe\">\n",
              "  <thead>\n",
              "    <tr style=\"text-align: right;\">\n",
              "      <th></th>\n",
              "      <th>basket_id</th>\n",
              "      <th>fruit</th>\n",
              "      <th>count</th>\n",
              "      <th>weight</th>\n",
              "    </tr>\n",
              "  </thead>\n",
              "  <tbody>\n",
              "    <tr>\n",
              "      <th>0</th>\n",
              "      <td>0</td>\n",
              "      <td>apple</td>\n",
              "      <td>6</td>\n",
              "      <td>3.222433</td>\n",
              "    </tr>\n",
              "    <tr>\n",
              "      <th>1</th>\n",
              "      <td>1</td>\n",
              "      <td>orange</td>\n",
              "      <td>9</td>\n",
              "      <td>2.530345</td>\n",
              "    </tr>\n",
              "    <tr>\n",
              "      <th>2</th>\n",
              "      <td>2</td>\n",
              "      <td>apple</td>\n",
              "      <td>5</td>\n",
              "      <td>1.025972</td>\n",
              "    </tr>\n",
              "    <tr>\n",
              "      <th>3</th>\n",
              "      <td>3</td>\n",
              "      <td>apple</td>\n",
              "      <td>6</td>\n",
              "      <td>3.926377</td>\n",
              "    </tr>\n",
              "    <tr>\n",
              "      <th>4</th>\n",
              "      <td>4</td>\n",
              "      <td>apple</td>\n",
              "      <td>14</td>\n",
              "      <td>0.079198</td>\n",
              "    </tr>\n",
              "    <tr>\n",
              "      <th>5</th>\n",
              "      <td>5</td>\n",
              "      <td>orange</td>\n",
              "      <td>10</td>\n",
              "      <td>1.885798</td>\n",
              "    </tr>\n",
              "    <tr>\n",
              "      <th>6</th>\n",
              "      <td>6</td>\n",
              "      <td>apple</td>\n",
              "      <td>11</td>\n",
              "      <td>3.326514</td>\n",
              "    </tr>\n",
              "    <tr>\n",
              "      <th>7</th>\n",
              "      <td>7</td>\n",
              "      <td>apple</td>\n",
              "      <td>13</td>\n",
              "      <td>3.455719</td>\n",
              "    </tr>\n",
              "  </tbody>\n",
              "</table>\n",
              "</div>"
            ],
            "text/plain": [
              "   basket_id   fruit  count    weight\n",
              "0          0   apple      6  3.222433\n",
              "1          1  orange      9  2.530345\n",
              "2          2   apple      5  1.025972\n",
              "3          3   apple      6  3.926377\n",
              "4          4   apple     14  0.079198\n",
              "5          5  orange     10  1.885798\n",
              "6          6   apple     11  3.326514\n",
              "7          7   apple     13  3.455719"
            ]
          },
          "metadata": {
            "tags": []
          },
          "execution_count": 15
        }
      ]
    },
    {
      "cell_type": "code",
      "metadata": {
        "id": "zMvCQN9Rpn5O",
        "colab_type": "code",
        "colab": {
          "base_uri": "https://localhost:8080/",
          "height": 197
        },
        "outputId": "f692b4eb-a1fa-4d8e-8025-ce4c614c61f6"
      },
      "source": [
        "# 我们需要将fruit转换为数字特征。\n",
        "fruit_cat = df.fruit.astype('category')\n",
        "fruit_cat"
      ],
      "execution_count": 16,
      "outputs": [
        {
          "output_type": "execute_result",
          "data": {
            "text/plain": [
              "0     apple\n",
              "1    orange\n",
              "2     apple\n",
              "3     apple\n",
              "4     apple\n",
              "5    orange\n",
              "6     apple\n",
              "7     apple\n",
              "Name: fruit, dtype: category\n",
              "Categories (2, object): [apple, orange]"
            ]
          },
          "metadata": {
            "tags": []
          },
          "execution_count": 16
        }
      ]
    },
    {
      "cell_type": "code",
      "metadata": {
        "id": "IaJAYQcfpn8l",
        "colab_type": "code",
        "colab": {
          "base_uri": "https://localhost:8080/",
          "height": 35
        },
        "outputId": "b3044931-0215-4471-b75c-27d45d602645"
      },
      "source": [
        "# 两个属性。categories&&codes\n",
        "fruit_cat.values.codes"
      ],
      "execution_count": 18,
      "outputs": [
        {
          "output_type": "execute_result",
          "data": {
            "text/plain": [
              "array([0, 1, 0, 0, 0, 1, 0, 0], dtype=int8)"
            ]
          },
          "metadata": {
            "tags": []
          },
          "execution_count": 18
        }
      ]
    },
    {
      "cell_type": "code",
      "metadata": {
        "id": "UQb60Xk4pn_k",
        "colab_type": "code",
        "colab": {
          "base_uri": "https://localhost:8080/",
          "height": 35
        },
        "outputId": "b7ba27ac-0202-4d19-b1bf-dcc5d4ed519c"
      },
      "source": [
        "fruit_cat.values.categories"
      ],
      "execution_count": 19,
      "outputs": [
        {
          "output_type": "execute_result",
          "data": {
            "text/plain": [
              "Index(['apple', 'orange'], dtype='object')"
            ]
          },
          "metadata": {
            "tags": []
          },
          "execution_count": 19
        }
      ]
    },
    {
      "cell_type": "code",
      "metadata": {
        "id": "aXNB6PfqqR6m",
        "colab_type": "code",
        "colab": {
          "base_uri": "https://localhost:8080/",
          "height": 53
        },
        "outputId": "b228bdca-61ee-4006-81ba-1c95fafb3ba5"
      },
      "source": [
        "fruit_cat.values"
      ],
      "execution_count": 20,
      "outputs": [
        {
          "output_type": "execute_result",
          "data": {
            "text/plain": [
              "[apple, orange, apple, apple, apple, orange, apple, apple]\n",
              "Categories (2, object): [apple, orange]"
            ]
          },
          "metadata": {
            "tags": []
          },
          "execution_count": 20
        }
      ]
    },
    {
      "cell_type": "code",
      "metadata": {
        "id": "d4tZfTXfqR9U",
        "colab_type": "code",
        "colab": {
          "base_uri": "https://localhost:8080/",
          "height": 297
        },
        "outputId": "aa57fe60-dde1-41da-c632-bbf95ed35e90"
      },
      "source": [
        "# 我们可以将fruits的fruit列转换成categorical 类型。\n",
        "df.fruit = df.fruit.astype('category')\n",
        "df"
      ],
      "execution_count": 21,
      "outputs": [
        {
          "output_type": "execute_result",
          "data": {
            "text/html": [
              "<div>\n",
              "<style scoped>\n",
              "    .dataframe tbody tr th:only-of-type {\n",
              "        vertical-align: middle;\n",
              "    }\n",
              "\n",
              "    .dataframe tbody tr th {\n",
              "        vertical-align: top;\n",
              "    }\n",
              "\n",
              "    .dataframe thead th {\n",
              "        text-align: right;\n",
              "    }\n",
              "</style>\n",
              "<table border=\"1\" class=\"dataframe\">\n",
              "  <thead>\n",
              "    <tr style=\"text-align: right;\">\n",
              "      <th></th>\n",
              "      <th>basket_id</th>\n",
              "      <th>fruit</th>\n",
              "      <th>count</th>\n",
              "      <th>weight</th>\n",
              "    </tr>\n",
              "  </thead>\n",
              "  <tbody>\n",
              "    <tr>\n",
              "      <th>0</th>\n",
              "      <td>0</td>\n",
              "      <td>apple</td>\n",
              "      <td>6</td>\n",
              "      <td>3.222433</td>\n",
              "    </tr>\n",
              "    <tr>\n",
              "      <th>1</th>\n",
              "      <td>1</td>\n",
              "      <td>orange</td>\n",
              "      <td>9</td>\n",
              "      <td>2.530345</td>\n",
              "    </tr>\n",
              "    <tr>\n",
              "      <th>2</th>\n",
              "      <td>2</td>\n",
              "      <td>apple</td>\n",
              "      <td>5</td>\n",
              "      <td>1.025972</td>\n",
              "    </tr>\n",
              "    <tr>\n",
              "      <th>3</th>\n",
              "      <td>3</td>\n",
              "      <td>apple</td>\n",
              "      <td>6</td>\n",
              "      <td>3.926377</td>\n",
              "    </tr>\n",
              "    <tr>\n",
              "      <th>4</th>\n",
              "      <td>4</td>\n",
              "      <td>apple</td>\n",
              "      <td>14</td>\n",
              "      <td>0.079198</td>\n",
              "    </tr>\n",
              "    <tr>\n",
              "      <th>5</th>\n",
              "      <td>5</td>\n",
              "      <td>orange</td>\n",
              "      <td>10</td>\n",
              "      <td>1.885798</td>\n",
              "    </tr>\n",
              "    <tr>\n",
              "      <th>6</th>\n",
              "      <td>6</td>\n",
              "      <td>apple</td>\n",
              "      <td>11</td>\n",
              "      <td>3.326514</td>\n",
              "    </tr>\n",
              "    <tr>\n",
              "      <th>7</th>\n",
              "      <td>7</td>\n",
              "      <td>apple</td>\n",
              "      <td>13</td>\n",
              "      <td>3.455719</td>\n",
              "    </tr>\n",
              "  </tbody>\n",
              "</table>\n",
              "</div>"
            ],
            "text/plain": [
              "   basket_id   fruit  count    weight\n",
              "0          0   apple      6  3.222433\n",
              "1          1  orange      9  2.530345\n",
              "2          2   apple      5  1.025972\n",
              "3          3   apple      6  3.926377\n",
              "4          4   apple     14  0.079198\n",
              "5          5  orange     10  1.885798\n",
              "6          6   apple     11  3.326514\n",
              "7          7   apple     13  3.455719"
            ]
          },
          "metadata": {
            "tags": []
          },
          "execution_count": 21
        }
      ]
    },
    {
      "cell_type": "code",
      "metadata": {
        "id": "NW0guFiJqSAI",
        "colab_type": "code",
        "colab": {
          "base_uri": "https://localhost:8080/",
          "height": 215
        },
        "outputId": "6c01a786-7b3b-437b-dfcb-634bad5ba047"
      },
      "source": [
        "df.info()"
      ],
      "execution_count": 23,
      "outputs": [
        {
          "output_type": "stream",
          "text": [
            "<class 'pandas.core.frame.DataFrame'>\n",
            "RangeIndex: 8 entries, 0 to 7\n",
            "Data columns (total 4 columns):\n",
            " #   Column     Non-Null Count  Dtype   \n",
            "---  ------     --------------  -----   \n",
            " 0   basket_id  8 non-null      int64   \n",
            " 1   fruit      8 non-null      category\n",
            " 2   count      8 non-null      int64   \n",
            " 3   weight     8 non-null      float64 \n",
            "dtypes: category(1), float64(1), int64(2)\n",
            "memory usage: 424.0 bytes\n"
          ],
          "name": "stdout"
        }
      ]
    },
    {
      "cell_type": "code",
      "metadata": {
        "id": "CG3tcHHJqSC8",
        "colab_type": "code",
        "colab": {
          "base_uri": "https://localhost:8080/",
          "height": 297
        },
        "outputId": "cf89e360-ffd7-4332-c939-1e70e5612a73"
      },
      "source": [
        "# 可以看出列信息类型发生了变化。\n",
        "# 我们也可以直接用类别代替。\n",
        "df.fruit = df.fruit.astype('category').values.codes\n",
        "\n",
        "df"
      ],
      "execution_count": 25,
      "outputs": [
        {
          "output_type": "execute_result",
          "data": {
            "text/html": [
              "<div>\n",
              "<style scoped>\n",
              "    .dataframe tbody tr th:only-of-type {\n",
              "        vertical-align: middle;\n",
              "    }\n",
              "\n",
              "    .dataframe tbody tr th {\n",
              "        vertical-align: top;\n",
              "    }\n",
              "\n",
              "    .dataframe thead th {\n",
              "        text-align: right;\n",
              "    }\n",
              "</style>\n",
              "<table border=\"1\" class=\"dataframe\">\n",
              "  <thead>\n",
              "    <tr style=\"text-align: right;\">\n",
              "      <th></th>\n",
              "      <th>basket_id</th>\n",
              "      <th>fruit</th>\n",
              "      <th>count</th>\n",
              "      <th>weight</th>\n",
              "    </tr>\n",
              "  </thead>\n",
              "  <tbody>\n",
              "    <tr>\n",
              "      <th>0</th>\n",
              "      <td>0</td>\n",
              "      <td>0</td>\n",
              "      <td>6</td>\n",
              "      <td>3.222433</td>\n",
              "    </tr>\n",
              "    <tr>\n",
              "      <th>1</th>\n",
              "      <td>1</td>\n",
              "      <td>1</td>\n",
              "      <td>9</td>\n",
              "      <td>2.530345</td>\n",
              "    </tr>\n",
              "    <tr>\n",
              "      <th>2</th>\n",
              "      <td>2</td>\n",
              "      <td>0</td>\n",
              "      <td>5</td>\n",
              "      <td>1.025972</td>\n",
              "    </tr>\n",
              "    <tr>\n",
              "      <th>3</th>\n",
              "      <td>3</td>\n",
              "      <td>0</td>\n",
              "      <td>6</td>\n",
              "      <td>3.926377</td>\n",
              "    </tr>\n",
              "    <tr>\n",
              "      <th>4</th>\n",
              "      <td>4</td>\n",
              "      <td>0</td>\n",
              "      <td>14</td>\n",
              "      <td>0.079198</td>\n",
              "    </tr>\n",
              "    <tr>\n",
              "      <th>5</th>\n",
              "      <td>5</td>\n",
              "      <td>1</td>\n",
              "      <td>10</td>\n",
              "      <td>1.885798</td>\n",
              "    </tr>\n",
              "    <tr>\n",
              "      <th>6</th>\n",
              "      <td>6</td>\n",
              "      <td>0</td>\n",
              "      <td>11</td>\n",
              "      <td>3.326514</td>\n",
              "    </tr>\n",
              "    <tr>\n",
              "      <th>7</th>\n",
              "      <td>7</td>\n",
              "      <td>0</td>\n",
              "      <td>13</td>\n",
              "      <td>3.455719</td>\n",
              "    </tr>\n",
              "  </tbody>\n",
              "</table>\n",
              "</div>"
            ],
            "text/plain": [
              "   basket_id  fruit  count    weight\n",
              "0          0      0      6  3.222433\n",
              "1          1      1      9  2.530345\n",
              "2          2      0      5  1.025972\n",
              "3          3      0      6  3.926377\n",
              "4          4      0     14  0.079198\n",
              "5          5      1     10  1.885798\n",
              "6          6      0     11  3.326514\n",
              "7          7      0     13  3.455719"
            ]
          },
          "metadata": {
            "tags": []
          },
          "execution_count": 25
        }
      ]
    },
    {
      "cell_type": "code",
      "metadata": {
        "id": "p0pHs5I2rQwm",
        "colab_type": "code",
        "colab": {
          "base_uri": "https://localhost:8080/",
          "height": 53
        },
        "outputId": "4b9624ab-80e9-4832-bb54-e015264037f1"
      },
      "source": [
        "### 这样就达到了我们进行转换的目的。\n",
        "\n",
        "## 当然，建立pandas.Categorical 的方法：\n",
        "\n",
        "my_categories = pd.Categorical(['foo', 'bar', 'baz', 'foo', 'bar'])\n",
        "my_categories"
      ],
      "execution_count": 26,
      "outputs": [
        {
          "output_type": "execute_result",
          "data": {
            "text/plain": [
              "[foo, bar, baz, foo, bar]\n",
              "Categories (3, object): [bar, baz, foo]"
            ]
          },
          "metadata": {
            "tags": []
          },
          "execution_count": 26
        }
      ]
    },
    {
      "cell_type": "code",
      "metadata": {
        "id": "G4aGuBJxrQy8",
        "colab_type": "code",
        "colab": {
          "base_uri": "https://localhost:8080/",
          "height": 53
        },
        "outputId": "80a5e36c-0697-4ca0-c776-9f1675850741"
      },
      "source": [
        "# frome codes 建立。\n",
        "categories = ['foo', 'bar', 'baz']\n",
        "codes = [0,1,2,0,0,1]\n",
        "\n",
        "my_cat = pd.Categorical.from_codes(codes, categories, ordered=True)\n",
        "my_cat"
      ],
      "execution_count": 27,
      "outputs": [
        {
          "output_type": "execute_result",
          "data": {
            "text/plain": [
              "[foo, bar, baz, foo, foo, bar]\n",
              "Categories (3, object): [foo < bar < baz]"
            ]
          },
          "metadata": {
            "tags": []
          },
          "execution_count": 27
        }
      ]
    },
    {
      "cell_type": "code",
      "metadata": {
        "id": "v5bYGvMHrQz2",
        "colab_type": "code",
        "colab": {}
      },
      "source": [
        "pd.Categorical.from_codes?\n",
        "Signature: pd.Categorical.from_codes(cls, codes, categories=None, ordered=None, dtype=None)\n",
        "Docstring:\n",
        "Make a Categorical type from codes and categories or dtype.\n",
        "\n",
        "This constructor is useful if you already have codes and\n",
        "categories/dtype and so do not need the (computation intensive)\n",
        "factorization step, which is usually done on the constructor.\n",
        "\n",
        "If your data does not follow this convention, please use the normal\n",
        "constructor.\n",
        "\n",
        "Parameters\n",
        "----------\n",
        "codes : array-like of int\n",
        "    An integer array, where each integer points to a category in\n",
        "    categories or dtype.categories, or else is -1 for NaN.\n",
        "categories : index-like, optional\n",
        "    The categories for the categorical. Items need to be unique.\n",
        "    If the categories are not given here, then they must be provided\n",
        "    in `dtype`.\n",
        "ordered : bool, optional\n",
        "    Whether or not this categorical is treated as an ordered\n",
        "    categorical. If not given here or in `dtype`, the resulting\n",
        "    categorical will be unordered.\n",
        "dtype : CategoricalDtype or \"category\", optional\n",
        "    If :class:`CategoricalDtype`, cannot be used together with\n",
        "    `categories` or `ordered`.\n"
      ],
      "execution_count": 28,
      "outputs": []
    },
    {
      "cell_type": "code",
      "metadata": {
        "id": "GkfeU9kArQ5V",
        "colab_type": "code",
        "colab": {
          "base_uri": "https://localhost:8080/",
          "height": 53
        },
        "outputId": "a2e49c18-a242-4eb2-fb35-98bae6423afa"
      },
      "source": [
        "# 从函数类型可以看出，是子类。\n",
        "\n",
        "# 没有经过排序的categorical类型，也可以用 .as_orderd() 方法进行排序。\n",
        "my_cat.as_unordered()"
      ],
      "execution_count": 29,
      "outputs": [
        {
          "output_type": "execute_result",
          "data": {
            "text/plain": [
              "[foo, bar, baz, foo, foo, bar]\n",
              "Categories (3, object): [foo, bar, baz]"
            ]
          },
          "metadata": {
            "tags": []
          },
          "execution_count": 29
        }
      ]
    },
    {
      "cell_type": "code",
      "metadata": {
        "id": "-9Yctpf2sw8O",
        "colab_type": "code",
        "colab": {
          "base_uri": "https://localhost:8080/",
          "height": 53
        },
        "outputId": "ab92deef-6358-4fa9-ade1-5c0d0087c894"
      },
      "source": [
        "my_cat.as_ordered()"
      ],
      "execution_count": 30,
      "outputs": [
        {
          "output_type": "execute_result",
          "data": {
            "text/plain": [
              "[foo, bar, baz, foo, foo, bar]\n",
              "Categories (3, object): [foo < bar < baz]"
            ]
          },
          "metadata": {
            "tags": []
          },
          "execution_count": 30
        }
      ]
    },
    {
      "cell_type": "markdown",
      "metadata": {
        "id": "dT7pXv5Jdj5o",
        "colab_type": "text"
      },
      "source": [
        "### Computations with Categoricals\n",
        "\n",
        "本机主要讲用categorical 类型的计算效率的提升。\n",
        "\n",
        "以及 qcut 转换的问题。"
      ]
    },
    {
      "cell_type": "code",
      "metadata": {
        "id": "tK8KJ0U2zHrW",
        "colab_type": "code",
        "colab": {}
      },
      "source": [
        "# pd.qcut 产生的 categorical对象。\n",
        "# 可以直接用 .codes && categories 属性访问。\n",
        "# 可以设置label 来修改输出的结果。\n",
        "# bins = pd.qcut(list, 4, label=['x1','x2','x3','x4'])\n",
        "# 然后对bins 进行 groupby，统计相应的值。因为groupby可以直接传入一个维度或者长度于对应列数相同的列表或者series.\n",
        "# 性能提升： 当用字符串存储的时候，和用 categorical 对象存储的时候，所占用的内存大小完全不一样。\n",
        "# 当然，在这个基础上用groupby等运算的时候，所用的时间也不一样。\n"
      ],
      "execution_count": 31,
      "outputs": []
    },
    {
      "cell_type": "code",
      "metadata": {
        "id": "UJXHZgoszIO6",
        "colab_type": "code",
        "colab": {
          "base_uri": "https://localhost:8080/",
          "height": 35
        },
        "outputId": "6fc7d2dd-73a5-4bb8-e8a7-486649594079"
      },
      "source": [
        "np.random.seed(12345)\n",
        "draws = np.random.randn(1000)\n",
        "\n",
        "draws[:5]"
      ],
      "execution_count": 32,
      "outputs": [
        {
          "output_type": "execute_result",
          "data": {
            "text/plain": [
              "array([-0.20470766,  0.47894334, -0.51943872, -0.5557303 ,  1.96578057])"
            ]
          },
          "metadata": {
            "tags": []
          },
          "execution_count": 32
        }
      ]
    },
    {
      "cell_type": "code",
      "metadata": {
        "id": "s1U-AZIczIR6",
        "colab_type": "code",
        "colab": {
          "base_uri": "https://localhost:8080/",
          "height": 109
        },
        "outputId": "0d47632e-bce8-449a-cd95-77b43df41b78"
      },
      "source": [
        "# 上边的1000个数，进行qcut，根据大小范围，四份。\n",
        "bins = pd.qcut(draws, 4)\n",
        "bins"
      ],
      "execution_count": 33,
      "outputs": [
        {
          "output_type": "execute_result",
          "data": {
            "text/plain": [
              "[(-0.684, -0.0101], (-0.0101, 0.63], (-0.684, -0.0101], (-0.684, -0.0101], (0.63, 3.928], ..., (-0.0101, 0.63], (-0.684, -0.0101], (-2.9499999999999997, -0.684], (-0.0101, 0.63], (0.63, 3.928]]\n",
              "Length: 1000\n",
              "Categories (4, interval[float64]): [(-2.9499999999999997, -0.684] < (-0.684, -0.0101] < (-0.0101, 0.63] <\n",
              "                                    (0.63, 3.928]]"
            ]
          },
          "metadata": {
            "tags": []
          },
          "execution_count": 33
        }
      ]
    },
    {
      "cell_type": "code",
      "metadata": {
        "id": "UoINTvjEzIUi",
        "colab_type": "code",
        "colab": {
          "base_uri": "https://localhost:8080/",
          "height": 71
        },
        "outputId": "b4465766-46b2-4786-982b-b8c8765db9b2"
      },
      "source": [
        "# 从结果看出，bins拥有categories的属性。\n",
        "# 我们来用categories && codes来访问\n",
        "\n",
        "bins.categories"
      ],
      "execution_count": 34,
      "outputs": [
        {
          "output_type": "execute_result",
          "data": {
            "text/plain": [
              "IntervalIndex([(-2.9499999999999997, -0.684], (-0.684, -0.0101], (-0.0101, 0.63], (0.63, 3.928]],\n",
              "              closed='right',\n",
              "              dtype='interval[float64]')"
            ]
          },
          "metadata": {
            "tags": []
          },
          "execution_count": 34
        }
      ]
    },
    {
      "cell_type": "code",
      "metadata": {
        "id": "FqAiFKwZzIXh",
        "colab_type": "code",
        "colab": {
          "base_uri": "https://localhost:8080/",
          "height": 35
        },
        "outputId": "79ec67d7-aa5a-4d78-a0b9-0416730bc79f"
      },
      "source": [
        "bins.codes[:10]"
      ],
      "execution_count": 37,
      "outputs": [
        {
          "output_type": "execute_result",
          "data": {
            "text/plain": [
              "array([1, 2, 1, 1, 3, 3, 2, 2, 3, 3], dtype=int8)"
            ]
          },
          "metadata": {
            "tags": []
          },
          "execution_count": 37
        }
      ]
    },
    {
      "cell_type": "code",
      "metadata": {
        "id": "PAWTiCiKzIaD",
        "colab_type": "code",
        "colab": {
          "base_uri": "https://localhost:8080/",
          "height": 71
        },
        "outputId": "4601741c-565f-4221-f3e0-a1a0d1b00e4e"
      },
      "source": [
        "# 虽然划分出了每个数据所在哪个区间，但是我们希望更加直观点。\n",
        "bins = pd.qcut(draws, 4, labels=['q1', 'q2', 'q3','q4'])\n",
        "bins"
      ],
      "execution_count": 36,
      "outputs": [
        {
          "output_type": "execute_result",
          "data": {
            "text/plain": [
              "[q2, q3, q2, q2, q4, ..., q3, q2, q1, q3, q4]\n",
              "Length: 1000\n",
              "Categories (4, object): [q1 < q2 < q3 < q4]"
            ]
          },
          "metadata": {
            "tags": []
          },
          "execution_count": 36
        }
      ]
    },
    {
      "cell_type": "code",
      "metadata": {
        "id": "WjSDbtA2zIc8",
        "colab_type": "code",
        "colab": {
          "base_uri": "https://localhost:8080/",
          "height": 173
        },
        "outputId": "b7fe73a7-83ee-4c21-bae6-43d482b48258"
      },
      "source": [
        "# 然后我们就可以用bins来对draws进行groupby并进行一些统计输出。\n",
        "\n",
        "bins = pd.Series(bins, name='quartile')\n",
        "\n",
        "resluts = pd.Series(draws).groupby(bins).agg(['count', 'min', 'max', 'mean']).reset_index()\n",
        "resluts # 这里resetindex的作用是用 count等直接当作一级columns"
      ],
      "execution_count": 39,
      "outputs": [
        {
          "output_type": "execute_result",
          "data": {
            "text/html": [
              "<div>\n",
              "<style scoped>\n",
              "    .dataframe tbody tr th:only-of-type {\n",
              "        vertical-align: middle;\n",
              "    }\n",
              "\n",
              "    .dataframe tbody tr th {\n",
              "        vertical-align: top;\n",
              "    }\n",
              "\n",
              "    .dataframe thead th {\n",
              "        text-align: right;\n",
              "    }\n",
              "</style>\n",
              "<table border=\"1\" class=\"dataframe\">\n",
              "  <thead>\n",
              "    <tr style=\"text-align: right;\">\n",
              "      <th></th>\n",
              "      <th>quartile</th>\n",
              "      <th>count</th>\n",
              "      <th>min</th>\n",
              "      <th>max</th>\n",
              "      <th>mean</th>\n",
              "    </tr>\n",
              "  </thead>\n",
              "  <tbody>\n",
              "    <tr>\n",
              "      <th>0</th>\n",
              "      <td>q1</td>\n",
              "      <td>250</td>\n",
              "      <td>-2.949343</td>\n",
              "      <td>-0.685484</td>\n",
              "      <td>-1.215981</td>\n",
              "    </tr>\n",
              "    <tr>\n",
              "      <th>1</th>\n",
              "      <td>q2</td>\n",
              "      <td>250</td>\n",
              "      <td>-0.683066</td>\n",
              "      <td>-0.010115</td>\n",
              "      <td>-0.362423</td>\n",
              "    </tr>\n",
              "    <tr>\n",
              "      <th>2</th>\n",
              "      <td>q3</td>\n",
              "      <td>250</td>\n",
              "      <td>-0.010032</td>\n",
              "      <td>0.628894</td>\n",
              "      <td>0.307840</td>\n",
              "    </tr>\n",
              "    <tr>\n",
              "      <th>3</th>\n",
              "      <td>q4</td>\n",
              "      <td>250</td>\n",
              "      <td>0.634238</td>\n",
              "      <td>3.927528</td>\n",
              "      <td>1.261160</td>\n",
              "    </tr>\n",
              "  </tbody>\n",
              "</table>\n",
              "</div>"
            ],
            "text/plain": [
              "  quartile  count       min       max      mean\n",
              "0       q1    250 -2.949343 -0.685484 -1.215981\n",
              "1       q2    250 -0.683066 -0.010115 -0.362423\n",
              "2       q3    250 -0.010032  0.628894  0.307840\n",
              "3       q4    250  0.634238  3.927528  1.261160"
            ]
          },
          "metadata": {
            "tags": []
          },
          "execution_count": 39
        }
      ]
    },
    {
      "cell_type": "code",
      "metadata": {
        "id": "7eloieDXOGxb",
        "colab_type": "code",
        "colab": {}
      },
      "source": [
        "# 然后我们可以查看，categorical 对象和 字符对象占用内存对比。\n",
        "\n",
        "N = 10000000\n",
        "draws = pd.Series(np.random.randn(N))\n",
        "labels = pd.Series(['foo', 'bar', 'baz', 'qux'] * (N // 4))\n",
        "\n",
        "# 将series 转换成categorical \n",
        "\n",
        "categories = labels.astype('category')\n"
      ],
      "execution_count": 41,
      "outputs": []
    },
    {
      "cell_type": "code",
      "metadata": {
        "id": "qSDhTKpROG0j",
        "colab_type": "code",
        "colab": {
          "base_uri": "https://localhost:8080/",
          "height": 35
        },
        "outputId": "29691281-4ec7-413b-c202-1dfce84a3193"
      },
      "source": [
        "# 用关键词 memory_usage()查看。\n",
        "\n",
        "labels.memory_usage()/categories.memory_usage()"
      ],
      "execution_count": 44,
      "outputs": [
        {
          "output_type": "execute_result",
          "data": {
            "text/plain": [
              "7.999756807782151"
            ]
          },
          "metadata": {
            "tags": []
          },
          "execution_count": 44
        }
      ]
    },
    {
      "cell_type": "code",
      "metadata": {
        "id": "Cz3MkPOVPKUC",
        "colab_type": "code",
        "colab": {
          "base_uri": "https://localhost:8080/",
          "height": 53
        },
        "outputId": "db635b53-8689-4d86-de81-5b5c5c4a7277"
      },
      "source": [
        "# 从结果可以很明显的看出series所占用的内存是categorical对象的八倍。\n",
        "\n",
        "%time _=labels.astype('category')"
      ],
      "execution_count": 45,
      "outputs": [
        {
          "output_type": "stream",
          "text": [
            "CPU times: user 377 ms, sys: 4.52 ms, total: 382 ms\n",
            "Wall time: 383 ms\n"
          ],
          "name": "stdout"
        }
      ]
    },
    {
      "cell_type": "markdown",
      "metadata": {
        "id": "DHFC_wMxdj8g",
        "colab_type": "text"
      },
      "source": [
        "### Categorical Methods\n",
        "\n",
        "Series containing categorical data have several special methods similar to the  Ser\n",
        "ies.str specialized string methods. This also provides convenient access to the cate‐\n",
        "gories and codes. Consider the Series:\n",
        "\n",
        "categories 类型的series对象，也有很多methods， 就跟字符串的series对象一样， Series.str "
      ]
    },
    {
      "cell_type": "code",
      "metadata": {
        "id": "474aR11HPgBI",
        "colab_type": "code",
        "colab": {}
      },
      "source": [
        "pd.Series.str?\n",
        "Init signature: pd.Series.str(*args, **kwargs)\n",
        "Docstring:     \n",
        "Vectorized string functions for Series and Index. NAs stay NA unless\n",
        "handled otherwise by a particular method. Patterned after Python's string\n",
        "methods, with some inspiration from R's stringr package.\n",
        "\n",
        "Examples\n",
        "--------\n",
        ">>> s.str.split('_')\n",
        ">>> s.str.replace('_', '')\n",
        "File:           /usr/local/lib/python3.6/dist-packages/pandas/core/strings.py\n",
        "Type:           type"
      ],
      "execution_count": 46,
      "outputs": []
    },
    {
      "cell_type": "code",
      "metadata": {
        "id": "pRT16oXyRhuh",
        "colab_type": "code",
        "colab": {}
      },
      "source": [
        "!cat /usr/local/lib/python3.6/dist-packages/pandas/core/strings.py"
      ],
      "execution_count": null,
      "outputs": []
    },
    {
      "cell_type": "code",
      "metadata": {
        "id": "tqO6USeTSN53",
        "colab_type": "code",
        "colab": {}
      },
      "source": [
        "\n",
        "Series.str.split : Split strings around given separator/delimiter.\n",
        "    Series.str.rsplit : Splits string around given separator/delimiter,\n",
        "        starting from the right.\n",
        "    Series.str.join : Join lists contained as elements in the Series/Index\n",
        "        with passed delimiter.\n",
        "    str.split : Standard library version for split.\n",
        "    str.rsplit : Standard library version for rsplit.\n",
        "Series.str.split : Split strings around given separators.\n",
        "    str.partition : Standard library version.\n",
        "Series.str.rjust : Fills the left side of strings with an arbitrary\n",
        "            character.\n",
        "        Series.str.ljust : Fills the right side of strings with an arbitrary\n",
        "            character.\n",
        "        Series.str.pad : Fills the specified sides of strings with an arbitrary\n",
        "            character.\n",
        "        Series.str.center : Fills boths sides of strings with an arbitrary\n",
        "            character.\n",
        "Series.str.strip : Remove leading and trailing characters in Series/Index.\n",
        "    Series.str.lstrip : Remove leading characters in Series/Index.\n",
        "    Series.str.rstrip : Remove trailing characters in Series/Index.\n",
        "Series.str.isalpha : Check whether all characters are alphabetic.\n",
        "    Series.str.isnumeric : Check whether all characters are numeric.\n",
        "    Series.str.isalnum : Check whether all characters are alphanumeric.\n",
        "    Series.str.isdigit : Check whether all characters are digits.\n",
        "    Series.str.isdecimal : Check whether all characters are decimal.\n",
        "    Series.str.isspace : Check whether all characters are whitespace.\n",
        "    Series.str.islower : Check whether all characters are lowercase.\n",
        "    Series.str.isupper : Check whether all characters are uppercase.\n",
        "    Series.str.istitle : Check whether all characters are titlecase\n",
        "    Series.str.lower : Converts all characters to lowercase.\n",
        "    Series.str.upper : Converts all characters to uppercase.\n",
        "    Series.str.title : Converts first character of each word to uppercase and\n",
        "        remaining to lowercase.\n",
        "    Series.str.capitalize : Converts first character to uppercase and\n",
        "        remaining to lowercase.\n",
        "    Series.str.swapcase : Converts uppercase to lowercase and lowercase to\n",
        "        uppercase.\n",
        "    Series.str.casefold: Removes all case distinctions in the string.\n",
        "    str.len : Python built-in function returning the length of an object.\n",
        "    Series.size : Returns the length of the Series."
      ],
      "execution_count": null,
      "outputs": []
    },
    {
      "cell_type": "code",
      "metadata": {
        "id": "ayH6FTs-TufN",
        "colab_type": "code",
        "colab": {}
      },
      "source": [
        "# cat 提供了对访问codes categories 的方法。\n",
        "\n",
        "# cat.set_categories() 来扩展类别对象，虽然只是观察到了有限个。\n",
        "# 比如没有观察到的类比依然会统计信息统计到，只是个数为0而已。 value_counts...\n",
        "\n",
        "# 大型数据集中，很多类别没有使用，想要去掉这些没有观察到的类别，使用: remove_unused_categories.\n",
        "\n",
        "\n",
        "# 哑变量： 转换： pandas.get_dummies(series)\n"
      ],
      "execution_count": null,
      "outputs": []
    },
    {
      "cell_type": "markdown",
      "metadata": {
        "id": "W0mvB9zXWpys",
        "colab_type": "text"
      },
      "source": [
        "![链接文字](https://img-blog.csdnimg.cn/20200825144226828.png?x-oss-process=image/watermark,type_ZmFuZ3poZW5naGVpdGk,shadow_10,text_aHR0cHM6Ly9ibG9nLmNzZG4ubmV0L2dhb2N1aTg4Mw==,size_16,color_FFFFFF,t_70#pic_center)\n",
        "![链接文字](https://img-blog.csdnimg.cn/20200825145024196.png#pic_center)"
      ]
    },
    {
      "cell_type": "code",
      "metadata": {
        "id": "Ua_MRic_TuiT",
        "colab_type": "code",
        "colab": {
          "base_uri": "https://localhost:8080/",
          "height": 197
        },
        "outputId": "67273394-8e77-431e-ae3d-a6cd81e56282"
      },
      "source": [
        "# 示例:\n",
        "\n",
        "s = pd.Series(['a', 'b', 'c', 'd']*2)\n",
        "\n",
        "cat_s = s.astype('category')\n",
        "cat_s"
      ],
      "execution_count": 48,
      "outputs": [
        {
          "output_type": "execute_result",
          "data": {
            "text/plain": [
              "0    a\n",
              "1    b\n",
              "2    c\n",
              "3    d\n",
              "4    a\n",
              "5    b\n",
              "6    c\n",
              "7    d\n",
              "dtype: category\n",
              "Categories (4, object): [a, b, c, d]"
            ]
          },
          "metadata": {
            "tags": []
          },
          "execution_count": 48
        }
      ]
    },
    {
      "cell_type": "code",
      "metadata": {
        "id": "C623YUxHTuln",
        "colab_type": "code",
        "colab": {
          "base_uri": "https://localhost:8080/",
          "height": 179
        },
        "outputId": "5b828b56-8871-44e9-f900-4abc81b8cc5f"
      },
      "source": [
        "# cat 属性可以使用各种方法。\n",
        "\n",
        "cat_s.cat.codes"
      ],
      "execution_count": 49,
      "outputs": [
        {
          "output_type": "execute_result",
          "data": {
            "text/plain": [
              "0    0\n",
              "1    1\n",
              "2    2\n",
              "3    3\n",
              "4    0\n",
              "5    1\n",
              "6    2\n",
              "7    3\n",
              "dtype: int8"
            ]
          },
          "metadata": {
            "tags": []
          },
          "execution_count": 49
        }
      ]
    },
    {
      "cell_type": "code",
      "metadata": {
        "id": "ORUA5U0UTueS",
        "colab_type": "code",
        "colab": {
          "base_uri": "https://localhost:8080/",
          "height": 197
        },
        "outputId": "67804461-4d00-4f87-8994-59b74f8594da"
      },
      "source": [
        "cat_s.cat.as_ordered()"
      ],
      "execution_count": 50,
      "outputs": [
        {
          "output_type": "execute_result",
          "data": {
            "text/plain": [
              "0    a\n",
              "1    b\n",
              "2    c\n",
              "3    d\n",
              "4    a\n",
              "5    b\n",
              "6    c\n",
              "7    d\n",
              "dtype: category\n",
              "Categories (4, object): [a < b < c < d]"
            ]
          },
          "metadata": {
            "tags": []
          },
          "execution_count": 50
        }
      ]
    },
    {
      "cell_type": "code",
      "metadata": {
        "id": "HleqCb9HYvPv",
        "colab_type": "code",
        "colab": {
          "base_uri": "https://localhost:8080/",
          "height": 35
        },
        "outputId": "7127cd5e-9d7f-41d8-ef22-4028b46cd942"
      },
      "source": [
        "cat_s.cat.categories"
      ],
      "execution_count": 51,
      "outputs": [
        {
          "output_type": "execute_result",
          "data": {
            "text/plain": [
              "Index(['a', 'b', 'c', 'd'], dtype='object')"
            ]
          },
          "metadata": {
            "tags": []
          },
          "execution_count": 51
        }
      ]
    },
    {
      "cell_type": "code",
      "metadata": {
        "id": "Bb1E9A3HYvS2",
        "colab_type": "code",
        "colab": {
          "base_uri": "https://localhost:8080/",
          "height": 197
        },
        "outputId": "41016f1b-500b-4c00-b1f2-3a3ee6141e34"
      },
      "source": [
        "cat_s2 = cat_s.cat.add_categories(['e'])\n",
        "cat_s2"
      ],
      "execution_count": 52,
      "outputs": [
        {
          "output_type": "execute_result",
          "data": {
            "text/plain": [
              "0    a\n",
              "1    b\n",
              "2    c\n",
              "3    d\n",
              "4    a\n",
              "5    b\n",
              "6    c\n",
              "7    d\n",
              "dtype: category\n",
              "Categories (5, object): [a, b, c, d, e]"
            ]
          },
          "metadata": {
            "tags": []
          },
          "execution_count": 52
        }
      ]
    },
    {
      "cell_type": "code",
      "metadata": {
        "id": "AuQo0RhqYvVx",
        "colab_type": "code",
        "colab": {
          "base_uri": "https://localhost:8080/",
          "height": 125
        },
        "outputId": "7922fa6a-6b75-4553-ae89-b2be6977d307"
      },
      "source": [
        "cat_s2.value_counts()"
      ],
      "execution_count": 53,
      "outputs": [
        {
          "output_type": "execute_result",
          "data": {
            "text/plain": [
              "d    2\n",
              "c    2\n",
              "b    2\n",
              "a    2\n",
              "e    0\n",
              "dtype: int64"
            ]
          },
          "metadata": {
            "tags": []
          },
          "execution_count": 53
        }
      ]
    },
    {
      "cell_type": "code",
      "metadata": {
        "id": "7y_t71dQYvYW",
        "colab_type": "code",
        "colab": {
          "base_uri": "https://localhost:8080/",
          "height": 197
        },
        "outputId": "f4601d9d-38c7-4129-919c-1da4283e4113"
      },
      "source": [
        "cat_s2.cat.remove_unused_categories()"
      ],
      "execution_count": 54,
      "outputs": [
        {
          "output_type": "execute_result",
          "data": {
            "text/plain": [
              "0    a\n",
              "1    b\n",
              "2    c\n",
              "3    d\n",
              "4    a\n",
              "5    b\n",
              "6    c\n",
              "7    d\n",
              "dtype: category\n",
              "Categories (4, object): [a, b, c, d]"
            ]
          },
          "metadata": {
            "tags": []
          },
          "execution_count": 54
        }
      ]
    },
    {
      "cell_type": "code",
      "metadata": {
        "id": "qvnTm4NdYvbQ",
        "colab_type": "code",
        "colab": {
          "base_uri": "https://localhost:8080/",
          "height": 197
        },
        "outputId": "6a977af3-1fb8-4a0c-8ba9-e7b976ca6ccd"
      },
      "source": [
        "cat_s2.cat.remove_categories(['d'])"
      ],
      "execution_count": 55,
      "outputs": [
        {
          "output_type": "execute_result",
          "data": {
            "text/plain": [
              "0      a\n",
              "1      b\n",
              "2      c\n",
              "3    NaN\n",
              "4      a\n",
              "5      b\n",
              "6      c\n",
              "7    NaN\n",
              "dtype: category\n",
              "Categories (4, object): [a, b, c, e]"
            ]
          },
          "metadata": {
            "tags": []
          },
          "execution_count": 55
        }
      ]
    },
    {
      "cell_type": "code",
      "metadata": {
        "id": "97tIu1rmYveN",
        "colab_type": "code",
        "colab": {
          "base_uri": "https://localhost:8080/",
          "height": 197
        },
        "outputId": "f34d7946-cafc-495f-e2af-d5b8a915268d"
      },
      "source": [
        "# 哑变量。 get_dummies\n",
        "\n",
        "cat_s = pd.Series(['a','b','c','d']*2, dtype='category')\n",
        "cat_s"
      ],
      "execution_count": 56,
      "outputs": [
        {
          "output_type": "execute_result",
          "data": {
            "text/plain": [
              "0    a\n",
              "1    b\n",
              "2    c\n",
              "3    d\n",
              "4    a\n",
              "5    b\n",
              "6    c\n",
              "7    d\n",
              "dtype: category\n",
              "Categories (4, object): [a, b, c, d]"
            ]
          },
          "metadata": {
            "tags": []
          },
          "execution_count": 56
        }
      ]
    },
    {
      "cell_type": "code",
      "metadata": {
        "id": "7UISk63wZp2P",
        "colab_type": "code",
        "colab": {
          "base_uri": "https://localhost:8080/",
          "height": 297
        },
        "outputId": "1552610b-949b-404d-b91c-cc7cac301188"
      },
      "source": [
        "pd.get_dummies(cat_s) # 这样就将一个特征转换为了四个特征。"
      ],
      "execution_count": 57,
      "outputs": [
        {
          "output_type": "execute_result",
          "data": {
            "text/html": [
              "<div>\n",
              "<style scoped>\n",
              "    .dataframe tbody tr th:only-of-type {\n",
              "        vertical-align: middle;\n",
              "    }\n",
              "\n",
              "    .dataframe tbody tr th {\n",
              "        vertical-align: top;\n",
              "    }\n",
              "\n",
              "    .dataframe thead th {\n",
              "        text-align: right;\n",
              "    }\n",
              "</style>\n",
              "<table border=\"1\" class=\"dataframe\">\n",
              "  <thead>\n",
              "    <tr style=\"text-align: right;\">\n",
              "      <th></th>\n",
              "      <th>a</th>\n",
              "      <th>b</th>\n",
              "      <th>c</th>\n",
              "      <th>d</th>\n",
              "    </tr>\n",
              "  </thead>\n",
              "  <tbody>\n",
              "    <tr>\n",
              "      <th>0</th>\n",
              "      <td>1</td>\n",
              "      <td>0</td>\n",
              "      <td>0</td>\n",
              "      <td>0</td>\n",
              "    </tr>\n",
              "    <tr>\n",
              "      <th>1</th>\n",
              "      <td>0</td>\n",
              "      <td>1</td>\n",
              "      <td>0</td>\n",
              "      <td>0</td>\n",
              "    </tr>\n",
              "    <tr>\n",
              "      <th>2</th>\n",
              "      <td>0</td>\n",
              "      <td>0</td>\n",
              "      <td>1</td>\n",
              "      <td>0</td>\n",
              "    </tr>\n",
              "    <tr>\n",
              "      <th>3</th>\n",
              "      <td>0</td>\n",
              "      <td>0</td>\n",
              "      <td>0</td>\n",
              "      <td>1</td>\n",
              "    </tr>\n",
              "    <tr>\n",
              "      <th>4</th>\n",
              "      <td>1</td>\n",
              "      <td>0</td>\n",
              "      <td>0</td>\n",
              "      <td>0</td>\n",
              "    </tr>\n",
              "    <tr>\n",
              "      <th>5</th>\n",
              "      <td>0</td>\n",
              "      <td>1</td>\n",
              "      <td>0</td>\n",
              "      <td>0</td>\n",
              "    </tr>\n",
              "    <tr>\n",
              "      <th>6</th>\n",
              "      <td>0</td>\n",
              "      <td>0</td>\n",
              "      <td>1</td>\n",
              "      <td>0</td>\n",
              "    </tr>\n",
              "    <tr>\n",
              "      <th>7</th>\n",
              "      <td>0</td>\n",
              "      <td>0</td>\n",
              "      <td>0</td>\n",
              "      <td>1</td>\n",
              "    </tr>\n",
              "  </tbody>\n",
              "</table>\n",
              "</div>"
            ],
            "text/plain": [
              "   a  b  c  d\n",
              "0  1  0  0  0\n",
              "1  0  1  0  0\n",
              "2  0  0  1  0\n",
              "3  0  0  0  1\n",
              "4  1  0  0  0\n",
              "5  0  1  0  0\n",
              "6  0  0  1  0\n",
              "7  0  0  0  1"
            ]
          },
          "metadata": {
            "tags": []
          },
          "execution_count": 57
        }
      ]
    },
    {
      "cell_type": "markdown",
      "metadata": {
        "id": "6aMPxk86dj_Z",
        "colab_type": "text"
      },
      "source": [
        "## 12.2 Advanced GroupBy Use"
      ]
    },
    {
      "cell_type": "markdown",
      "metadata": {
        "id": "JbL0Smc6dkCY",
        "colab_type": "text"
      },
      "source": [
        "### Group Transforms and “Unwrapped” GroupBys"
      ]
    },
    {
      "cell_type": "markdown",
      "metadata": {
        "id": "24RxZzWWdkFQ",
        "colab_type": "text"
      },
      "source": [
        "### Grouped Time Resampling"
      ]
    },
    {
      "cell_type": "markdown",
      "metadata": {
        "id": "JfQ9MKmcdkH4",
        "colab_type": "text"
      },
      "source": [
        "## 12.3 Techniques for Method Chaining"
      ]
    },
    {
      "cell_type": "markdown",
      "metadata": {
        "id": "9qS60EAWdkKw",
        "colab_type": "text"
      },
      "source": [
        "### The pipe Method"
      ]
    },
    {
      "cell_type": "markdown",
      "metadata": {
        "id": "8b96gs2hdkNw",
        "colab_type": "text"
      },
      "source": [
        ""
      ]
    },
    {
      "cell_type": "markdown",
      "metadata": {
        "id": "LXX-ct-8dkRA",
        "colab_type": "text"
      },
      "source": [
        ""
      ]
    },
    {
      "cell_type": "markdown",
      "metadata": {
        "id": "bxPKztZjdkTw",
        "colab_type": "text"
      },
      "source": [
        ""
      ]
    },
    {
      "cell_type": "markdown",
      "metadata": {
        "id": "azIOq9VndkW4",
        "colab_type": "text"
      },
      "source": [
        ""
      ]
    },
    {
      "cell_type": "markdown",
      "metadata": {
        "id": "VmPM-FIydkZ4",
        "colab_type": "text"
      },
      "source": [
        ""
      ]
    },
    {
      "cell_type": "markdown",
      "metadata": {
        "id": "GNcTfb__dkdI",
        "colab_type": "text"
      },
      "source": [
        ""
      ]
    },
    {
      "cell_type": "markdown",
      "metadata": {
        "id": "l9G9ZmUIdkfo",
        "colab_type": "text"
      },
      "source": [
        ""
      ]
    },
    {
      "cell_type": "code",
      "metadata": {
        "id": "_Mn_0HJoda_4",
        "colab_type": "code",
        "colab": {}
      },
      "source": [
        ""
      ],
      "execution_count": null,
      "outputs": []
    }
  ]
}