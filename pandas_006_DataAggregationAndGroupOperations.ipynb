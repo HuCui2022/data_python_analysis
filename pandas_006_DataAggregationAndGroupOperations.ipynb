{
  "nbformat": 4,
  "nbformat_minor": 0,
  "metadata": {
    "colab": {
      "name": "pandas_006_DataAggregationAndGroupOperations.ipynb",
      "provenance": [],
      "collapsed_sections": [],
      "toc_visible": true,
      "authorship_tag": "ABX9TyOPz38VltgU9yb5XqhU8NdO",
      "include_colab_link": true
    },
    "kernelspec": {
      "name": "python3",
      "display_name": "Python 3"
    }
  },
  "cells": [
    {
      "cell_type": "markdown",
      "metadata": {
        "id": "view-in-github",
        "colab_type": "text"
      },
      "source": [
        "<a href=\"https://colab.research.google.com/github/smiledinisa/data_python_analysis/blob/master/pandas_006_DataAggregationAndGroupOperations.ipynb\" target=\"_parent\"><img src=\"https://colab.research.google.com/assets/colab-badge.svg\" alt=\"Open In Colab\"/></a>"
      ]
    },
    {
      "cell_type": "code",
      "metadata": {
        "id": "1DeqmUNem0Cp",
        "colab_type": "code",
        "colab": {
          "base_uri": "https://localhost:8080/",
          "height": 127
        },
        "outputId": "efa071ef-09cc-4b09-f29c-6c6af8188c7a"
      },
      "source": [
        "from google.colab import drive\n",
        "drive.mount('/content/drive/')"
      ],
      "execution_count": 1,
      "outputs": [
        {
          "output_type": "stream",
          "text": [
            "Go to this URL in a browser: https://accounts.google.com/o/oauth2/auth?client_id=947318989803-6bn6qk8qdgf4n4g3pfee6491hc0brc4i.apps.googleusercontent.com&redirect_uri=urn%3aietf%3awg%3aoauth%3a2.0%3aoob&scope=email%20https%3a%2f%2fwww.googleapis.com%2fauth%2fdocs.test%20https%3a%2f%2fwww.googleapis.com%2fauth%2fdrive%20https%3a%2f%2fwww.googleapis.com%2fauth%2fdrive.photos.readonly%20https%3a%2f%2fwww.googleapis.com%2fauth%2fpeopleapi.readonly&response_type=code\n",
            "\n",
            "Enter your authorization code:\n",
            "··········\n",
            "Mounted at /content/drive/\n"
          ],
          "name": "stdout"
        }
      ]
    },
    {
      "cell_type": "code",
      "metadata": {
        "id": "U_A0yjYEnhm4",
        "colab_type": "code",
        "colab": {
          "base_uri": "https://localhost:8080/",
          "height": 35
        },
        "outputId": "79262350-3e03-43a1-daec-3f6060200630"
      },
      "source": [
        "cd /content/drive/My Drive/examples"
      ],
      "execution_count": 2,
      "outputs": [
        {
          "output_type": "stream",
          "text": [
            "/content/drive/My Drive/examples\n"
          ],
          "name": "stdout"
        }
      ]
    },
    {
      "cell_type": "markdown",
      "metadata": {
        "id": "gwX3eiPTpBdi",
        "colab_type": "text"
      },
      "source": [
        "#CHAPTER 10 : Data Aggregation and Group Operations\n",
        "\n",
        "\n",
        "groupby interface\n",
        "\n",
        "\n",
        "In this chapter, we will learn how to:\n",
        "\n",
        "Split a pandas object into pieces using one or more keys.(in the form of functions,arrays, DataFrame column names)  \n",
        "对pandas对象进行split，用关键的key\n",
        "\n",
        "Calculate group summary statistics, like count, mean, or standard deviation, or auser-defined function   \n",
        "计算统计信息。\n",
        "\n",
        "\n",
        "Apply within-group transformations or other manipulations, like normalization,\n",
        "linear regression, rank, or subset selection  \n",
        "应用内置group 转换操作。\n",
        "\n",
        "Compute pivot tables and cross-tabulations  \n",
        "计算旋转与正交表格\n",
        "\n",
        "\n",
        "Perform quantile analysis and other statistical group analyses  \n",
        "计算分位数分析信息。\n",
        "\n",
        "\n",
        "\n"
      ]
    },
    {
      "cell_type": "markdown",
      "metadata": {
        "id": "S5tVy4-rpC1y",
        "colab_type": "text"
      },
      "source": [
        "## 10.1 GroupBy Mechanics\n",
        "\n",
        "\n",
        "---\n",
        "模型的GROUP ： split, apply, conbine.三部曲。\n",
        "\n",
        "\n",
        "![链接文字](https://img-blog.csdnimg.cn/20200818174500445.png?x-oss-process=image/watermark,type_ZmFuZ3poZW5naGVpdGk,shadow_10,text_aHR0cHM6Ly9ibG9nLmNzZG4ubmV0L2dhb2N1aTg4Mw==,size_16,color_FFFFFF,t_70#pic_center)\n",
        "\n",
        "\n",
        "- A list or array of values that is the same length as the axis being grouped\n",
        "\n",
        "\n",
        "- A value indicating a column name in a DataFrame  \n",
        "\n",
        "\n",
        "- A dict or Series giving a correspondence between the values on the axis being\n",
        "grouped and the group names  \n",
        "\n",
        "- A function to be invoked on the axis index or the individual labels in the index\n",
        "\n"
      ]
    },
    {
      "cell_type": "code",
      "metadata": {
        "id": "oDaA04SE6DqY",
        "colab_type": "code",
        "colab": {}
      },
      "source": [
        "# 看起来很抽象是吧，不用担心，慢慢往下看就可以了。\n",
        "\n",
        "# 关键词： groupby and method:size\n",
        "\n",
        "from pandas import DataFrame as DataFrame\n",
        "from pandas import Series as Series \n",
        "import numpy as np\n",
        "import pandas as pd\n"
      ],
      "execution_count": 3,
      "outputs": []
    },
    {
      "cell_type": "code",
      "metadata": {
        "id": "owcx2-Xe6DtM",
        "colab_type": "code",
        "colab": {
          "base_uri": "https://localhost:8080/",
          "height": 204
        },
        "outputId": "6ffdfd98-7714-4c21-d655-367f55e067cd"
      },
      "source": [
        "df = DataFrame({\n",
        "    'key1':['a','a','b','b','a'],\n",
        "    'key2' : ['one', 'two', 'one', 'two', 'one'],\n",
        "    'data1' : np.random.randn(5),\n",
        "    'data2' : np.random.randn(5)\n",
        "})\n",
        "\n",
        "df"
      ],
      "execution_count": 6,
      "outputs": [
        {
          "output_type": "execute_result",
          "data": {
            "text/html": [
              "<div>\n",
              "<style scoped>\n",
              "    .dataframe tbody tr th:only-of-type {\n",
              "        vertical-align: middle;\n",
              "    }\n",
              "\n",
              "    .dataframe tbody tr th {\n",
              "        vertical-align: top;\n",
              "    }\n",
              "\n",
              "    .dataframe thead th {\n",
              "        text-align: right;\n",
              "    }\n",
              "</style>\n",
              "<table border=\"1\" class=\"dataframe\">\n",
              "  <thead>\n",
              "    <tr style=\"text-align: right;\">\n",
              "      <th></th>\n",
              "      <th>key1</th>\n",
              "      <th>key2</th>\n",
              "      <th>data1</th>\n",
              "      <th>data2</th>\n",
              "    </tr>\n",
              "  </thead>\n",
              "  <tbody>\n",
              "    <tr>\n",
              "      <th>0</th>\n",
              "      <td>a</td>\n",
              "      <td>one</td>\n",
              "      <td>0.630660</td>\n",
              "      <td>-2.027697</td>\n",
              "    </tr>\n",
              "    <tr>\n",
              "      <th>1</th>\n",
              "      <td>a</td>\n",
              "      <td>two</td>\n",
              "      <td>0.339220</td>\n",
              "      <td>-0.150802</td>\n",
              "    </tr>\n",
              "    <tr>\n",
              "      <th>2</th>\n",
              "      <td>b</td>\n",
              "      <td>one</td>\n",
              "      <td>-0.959031</td>\n",
              "      <td>-0.180650</td>\n",
              "    </tr>\n",
              "    <tr>\n",
              "      <th>3</th>\n",
              "      <td>b</td>\n",
              "      <td>two</td>\n",
              "      <td>-0.288006</td>\n",
              "      <td>-0.436780</td>\n",
              "    </tr>\n",
              "    <tr>\n",
              "      <th>4</th>\n",
              "      <td>a</td>\n",
              "      <td>one</td>\n",
              "      <td>-0.036959</td>\n",
              "      <td>-0.890916</td>\n",
              "    </tr>\n",
              "  </tbody>\n",
              "</table>\n",
              "</div>"
            ],
            "text/plain": [
              "  key1 key2     data1     data2\n",
              "0    a  one  0.630660 -2.027697\n",
              "1    a  two  0.339220 -0.150802\n",
              "2    b  one -0.959031 -0.180650\n",
              "3    b  two -0.288006 -0.436780\n",
              "4    a  one -0.036959 -0.890916"
            ]
          },
          "metadata": {
            "tags": []
          },
          "execution_count": 6
        }
      ]
    },
    {
      "cell_type": "code",
      "metadata": {
        "id": "r3e4N-2R6Dv4",
        "colab_type": "code",
        "colab": {
          "base_uri": "https://localhost:8080/",
          "height": 35
        },
        "outputId": "a6ce23df-47e2-41ad-db02-deb4c58ff117"
      },
      "source": [
        "# we want to compute the mean of the data1 column using the labels from the key1.\n",
        "\n",
        "grouped = df['data1'].groupby(df['key1']) \n",
        "grouped"
      ],
      "execution_count": 9,
      "outputs": [
        {
          "output_type": "execute_result",
          "data": {
            "text/plain": [
              "<pandas.core.groupby.generic.SeriesGroupBy object at 0x7f900133fdd8>"
            ]
          },
          "metadata": {
            "tags": []
          },
          "execution_count": 9
        }
      ]
    },
    {
      "cell_type": "code",
      "metadata": {
        "id": "1wFlvQOTSf4k",
        "colab_type": "code",
        "colab": {
          "base_uri": "https://localhost:8080/",
          "height": 89
        },
        "outputId": "bc7add2c-548a-449c-f592-8484f9ef2bf3"
      },
      "source": [
        "# 可以看出，grouped 是一个groupby object。\n",
        "\n",
        "grouped.mean()"
      ],
      "execution_count": 10,
      "outputs": [
        {
          "output_type": "execute_result",
          "data": {
            "text/plain": [
              "key1\n",
              "a    0.310974\n",
              "b   -0.623518\n",
              "Name: data1, dtype: float64"
            ]
          },
          "metadata": {
            "tags": []
          },
          "execution_count": 10
        }
      ]
    },
    {
      "cell_type": "code",
      "metadata": {
        "id": "jF5A0Iw1Sf7h",
        "colab_type": "code",
        "colab": {
          "base_uri": "https://localhost:8080/",
          "height": 125
        },
        "outputId": "4467d005-0eaf-41ab-ee26-083f6500794d"
      },
      "source": [
        "# if group by key1 & key2 ???\n",
        "\n",
        "df['data1'].groupby([df['key1'],df['key2']]).mean()"
      ],
      "execution_count": 12,
      "outputs": [
        {
          "output_type": "execute_result",
          "data": {
            "text/plain": [
              "key1  key2\n",
              "a     one     0.296851\n",
              "      two     0.339220\n",
              "b     one    -0.959031\n",
              "      two    -0.288006\n",
              "Name: data1, dtype: float64"
            ]
          },
          "metadata": {
            "tags": []
          },
          "execution_count": 12
        }
      ]
    },
    {
      "cell_type": "code",
      "metadata": {
        "id": "CpO6Jr9nSf-i",
        "colab_type": "code",
        "colab": {
          "base_uri": "https://localhost:8080/",
          "height": 204
        },
        "outputId": "41c104c3-9324-4249-dece-5348f0a6f7f6"
      },
      "source": [
        "# df not only data1 ???\n",
        "\n",
        "df.groupby([df['key1'],df['key2']]).mean()"
      ],
      "execution_count": 13,
      "outputs": [
        {
          "output_type": "execute_result",
          "data": {
            "text/html": [
              "<div>\n",
              "<style scoped>\n",
              "    .dataframe tbody tr th:only-of-type {\n",
              "        vertical-align: middle;\n",
              "    }\n",
              "\n",
              "    .dataframe tbody tr th {\n",
              "        vertical-align: top;\n",
              "    }\n",
              "\n",
              "    .dataframe thead th {\n",
              "        text-align: right;\n",
              "    }\n",
              "</style>\n",
              "<table border=\"1\" class=\"dataframe\">\n",
              "  <thead>\n",
              "    <tr style=\"text-align: right;\">\n",
              "      <th></th>\n",
              "      <th></th>\n",
              "      <th>data1</th>\n",
              "      <th>data2</th>\n",
              "    </tr>\n",
              "    <tr>\n",
              "      <th>key1</th>\n",
              "      <th>key2</th>\n",
              "      <th></th>\n",
              "      <th></th>\n",
              "    </tr>\n",
              "  </thead>\n",
              "  <tbody>\n",
              "    <tr>\n",
              "      <th rowspan=\"2\" valign=\"top\">a</th>\n",
              "      <th>one</th>\n",
              "      <td>0.296851</td>\n",
              "      <td>-1.459306</td>\n",
              "    </tr>\n",
              "    <tr>\n",
              "      <th>two</th>\n",
              "      <td>0.339220</td>\n",
              "      <td>-0.150802</td>\n",
              "    </tr>\n",
              "    <tr>\n",
              "      <th rowspan=\"2\" valign=\"top\">b</th>\n",
              "      <th>one</th>\n",
              "      <td>-0.959031</td>\n",
              "      <td>-0.180650</td>\n",
              "    </tr>\n",
              "    <tr>\n",
              "      <th>two</th>\n",
              "      <td>-0.288006</td>\n",
              "      <td>-0.436780</td>\n",
              "    </tr>\n",
              "  </tbody>\n",
              "</table>\n",
              "</div>"
            ],
            "text/plain": [
              "              data1     data2\n",
              "key1 key2                    \n",
              "a    one   0.296851 -1.459306\n",
              "     two   0.339220 -0.150802\n",
              "b    one  -0.959031 -0.180650\n",
              "     two  -0.288006 -0.436780"
            ]
          },
          "metadata": {
            "tags": []
          },
          "execution_count": 13
        }
      ]
    },
    {
      "cell_type": "code",
      "metadata": {
        "id": "33B51883SgCN",
        "colab_type": "code",
        "colab": {
          "base_uri": "https://localhost:8080/",
          "height": 107
        },
        "outputId": "d9418c11-a7ea-40cf-bd7d-39152e308d8c"
      },
      "source": [
        "# if we pass array\n",
        "\n",
        "\n",
        "states = np.array(['Ohio', 'California', 'California', 'Ohio', 'Ohio'])\n",
        "years = np.array([2005, 2005, 2006, 2005, 2006])\n",
        "\n",
        "x = df['data1'].groupby([states,years]).mean()\n",
        "x"
      ],
      "execution_count": 15,
      "outputs": [
        {
          "output_type": "execute_result",
          "data": {
            "text/plain": [
              "California  2005    0.339220\n",
              "            2006   -0.959031\n",
              "Ohio        2005    0.171327\n",
              "            2006   -0.036959\n",
              "Name: data1, dtype: float64"
            ]
          },
          "metadata": {
            "tags": []
          },
          "execution_count": 15
        }
      ]
    },
    {
      "cell_type": "code",
      "metadata": {
        "id": "AN0mzJmF6Dy0",
        "colab_type": "code",
        "colab": {
          "base_uri": "https://localhost:8080/",
          "height": 111
        },
        "outputId": "8102b2e9-9ac0-43bc-c4b8-f1083c1ebd17"
      },
      "source": [
        "# 可以看出，传入array就是相当于新建了两个coloumns。\n",
        "x.unstack()\n"
      ],
      "execution_count": 16,
      "outputs": [
        {
          "output_type": "execute_result",
          "data": {
            "text/html": [
              "<div>\n",
              "<style scoped>\n",
              "    .dataframe tbody tr th:only-of-type {\n",
              "        vertical-align: middle;\n",
              "    }\n",
              "\n",
              "    .dataframe tbody tr th {\n",
              "        vertical-align: top;\n",
              "    }\n",
              "\n",
              "    .dataframe thead th {\n",
              "        text-align: right;\n",
              "    }\n",
              "</style>\n",
              "<table border=\"1\" class=\"dataframe\">\n",
              "  <thead>\n",
              "    <tr style=\"text-align: right;\">\n",
              "      <th></th>\n",
              "      <th>2005</th>\n",
              "      <th>2006</th>\n",
              "    </tr>\n",
              "  </thead>\n",
              "  <tbody>\n",
              "    <tr>\n",
              "      <th>California</th>\n",
              "      <td>0.339220</td>\n",
              "      <td>-0.959031</td>\n",
              "    </tr>\n",
              "    <tr>\n",
              "      <th>Ohio</th>\n",
              "      <td>0.171327</td>\n",
              "      <td>-0.036959</td>\n",
              "    </tr>\n",
              "  </tbody>\n",
              "</table>\n",
              "</div>"
            ],
            "text/plain": [
              "                2005      2006\n",
              "California  0.339220 -0.959031\n",
              "Ohio        0.171327 -0.036959"
            ]
          },
          "metadata": {
            "tags": []
          },
          "execution_count": 16
        }
      ]
    },
    {
      "cell_type": "code",
      "metadata": {
        "id": "04Dx8kdnUs8R",
        "colab_type": "code",
        "colab": {
          "base_uri": "https://localhost:8080/",
          "height": 125
        },
        "outputId": "535c3fbe-d0a5-4dc0-fa3d-9450d3540b03"
      },
      "source": [
        "df.groupby(['key1','key2']).size()  # 统计key1，key2 groupby的元素个数信息。"
      ],
      "execution_count": 20,
      "outputs": [
        {
          "output_type": "execute_result",
          "data": {
            "text/plain": [
              "key1  key2\n",
              "a     one     2\n",
              "      two     1\n",
              "b     one     1\n",
              "      two     1\n",
              "dtype: int64"
            ]
          },
          "metadata": {
            "tags": []
          },
          "execution_count": 20
        }
      ]
    },
    {
      "cell_type": "markdown",
      "metadata": {
        "id": "fX66NxSfpC5C",
        "colab_type": "text"
      },
      "source": [
        "### Iterating Over Groups"
      ]
    },
    {
      "cell_type": "code",
      "metadata": {
        "id": "FevcJXPNUtB3",
        "colab_type": "code",
        "colab": {
          "base_uri": "https://localhost:8080/",
          "height": 179
        },
        "outputId": "15e01bd7-0207-49ed-c73b-038509c23912"
      },
      "source": [
        "# Groupby object : 支持iteration， generating a sequence of 2-tuples containing the group name along with the chunk of data.\n",
        "\n",
        "for name, group in df.groupby(['key1']):\n",
        "  print(name)\n",
        "  print(group)"
      ],
      "execution_count": 21,
      "outputs": [
        {
          "output_type": "stream",
          "text": [
            "a\n",
            "  key1 key2     data1     data2\n",
            "0    a  one  0.630660 -2.027697\n",
            "1    a  two  0.339220 -0.150802\n",
            "4    a  one -0.036959 -0.890916\n",
            "b\n",
            "  key1 key2     data1    data2\n",
            "2    b  one -0.959031 -0.18065\n",
            "3    b  two -0.288006 -0.43678\n"
          ],
          "name": "stdout"
        }
      ]
    },
    {
      "cell_type": "code",
      "metadata": {
        "id": "ujeWmQilUtFI",
        "colab_type": "code",
        "colab": {
          "base_uri": "https://localhost:8080/",
          "height": 251
        },
        "outputId": "35050218-0652-4213-b17a-7cfdc1639732"
      },
      "source": [
        "# 如果是多个key\n",
        "\n",
        "for (k1,k2), group in df.groupby(['key1','key2']):\n",
        "  print((k1,k2))\n",
        "  print(group)"
      ],
      "execution_count": 23,
      "outputs": [
        {
          "output_type": "stream",
          "text": [
            "('a', 'one')\n",
            "  key1 key2     data1     data2\n",
            "0    a  one  0.630660 -2.027697\n",
            "4    a  one -0.036959 -0.890916\n",
            "('a', 'two')\n",
            "  key1 key2    data1     data2\n",
            "1    a  two  0.33922 -0.150802\n",
            "('b', 'one')\n",
            "  key1 key2     data1    data2\n",
            "2    b  one -0.959031 -0.18065\n",
            "('b', 'two')\n",
            "  key1 key2     data1    data2\n",
            "3    b  two -0.288006 -0.43678\n"
          ],
          "name": "stdout"
        }
      ]
    },
    {
      "cell_type": "code",
      "metadata": {
        "id": "l5X5lzAnUtIY",
        "colab_type": "code",
        "colab": {
          "base_uri": "https://localhost:8080/",
          "height": 143
        },
        "outputId": "199683fd-7904-41b1-d89f-f372661b3e9c"
      },
      "source": [
        "# iteration 特点的对象可以转换为list和dic对象。这样用key来访问即可。\n",
        "pieces = dict(list(df.groupby('key1')))\n",
        "print(pieces['a'])\n",
        "print(pieces['b'])"
      ],
      "execution_count": 26,
      "outputs": [
        {
          "output_type": "stream",
          "text": [
            "  key1 key2     data1     data2\n",
            "0    a  one  0.630660 -2.027697\n",
            "1    a  two  0.339220 -0.150802\n",
            "4    a  one -0.036959 -0.890916\n",
            "  key1 key2     data1    data2\n",
            "2    b  one -0.959031 -0.18065\n",
            "3    b  two -0.288006 -0.43678\n"
          ],
          "name": "stdout"
        }
      ]
    },
    {
      "cell_type": "code",
      "metadata": {
        "id": "db9GWtM2bZTc",
        "colab_type": "code",
        "colab": {
          "base_uri": "https://localhost:8080/",
          "height": 269
        },
        "outputId": "09d14073-357e-4963-f34f-891fcbdd6b7d"
      },
      "source": [
        "# groupby 默认是按 axis=0 来进行的。\n",
        "# 但如果我们要按列的特点进行groupby???\n",
        "\n",
        "grouped = df.groupby(df.dtypes, axis=1)\n",
        "for dtype, group in grouped:\n",
        "  print(dtype)\n",
        "  print(group)"
      ],
      "execution_count": 27,
      "outputs": [
        {
          "output_type": "stream",
          "text": [
            "float64\n",
            "      data1     data2\n",
            "0  0.630660 -2.027697\n",
            "1  0.339220 -0.150802\n",
            "2 -0.959031 -0.180650\n",
            "3 -0.288006 -0.436780\n",
            "4 -0.036959 -0.890916\n",
            "object\n",
            "  key1 key2\n",
            "0    a  one\n",
            "1    a  two\n",
            "2    b  one\n",
            "3    b  two\n",
            "4    a  one\n"
          ],
          "name": "stdout"
        }
      ]
    },
    {
      "cell_type": "markdown",
      "metadata": {
        "id": "YZjmF_kwpC8K",
        "colab_type": "text"
      },
      "source": [
        "### Selecting a Column or Subset of Columns"
      ]
    },
    {
      "cell_type": "code",
      "metadata": {
        "id": "Bw8029RKcbLu",
        "colab_type": "code",
        "colab": {}
      },
      "source": [
        "# 用groupby对象的列名或者列名的列表，来访问和统计局部数据将非常方便。"
      ],
      "execution_count": null,
      "outputs": []
    },
    {
      "cell_type": "code",
      "metadata": {
        "id": "0v2k_xiEcbOs",
        "colab_type": "code",
        "colab": {
          "base_uri": "https://localhost:8080/",
          "height": 35
        },
        "outputId": "5566ccd5-e65c-4e0b-f9e5-3cd19aa33e6b"
      },
      "source": [
        "df.groupby('key1')['data1']"
      ],
      "execution_count": 28,
      "outputs": [
        {
          "output_type": "execute_result",
          "data": {
            "text/plain": [
              "<pandas.core.groupby.generic.SeriesGroupBy object at 0x7f9000e956a0>"
            ]
          },
          "metadata": {
            "tags": []
          },
          "execution_count": 28
        }
      ]
    },
    {
      "cell_type": "code",
      "metadata": {
        "id": "LXVFbw6zcbR0",
        "colab_type": "code",
        "colab": {
          "base_uri": "https://localhost:8080/",
          "height": 35
        },
        "outputId": "199772f3-99c2-4b58-92de-785961c9dbeb"
      },
      "source": [
        "df.groupby('key1')[['data1']]"
      ],
      "execution_count": 29,
      "outputs": [
        {
          "output_type": "execute_result",
          "data": {
            "text/plain": [
              "<pandas.core.groupby.generic.DataFrameGroupBy object at 0x7f9000e9acf8>"
            ]
          },
          "metadata": {
            "tags": []
          },
          "execution_count": 29
        }
      ]
    },
    {
      "cell_type": "code",
      "metadata": {
        "id": "k6rwIHIscbVb",
        "colab_type": "code",
        "colab": {}
      },
      "source": [
        "# 可以看出，如果是单个的列名，则返回一个SeriesGroupby.\n",
        "# 如果是一个列名的列表，则返回一个DataFrameGroupby对象。\n",
        "\n",
        "# 效果跟：\n",
        "# df['data1'].groupby(df['key1'])\n",
        "# df[['data1']].groupby(df['key1'])\n",
        "# 一样的。？"
      ],
      "execution_count": 30,
      "outputs": []
    },
    {
      "cell_type": "code",
      "metadata": {
        "id": "SROdfJpocbYW",
        "colab_type": "code",
        "colab": {
          "base_uri": "https://localhost:8080/",
          "height": 204
        },
        "outputId": "e8a17971-9c9d-4848-8e8b-69ebe3bbce07"
      },
      "source": [
        "df.groupby(['key1','key2'])[['data2']].mean() # return DataFrame."
      ],
      "execution_count": 31,
      "outputs": [
        {
          "output_type": "execute_result",
          "data": {
            "text/html": [
              "<div>\n",
              "<style scoped>\n",
              "    .dataframe tbody tr th:only-of-type {\n",
              "        vertical-align: middle;\n",
              "    }\n",
              "\n",
              "    .dataframe tbody tr th {\n",
              "        vertical-align: top;\n",
              "    }\n",
              "\n",
              "    .dataframe thead th {\n",
              "        text-align: right;\n",
              "    }\n",
              "</style>\n",
              "<table border=\"1\" class=\"dataframe\">\n",
              "  <thead>\n",
              "    <tr style=\"text-align: right;\">\n",
              "      <th></th>\n",
              "      <th></th>\n",
              "      <th>data2</th>\n",
              "    </tr>\n",
              "    <tr>\n",
              "      <th>key1</th>\n",
              "      <th>key2</th>\n",
              "      <th></th>\n",
              "    </tr>\n",
              "  </thead>\n",
              "  <tbody>\n",
              "    <tr>\n",
              "      <th rowspan=\"2\" valign=\"top\">a</th>\n",
              "      <th>one</th>\n",
              "      <td>-1.459306</td>\n",
              "    </tr>\n",
              "    <tr>\n",
              "      <th>two</th>\n",
              "      <td>-0.150802</td>\n",
              "    </tr>\n",
              "    <tr>\n",
              "      <th rowspan=\"2\" valign=\"top\">b</th>\n",
              "      <th>one</th>\n",
              "      <td>-0.180650</td>\n",
              "    </tr>\n",
              "    <tr>\n",
              "      <th>two</th>\n",
              "      <td>-0.436780</td>\n",
              "    </tr>\n",
              "  </tbody>\n",
              "</table>\n",
              "</div>"
            ],
            "text/plain": [
              "              data2\n",
              "key1 key2          \n",
              "a    one  -1.459306\n",
              "     two  -0.150802\n",
              "b    one  -0.180650\n",
              "     two  -0.436780"
            ]
          },
          "metadata": {
            "tags": []
          },
          "execution_count": 31
        }
      ]
    },
    {
      "cell_type": "code",
      "metadata": {
        "id": "QSG4Hv7ygVzI",
        "colab_type": "code",
        "colab": {
          "base_uri": "https://localhost:8080/",
          "height": 125
        },
        "outputId": "05c149d1-2a4e-4ecd-b589-be7ccca63e18"
      },
      "source": [
        "df.groupby(['key1','key2'])['data2'].mean()  # only a Series."
      ],
      "execution_count": 32,
      "outputs": [
        {
          "output_type": "execute_result",
          "data": {
            "text/plain": [
              "key1  key2\n",
              "a     one    -1.459306\n",
              "      two    -0.150802\n",
              "b     one    -0.180650\n",
              "      two    -0.436780\n",
              "Name: data2, dtype: float64"
            ]
          },
          "metadata": {
            "tags": []
          },
          "execution_count": 32
        }
      ]
    },
    {
      "cell_type": "markdown",
      "metadata": {
        "id": "L9fNEX0ipC_a",
        "colab_type": "text"
      },
      "source": [
        "### Grouping with Dicts and Series\n"
      ]
    },
    {
      "cell_type": "code",
      "metadata": {
        "id": "z-81e2FegUvq",
        "colab_type": "code",
        "colab": {
          "base_uri": "https://localhost:8080/",
          "height": 204
        },
        "outputId": "a855f9b2-2170-4d69-ac39-65250f400a44"
      },
      "source": [
        "# 用字典和series来传入\n",
        "\n",
        "people = DataFrame(np.random.randn(5,5), columns=['a','b','c','d','e'], index=['Joe', 'Steve', 'Wes', 'Jim', 'Travis'])\n",
        "people.iloc[2:3, [1,2]] = np.nan\n",
        "people"
      ],
      "execution_count": 33,
      "outputs": [
        {
          "output_type": "execute_result",
          "data": {
            "text/html": [
              "<div>\n",
              "<style scoped>\n",
              "    .dataframe tbody tr th:only-of-type {\n",
              "        vertical-align: middle;\n",
              "    }\n",
              "\n",
              "    .dataframe tbody tr th {\n",
              "        vertical-align: top;\n",
              "    }\n",
              "\n",
              "    .dataframe thead th {\n",
              "        text-align: right;\n",
              "    }\n",
              "</style>\n",
              "<table border=\"1\" class=\"dataframe\">\n",
              "  <thead>\n",
              "    <tr style=\"text-align: right;\">\n",
              "      <th></th>\n",
              "      <th>a</th>\n",
              "      <th>b</th>\n",
              "      <th>c</th>\n",
              "      <th>d</th>\n",
              "      <th>e</th>\n",
              "    </tr>\n",
              "  </thead>\n",
              "  <tbody>\n",
              "    <tr>\n",
              "      <th>Joe</th>\n",
              "      <td>-0.465804</td>\n",
              "      <td>0.773071</td>\n",
              "      <td>-0.440803</td>\n",
              "      <td>0.393922</td>\n",
              "      <td>0.674543</td>\n",
              "    </tr>\n",
              "    <tr>\n",
              "      <th>Steve</th>\n",
              "      <td>-1.455166</td>\n",
              "      <td>-1.089501</td>\n",
              "      <td>1.125910</td>\n",
              "      <td>0.568999</td>\n",
              "      <td>-0.799203</td>\n",
              "    </tr>\n",
              "    <tr>\n",
              "      <th>Wes</th>\n",
              "      <td>-0.862717</td>\n",
              "      <td>NaN</td>\n",
              "      <td>NaN</td>\n",
              "      <td>-1.514971</td>\n",
              "      <td>2.063249</td>\n",
              "    </tr>\n",
              "    <tr>\n",
              "      <th>Jim</th>\n",
              "      <td>-1.377478</td>\n",
              "      <td>0.201512</td>\n",
              "      <td>-2.354783</td>\n",
              "      <td>-0.415470</td>\n",
              "      <td>0.780181</td>\n",
              "    </tr>\n",
              "    <tr>\n",
              "      <th>Travis</th>\n",
              "      <td>-0.071163</td>\n",
              "      <td>1.016896</td>\n",
              "      <td>0.447399</td>\n",
              "      <td>1.672246</td>\n",
              "      <td>0.883602</td>\n",
              "    </tr>\n",
              "  </tbody>\n",
              "</table>\n",
              "</div>"
            ],
            "text/plain": [
              "               a         b         c         d         e\n",
              "Joe    -0.465804  0.773071 -0.440803  0.393922  0.674543\n",
              "Steve  -1.455166 -1.089501  1.125910  0.568999 -0.799203\n",
              "Wes    -0.862717       NaN       NaN -1.514971  2.063249\n",
              "Jim    -1.377478  0.201512 -2.354783 -0.415470  0.780181\n",
              "Travis -0.071163  1.016896  0.447399  1.672246  0.883602"
            ]
          },
          "metadata": {
            "tags": []
          },
          "execution_count": 33
        }
      ]
    },
    {
      "cell_type": "code",
      "metadata": {
        "id": "yrWvQy_QmZ-O",
        "colab_type": "code",
        "colab": {}
      },
      "source": [
        "mapping = {'a': 'red', 'b': 'red', 'c': 'blue','d': 'blue', 'e': 'red', 'f' : 'orange'}"
      ],
      "execution_count": 36,
      "outputs": []
    },
    {
      "cell_type": "code",
      "metadata": {
        "id": "KXtJbdNamaey",
        "colab_type": "code",
        "colab": {
          "base_uri": "https://localhost:8080/",
          "height": 143
        },
        "outputId": "6b38f1c8-28a7-44fd-d737-20cb7b73a799"
      },
      "source": [
        "map_series = Series(mapping)\n",
        "map_series"
      ],
      "execution_count": 38,
      "outputs": [
        {
          "output_type": "execute_result",
          "data": {
            "text/plain": [
              "a       red\n",
              "b       red\n",
              "c      blue\n",
              "d      blue\n",
              "e       red\n",
              "f    orange\n",
              "dtype: object"
            ]
          },
          "metadata": {
            "tags": []
          },
          "execution_count": 38
        }
      ]
    },
    {
      "cell_type": "code",
      "metadata": {
        "id": "KwMbpAGlmahw",
        "colab_type": "code",
        "colab": {
          "base_uri": "https://localhost:8080/",
          "height": 204
        },
        "outputId": "6ce278f7-5229-4dcc-be53-d42ea73e7241"
      },
      "source": [
        "# 用字典来groupby \n",
        "by_column = people.groupby(mapping, axis=1)\n",
        "by_column.sum()\n",
        "\n"
      ],
      "execution_count": 39,
      "outputs": [
        {
          "output_type": "execute_result",
          "data": {
            "text/html": [
              "<div>\n",
              "<style scoped>\n",
              "    .dataframe tbody tr th:only-of-type {\n",
              "        vertical-align: middle;\n",
              "    }\n",
              "\n",
              "    .dataframe tbody tr th {\n",
              "        vertical-align: top;\n",
              "    }\n",
              "\n",
              "    .dataframe thead th {\n",
              "        text-align: right;\n",
              "    }\n",
              "</style>\n",
              "<table border=\"1\" class=\"dataframe\">\n",
              "  <thead>\n",
              "    <tr style=\"text-align: right;\">\n",
              "      <th></th>\n",
              "      <th>blue</th>\n",
              "      <th>red</th>\n",
              "    </tr>\n",
              "  </thead>\n",
              "  <tbody>\n",
              "    <tr>\n",
              "      <th>Joe</th>\n",
              "      <td>-0.046881</td>\n",
              "      <td>0.981811</td>\n",
              "    </tr>\n",
              "    <tr>\n",
              "      <th>Steve</th>\n",
              "      <td>1.694909</td>\n",
              "      <td>-3.343870</td>\n",
              "    </tr>\n",
              "    <tr>\n",
              "      <th>Wes</th>\n",
              "      <td>-1.514971</td>\n",
              "      <td>1.200532</td>\n",
              "    </tr>\n",
              "    <tr>\n",
              "      <th>Jim</th>\n",
              "      <td>-2.770253</td>\n",
              "      <td>-0.395785</td>\n",
              "    </tr>\n",
              "    <tr>\n",
              "      <th>Travis</th>\n",
              "      <td>2.119646</td>\n",
              "      <td>1.829335</td>\n",
              "    </tr>\n",
              "  </tbody>\n",
              "</table>\n",
              "</div>"
            ],
            "text/plain": [
              "            blue       red\n",
              "Joe    -0.046881  0.981811\n",
              "Steve   1.694909 -3.343870\n",
              "Wes    -1.514971  1.200532\n",
              "Jim    -2.770253 -0.395785\n",
              "Travis  2.119646  1.829335"
            ]
          },
          "metadata": {
            "tags": []
          },
          "execution_count": 39
        }
      ]
    },
    {
      "cell_type": "code",
      "metadata": {
        "id": "kqL520Ifm7fz",
        "colab_type": "code",
        "colab": {
          "base_uri": "https://localhost:8080/",
          "height": 204
        },
        "outputId": "160d292f-fdc2-42b9-b496-584153a0373d"
      },
      "source": [
        "series_column = people.groupby(map_series, axis=1).sum()\n",
        "series_column"
      ],
      "execution_count": 42,
      "outputs": [
        {
          "output_type": "execute_result",
          "data": {
            "text/html": [
              "<div>\n",
              "<style scoped>\n",
              "    .dataframe tbody tr th:only-of-type {\n",
              "        vertical-align: middle;\n",
              "    }\n",
              "\n",
              "    .dataframe tbody tr th {\n",
              "        vertical-align: top;\n",
              "    }\n",
              "\n",
              "    .dataframe thead th {\n",
              "        text-align: right;\n",
              "    }\n",
              "</style>\n",
              "<table border=\"1\" class=\"dataframe\">\n",
              "  <thead>\n",
              "    <tr style=\"text-align: right;\">\n",
              "      <th></th>\n",
              "      <th>blue</th>\n",
              "      <th>red</th>\n",
              "    </tr>\n",
              "  </thead>\n",
              "  <tbody>\n",
              "    <tr>\n",
              "      <th>Joe</th>\n",
              "      <td>-0.046881</td>\n",
              "      <td>0.981811</td>\n",
              "    </tr>\n",
              "    <tr>\n",
              "      <th>Steve</th>\n",
              "      <td>1.694909</td>\n",
              "      <td>-3.343870</td>\n",
              "    </tr>\n",
              "    <tr>\n",
              "      <th>Wes</th>\n",
              "      <td>-1.514971</td>\n",
              "      <td>1.200532</td>\n",
              "    </tr>\n",
              "    <tr>\n",
              "      <th>Jim</th>\n",
              "      <td>-2.770253</td>\n",
              "      <td>-0.395785</td>\n",
              "    </tr>\n",
              "    <tr>\n",
              "      <th>Travis</th>\n",
              "      <td>2.119646</td>\n",
              "      <td>1.829335</td>\n",
              "    </tr>\n",
              "  </tbody>\n",
              "</table>\n",
              "</div>"
            ],
            "text/plain": [
              "            blue       red\n",
              "Joe    -0.046881  0.981811\n",
              "Steve   1.694909 -3.343870\n",
              "Wes    -1.514971  1.200532\n",
              "Jim    -2.770253 -0.395785\n",
              "Travis  2.119646  1.829335"
            ]
          },
          "metadata": {
            "tags": []
          },
          "execution_count": 42
        }
      ]
    },
    {
      "cell_type": "markdown",
      "metadata": {
        "id": "X3Uf4juhpDCi",
        "colab_type": "text"
      },
      "source": [
        "### Grouping with Functions"
      ]
    },
    {
      "cell_type": "code",
      "metadata": {
        "id": "hUSrpT0AnWtc",
        "colab_type": "code",
        "colab": {
          "base_uri": "https://localhost:8080/",
          "height": 142
        },
        "outputId": "6232f1c7-fab1-4ea1-c074-229eafb3ebd5"
      },
      "source": [
        "# 类似与字典，这种方法更加普世一些。\n",
        "# 我们用名字的长度来进行groupby \n",
        "\n",
        "people.groupby(len).sum() #默认调用index，返回的数值用作新的index。"
      ],
      "execution_count": 43,
      "outputs": [
        {
          "output_type": "execute_result",
          "data": {
            "text/html": [
              "<div>\n",
              "<style scoped>\n",
              "    .dataframe tbody tr th:only-of-type {\n",
              "        vertical-align: middle;\n",
              "    }\n",
              "\n",
              "    .dataframe tbody tr th {\n",
              "        vertical-align: top;\n",
              "    }\n",
              "\n",
              "    .dataframe thead th {\n",
              "        text-align: right;\n",
              "    }\n",
              "</style>\n",
              "<table border=\"1\" class=\"dataframe\">\n",
              "  <thead>\n",
              "    <tr style=\"text-align: right;\">\n",
              "      <th></th>\n",
              "      <th>a</th>\n",
              "      <th>b</th>\n",
              "      <th>c</th>\n",
              "      <th>d</th>\n",
              "      <th>e</th>\n",
              "    </tr>\n",
              "  </thead>\n",
              "  <tbody>\n",
              "    <tr>\n",
              "      <th>3</th>\n",
              "      <td>-2.705998</td>\n",
              "      <td>0.974583</td>\n",
              "      <td>-2.795586</td>\n",
              "      <td>-1.536519</td>\n",
              "      <td>3.517973</td>\n",
              "    </tr>\n",
              "    <tr>\n",
              "      <th>5</th>\n",
              "      <td>-1.455166</td>\n",
              "      <td>-1.089501</td>\n",
              "      <td>1.125910</td>\n",
              "      <td>0.568999</td>\n",
              "      <td>-0.799203</td>\n",
              "    </tr>\n",
              "    <tr>\n",
              "      <th>6</th>\n",
              "      <td>-0.071163</td>\n",
              "      <td>1.016896</td>\n",
              "      <td>0.447399</td>\n",
              "      <td>1.672246</td>\n",
              "      <td>0.883602</td>\n",
              "    </tr>\n",
              "  </tbody>\n",
              "</table>\n",
              "</div>"
            ],
            "text/plain": [
              "          a         b         c         d         e\n",
              "3 -2.705998  0.974583 -2.795586 -1.536519  3.517973\n",
              "5 -1.455166 -1.089501  1.125910  0.568999 -0.799203\n",
              "6 -0.071163  1.016896  0.447399  1.672246  0.883602"
            ]
          },
          "metadata": {
            "tags": []
          },
          "execution_count": 43
        }
      ]
    },
    {
      "cell_type": "code",
      "metadata": {
        "id": "XK-4ZUCenWwZ",
        "colab_type": "code",
        "colab": {
          "base_uri": "https://localhost:8080/",
          "height": 173
        },
        "outputId": "661556bf-1d47-4747-d44a-f21cc7c9276d"
      },
      "source": [
        "# 各种方法联合使用。\n",
        "key_list = ['one', 'one', 'one', 'two', 'two']\n",
        "\n",
        "people.groupby([len, key_list]).min()"
      ],
      "execution_count": 45,
      "outputs": [
        {
          "output_type": "execute_result",
          "data": {
            "text/html": [
              "<div>\n",
              "<style scoped>\n",
              "    .dataframe tbody tr th:only-of-type {\n",
              "        vertical-align: middle;\n",
              "    }\n",
              "\n",
              "    .dataframe tbody tr th {\n",
              "        vertical-align: top;\n",
              "    }\n",
              "\n",
              "    .dataframe thead th {\n",
              "        text-align: right;\n",
              "    }\n",
              "</style>\n",
              "<table border=\"1\" class=\"dataframe\">\n",
              "  <thead>\n",
              "    <tr style=\"text-align: right;\">\n",
              "      <th></th>\n",
              "      <th></th>\n",
              "      <th>a</th>\n",
              "      <th>b</th>\n",
              "      <th>c</th>\n",
              "      <th>d</th>\n",
              "      <th>e</th>\n",
              "    </tr>\n",
              "  </thead>\n",
              "  <tbody>\n",
              "    <tr>\n",
              "      <th rowspan=\"2\" valign=\"top\">3</th>\n",
              "      <th>one</th>\n",
              "      <td>-0.862717</td>\n",
              "      <td>0.773071</td>\n",
              "      <td>-0.440803</td>\n",
              "      <td>-1.514971</td>\n",
              "      <td>0.674543</td>\n",
              "    </tr>\n",
              "    <tr>\n",
              "      <th>two</th>\n",
              "      <td>-1.377478</td>\n",
              "      <td>0.201512</td>\n",
              "      <td>-2.354783</td>\n",
              "      <td>-0.415470</td>\n",
              "      <td>0.780181</td>\n",
              "    </tr>\n",
              "    <tr>\n",
              "      <th>5</th>\n",
              "      <th>one</th>\n",
              "      <td>-1.455166</td>\n",
              "      <td>-1.089501</td>\n",
              "      <td>1.125910</td>\n",
              "      <td>0.568999</td>\n",
              "      <td>-0.799203</td>\n",
              "    </tr>\n",
              "    <tr>\n",
              "      <th>6</th>\n",
              "      <th>two</th>\n",
              "      <td>-0.071163</td>\n",
              "      <td>1.016896</td>\n",
              "      <td>0.447399</td>\n",
              "      <td>1.672246</td>\n",
              "      <td>0.883602</td>\n",
              "    </tr>\n",
              "  </tbody>\n",
              "</table>\n",
              "</div>"
            ],
            "text/plain": [
              "              a         b         c         d         e\n",
              "3 one -0.862717  0.773071 -0.440803 -1.514971  0.674543\n",
              "  two -1.377478  0.201512 -2.354783 -0.415470  0.780181\n",
              "5 one -1.455166 -1.089501  1.125910  0.568999 -0.799203\n",
              "6 two -0.071163  1.016896  0.447399  1.672246  0.883602"
            ]
          },
          "metadata": {
            "tags": []
          },
          "execution_count": 45
        }
      ]
    },
    {
      "cell_type": "markdown",
      "metadata": {
        "id": "JAHwzxS7pDFi",
        "colab_type": "text"
      },
      "source": [
        "### Grouping by Index Levels"
      ]
    },
    {
      "cell_type": "code",
      "metadata": {
        "id": "v4m6G5r1nWzh",
        "colab_type": "code",
        "colab": {}
      },
      "source": [
        "columns = pd.MultiIndex.from_arrays([['US', 'US', 'US', 'JP', 'JP'],\n",
        "                    [1, 3, 5, 1, 3]],\n",
        "                    names=['cty', 'tenor'])"
      ],
      "execution_count": 46,
      "outputs": []
    },
    {
      "cell_type": "code",
      "metadata": {
        "id": "3TTBwihspOPB",
        "colab_type": "code",
        "colab": {
          "base_uri": "https://localhost:8080/",
          "height": 204
        },
        "outputId": "eb5b8197-f463-427e-d5d8-ccb06fb64eca"
      },
      "source": [
        "hier_df = pd.DataFrame(np.random.randn(4, 5), columns=columns)\n",
        "hier_df"
      ],
      "execution_count": 48,
      "outputs": [
        {
          "output_type": "execute_result",
          "data": {
            "text/html": [
              "<div>\n",
              "<style scoped>\n",
              "    .dataframe tbody tr th:only-of-type {\n",
              "        vertical-align: middle;\n",
              "    }\n",
              "\n",
              "    .dataframe tbody tr th {\n",
              "        vertical-align: top;\n",
              "    }\n",
              "\n",
              "    .dataframe thead tr th {\n",
              "        text-align: left;\n",
              "    }\n",
              "</style>\n",
              "<table border=\"1\" class=\"dataframe\">\n",
              "  <thead>\n",
              "    <tr>\n",
              "      <th>cty</th>\n",
              "      <th colspan=\"3\" halign=\"left\">US</th>\n",
              "      <th colspan=\"2\" halign=\"left\">JP</th>\n",
              "    </tr>\n",
              "    <tr>\n",
              "      <th>tenor</th>\n",
              "      <th>1</th>\n",
              "      <th>3</th>\n",
              "      <th>5</th>\n",
              "      <th>1</th>\n",
              "      <th>3</th>\n",
              "    </tr>\n",
              "  </thead>\n",
              "  <tbody>\n",
              "    <tr>\n",
              "      <th>0</th>\n",
              "      <td>-2.185981</td>\n",
              "      <td>0.815238</td>\n",
              "      <td>1.470625</td>\n",
              "      <td>1.139690</td>\n",
              "      <td>-1.000751</td>\n",
              "    </tr>\n",
              "    <tr>\n",
              "      <th>1</th>\n",
              "      <td>0.012733</td>\n",
              "      <td>0.397970</td>\n",
              "      <td>-0.826492</td>\n",
              "      <td>1.129101</td>\n",
              "      <td>-0.624884</td>\n",
              "    </tr>\n",
              "    <tr>\n",
              "      <th>2</th>\n",
              "      <td>1.051360</td>\n",
              "      <td>0.131418</td>\n",
              "      <td>0.192288</td>\n",
              "      <td>-0.294671</td>\n",
              "      <td>-0.197234</td>\n",
              "    </tr>\n",
              "    <tr>\n",
              "      <th>3</th>\n",
              "      <td>-0.847890</td>\n",
              "      <td>-1.775263</td>\n",
              "      <td>-1.091356</td>\n",
              "      <td>-0.259385</td>\n",
              "      <td>0.078173</td>\n",
              "    </tr>\n",
              "  </tbody>\n",
              "</table>\n",
              "</div>"
            ],
            "text/plain": [
              "cty          US                            JP          \n",
              "tenor         1         3         5         1         3\n",
              "0     -2.185981  0.815238  1.470625  1.139690 -1.000751\n",
              "1      0.012733  0.397970 -0.826492  1.129101 -0.624884\n",
              "2      1.051360  0.131418  0.192288 -0.294671 -0.197234\n",
              "3     -0.847890 -1.775263 -1.091356 -0.259385  0.078173"
            ]
          },
          "metadata": {
            "tags": []
          },
          "execution_count": 48
        }
      ]
    },
    {
      "cell_type": "code",
      "metadata": {
        "id": "Pr79mRR-pOSA",
        "colab_type": "code",
        "colab": {
          "base_uri": "https://localhost:8080/",
          "height": 173
        },
        "outputId": "abc91dd7-e9a3-4fd3-d9bf-8e0a5d21eeb9"
      },
      "source": [
        "hier_df.groupby(level='cty', axis=1).mean()"
      ],
      "execution_count": 49,
      "outputs": [
        {
          "output_type": "execute_result",
          "data": {
            "text/html": [
              "<div>\n",
              "<style scoped>\n",
              "    .dataframe tbody tr th:only-of-type {\n",
              "        vertical-align: middle;\n",
              "    }\n",
              "\n",
              "    .dataframe tbody tr th {\n",
              "        vertical-align: top;\n",
              "    }\n",
              "\n",
              "    .dataframe thead th {\n",
              "        text-align: right;\n",
              "    }\n",
              "</style>\n",
              "<table border=\"1\" class=\"dataframe\">\n",
              "  <thead>\n",
              "    <tr style=\"text-align: right;\">\n",
              "      <th>cty</th>\n",
              "      <th>JP</th>\n",
              "      <th>US</th>\n",
              "    </tr>\n",
              "  </thead>\n",
              "  <tbody>\n",
              "    <tr>\n",
              "      <th>0</th>\n",
              "      <td>0.069470</td>\n",
              "      <td>0.033294</td>\n",
              "    </tr>\n",
              "    <tr>\n",
              "      <th>1</th>\n",
              "      <td>0.252109</td>\n",
              "      <td>-0.138597</td>\n",
              "    </tr>\n",
              "    <tr>\n",
              "      <th>2</th>\n",
              "      <td>-0.245953</td>\n",
              "      <td>0.458355</td>\n",
              "    </tr>\n",
              "    <tr>\n",
              "      <th>3</th>\n",
              "      <td>-0.090606</td>\n",
              "      <td>-1.238170</td>\n",
              "    </tr>\n",
              "  </tbody>\n",
              "</table>\n",
              "</div>"
            ],
            "text/plain": [
              "cty        JP        US\n",
              "0    0.069470  0.033294\n",
              "1    0.252109 -0.138597\n",
              "2   -0.245953  0.458355\n",
              "3   -0.090606 -1.238170"
            ]
          },
          "metadata": {
            "tags": []
          },
          "execution_count": 49
        }
      ]
    },
    {
      "cell_type": "markdown",
      "metadata": {
        "id": "cN9gr8CxpDIS",
        "colab_type": "text"
      },
      "source": [
        "## 10.2 Data Aggregation\n",
        "\n",
        "![链接文字](https://img-blog.csdnimg.cn/20200819110058967.png?x-oss-process=image/watermark,type_ZmFuZ3poZW5naGVpdGk,shadow_10,text_aHR0cHM6Ly9ibG9nLmNzZG4ubmV0L2dhb2N1aTg4Mw==,size_16,color_FFFFFF,t_70#pic_center)"
      ]
    },
    {
      "cell_type": "code",
      "metadata": {
        "id": "jSWTyuIcpOU6",
        "colab_type": "code",
        "colab": {
          "base_uri": "https://localhost:8080/",
          "height": 204
        },
        "outputId": "fa79bf68-5b4b-4de1-f3a1-1007e4f2e3db"
      },
      "source": [
        "df"
      ],
      "execution_count": 50,
      "outputs": [
        {
          "output_type": "execute_result",
          "data": {
            "text/html": [
              "<div>\n",
              "<style scoped>\n",
              "    .dataframe tbody tr th:only-of-type {\n",
              "        vertical-align: middle;\n",
              "    }\n",
              "\n",
              "    .dataframe tbody tr th {\n",
              "        vertical-align: top;\n",
              "    }\n",
              "\n",
              "    .dataframe thead th {\n",
              "        text-align: right;\n",
              "    }\n",
              "</style>\n",
              "<table border=\"1\" class=\"dataframe\">\n",
              "  <thead>\n",
              "    <tr style=\"text-align: right;\">\n",
              "      <th></th>\n",
              "      <th>key1</th>\n",
              "      <th>key2</th>\n",
              "      <th>data1</th>\n",
              "      <th>data2</th>\n",
              "    </tr>\n",
              "  </thead>\n",
              "  <tbody>\n",
              "    <tr>\n",
              "      <th>0</th>\n",
              "      <td>a</td>\n",
              "      <td>one</td>\n",
              "      <td>0.630660</td>\n",
              "      <td>-2.027697</td>\n",
              "    </tr>\n",
              "    <tr>\n",
              "      <th>1</th>\n",
              "      <td>a</td>\n",
              "      <td>two</td>\n",
              "      <td>0.339220</td>\n",
              "      <td>-0.150802</td>\n",
              "    </tr>\n",
              "    <tr>\n",
              "      <th>2</th>\n",
              "      <td>b</td>\n",
              "      <td>one</td>\n",
              "      <td>-0.959031</td>\n",
              "      <td>-0.180650</td>\n",
              "    </tr>\n",
              "    <tr>\n",
              "      <th>3</th>\n",
              "      <td>b</td>\n",
              "      <td>two</td>\n",
              "      <td>-0.288006</td>\n",
              "      <td>-0.436780</td>\n",
              "    </tr>\n",
              "    <tr>\n",
              "      <th>4</th>\n",
              "      <td>a</td>\n",
              "      <td>one</td>\n",
              "      <td>-0.036959</td>\n",
              "      <td>-0.890916</td>\n",
              "    </tr>\n",
              "  </tbody>\n",
              "</table>\n",
              "</div>"
            ],
            "text/plain": [
              "  key1 key2     data1     data2\n",
              "0    a  one  0.630660 -2.027697\n",
              "1    a  two  0.339220 -0.150802\n",
              "2    b  one -0.959031 -0.180650\n",
              "3    b  two -0.288006 -0.436780\n",
              "4    a  one -0.036959 -0.890916"
            ]
          },
          "metadata": {
            "tags": []
          },
          "execution_count": 50
        }
      ]
    },
    {
      "cell_type": "code",
      "metadata": {
        "id": "zT7R3CgLpOX7",
        "colab_type": "code",
        "colab": {
          "base_uri": "https://localhost:8080/",
          "height": 89
        },
        "outputId": "130a4b7b-d2f3-4dca-b318-66c51ae24968"
      },
      "source": [
        "# aggregation 数据聚合。大致意思就是从array到标量的转换，比如sum就是可以从一组数得到一个标量（总和）\n",
        "\n",
        "# 分为数：quantile \n",
        "\n",
        "grouped = df.groupby('key1')\n",
        "grouped['data1'].quantile(0.5) #计算每个group 0.5分位数。"
      ],
      "execution_count": 52,
      "outputs": [
        {
          "output_type": "execute_result",
          "data": {
            "text/plain": [
              "key1\n",
              "a    0.339220\n",
              "b   -0.623518\n",
              "Name: data1, dtype: float64"
            ]
          },
          "metadata": {
            "tags": []
          },
          "execution_count": 52
        }
      ]
    },
    {
      "cell_type": "code",
      "metadata": {
        "id": "tjJw256SujkQ",
        "colab_type": "code",
        "colab": {
          "base_uri": "https://localhost:8080/",
          "height": 142
        },
        "outputId": "cb9239b0-c667-4d85-f0f5-c3621facd3ae"
      },
      "source": [
        "# 也可以用自己的自定义函数。custom function.\n",
        "def peaktopeak(arr):\n",
        "  return arr.max()-arr.min()\n",
        "\n",
        "grouped.agg(peaktopeak)  # 注意agg或者aggregate"
      ],
      "execution_count": 53,
      "outputs": [
        {
          "output_type": "execute_result",
          "data": {
            "text/html": [
              "<div>\n",
              "<style scoped>\n",
              "    .dataframe tbody tr th:only-of-type {\n",
              "        vertical-align: middle;\n",
              "    }\n",
              "\n",
              "    .dataframe tbody tr th {\n",
              "        vertical-align: top;\n",
              "    }\n",
              "\n",
              "    .dataframe thead th {\n",
              "        text-align: right;\n",
              "    }\n",
              "</style>\n",
              "<table border=\"1\" class=\"dataframe\">\n",
              "  <thead>\n",
              "    <tr style=\"text-align: right;\">\n",
              "      <th></th>\n",
              "      <th>data1</th>\n",
              "      <th>data2</th>\n",
              "    </tr>\n",
              "    <tr>\n",
              "      <th>key1</th>\n",
              "      <th></th>\n",
              "      <th></th>\n",
              "    </tr>\n",
              "  </thead>\n",
              "  <tbody>\n",
              "    <tr>\n",
              "      <th>a</th>\n",
              "      <td>0.667620</td>\n",
              "      <td>1.876895</td>\n",
              "    </tr>\n",
              "    <tr>\n",
              "      <th>b</th>\n",
              "      <td>0.671026</td>\n",
              "      <td>0.256130</td>\n",
              "    </tr>\n",
              "  </tbody>\n",
              "</table>\n",
              "</div>"
            ],
            "text/plain": [
              "         data1     data2\n",
              "key1                    \n",
              "a     0.667620  1.876895\n",
              "b     0.671026  0.256130"
            ]
          },
          "metadata": {
            "tags": []
          },
          "execution_count": 53
        }
      ]
    },
    {
      "cell_type": "code",
      "metadata": {
        "id": "Iul_MbjqujnG",
        "colab_type": "code",
        "colab": {
          "base_uri": "https://localhost:8080/",
          "height": 173
        },
        "outputId": "742d9022-c84a-43fe-d3c5-d1a9752ec844"
      },
      "source": [
        "# describe()函数虽然不是aggregate 函数，但是却可以直接使用。\n",
        "\n",
        "grouped.describe()"
      ],
      "execution_count": 54,
      "outputs": [
        {
          "output_type": "execute_result",
          "data": {
            "text/html": [
              "<div>\n",
              "<style scoped>\n",
              "    .dataframe tbody tr th:only-of-type {\n",
              "        vertical-align: middle;\n",
              "    }\n",
              "\n",
              "    .dataframe tbody tr th {\n",
              "        vertical-align: top;\n",
              "    }\n",
              "\n",
              "    .dataframe thead tr th {\n",
              "        text-align: left;\n",
              "    }\n",
              "\n",
              "    .dataframe thead tr:last-of-type th {\n",
              "        text-align: right;\n",
              "    }\n",
              "</style>\n",
              "<table border=\"1\" class=\"dataframe\">\n",
              "  <thead>\n",
              "    <tr>\n",
              "      <th></th>\n",
              "      <th colspan=\"8\" halign=\"left\">data1</th>\n",
              "      <th colspan=\"8\" halign=\"left\">data2</th>\n",
              "    </tr>\n",
              "    <tr>\n",
              "      <th></th>\n",
              "      <th>count</th>\n",
              "      <th>mean</th>\n",
              "      <th>std</th>\n",
              "      <th>min</th>\n",
              "      <th>25%</th>\n",
              "      <th>50%</th>\n",
              "      <th>75%</th>\n",
              "      <th>max</th>\n",
              "      <th>count</th>\n",
              "      <th>mean</th>\n",
              "      <th>std</th>\n",
              "      <th>min</th>\n",
              "      <th>25%</th>\n",
              "      <th>50%</th>\n",
              "      <th>75%</th>\n",
              "      <th>max</th>\n",
              "    </tr>\n",
              "    <tr>\n",
              "      <th>key1</th>\n",
              "      <th></th>\n",
              "      <th></th>\n",
              "      <th></th>\n",
              "      <th></th>\n",
              "      <th></th>\n",
              "      <th></th>\n",
              "      <th></th>\n",
              "      <th></th>\n",
              "      <th></th>\n",
              "      <th></th>\n",
              "      <th></th>\n",
              "      <th></th>\n",
              "      <th></th>\n",
              "      <th></th>\n",
              "      <th></th>\n",
              "      <th></th>\n",
              "    </tr>\n",
              "  </thead>\n",
              "  <tbody>\n",
              "    <tr>\n",
              "      <th>a</th>\n",
              "      <td>3.0</td>\n",
              "      <td>0.310974</td>\n",
              "      <td>0.334705</td>\n",
              "      <td>-0.036959</td>\n",
              "      <td>0.151130</td>\n",
              "      <td>0.339220</td>\n",
              "      <td>0.484940</td>\n",
              "      <td>0.630660</td>\n",
              "      <td>3.0</td>\n",
              "      <td>-1.023138</td>\n",
              "      <td>0.945407</td>\n",
              "      <td>-2.027697</td>\n",
              "      <td>-1.459306</td>\n",
              "      <td>-0.890916</td>\n",
              "      <td>-0.520859</td>\n",
              "      <td>-0.150802</td>\n",
              "    </tr>\n",
              "    <tr>\n",
              "      <th>b</th>\n",
              "      <td>2.0</td>\n",
              "      <td>-0.623518</td>\n",
              "      <td>0.474487</td>\n",
              "      <td>-0.959031</td>\n",
              "      <td>-0.791275</td>\n",
              "      <td>-0.623518</td>\n",
              "      <td>-0.455762</td>\n",
              "      <td>-0.288006</td>\n",
              "      <td>2.0</td>\n",
              "      <td>-0.308715</td>\n",
              "      <td>0.181111</td>\n",
              "      <td>-0.436780</td>\n",
              "      <td>-0.372747</td>\n",
              "      <td>-0.308715</td>\n",
              "      <td>-0.244682</td>\n",
              "      <td>-0.180650</td>\n",
              "    </tr>\n",
              "  </tbody>\n",
              "</table>\n",
              "</div>"
            ],
            "text/plain": [
              "     data1                      ...     data2                    \n",
              "     count      mean       std  ...       50%       75%       max\n",
              "key1                            ...                              \n",
              "a      3.0  0.310974  0.334705  ... -0.890916 -0.520859 -0.150802\n",
              "b      2.0 -0.623518  0.474487  ... -0.308715 -0.244682 -0.180650\n",
              "\n",
              "[2 rows x 16 columns]"
            ]
          },
          "metadata": {
            "tags": []
          },
          "execution_count": 54
        }
      ]
    },
    {
      "cell_type": "markdown",
      "metadata": {
        "id": "LlwSb0l9pDOH",
        "colab_type": "text"
      },
      "source": [
        "### Column-Wise and Multiple Function Application"
      ]
    },
    {
      "cell_type": "code",
      "metadata": {
        "id": "Wqy77jl-vRz5",
        "colab_type": "code",
        "colab": {
          "base_uri": "https://localhost:8080/",
          "height": 419
        },
        "outputId": "402a9829-e1b9-418c-c5ed-0e1f6848b5c6"
      },
      "source": [
        "# 本节解决如下问题： 每一列应用相同的多个统计函数。\n",
        "# 多个列应用多个统计函数。\n",
        "# 多个列分别应用不同的统计函数。\n",
        "\n",
        "tips = pd.read_csv('tips.csv')\n",
        "tips"
      ],
      "execution_count": 55,
      "outputs": [
        {
          "output_type": "execute_result",
          "data": {
            "text/html": [
              "<div>\n",
              "<style scoped>\n",
              "    .dataframe tbody tr th:only-of-type {\n",
              "        vertical-align: middle;\n",
              "    }\n",
              "\n",
              "    .dataframe tbody tr th {\n",
              "        vertical-align: top;\n",
              "    }\n",
              "\n",
              "    .dataframe thead th {\n",
              "        text-align: right;\n",
              "    }\n",
              "</style>\n",
              "<table border=\"1\" class=\"dataframe\">\n",
              "  <thead>\n",
              "    <tr style=\"text-align: right;\">\n",
              "      <th></th>\n",
              "      <th>total_bill</th>\n",
              "      <th>tip</th>\n",
              "      <th>smoker</th>\n",
              "      <th>day</th>\n",
              "      <th>time</th>\n",
              "      <th>size</th>\n",
              "    </tr>\n",
              "  </thead>\n",
              "  <tbody>\n",
              "    <tr>\n",
              "      <th>0</th>\n",
              "      <td>16.99</td>\n",
              "      <td>1.01</td>\n",
              "      <td>No</td>\n",
              "      <td>Sun</td>\n",
              "      <td>Dinner</td>\n",
              "      <td>2</td>\n",
              "    </tr>\n",
              "    <tr>\n",
              "      <th>1</th>\n",
              "      <td>10.34</td>\n",
              "      <td>1.66</td>\n",
              "      <td>No</td>\n",
              "      <td>Sun</td>\n",
              "      <td>Dinner</td>\n",
              "      <td>3</td>\n",
              "    </tr>\n",
              "    <tr>\n",
              "      <th>2</th>\n",
              "      <td>21.01</td>\n",
              "      <td>3.50</td>\n",
              "      <td>No</td>\n",
              "      <td>Sun</td>\n",
              "      <td>Dinner</td>\n",
              "      <td>3</td>\n",
              "    </tr>\n",
              "    <tr>\n",
              "      <th>3</th>\n",
              "      <td>23.68</td>\n",
              "      <td>3.31</td>\n",
              "      <td>No</td>\n",
              "      <td>Sun</td>\n",
              "      <td>Dinner</td>\n",
              "      <td>2</td>\n",
              "    </tr>\n",
              "    <tr>\n",
              "      <th>4</th>\n",
              "      <td>24.59</td>\n",
              "      <td>3.61</td>\n",
              "      <td>No</td>\n",
              "      <td>Sun</td>\n",
              "      <td>Dinner</td>\n",
              "      <td>4</td>\n",
              "    </tr>\n",
              "    <tr>\n",
              "      <th>...</th>\n",
              "      <td>...</td>\n",
              "      <td>...</td>\n",
              "      <td>...</td>\n",
              "      <td>...</td>\n",
              "      <td>...</td>\n",
              "      <td>...</td>\n",
              "    </tr>\n",
              "    <tr>\n",
              "      <th>239</th>\n",
              "      <td>29.03</td>\n",
              "      <td>5.92</td>\n",
              "      <td>No</td>\n",
              "      <td>Sat</td>\n",
              "      <td>Dinner</td>\n",
              "      <td>3</td>\n",
              "    </tr>\n",
              "    <tr>\n",
              "      <th>240</th>\n",
              "      <td>27.18</td>\n",
              "      <td>2.00</td>\n",
              "      <td>Yes</td>\n",
              "      <td>Sat</td>\n",
              "      <td>Dinner</td>\n",
              "      <td>2</td>\n",
              "    </tr>\n",
              "    <tr>\n",
              "      <th>241</th>\n",
              "      <td>22.67</td>\n",
              "      <td>2.00</td>\n",
              "      <td>Yes</td>\n",
              "      <td>Sat</td>\n",
              "      <td>Dinner</td>\n",
              "      <td>2</td>\n",
              "    </tr>\n",
              "    <tr>\n",
              "      <th>242</th>\n",
              "      <td>17.82</td>\n",
              "      <td>1.75</td>\n",
              "      <td>No</td>\n",
              "      <td>Sat</td>\n",
              "      <td>Dinner</td>\n",
              "      <td>2</td>\n",
              "    </tr>\n",
              "    <tr>\n",
              "      <th>243</th>\n",
              "      <td>18.78</td>\n",
              "      <td>3.00</td>\n",
              "      <td>No</td>\n",
              "      <td>Thur</td>\n",
              "      <td>Dinner</td>\n",
              "      <td>2</td>\n",
              "    </tr>\n",
              "  </tbody>\n",
              "</table>\n",
              "<p>244 rows × 6 columns</p>\n",
              "</div>"
            ],
            "text/plain": [
              "     total_bill   tip smoker   day    time  size\n",
              "0         16.99  1.01     No   Sun  Dinner     2\n",
              "1         10.34  1.66     No   Sun  Dinner     3\n",
              "2         21.01  3.50     No   Sun  Dinner     3\n",
              "3         23.68  3.31     No   Sun  Dinner     2\n",
              "4         24.59  3.61     No   Sun  Dinner     4\n",
              "..          ...   ...    ...   ...     ...   ...\n",
              "239       29.03  5.92     No   Sat  Dinner     3\n",
              "240       27.18  2.00    Yes   Sat  Dinner     2\n",
              "241       22.67  2.00    Yes   Sat  Dinner     2\n",
              "242       17.82  1.75     No   Sat  Dinner     2\n",
              "243       18.78  3.00     No  Thur  Dinner     2\n",
              "\n",
              "[244 rows x 6 columns]"
            ]
          },
          "metadata": {
            "tags": []
          },
          "execution_count": 55
        }
      ]
    },
    {
      "cell_type": "code",
      "metadata": {
        "id": "AHGHVjDBvR2-",
        "colab_type": "code",
        "colab": {
          "base_uri": "https://localhost:8080/",
          "height": 235
        },
        "outputId": "ef9d0813-0b85-4289-ccd5-c9bb0f2da8b1"
      },
      "source": [
        "tips['tip_pct'] = tips['tip']/tips['total_bill']\n",
        "tips[:6]"
      ],
      "execution_count": 58,
      "outputs": [
        {
          "output_type": "execute_result",
          "data": {
            "text/html": [
              "<div>\n",
              "<style scoped>\n",
              "    .dataframe tbody tr th:only-of-type {\n",
              "        vertical-align: middle;\n",
              "    }\n",
              "\n",
              "    .dataframe tbody tr th {\n",
              "        vertical-align: top;\n",
              "    }\n",
              "\n",
              "    .dataframe thead th {\n",
              "        text-align: right;\n",
              "    }\n",
              "</style>\n",
              "<table border=\"1\" class=\"dataframe\">\n",
              "  <thead>\n",
              "    <tr style=\"text-align: right;\">\n",
              "      <th></th>\n",
              "      <th>total_bill</th>\n",
              "      <th>tip</th>\n",
              "      <th>smoker</th>\n",
              "      <th>day</th>\n",
              "      <th>time</th>\n",
              "      <th>size</th>\n",
              "      <th>tip_pct</th>\n",
              "    </tr>\n",
              "  </thead>\n",
              "  <tbody>\n",
              "    <tr>\n",
              "      <th>0</th>\n",
              "      <td>16.99</td>\n",
              "      <td>1.01</td>\n",
              "      <td>No</td>\n",
              "      <td>Sun</td>\n",
              "      <td>Dinner</td>\n",
              "      <td>2</td>\n",
              "      <td>0.059447</td>\n",
              "    </tr>\n",
              "    <tr>\n",
              "      <th>1</th>\n",
              "      <td>10.34</td>\n",
              "      <td>1.66</td>\n",
              "      <td>No</td>\n",
              "      <td>Sun</td>\n",
              "      <td>Dinner</td>\n",
              "      <td>3</td>\n",
              "      <td>0.160542</td>\n",
              "    </tr>\n",
              "    <tr>\n",
              "      <th>2</th>\n",
              "      <td>21.01</td>\n",
              "      <td>3.50</td>\n",
              "      <td>No</td>\n",
              "      <td>Sun</td>\n",
              "      <td>Dinner</td>\n",
              "      <td>3</td>\n",
              "      <td>0.166587</td>\n",
              "    </tr>\n",
              "    <tr>\n",
              "      <th>3</th>\n",
              "      <td>23.68</td>\n",
              "      <td>3.31</td>\n",
              "      <td>No</td>\n",
              "      <td>Sun</td>\n",
              "      <td>Dinner</td>\n",
              "      <td>2</td>\n",
              "      <td>0.139780</td>\n",
              "    </tr>\n",
              "    <tr>\n",
              "      <th>4</th>\n",
              "      <td>24.59</td>\n",
              "      <td>3.61</td>\n",
              "      <td>No</td>\n",
              "      <td>Sun</td>\n",
              "      <td>Dinner</td>\n",
              "      <td>4</td>\n",
              "      <td>0.146808</td>\n",
              "    </tr>\n",
              "    <tr>\n",
              "      <th>5</th>\n",
              "      <td>25.29</td>\n",
              "      <td>4.71</td>\n",
              "      <td>No</td>\n",
              "      <td>Sun</td>\n",
              "      <td>Dinner</td>\n",
              "      <td>4</td>\n",
              "      <td>0.186240</td>\n",
              "    </tr>\n",
              "  </tbody>\n",
              "</table>\n",
              "</div>"
            ],
            "text/plain": [
              "   total_bill   tip smoker  day    time  size   tip_pct\n",
              "0       16.99  1.01     No  Sun  Dinner     2  0.059447\n",
              "1       10.34  1.66     No  Sun  Dinner     3  0.160542\n",
              "2       21.01  3.50     No  Sun  Dinner     3  0.166587\n",
              "3       23.68  3.31     No  Sun  Dinner     2  0.139780\n",
              "4       24.59  3.61     No  Sun  Dinner     4  0.146808\n",
              "5       25.29  4.71     No  Sun  Dinner     4  0.186240"
            ]
          },
          "metadata": {
            "tags": []
          },
          "execution_count": 58
        }
      ]
    },
    {
      "cell_type": "code",
      "metadata": {
        "id": "TMcJ8hw6vR5-",
        "colab_type": "code",
        "colab": {
          "base_uri": "https://localhost:8080/",
          "height": 35
        },
        "outputId": "a57a67a0-a367-4de1-e7ef-5b7a1ec4d830"
      },
      "source": [
        "grouped = tips.groupby(['day', 'smoker'])\n",
        "grouped_pct = grouped['tip_pct']\n",
        "grouped_pct"
      ],
      "execution_count": 59,
      "outputs": [
        {
          "output_type": "execute_result",
          "data": {
            "text/plain": [
              "<pandas.core.groupby.generic.SeriesGroupBy object at 0x7f9000e48358>"
            ]
          },
          "metadata": {
            "tags": []
          },
          "execution_count": 59
        }
      ]
    },
    {
      "cell_type": "code",
      "metadata": {
        "id": "7oXbJOudX59x",
        "colab_type": "code",
        "colab": {
          "base_uri": "https://localhost:8080/",
          "height": 197
        },
        "outputId": "12d57f22-a5b3-4fd8-8e70-da9838cb9cce"
      },
      "source": [
        "# 一行，多个group 应用一个函数。\n",
        "grouped_pct.aggregate('mean')"
      ],
      "execution_count": 60,
      "outputs": [
        {
          "output_type": "execute_result",
          "data": {
            "text/plain": [
              "day   smoker\n",
              "Fri   No        0.151650\n",
              "      Yes       0.174783\n",
              "Sat   No        0.158048\n",
              "      Yes       0.147906\n",
              "Sun   No        0.160113\n",
              "      Yes       0.187250\n",
              "Thur  No        0.160298\n",
              "      Yes       0.163863\n",
              "Name: tip_pct, dtype: float64"
            ]
          },
          "metadata": {
            "tags": []
          },
          "execution_count": 60
        }
      ]
    },
    {
      "cell_type": "code",
      "metadata": {
        "id": "Wp8YEuOlX6BI",
        "colab_type": "code",
        "colab": {
          "base_uri": "https://localhost:8080/",
          "height": 328
        },
        "outputId": "494f2cb6-7e68-4122-dc07-38dfe893cb44"
      },
      "source": [
        "# 一列，多个group，应用多个函数。\n",
        "grouped_pct.agg(['mean', 'std', peaktopeak]) # 注意带中括号。\n"
      ],
      "execution_count": 62,
      "outputs": [
        {
          "output_type": "execute_result",
          "data": {
            "text/html": [
              "<div>\n",
              "<style scoped>\n",
              "    .dataframe tbody tr th:only-of-type {\n",
              "        vertical-align: middle;\n",
              "    }\n",
              "\n",
              "    .dataframe tbody tr th {\n",
              "        vertical-align: top;\n",
              "    }\n",
              "\n",
              "    .dataframe thead th {\n",
              "        text-align: right;\n",
              "    }\n",
              "</style>\n",
              "<table border=\"1\" class=\"dataframe\">\n",
              "  <thead>\n",
              "    <tr style=\"text-align: right;\">\n",
              "      <th></th>\n",
              "      <th></th>\n",
              "      <th>mean</th>\n",
              "      <th>std</th>\n",
              "      <th>peaktopeak</th>\n",
              "    </tr>\n",
              "    <tr>\n",
              "      <th>day</th>\n",
              "      <th>smoker</th>\n",
              "      <th></th>\n",
              "      <th></th>\n",
              "      <th></th>\n",
              "    </tr>\n",
              "  </thead>\n",
              "  <tbody>\n",
              "    <tr>\n",
              "      <th rowspan=\"2\" valign=\"top\">Fri</th>\n",
              "      <th>No</th>\n",
              "      <td>0.151650</td>\n",
              "      <td>0.028123</td>\n",
              "      <td>0.067349</td>\n",
              "    </tr>\n",
              "    <tr>\n",
              "      <th>Yes</th>\n",
              "      <td>0.174783</td>\n",
              "      <td>0.051293</td>\n",
              "      <td>0.159925</td>\n",
              "    </tr>\n",
              "    <tr>\n",
              "      <th rowspan=\"2\" valign=\"top\">Sat</th>\n",
              "      <th>No</th>\n",
              "      <td>0.158048</td>\n",
              "      <td>0.039767</td>\n",
              "      <td>0.235193</td>\n",
              "    </tr>\n",
              "    <tr>\n",
              "      <th>Yes</th>\n",
              "      <td>0.147906</td>\n",
              "      <td>0.061375</td>\n",
              "      <td>0.290095</td>\n",
              "    </tr>\n",
              "    <tr>\n",
              "      <th rowspan=\"2\" valign=\"top\">Sun</th>\n",
              "      <th>No</th>\n",
              "      <td>0.160113</td>\n",
              "      <td>0.042347</td>\n",
              "      <td>0.193226</td>\n",
              "    </tr>\n",
              "    <tr>\n",
              "      <th>Yes</th>\n",
              "      <td>0.187250</td>\n",
              "      <td>0.154134</td>\n",
              "      <td>0.644685</td>\n",
              "    </tr>\n",
              "    <tr>\n",
              "      <th rowspan=\"2\" valign=\"top\">Thur</th>\n",
              "      <th>No</th>\n",
              "      <td>0.160298</td>\n",
              "      <td>0.038774</td>\n",
              "      <td>0.193350</td>\n",
              "    </tr>\n",
              "    <tr>\n",
              "      <th>Yes</th>\n",
              "      <td>0.163863</td>\n",
              "      <td>0.039389</td>\n",
              "      <td>0.151240</td>\n",
              "    </tr>\n",
              "  </tbody>\n",
              "</table>\n",
              "</div>"
            ],
            "text/plain": [
              "                 mean       std  peaktopeak\n",
              "day  smoker                                \n",
              "Fri  No      0.151650  0.028123    0.067349\n",
              "     Yes     0.174783  0.051293    0.159925\n",
              "Sat  No      0.158048  0.039767    0.235193\n",
              "     Yes     0.147906  0.061375    0.290095\n",
              "Sun  No      0.160113  0.042347    0.193226\n",
              "     Yes     0.187250  0.154134    0.644685\n",
              "Thur No      0.160298  0.038774    0.193350\n",
              "     Yes     0.163863  0.039389    0.151240"
            ]
          },
          "metadata": {
            "tags": []
          },
          "execution_count": 62
        }
      ]
    },
    {
      "cell_type": "code",
      "metadata": {
        "id": "OrEPA_UPX6D6",
        "colab_type": "code",
        "colab": {
          "base_uri": "https://localhost:8080/",
          "height": 328
        },
        "outputId": "bdbbc55e-636b-4e6d-d272-e8160dc67935"
      },
      "source": [
        "# 如果我们要顺便改掉结果名呢？？？\n",
        "\n",
        "# 传递一个元组的列表。\n",
        "# 元组的第一个元素就是新的列名，第二个参数就是函数名。\n",
        "\n",
        "grouped_pct.aggregate([('fuck1','mean'), ('fuck2','std'), ('fuck3', peaktopeak)])"
      ],
      "execution_count": 63,
      "outputs": [
        {
          "output_type": "execute_result",
          "data": {
            "text/html": [
              "<div>\n",
              "<style scoped>\n",
              "    .dataframe tbody tr th:only-of-type {\n",
              "        vertical-align: middle;\n",
              "    }\n",
              "\n",
              "    .dataframe tbody tr th {\n",
              "        vertical-align: top;\n",
              "    }\n",
              "\n",
              "    .dataframe thead th {\n",
              "        text-align: right;\n",
              "    }\n",
              "</style>\n",
              "<table border=\"1\" class=\"dataframe\">\n",
              "  <thead>\n",
              "    <tr style=\"text-align: right;\">\n",
              "      <th></th>\n",
              "      <th></th>\n",
              "      <th>fuck1</th>\n",
              "      <th>fuck2</th>\n",
              "      <th>fuck3</th>\n",
              "    </tr>\n",
              "    <tr>\n",
              "      <th>day</th>\n",
              "      <th>smoker</th>\n",
              "      <th></th>\n",
              "      <th></th>\n",
              "      <th></th>\n",
              "    </tr>\n",
              "  </thead>\n",
              "  <tbody>\n",
              "    <tr>\n",
              "      <th rowspan=\"2\" valign=\"top\">Fri</th>\n",
              "      <th>No</th>\n",
              "      <td>0.151650</td>\n",
              "      <td>0.028123</td>\n",
              "      <td>0.067349</td>\n",
              "    </tr>\n",
              "    <tr>\n",
              "      <th>Yes</th>\n",
              "      <td>0.174783</td>\n",
              "      <td>0.051293</td>\n",
              "      <td>0.159925</td>\n",
              "    </tr>\n",
              "    <tr>\n",
              "      <th rowspan=\"2\" valign=\"top\">Sat</th>\n",
              "      <th>No</th>\n",
              "      <td>0.158048</td>\n",
              "      <td>0.039767</td>\n",
              "      <td>0.235193</td>\n",
              "    </tr>\n",
              "    <tr>\n",
              "      <th>Yes</th>\n",
              "      <td>0.147906</td>\n",
              "      <td>0.061375</td>\n",
              "      <td>0.290095</td>\n",
              "    </tr>\n",
              "    <tr>\n",
              "      <th rowspan=\"2\" valign=\"top\">Sun</th>\n",
              "      <th>No</th>\n",
              "      <td>0.160113</td>\n",
              "      <td>0.042347</td>\n",
              "      <td>0.193226</td>\n",
              "    </tr>\n",
              "    <tr>\n",
              "      <th>Yes</th>\n",
              "      <td>0.187250</td>\n",
              "      <td>0.154134</td>\n",
              "      <td>0.644685</td>\n",
              "    </tr>\n",
              "    <tr>\n",
              "      <th rowspan=\"2\" valign=\"top\">Thur</th>\n",
              "      <th>No</th>\n",
              "      <td>0.160298</td>\n",
              "      <td>0.038774</td>\n",
              "      <td>0.193350</td>\n",
              "    </tr>\n",
              "    <tr>\n",
              "      <th>Yes</th>\n",
              "      <td>0.163863</td>\n",
              "      <td>0.039389</td>\n",
              "      <td>0.151240</td>\n",
              "    </tr>\n",
              "  </tbody>\n",
              "</table>\n",
              "</div>"
            ],
            "text/plain": [
              "                fuck1     fuck2     fuck3\n",
              "day  smoker                              \n",
              "Fri  No      0.151650  0.028123  0.067349\n",
              "     Yes     0.174783  0.051293  0.159925\n",
              "Sat  No      0.158048  0.039767  0.235193\n",
              "     Yes     0.147906  0.061375  0.290095\n",
              "Sun  No      0.160113  0.042347  0.193226\n",
              "     Yes     0.187250  0.154134  0.644685\n",
              "Thur No      0.160298  0.038774  0.193350\n",
              "     Yes     0.163863  0.039389  0.151240"
            ]
          },
          "metadata": {
            "tags": []
          },
          "execution_count": 63
        }
      ]
    },
    {
      "cell_type": "code",
      "metadata": {
        "id": "JJEOCBdtvR8-",
        "colab_type": "code",
        "colab": {
          "base_uri": "https://localhost:8080/",
          "height": 395
        },
        "outputId": "e76e822d-5e41-466f-d824-2608c79307e8"
      },
      "source": [
        "# 如果是个DataFrame 呢。也就多个列。\n",
        "\n",
        "functions =  ['count', 'mean', 'max']\n",
        "result = grouped['tip_pct', 'total_bill'].agg(functions) # 对两列使用多个函数。\n",
        "result"
      ],
      "execution_count": 66,
      "outputs": [
        {
          "output_type": "stream",
          "text": [
            "/usr/local/lib/python3.6/dist-packages/ipykernel_launcher.py:4: FutureWarning: Indexing with multiple keys (implicitly converted to a tuple of keys) will be deprecated, use a list instead.\n",
            "  after removing the cwd from sys.path.\n"
          ],
          "name": "stderr"
        },
        {
          "output_type": "execute_result",
          "data": {
            "text/html": [
              "<div>\n",
              "<style scoped>\n",
              "    .dataframe tbody tr th:only-of-type {\n",
              "        vertical-align: middle;\n",
              "    }\n",
              "\n",
              "    .dataframe tbody tr th {\n",
              "        vertical-align: top;\n",
              "    }\n",
              "\n",
              "    .dataframe thead tr th {\n",
              "        text-align: left;\n",
              "    }\n",
              "\n",
              "    .dataframe thead tr:last-of-type th {\n",
              "        text-align: right;\n",
              "    }\n",
              "</style>\n",
              "<table border=\"1\" class=\"dataframe\">\n",
              "  <thead>\n",
              "    <tr>\n",
              "      <th></th>\n",
              "      <th></th>\n",
              "      <th colspan=\"3\" halign=\"left\">tip_pct</th>\n",
              "      <th colspan=\"3\" halign=\"left\">total_bill</th>\n",
              "    </tr>\n",
              "    <tr>\n",
              "      <th></th>\n",
              "      <th></th>\n",
              "      <th>count</th>\n",
              "      <th>mean</th>\n",
              "      <th>max</th>\n",
              "      <th>count</th>\n",
              "      <th>mean</th>\n",
              "      <th>max</th>\n",
              "    </tr>\n",
              "    <tr>\n",
              "      <th>day</th>\n",
              "      <th>smoker</th>\n",
              "      <th></th>\n",
              "      <th></th>\n",
              "      <th></th>\n",
              "      <th></th>\n",
              "      <th></th>\n",
              "      <th></th>\n",
              "    </tr>\n",
              "  </thead>\n",
              "  <tbody>\n",
              "    <tr>\n",
              "      <th rowspan=\"2\" valign=\"top\">Fri</th>\n",
              "      <th>No</th>\n",
              "      <td>4</td>\n",
              "      <td>0.151650</td>\n",
              "      <td>0.187735</td>\n",
              "      <td>4</td>\n",
              "      <td>18.420000</td>\n",
              "      <td>22.75</td>\n",
              "    </tr>\n",
              "    <tr>\n",
              "      <th>Yes</th>\n",
              "      <td>15</td>\n",
              "      <td>0.174783</td>\n",
              "      <td>0.263480</td>\n",
              "      <td>15</td>\n",
              "      <td>16.813333</td>\n",
              "      <td>40.17</td>\n",
              "    </tr>\n",
              "    <tr>\n",
              "      <th rowspan=\"2\" valign=\"top\">Sat</th>\n",
              "      <th>No</th>\n",
              "      <td>45</td>\n",
              "      <td>0.158048</td>\n",
              "      <td>0.291990</td>\n",
              "      <td>45</td>\n",
              "      <td>19.661778</td>\n",
              "      <td>48.33</td>\n",
              "    </tr>\n",
              "    <tr>\n",
              "      <th>Yes</th>\n",
              "      <td>42</td>\n",
              "      <td>0.147906</td>\n",
              "      <td>0.325733</td>\n",
              "      <td>42</td>\n",
              "      <td>21.276667</td>\n",
              "      <td>50.81</td>\n",
              "    </tr>\n",
              "    <tr>\n",
              "      <th rowspan=\"2\" valign=\"top\">Sun</th>\n",
              "      <th>No</th>\n",
              "      <td>57</td>\n",
              "      <td>0.160113</td>\n",
              "      <td>0.252672</td>\n",
              "      <td>57</td>\n",
              "      <td>20.506667</td>\n",
              "      <td>48.17</td>\n",
              "    </tr>\n",
              "    <tr>\n",
              "      <th>Yes</th>\n",
              "      <td>19</td>\n",
              "      <td>0.187250</td>\n",
              "      <td>0.710345</td>\n",
              "      <td>19</td>\n",
              "      <td>24.120000</td>\n",
              "      <td>45.35</td>\n",
              "    </tr>\n",
              "    <tr>\n",
              "      <th rowspan=\"2\" valign=\"top\">Thur</th>\n",
              "      <th>No</th>\n",
              "      <td>45</td>\n",
              "      <td>0.160298</td>\n",
              "      <td>0.266312</td>\n",
              "      <td>45</td>\n",
              "      <td>17.113111</td>\n",
              "      <td>41.19</td>\n",
              "    </tr>\n",
              "    <tr>\n",
              "      <th>Yes</th>\n",
              "      <td>17</td>\n",
              "      <td>0.163863</td>\n",
              "      <td>0.241255</td>\n",
              "      <td>17</td>\n",
              "      <td>19.190588</td>\n",
              "      <td>43.11</td>\n",
              "    </tr>\n",
              "  </tbody>\n",
              "</table>\n",
              "</div>"
            ],
            "text/plain": [
              "            tip_pct                     total_bill                  \n",
              "              count      mean       max      count       mean    max\n",
              "day  smoker                                                         \n",
              "Fri  No           4  0.151650  0.187735          4  18.420000  22.75\n",
              "     Yes         15  0.174783  0.263480         15  16.813333  40.17\n",
              "Sat  No          45  0.158048  0.291990         45  19.661778  48.33\n",
              "     Yes         42  0.147906  0.325733         42  21.276667  50.81\n",
              "Sun  No          57  0.160113  0.252672         57  20.506667  48.17\n",
              "     Yes         19  0.187250  0.710345         19  24.120000  45.35\n",
              "Thur No          45  0.160298  0.266312         45  17.113111  41.19\n",
              "     Yes         17  0.163863  0.241255         17  19.190588  43.11"
            ]
          },
          "metadata": {
            "tags": []
          },
          "execution_count": 66
        }
      ]
    },
    {
      "cell_type": "code",
      "metadata": {
        "id": "6Yr4sOfoaCYh",
        "colab_type": "code",
        "colab": {
          "base_uri": "https://localhost:8080/",
          "height": 328
        },
        "outputId": "c671bc28-2285-4efe-deff-6fc1e3b05504"
      },
      "source": [
        "# 给人的感觉就是将两个单列结果的进行了链接。\n",
        "result['tip_pct']\n"
      ],
      "execution_count": 68,
      "outputs": [
        {
          "output_type": "execute_result",
          "data": {
            "text/html": [
              "<div>\n",
              "<style scoped>\n",
              "    .dataframe tbody tr th:only-of-type {\n",
              "        vertical-align: middle;\n",
              "    }\n",
              "\n",
              "    .dataframe tbody tr th {\n",
              "        vertical-align: top;\n",
              "    }\n",
              "\n",
              "    .dataframe thead th {\n",
              "        text-align: right;\n",
              "    }\n",
              "</style>\n",
              "<table border=\"1\" class=\"dataframe\">\n",
              "  <thead>\n",
              "    <tr style=\"text-align: right;\">\n",
              "      <th></th>\n",
              "      <th></th>\n",
              "      <th>count</th>\n",
              "      <th>mean</th>\n",
              "      <th>max</th>\n",
              "    </tr>\n",
              "    <tr>\n",
              "      <th>day</th>\n",
              "      <th>smoker</th>\n",
              "      <th></th>\n",
              "      <th></th>\n",
              "      <th></th>\n",
              "    </tr>\n",
              "  </thead>\n",
              "  <tbody>\n",
              "    <tr>\n",
              "      <th rowspan=\"2\" valign=\"top\">Fri</th>\n",
              "      <th>No</th>\n",
              "      <td>4</td>\n",
              "      <td>0.151650</td>\n",
              "      <td>0.187735</td>\n",
              "    </tr>\n",
              "    <tr>\n",
              "      <th>Yes</th>\n",
              "      <td>15</td>\n",
              "      <td>0.174783</td>\n",
              "      <td>0.263480</td>\n",
              "    </tr>\n",
              "    <tr>\n",
              "      <th rowspan=\"2\" valign=\"top\">Sat</th>\n",
              "      <th>No</th>\n",
              "      <td>45</td>\n",
              "      <td>0.158048</td>\n",
              "      <td>0.291990</td>\n",
              "    </tr>\n",
              "    <tr>\n",
              "      <th>Yes</th>\n",
              "      <td>42</td>\n",
              "      <td>0.147906</td>\n",
              "      <td>0.325733</td>\n",
              "    </tr>\n",
              "    <tr>\n",
              "      <th rowspan=\"2\" valign=\"top\">Sun</th>\n",
              "      <th>No</th>\n",
              "      <td>57</td>\n",
              "      <td>0.160113</td>\n",
              "      <td>0.252672</td>\n",
              "    </tr>\n",
              "    <tr>\n",
              "      <th>Yes</th>\n",
              "      <td>19</td>\n",
              "      <td>0.187250</td>\n",
              "      <td>0.710345</td>\n",
              "    </tr>\n",
              "    <tr>\n",
              "      <th rowspan=\"2\" valign=\"top\">Thur</th>\n",
              "      <th>No</th>\n",
              "      <td>45</td>\n",
              "      <td>0.160298</td>\n",
              "      <td>0.266312</td>\n",
              "    </tr>\n",
              "    <tr>\n",
              "      <th>Yes</th>\n",
              "      <td>17</td>\n",
              "      <td>0.163863</td>\n",
              "      <td>0.241255</td>\n",
              "    </tr>\n",
              "  </tbody>\n",
              "</table>\n",
              "</div>"
            ],
            "text/plain": [
              "             count      mean       max\n",
              "day  smoker                           \n",
              "Fri  No          4  0.151650  0.187735\n",
              "     Yes        15  0.174783  0.263480\n",
              "Sat  No         45  0.158048  0.291990\n",
              "     Yes        42  0.147906  0.325733\n",
              "Sun  No         57  0.160113  0.252672\n",
              "     Yes        19  0.187250  0.710345\n",
              "Thur No         45  0.160298  0.266312\n",
              "     Yes        17  0.163863  0.241255"
            ]
          },
          "metadata": {
            "tags": []
          },
          "execution_count": 68
        }
      ]
    },
    {
      "cell_type": "code",
      "metadata": {
        "id": "YQ5YaY-IaCbg",
        "colab_type": "code",
        "colab": {
          "base_uri": "https://localhost:8080/",
          "height": 328
        },
        "outputId": "ac1ec0c4-edbc-4999-8608-071bd14f7f10"
      },
      "source": [
        "result['total_bill']"
      ],
      "execution_count": 69,
      "outputs": [
        {
          "output_type": "execute_result",
          "data": {
            "text/html": [
              "<div>\n",
              "<style scoped>\n",
              "    .dataframe tbody tr th:only-of-type {\n",
              "        vertical-align: middle;\n",
              "    }\n",
              "\n",
              "    .dataframe tbody tr th {\n",
              "        vertical-align: top;\n",
              "    }\n",
              "\n",
              "    .dataframe thead th {\n",
              "        text-align: right;\n",
              "    }\n",
              "</style>\n",
              "<table border=\"1\" class=\"dataframe\">\n",
              "  <thead>\n",
              "    <tr style=\"text-align: right;\">\n",
              "      <th></th>\n",
              "      <th></th>\n",
              "      <th>count</th>\n",
              "      <th>mean</th>\n",
              "      <th>max</th>\n",
              "    </tr>\n",
              "    <tr>\n",
              "      <th>day</th>\n",
              "      <th>smoker</th>\n",
              "      <th></th>\n",
              "      <th></th>\n",
              "      <th></th>\n",
              "    </tr>\n",
              "  </thead>\n",
              "  <tbody>\n",
              "    <tr>\n",
              "      <th rowspan=\"2\" valign=\"top\">Fri</th>\n",
              "      <th>No</th>\n",
              "      <td>4</td>\n",
              "      <td>18.420000</td>\n",
              "      <td>22.75</td>\n",
              "    </tr>\n",
              "    <tr>\n",
              "      <th>Yes</th>\n",
              "      <td>15</td>\n",
              "      <td>16.813333</td>\n",
              "      <td>40.17</td>\n",
              "    </tr>\n",
              "    <tr>\n",
              "      <th rowspan=\"2\" valign=\"top\">Sat</th>\n",
              "      <th>No</th>\n",
              "      <td>45</td>\n",
              "      <td>19.661778</td>\n",
              "      <td>48.33</td>\n",
              "    </tr>\n",
              "    <tr>\n",
              "      <th>Yes</th>\n",
              "      <td>42</td>\n",
              "      <td>21.276667</td>\n",
              "      <td>50.81</td>\n",
              "    </tr>\n",
              "    <tr>\n",
              "      <th rowspan=\"2\" valign=\"top\">Sun</th>\n",
              "      <th>No</th>\n",
              "      <td>57</td>\n",
              "      <td>20.506667</td>\n",
              "      <td>48.17</td>\n",
              "    </tr>\n",
              "    <tr>\n",
              "      <th>Yes</th>\n",
              "      <td>19</td>\n",
              "      <td>24.120000</td>\n",
              "      <td>45.35</td>\n",
              "    </tr>\n",
              "    <tr>\n",
              "      <th rowspan=\"2\" valign=\"top\">Thur</th>\n",
              "      <th>No</th>\n",
              "      <td>45</td>\n",
              "      <td>17.113111</td>\n",
              "      <td>41.19</td>\n",
              "    </tr>\n",
              "    <tr>\n",
              "      <th>Yes</th>\n",
              "      <td>17</td>\n",
              "      <td>19.190588</td>\n",
              "      <td>43.11</td>\n",
              "    </tr>\n",
              "  </tbody>\n",
              "</table>\n",
              "</div>"
            ],
            "text/plain": [
              "             count       mean    max\n",
              "day  smoker                         \n",
              "Fri  No          4  18.420000  22.75\n",
              "     Yes        15  16.813333  40.17\n",
              "Sat  No         45  19.661778  48.33\n",
              "     Yes        42  21.276667  50.81\n",
              "Sun  No         57  20.506667  48.17\n",
              "     Yes        19  24.120000  45.35\n",
              "Thur No         45  17.113111  41.19\n",
              "     Yes        17  19.190588  43.11"
            ]
          },
          "metadata": {
            "tags": []
          },
          "execution_count": 69
        }
      ]
    },
    {
      "cell_type": "code",
      "metadata": {
        "id": "s4Qfc3ycaCev",
        "colab_type": "code",
        "colab": {
          "base_uri": "https://localhost:8080/",
          "height": 328
        },
        "outputId": "2ea93923-2772-45a7-f1b5-613d31e66596"
      },
      "source": [
        "reslut2 = pd.concat([result['tip_pct'], result['total_bill']], axis=1)\n",
        "reslut2"
      ],
      "execution_count": 73,
      "outputs": [
        {
          "output_type": "execute_result",
          "data": {
            "text/html": [
              "<div>\n",
              "<style scoped>\n",
              "    .dataframe tbody tr th:only-of-type {\n",
              "        vertical-align: middle;\n",
              "    }\n",
              "\n",
              "    .dataframe tbody tr th {\n",
              "        vertical-align: top;\n",
              "    }\n",
              "\n",
              "    .dataframe thead th {\n",
              "        text-align: right;\n",
              "    }\n",
              "</style>\n",
              "<table border=\"1\" class=\"dataframe\">\n",
              "  <thead>\n",
              "    <tr style=\"text-align: right;\">\n",
              "      <th></th>\n",
              "      <th></th>\n",
              "      <th>count</th>\n",
              "      <th>mean</th>\n",
              "      <th>max</th>\n",
              "      <th>count</th>\n",
              "      <th>mean</th>\n",
              "      <th>max</th>\n",
              "    </tr>\n",
              "    <tr>\n",
              "      <th>day</th>\n",
              "      <th>smoker</th>\n",
              "      <th></th>\n",
              "      <th></th>\n",
              "      <th></th>\n",
              "      <th></th>\n",
              "      <th></th>\n",
              "      <th></th>\n",
              "    </tr>\n",
              "  </thead>\n",
              "  <tbody>\n",
              "    <tr>\n",
              "      <th rowspan=\"2\" valign=\"top\">Fri</th>\n",
              "      <th>No</th>\n",
              "      <td>4</td>\n",
              "      <td>0.151650</td>\n",
              "      <td>0.187735</td>\n",
              "      <td>4</td>\n",
              "      <td>18.420000</td>\n",
              "      <td>22.75</td>\n",
              "    </tr>\n",
              "    <tr>\n",
              "      <th>Yes</th>\n",
              "      <td>15</td>\n",
              "      <td>0.174783</td>\n",
              "      <td>0.263480</td>\n",
              "      <td>15</td>\n",
              "      <td>16.813333</td>\n",
              "      <td>40.17</td>\n",
              "    </tr>\n",
              "    <tr>\n",
              "      <th rowspan=\"2\" valign=\"top\">Sat</th>\n",
              "      <th>No</th>\n",
              "      <td>45</td>\n",
              "      <td>0.158048</td>\n",
              "      <td>0.291990</td>\n",
              "      <td>45</td>\n",
              "      <td>19.661778</td>\n",
              "      <td>48.33</td>\n",
              "    </tr>\n",
              "    <tr>\n",
              "      <th>Yes</th>\n",
              "      <td>42</td>\n",
              "      <td>0.147906</td>\n",
              "      <td>0.325733</td>\n",
              "      <td>42</td>\n",
              "      <td>21.276667</td>\n",
              "      <td>50.81</td>\n",
              "    </tr>\n",
              "    <tr>\n",
              "      <th rowspan=\"2\" valign=\"top\">Sun</th>\n",
              "      <th>No</th>\n",
              "      <td>57</td>\n",
              "      <td>0.160113</td>\n",
              "      <td>0.252672</td>\n",
              "      <td>57</td>\n",
              "      <td>20.506667</td>\n",
              "      <td>48.17</td>\n",
              "    </tr>\n",
              "    <tr>\n",
              "      <th>Yes</th>\n",
              "      <td>19</td>\n",
              "      <td>0.187250</td>\n",
              "      <td>0.710345</td>\n",
              "      <td>19</td>\n",
              "      <td>24.120000</td>\n",
              "      <td>45.35</td>\n",
              "    </tr>\n",
              "    <tr>\n",
              "      <th rowspan=\"2\" valign=\"top\">Thur</th>\n",
              "      <th>No</th>\n",
              "      <td>45</td>\n",
              "      <td>0.160298</td>\n",
              "      <td>0.266312</td>\n",
              "      <td>45</td>\n",
              "      <td>17.113111</td>\n",
              "      <td>41.19</td>\n",
              "    </tr>\n",
              "    <tr>\n",
              "      <th>Yes</th>\n",
              "      <td>17</td>\n",
              "      <td>0.163863</td>\n",
              "      <td>0.241255</td>\n",
              "      <td>17</td>\n",
              "      <td>19.190588</td>\n",
              "      <td>43.11</td>\n",
              "    </tr>\n",
              "  </tbody>\n",
              "</table>\n",
              "</div>"
            ],
            "text/plain": [
              "             count      mean       max  count       mean    max\n",
              "day  smoker                                                    \n",
              "Fri  No          4  0.151650  0.187735      4  18.420000  22.75\n",
              "     Yes        15  0.174783  0.263480     15  16.813333  40.17\n",
              "Sat  No         45  0.158048  0.291990     45  19.661778  48.33\n",
              "     Yes        42  0.147906  0.325733     42  21.276667  50.81\n",
              "Sun  No         57  0.160113  0.252672     57  20.506667  48.17\n",
              "     Yes        19  0.187250  0.710345     19  24.120000  45.35\n",
              "Thur No         45  0.160298  0.266312     45  17.113111  41.19\n",
              "     Yes        17  0.163863  0.241255     17  19.190588  43.11"
            ]
          },
          "metadata": {
            "tags": []
          },
          "execution_count": 73
        }
      ]
    },
    {
      "cell_type": "code",
      "metadata": {
        "id": "UKEeuOqEa3vS",
        "colab_type": "code",
        "colab": {
          "base_uri": "https://localhost:8080/",
          "height": 197
        },
        "outputId": "2d5d8efc-f8ee-4cff-ebd1-91522f5cb378"
      },
      "source": [
        "# 如果要对不同的列，使用不同的函数该如何处理呢？\n",
        "\n",
        "grouped.size()"
      ],
      "execution_count": 75,
      "outputs": [
        {
          "output_type": "execute_result",
          "data": {
            "text/plain": [
              "day   smoker\n",
              "Fri   No         4\n",
              "      Yes       15\n",
              "Sat   No        45\n",
              "      Yes       42\n",
              "Sun   No        57\n",
              "      Yes       19\n",
              "Thur  No        45\n",
              "      Yes       17\n",
              "dtype: int64"
            ]
          },
          "metadata": {
            "tags": []
          },
          "execution_count": 75
        }
      ]
    },
    {
      "cell_type": "code",
      "metadata": {
        "id": "Fn9mQXvCa3yg",
        "colab_type": "code",
        "colab": {
          "base_uri": "https://localhost:8080/",
          "height": 328
        },
        "outputId": "5a4a76eb-50df-4643-d41e-2b5b333e8d56"
      },
      "source": [
        "# 对不同的列使用不同列使用不同的单个函数。 tip列使用 max函数。对size列使用sum函数。\n",
        "grouped.agg({'tip':'max', 'size':'sum'})"
      ],
      "execution_count": 76,
      "outputs": [
        {
          "output_type": "execute_result",
          "data": {
            "text/html": [
              "<div>\n",
              "<style scoped>\n",
              "    .dataframe tbody tr th:only-of-type {\n",
              "        vertical-align: middle;\n",
              "    }\n",
              "\n",
              "    .dataframe tbody tr th {\n",
              "        vertical-align: top;\n",
              "    }\n",
              "\n",
              "    .dataframe thead th {\n",
              "        text-align: right;\n",
              "    }\n",
              "</style>\n",
              "<table border=\"1\" class=\"dataframe\">\n",
              "  <thead>\n",
              "    <tr style=\"text-align: right;\">\n",
              "      <th></th>\n",
              "      <th></th>\n",
              "      <th>tip</th>\n",
              "      <th>size</th>\n",
              "    </tr>\n",
              "    <tr>\n",
              "      <th>day</th>\n",
              "      <th>smoker</th>\n",
              "      <th></th>\n",
              "      <th></th>\n",
              "    </tr>\n",
              "  </thead>\n",
              "  <tbody>\n",
              "    <tr>\n",
              "      <th rowspan=\"2\" valign=\"top\">Fri</th>\n",
              "      <th>No</th>\n",
              "      <td>3.50</td>\n",
              "      <td>9</td>\n",
              "    </tr>\n",
              "    <tr>\n",
              "      <th>Yes</th>\n",
              "      <td>4.73</td>\n",
              "      <td>31</td>\n",
              "    </tr>\n",
              "    <tr>\n",
              "      <th rowspan=\"2\" valign=\"top\">Sat</th>\n",
              "      <th>No</th>\n",
              "      <td>9.00</td>\n",
              "      <td>115</td>\n",
              "    </tr>\n",
              "    <tr>\n",
              "      <th>Yes</th>\n",
              "      <td>10.00</td>\n",
              "      <td>104</td>\n",
              "    </tr>\n",
              "    <tr>\n",
              "      <th rowspan=\"2\" valign=\"top\">Sun</th>\n",
              "      <th>No</th>\n",
              "      <td>6.00</td>\n",
              "      <td>167</td>\n",
              "    </tr>\n",
              "    <tr>\n",
              "      <th>Yes</th>\n",
              "      <td>6.50</td>\n",
              "      <td>49</td>\n",
              "    </tr>\n",
              "    <tr>\n",
              "      <th rowspan=\"2\" valign=\"top\">Thur</th>\n",
              "      <th>No</th>\n",
              "      <td>6.70</td>\n",
              "      <td>112</td>\n",
              "    </tr>\n",
              "    <tr>\n",
              "      <th>Yes</th>\n",
              "      <td>5.00</td>\n",
              "      <td>40</td>\n",
              "    </tr>\n",
              "  </tbody>\n",
              "</table>\n",
              "</div>"
            ],
            "text/plain": [
              "               tip  size\n",
              "day  smoker             \n",
              "Fri  No       3.50     9\n",
              "     Yes      4.73    31\n",
              "Sat  No       9.00   115\n",
              "     Yes     10.00   104\n",
              "Sun  No       6.00   167\n",
              "     Yes      6.50    49\n",
              "Thur No       6.70   112\n",
              "     Yes      5.00    40"
            ]
          },
          "metadata": {
            "tags": []
          },
          "execution_count": 76
        }
      ]
    },
    {
      "cell_type": "code",
      "metadata": {
        "id": "yDx40eWPa31X",
        "colab_type": "code",
        "colab": {
          "base_uri": "https://localhost:8080/",
          "height": 359
        },
        "outputId": "8c19de80-89dc-43b5-92e8-c4705f9ec718"
      },
      "source": [
        "# 对不同的列使用不同的函数组。\n",
        "grouped.aggregate({'tip':['max','min','mean'], 'size':['sum','std']})"
      ],
      "execution_count": 77,
      "outputs": [
        {
          "output_type": "execute_result",
          "data": {
            "text/html": [
              "<div>\n",
              "<style scoped>\n",
              "    .dataframe tbody tr th:only-of-type {\n",
              "        vertical-align: middle;\n",
              "    }\n",
              "\n",
              "    .dataframe tbody tr th {\n",
              "        vertical-align: top;\n",
              "    }\n",
              "\n",
              "    .dataframe thead tr th {\n",
              "        text-align: left;\n",
              "    }\n",
              "\n",
              "    .dataframe thead tr:last-of-type th {\n",
              "        text-align: right;\n",
              "    }\n",
              "</style>\n",
              "<table border=\"1\" class=\"dataframe\">\n",
              "  <thead>\n",
              "    <tr>\n",
              "      <th></th>\n",
              "      <th></th>\n",
              "      <th colspan=\"3\" halign=\"left\">tip</th>\n",
              "      <th colspan=\"2\" halign=\"left\">size</th>\n",
              "    </tr>\n",
              "    <tr>\n",
              "      <th></th>\n",
              "      <th></th>\n",
              "      <th>max</th>\n",
              "      <th>min</th>\n",
              "      <th>mean</th>\n",
              "      <th>sum</th>\n",
              "      <th>std</th>\n",
              "    </tr>\n",
              "    <tr>\n",
              "      <th>day</th>\n",
              "      <th>smoker</th>\n",
              "      <th></th>\n",
              "      <th></th>\n",
              "      <th></th>\n",
              "      <th></th>\n",
              "      <th></th>\n",
              "    </tr>\n",
              "  </thead>\n",
              "  <tbody>\n",
              "    <tr>\n",
              "      <th rowspan=\"2\" valign=\"top\">Fri</th>\n",
              "      <th>No</th>\n",
              "      <td>3.50</td>\n",
              "      <td>1.50</td>\n",
              "      <td>2.812500</td>\n",
              "      <td>9</td>\n",
              "      <td>0.500000</td>\n",
              "    </tr>\n",
              "    <tr>\n",
              "      <th>Yes</th>\n",
              "      <td>4.73</td>\n",
              "      <td>1.00</td>\n",
              "      <td>2.714000</td>\n",
              "      <td>31</td>\n",
              "      <td>0.593617</td>\n",
              "    </tr>\n",
              "    <tr>\n",
              "      <th rowspan=\"2\" valign=\"top\">Sat</th>\n",
              "      <th>No</th>\n",
              "      <td>9.00</td>\n",
              "      <td>1.00</td>\n",
              "      <td>3.102889</td>\n",
              "      <td>115</td>\n",
              "      <td>0.784960</td>\n",
              "    </tr>\n",
              "    <tr>\n",
              "      <th>Yes</th>\n",
              "      <td>10.00</td>\n",
              "      <td>1.00</td>\n",
              "      <td>2.875476</td>\n",
              "      <td>104</td>\n",
              "      <td>0.862161</td>\n",
              "    </tr>\n",
              "    <tr>\n",
              "      <th rowspan=\"2\" valign=\"top\">Sun</th>\n",
              "      <th>No</th>\n",
              "      <td>6.00</td>\n",
              "      <td>1.01</td>\n",
              "      <td>3.167895</td>\n",
              "      <td>167</td>\n",
              "      <td>1.032674</td>\n",
              "    </tr>\n",
              "    <tr>\n",
              "      <th>Yes</th>\n",
              "      <td>6.50</td>\n",
              "      <td>1.50</td>\n",
              "      <td>3.516842</td>\n",
              "      <td>49</td>\n",
              "      <td>0.901591</td>\n",
              "    </tr>\n",
              "    <tr>\n",
              "      <th rowspan=\"2\" valign=\"top\">Thur</th>\n",
              "      <th>No</th>\n",
              "      <td>6.70</td>\n",
              "      <td>1.25</td>\n",
              "      <td>2.673778</td>\n",
              "      <td>112</td>\n",
              "      <td>1.179796</td>\n",
              "    </tr>\n",
              "    <tr>\n",
              "      <th>Yes</th>\n",
              "      <td>5.00</td>\n",
              "      <td>2.00</td>\n",
              "      <td>3.030000</td>\n",
              "      <td>40</td>\n",
              "      <td>0.701888</td>\n",
              "    </tr>\n",
              "  </tbody>\n",
              "</table>\n",
              "</div>"
            ],
            "text/plain": [
              "               tip                 size          \n",
              "               max   min      mean  sum       std\n",
              "day  smoker                                      \n",
              "Fri  No       3.50  1.50  2.812500    9  0.500000\n",
              "     Yes      4.73  1.00  2.714000   31  0.593617\n",
              "Sat  No       9.00  1.00  3.102889  115  0.784960\n",
              "     Yes     10.00  1.00  2.875476  104  0.862161\n",
              "Sun  No       6.00  1.01  3.167895  167  1.032674\n",
              "     Yes      6.50  1.50  3.516842   49  0.901591\n",
              "Thur No       6.70  1.25  2.673778  112  1.179796\n",
              "     Yes      5.00  2.00  3.030000   40  0.701888"
            ]
          },
          "metadata": {
            "tags": []
          },
          "execution_count": 77
        }
      ]
    },
    {
      "cell_type": "code",
      "metadata": {
        "id": "FCkr8muDcb8J",
        "colab_type": "code",
        "colab": {
          "base_uri": "https://localhost:8080/",
          "height": 359
        },
        "outputId": "03b484c8-db77-4b67-f9e9-5a2f491a963f"
      },
      "source": [
        "# 顺便帮其改名。\n",
        "grouped.aggregate({'tip':[('fuck1','max'),('fuck2','min'),('fuck3','mean')], 'size':['sum','std']})"
      ],
      "execution_count": 79,
      "outputs": [
        {
          "output_type": "execute_result",
          "data": {
            "text/html": [
              "<div>\n",
              "<style scoped>\n",
              "    .dataframe tbody tr th:only-of-type {\n",
              "        vertical-align: middle;\n",
              "    }\n",
              "\n",
              "    .dataframe tbody tr th {\n",
              "        vertical-align: top;\n",
              "    }\n",
              "\n",
              "    .dataframe thead tr th {\n",
              "        text-align: left;\n",
              "    }\n",
              "\n",
              "    .dataframe thead tr:last-of-type th {\n",
              "        text-align: right;\n",
              "    }\n",
              "</style>\n",
              "<table border=\"1\" class=\"dataframe\">\n",
              "  <thead>\n",
              "    <tr>\n",
              "      <th></th>\n",
              "      <th></th>\n",
              "      <th colspan=\"3\" halign=\"left\">tip</th>\n",
              "      <th colspan=\"2\" halign=\"left\">size</th>\n",
              "    </tr>\n",
              "    <tr>\n",
              "      <th></th>\n",
              "      <th></th>\n",
              "      <th>fuck1</th>\n",
              "      <th>fuck2</th>\n",
              "      <th>fuck3</th>\n",
              "      <th>sum</th>\n",
              "      <th>std</th>\n",
              "    </tr>\n",
              "    <tr>\n",
              "      <th>day</th>\n",
              "      <th>smoker</th>\n",
              "      <th></th>\n",
              "      <th></th>\n",
              "      <th></th>\n",
              "      <th></th>\n",
              "      <th></th>\n",
              "    </tr>\n",
              "  </thead>\n",
              "  <tbody>\n",
              "    <tr>\n",
              "      <th rowspan=\"2\" valign=\"top\">Fri</th>\n",
              "      <th>No</th>\n",
              "      <td>3.50</td>\n",
              "      <td>1.50</td>\n",
              "      <td>2.812500</td>\n",
              "      <td>9</td>\n",
              "      <td>0.500000</td>\n",
              "    </tr>\n",
              "    <tr>\n",
              "      <th>Yes</th>\n",
              "      <td>4.73</td>\n",
              "      <td>1.00</td>\n",
              "      <td>2.714000</td>\n",
              "      <td>31</td>\n",
              "      <td>0.593617</td>\n",
              "    </tr>\n",
              "    <tr>\n",
              "      <th rowspan=\"2\" valign=\"top\">Sat</th>\n",
              "      <th>No</th>\n",
              "      <td>9.00</td>\n",
              "      <td>1.00</td>\n",
              "      <td>3.102889</td>\n",
              "      <td>115</td>\n",
              "      <td>0.784960</td>\n",
              "    </tr>\n",
              "    <tr>\n",
              "      <th>Yes</th>\n",
              "      <td>10.00</td>\n",
              "      <td>1.00</td>\n",
              "      <td>2.875476</td>\n",
              "      <td>104</td>\n",
              "      <td>0.862161</td>\n",
              "    </tr>\n",
              "    <tr>\n",
              "      <th rowspan=\"2\" valign=\"top\">Sun</th>\n",
              "      <th>No</th>\n",
              "      <td>6.00</td>\n",
              "      <td>1.01</td>\n",
              "      <td>3.167895</td>\n",
              "      <td>167</td>\n",
              "      <td>1.032674</td>\n",
              "    </tr>\n",
              "    <tr>\n",
              "      <th>Yes</th>\n",
              "      <td>6.50</td>\n",
              "      <td>1.50</td>\n",
              "      <td>3.516842</td>\n",
              "      <td>49</td>\n",
              "      <td>0.901591</td>\n",
              "    </tr>\n",
              "    <tr>\n",
              "      <th rowspan=\"2\" valign=\"top\">Thur</th>\n",
              "      <th>No</th>\n",
              "      <td>6.70</td>\n",
              "      <td>1.25</td>\n",
              "      <td>2.673778</td>\n",
              "      <td>112</td>\n",
              "      <td>1.179796</td>\n",
              "    </tr>\n",
              "    <tr>\n",
              "      <th>Yes</th>\n",
              "      <td>5.00</td>\n",
              "      <td>2.00</td>\n",
              "      <td>3.030000</td>\n",
              "      <td>40</td>\n",
              "      <td>0.701888</td>\n",
              "    </tr>\n",
              "  </tbody>\n",
              "</table>\n",
              "</div>"
            ],
            "text/plain": [
              "               tip                 size          \n",
              "             fuck1 fuck2     fuck3  sum       std\n",
              "day  smoker                                      \n",
              "Fri  No       3.50  1.50  2.812500    9  0.500000\n",
              "     Yes      4.73  1.00  2.714000   31  0.593617\n",
              "Sat  No       9.00  1.00  3.102889  115  0.784960\n",
              "     Yes     10.00  1.00  2.875476  104  0.862161\n",
              "Sun  No       6.00  1.01  3.167895  167  1.032674\n",
              "     Yes      6.50  1.50  3.516842   49  0.901591\n",
              "Thur No       6.70  1.25  2.673778  112  1.179796\n",
              "     Yes      5.00  2.00  3.030000   40  0.701888"
            ]
          },
          "metadata": {
            "tags": []
          },
          "execution_count": 79
        }
      ]
    },
    {
      "cell_type": "markdown",
      "metadata": {
        "id": "qBwznp6epDRS",
        "colab_type": "text"
      },
      "source": [
        "### Returning Aggregated Data Without Row Indexes"
      ]
    },
    {
      "cell_type": "markdown",
      "metadata": {
        "id": "P9F84JuypnJE",
        "colab_type": "text"
      },
      "source": [
        "## 10.3 Apply: General split-apply-combine"
      ]
    },
    {
      "cell_type": "markdown",
      "metadata": {
        "id": "oHFMwR2spnMK",
        "colab_type": "text"
      },
      "source": [
        "### Suppressing the Group Keys"
      ]
    },
    {
      "cell_type": "markdown",
      "metadata": {
        "id": "apRVOxTvpnP6",
        "colab_type": "text"
      },
      "source": [
        "### Quantile and Bucket Analysis"
      ]
    },
    {
      "cell_type": "markdown",
      "metadata": {
        "id": "7HwvoT22pxWa",
        "colab_type": "text"
      },
      "source": [
        "### Example: Filling Missing Values with Group-Specific Values"
      ]
    },
    {
      "cell_type": "markdown",
      "metadata": {
        "id": "tuLPl7xJpxZ7",
        "colab_type": "text"
      },
      "source": [
        "### Example: Random Sampling and Permutation"
      ]
    },
    {
      "cell_type": "markdown",
      "metadata": {
        "id": "3xzz__Igpxfx",
        "colab_type": "text"
      },
      "source": [
        "### Example: Group Weighted Average and Correlation\n",
        "\n"
      ]
    },
    {
      "cell_type": "markdown",
      "metadata": {
        "id": "iFiC0Q07pxi6",
        "colab_type": "text"
      },
      "source": [
        "### Example: Group-Wise Linear Regression"
      ]
    },
    {
      "cell_type": "markdown",
      "metadata": {
        "id": "KBIGDYQapxmK",
        "colab_type": "text"
      },
      "source": [
        "## 10.4 Pivot Tables and Cross-Tabulation"
      ]
    },
    {
      "cell_type": "markdown",
      "metadata": {
        "id": "FIneppego_Ry",
        "colab_type": "text"
      },
      "source": [
        "### Cross-Tabulations: Crosstab"
      ]
    },
    {
      "cell_type": "markdown",
      "metadata": {
        "id": "ma5z159bpBgi",
        "colab_type": "text"
      },
      "source": [
        ""
      ]
    }
  ]
}