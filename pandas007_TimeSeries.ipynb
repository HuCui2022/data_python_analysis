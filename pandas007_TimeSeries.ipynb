{
  "nbformat": 4,
  "nbformat_minor": 0,
  "metadata": {
    "colab": {
      "name": "pandas007_TimeSeries.ipynb",
      "provenance": [],
      "collapsed_sections": [],
      "authorship_tag": "ABX9TyORB9fOI1c/JLuCm1ixrLZL",
      "include_colab_link": true
    },
    "kernelspec": {
      "name": "python3",
      "display_name": "Python 3"
    }
  },
  "cells": [
    {
      "cell_type": "markdown",
      "metadata": {
        "id": "view-in-github",
        "colab_type": "text"
      },
      "source": [
        "<a href=\"https://colab.research.google.com/github/smiledinisa/data_python_analysis/blob/master/pandas007_TimeSeries.ipynb\" target=\"_parent\"><img src=\"https://colab.research.google.com/assets/colab-badge.svg\" alt=\"Open In Colab\"/></a>"
      ]
    },
    {
      "cell_type": "code",
      "metadata": {
        "id": "4uHpwB5GooG4",
        "colab_type": "code",
        "colab": {
          "base_uri": "https://localhost:8080/",
          "height": 127
        },
        "outputId": "417c7168-30ba-4f65-8e21-df988f1ae339"
      },
      "source": [
        "from google.colab import drive\n",
        "drive.mount('/content/drive')"
      ],
      "execution_count": 2,
      "outputs": [
        {
          "output_type": "stream",
          "text": [
            "Go to this URL in a browser: https://accounts.google.com/o/oauth2/auth?client_id=947318989803-6bn6qk8qdgf4n4g3pfee6491hc0brc4i.apps.googleusercontent.com&redirect_uri=urn%3aietf%3awg%3aoauth%3a2.0%3aoob&scope=email%20https%3a%2f%2fwww.googleapis.com%2fauth%2fdocs.test%20https%3a%2f%2fwww.googleapis.com%2fauth%2fdrive%20https%3a%2f%2fwww.googleapis.com%2fauth%2fdrive.photos.readonly%20https%3a%2f%2fwww.googleapis.com%2fauth%2fpeopleapi.readonly&response_type=code\n",
            "\n",
            "Enter your authorization code:\n",
            "··········\n",
            "Mounted at /content/drive\n"
          ],
          "name": "stdout"
        }
      ]
    },
    {
      "cell_type": "code",
      "metadata": {
        "id": "mrgg0hZyo9XE",
        "colab_type": "code",
        "colab": {
          "base_uri": "https://localhost:8080/",
          "height": 35
        },
        "outputId": "3a8ba660-5aaa-42cf-bd0e-697e0f8d7ac8"
      },
      "source": [
        "cd /content/drive/My Drive"
      ],
      "execution_count": 3,
      "outputs": [
        {
          "output_type": "stream",
          "text": [
            "/content/drive/My Drive\n"
          ],
          "name": "stdout"
        }
      ]
    },
    {
      "cell_type": "code",
      "metadata": {
        "id": "u1Lqn9NEpSUk",
        "colab_type": "code",
        "colab": {}
      },
      "source": [
        ""
      ],
      "execution_count": null,
      "outputs": []
    },
    {
      "cell_type": "markdown",
      "metadata": {
        "id": "yVGQ8TTjAIvI",
        "colab_type": "text"
      },
      "source": [
        "# CHAPTER 11 :Time Series\n",
        "\n",
        " you may have one of the  \n",
        "\n",
        "\n",
        "following:  \n",
        "• Timestamps, specific instants in time  \n",
        "• Fixed periods, such as the month January 2007 or the full year 2010  \n",
        "• Intervals of time, indicated by a start and end timestamp. Periods can be   thought  \n",
        "of as special cases of intervals  \n",
        "• Experiment or elapsed time; each timestamp is a measure of time relative to a  \n",
        "particular start time (e.g., the diameter of a cookie baking each second since  \n",
        "being placed in the oven)  \n",
        "\n",
        "\n",
        "时间索引类型：\n",
        "\n",
        "时间戳。\n",
        "\n",
        "时间段。\n",
        "\n",
        "时间间隔。\n",
        "\n",
        "累计时间间隔。\n",
        "\n",
        "\n",
        "\n"
      ]
    },
    {
      "cell_type": "markdown",
      "metadata": {
        "id": "BtxbEh_iAIyF",
        "colab_type": "text"
      },
      "source": [
        "## 11.1 Date and Time Data Types and Tools\n",
        "\n",
        "\n",
        "![链接文字](https://img-blog.csdnimg.cn/20200821163726427.png?x-oss-process=image/watermark,type_ZmFuZ3poZW5naGVpdGk,shadow_10,text_aHR0cHM6Ly9ibG9nLmNzZG4ubmV0L2dhb2N1aTg4Mw==,size_16,color_FFFFFF,t_70#pic_center)"
      ]
    },
    {
      "cell_type": "code",
      "metadata": {
        "id": "jFVwuDdDKtck",
        "colab_type": "code",
        "colab": {}
      },
      "source": [
        "# 基础的一些时间类模块。\n",
        "\n",
        "from datetime import datetime"
      ],
      "execution_count": 28,
      "outputs": []
    },
    {
      "cell_type": "code",
      "metadata": {
        "id": "x7yQueY2Ktfq",
        "colab_type": "code",
        "colab": {
          "base_uri": "https://localhost:8080/",
          "height": 35
        },
        "outputId": "2c3161de-0c45-42f8-f96d-38f6de673873"
      },
      "source": [
        "now = datetime.now()\n",
        "now"
      ],
      "execution_count": 5,
      "outputs": [
        {
          "output_type": "execute_result",
          "data": {
            "text/plain": [
              "datetime.datetime(2020, 8, 21, 8, 39, 12, 36627)"
            ]
          },
          "metadata": {
            "tags": []
          },
          "execution_count": 5
        }
      ]
    },
    {
      "cell_type": "code",
      "metadata": {
        "id": "e3s5suIIKtii",
        "colab_type": "code",
        "colab": {
          "base_uri": "https://localhost:8080/",
          "height": 35
        },
        "outputId": "f7db3b1c-41e0-4f17-cae8-81bbbb78ebde"
      },
      "source": [
        "now.year\n"
      ],
      "execution_count": 6,
      "outputs": [
        {
          "output_type": "execute_result",
          "data": {
            "text/plain": [
              "2020"
            ]
          },
          "metadata": {
            "tags": []
          },
          "execution_count": 6
        }
      ]
    },
    {
      "cell_type": "code",
      "metadata": {
        "id": "kfK4NWW8LMsS",
        "colab_type": "code",
        "colab": {
          "base_uri": "https://localhost:8080/",
          "height": 35
        },
        "outputId": "230fe05a-4bc0-4caf-bd29-89d59e15dab2"
      },
      "source": [
        "delta = datetime(2011,1,5) - datetime(2010,2,3,12,8,3)\n",
        "delta"
      ],
      "execution_count": 9,
      "outputs": [
        {
          "output_type": "execute_result",
          "data": {
            "text/plain": [
              "datetime.timedelta(335, 42717)"
            ]
          },
          "metadata": {
            "tags": []
          },
          "execution_count": 9
        }
      ]
    },
    {
      "cell_type": "code",
      "metadata": {
        "id": "82aftLYOLMvK",
        "colab_type": "code",
        "colab": {
          "base_uri": "https://localhost:8080/",
          "height": 35
        },
        "outputId": "1112be56-5925-428f-db84-30aa6485dd19"
      },
      "source": [
        "delta.days"
      ],
      "execution_count": 10,
      "outputs": [
        {
          "output_type": "execute_result",
          "data": {
            "text/plain": [
              "335"
            ]
          },
          "metadata": {
            "tags": []
          },
          "execution_count": 10
        }
      ]
    },
    {
      "cell_type": "code",
      "metadata": {
        "id": "2W64KdJHLgyS",
        "colab_type": "code",
        "colab": {
          "base_uri": "https://localhost:8080/",
          "height": 53
        },
        "outputId": "efe3fad6-25f5-4763-e22d-7fd1623dc05c"
      },
      "source": [
        "from datetime import timedelta\n",
        "start = datetime(2011,1,7)\n",
        "\n",
        "x = start + timedelta(13)\n",
        "print(x)\n",
        "\n",
        "y = start - 2*timedelta(12)\n",
        "print(y)"
      ],
      "execution_count": 27,
      "outputs": [
        {
          "output_type": "stream",
          "text": [
            "2011-01-20 00:00:00\n",
            "2010-12-14 00:00:00\n"
          ],
          "name": "stdout"
        }
      ]
    },
    {
      "cell_type": "code",
      "metadata": {
        "id": "jwSsvHmNPK4Z",
        "colab_type": "code",
        "colab": {
          "base_uri": "https://localhost:8080/",
          "height": 35
        },
        "outputId": "fbef7390-509d-45b9-86a6-f933a93d540d"
      },
      "source": [
        "x.isoformat()"
      ],
      "execution_count": 12,
      "outputs": [
        {
          "output_type": "execute_result",
          "data": {
            "application/vnd.google.colaboratory.intrinsic+json": {
              "type": "string"
            },
            "text/plain": [
              "'2011-01-20T00:00:00'"
            ]
          },
          "metadata": {
            "tags": []
          },
          "execution_count": 12
        }
      ]
    },
    {
      "cell_type": "code",
      "metadata": {
        "id": "GA35c475PThx",
        "colab_type": "code",
        "colab": {
          "base_uri": "https://localhost:8080/",
          "height": 35
        },
        "outputId": "ee9fab0c-bc8e-46a3-d81e-2047f340b1e2"
      },
      "source": [
        "x.isocalendar() # 返回year,week,day."
      ],
      "execution_count": 13,
      "outputs": [
        {
          "output_type": "execute_result",
          "data": {
            "text/plain": [
              "(2011, 3, 4)"
            ]
          },
          "metadata": {
            "tags": []
          },
          "execution_count": 13
        }
      ]
    },
    {
      "cell_type": "code",
      "metadata": {
        "id": "D466OYSfPTkh",
        "colab_type": "code",
        "colab": {
          "base_uri": "https://localhost:8080/",
          "height": 35
        },
        "outputId": "fcab4c73-1507-4dd4-a4cb-3358fc24db30"
      },
      "source": [
        "x.weekday() # 星期4.     0 - 6 星期1到天。"
      ],
      "execution_count": 14,
      "outputs": [
        {
          "output_type": "execute_result",
          "data": {
            "text/plain": [
              "3"
            ]
          },
          "metadata": {
            "tags": []
          },
          "execution_count": 14
        }
      ]
    },
    {
      "cell_type": "code",
      "metadata": {
        "id": "JoeNWN4qQUYY",
        "colab_type": "code",
        "colab": {
          "base_uri": "https://localhost:8080/",
          "height": 35
        },
        "outputId": "791c1be0-19e0-4e35-9e87-9a3fd192a026"
      },
      "source": [
        "x.ctime() # 返回一个日期字符串。"
      ],
      "execution_count": 15,
      "outputs": [
        {
          "output_type": "execute_result",
          "data": {
            "application/vnd.google.colaboratory.intrinsic+json": {
              "type": "string"
            },
            "text/plain": [
              "'Thu Jan 20 00:00:00 2011'"
            ]
          },
          "metadata": {
            "tags": []
          },
          "execution_count": 15
        }
      ]
    },
    {
      "cell_type": "code",
      "metadata": {
        "id": "_Eln4qFWQUbY",
        "colab_type": "code",
        "colab": {
          "base_uri": "https://localhost:8080/",
          "height": 35
        },
        "outputId": "339b5cd2-39f0-46c9-df0d-425ccb4ab84d"
      },
      "source": [
        "x.strftime('%Y-%m-%d')"
      ],
      "execution_count": 21,
      "outputs": [
        {
          "output_type": "execute_result",
          "data": {
            "application/vnd.google.colaboratory.intrinsic+json": {
              "type": "string"
            },
            "text/plain": [
              "'2011-01-20'"
            ]
          },
          "metadata": {
            "tags": []
          },
          "execution_count": 21
        }
      ]
    },
    {
      "cell_type": "markdown",
      "metadata": {
        "id": "5IufDkawAI1G",
        "colab_type": "text"
      },
      "source": [
        "### Converting Between String and Datetime\n",
        "\n",
        "\n",
        "字符串和时间时间的转换。\n",
        "\n",
        "\n",
        "![链接文字](https://img-blog.csdnimg.cn/20200821171946921.png?x-oss-process=image/watermark,type_ZmFuZ3poZW5naGVpdGk,shadow_10,text_aHR0cHM6Ly9ibG9nLmNzZG4ubmV0L2dhb2N1aTg4Mw==,size_16,color_FFFFFF,t_70#pic_center)\n",
        "\n",
        "\n",
        "![链接文字](https://img-blog.csdnimg.cn/20200821173940899.png?x-oss-process=image/watermark,type_ZmFuZ3poZW5naGVpdGk,shadow_10,text_aHR0cHM6Ly9ibG9nLmNzZG4ubmV0L2dhb2N1aTg4Mw==,size_16,color_FFFFFF,t_70#pic_center)"
      ]
    },
    {
      "cell_type": "code",
      "metadata": {
        "id": "xsZKCoiPLg3y",
        "colab_type": "code",
        "colab": {}
      },
      "source": [
        "# datetime.strptime\n",
        "# dateutil.parser import parse\n",
        "# "
      ],
      "execution_count": null,
      "outputs": []
    },
    {
      "cell_type": "code",
      "metadata": {
        "id": "AsLoKpAZ-3XH",
        "colab_type": "code",
        "colab": {
          "base_uri": "https://localhost:8080/",
          "height": 35
        },
        "outputId": "5ddc5fbe-efc7-4340-f010-9aa6909ddf3b"
      },
      "source": [
        "# 直接用str,strftime method 来进行时间和字符串的转换。\n",
        "\n",
        "stamp = datetime(2011, 1, 3)\n",
        "\n",
        "stamp"
      ],
      "execution_count": 24,
      "outputs": [
        {
          "output_type": "execute_result",
          "data": {
            "text/plain": [
              "datetime.datetime(2011, 1, 3, 0, 0)"
            ]
          },
          "metadata": {
            "tags": []
          },
          "execution_count": 24
        }
      ]
    },
    {
      "cell_type": "code",
      "metadata": {
        "id": "MVq2HxNt-3Mv",
        "colab_type": "code",
        "colab": {
          "base_uri": "https://localhost:8080/",
          "height": 35
        },
        "outputId": "a82426b6-a12f-4d1b-9bea-98f2ed69665b"
      },
      "source": [
        "str(stamp)  #str 模式。"
      ],
      "execution_count": 25,
      "outputs": [
        {
          "output_type": "execute_result",
          "data": {
            "application/vnd.google.colaboratory.intrinsic+json": {
              "type": "string"
            },
            "text/plain": [
              "'2011-01-03 00:00:00'"
            ]
          },
          "metadata": {
            "tags": []
          },
          "execution_count": 25
        }
      ]
    },
    {
      "cell_type": "code",
      "metadata": {
        "id": "t9Uf6hrq-3A4",
        "colab_type": "code",
        "colab": {
          "base_uri": "https://localhost:8080/",
          "height": 35
        },
        "outputId": "eacd0ee6-86b3-49b9-f0f5-d796634b08a3"
      },
      "source": [
        "stamp.strftime('%Y-%m-%d') # str format time "
      ],
      "execution_count": 26,
      "outputs": [
        {
          "output_type": "execute_result",
          "data": {
            "application/vnd.google.colaboratory.intrinsic+json": {
              "type": "string"
            },
            "text/plain": [
              "'2011-01-03'"
            ]
          },
          "metadata": {
            "tags": []
          },
          "execution_count": 26
        }
      ]
    },
    {
      "cell_type": "code",
      "metadata": {
        "id": "iMsTd8kg_1ya",
        "colab_type": "code",
        "colab": {
          "base_uri": "https://localhost:8080/",
          "height": 35
        },
        "outputId": "ffa47d16-1061-4c2c-8d81-7d7139370513"
      },
      "source": [
        "# 来识别特定格式的字符串时间序列。 \n",
        "# 关键字strptime  str pass time\n",
        "\n",
        "value = '2011-01-03'\n",
        "\n",
        "datetime.strptime(value, '%Y-%m-%d') # 得到特定格式的时间字符串，转换成datatime 类型。"
      ],
      "execution_count": 29,
      "outputs": [
        {
          "output_type": "execute_result",
          "data": {
            "text/plain": [
              "datetime.datetime(2011, 1, 3, 0, 0)"
            ]
          },
          "metadata": {
            "tags": []
          },
          "execution_count": 29
        }
      ]
    },
    {
      "cell_type": "code",
      "metadata": {
        "id": "UH-Jn0js_11P",
        "colab_type": "code",
        "colab": {
          "base_uri": "https://localhost:8080/",
          "height": 359
        },
        "outputId": "b3a0e22f-5589-449f-f390-1551b41ae909"
      },
      "source": [
        "datestrs = ['7/6/2011', '8/6/2011']\n",
        "\n",
        "[datetime.strptime(x, '%m-%d-%Y') for x in datestrs]  "
      ],
      "execution_count": 30,
      "outputs": [
        {
          "output_type": "error",
          "ename": "ValueError",
          "evalue": "ignored",
          "traceback": [
            "\u001b[0;31m---------------------------------------------------------------------------\u001b[0m",
            "\u001b[0;31mValueError\u001b[0m                                Traceback (most recent call last)",
            "\u001b[0;32m<ipython-input-30-0f06e427d561>\u001b[0m in \u001b[0;36m<module>\u001b[0;34m()\u001b[0m\n\u001b[1;32m      1\u001b[0m \u001b[0mdatestrs\u001b[0m \u001b[0;34m=\u001b[0m \u001b[0;34m[\u001b[0m\u001b[0;34m'7/6/2011'\u001b[0m\u001b[0;34m,\u001b[0m \u001b[0;34m'8/6/2011'\u001b[0m\u001b[0;34m]\u001b[0m\u001b[0;34m\u001b[0m\u001b[0;34m\u001b[0m\u001b[0m\n\u001b[1;32m      2\u001b[0m \u001b[0;34m\u001b[0m\u001b[0m\n\u001b[0;32m----> 3\u001b[0;31m \u001b[0;34m[\u001b[0m\u001b[0mdatetime\u001b[0m\u001b[0;34m.\u001b[0m\u001b[0mstrptime\u001b[0m\u001b[0;34m(\u001b[0m\u001b[0mx\u001b[0m\u001b[0;34m,\u001b[0m \u001b[0;34m'%m/%d%Y'\u001b[0m\u001b[0;34m)\u001b[0m \u001b[0;32mfor\u001b[0m \u001b[0mx\u001b[0m \u001b[0;32min\u001b[0m \u001b[0mdatestrs\u001b[0m\u001b[0;34m]\u001b[0m\u001b[0;34m\u001b[0m\u001b[0;34m\u001b[0m\u001b[0m\n\u001b[0m",
            "\u001b[0;32m<ipython-input-30-0f06e427d561>\u001b[0m in \u001b[0;36m<listcomp>\u001b[0;34m(.0)\u001b[0m\n\u001b[1;32m      1\u001b[0m \u001b[0mdatestrs\u001b[0m \u001b[0;34m=\u001b[0m \u001b[0;34m[\u001b[0m\u001b[0;34m'7/6/2011'\u001b[0m\u001b[0;34m,\u001b[0m \u001b[0;34m'8/6/2011'\u001b[0m\u001b[0;34m]\u001b[0m\u001b[0;34m\u001b[0m\u001b[0;34m\u001b[0m\u001b[0m\n\u001b[1;32m      2\u001b[0m \u001b[0;34m\u001b[0m\u001b[0m\n\u001b[0;32m----> 3\u001b[0;31m \u001b[0;34m[\u001b[0m\u001b[0mdatetime\u001b[0m\u001b[0;34m.\u001b[0m\u001b[0mstrptime\u001b[0m\u001b[0;34m(\u001b[0m\u001b[0mx\u001b[0m\u001b[0;34m,\u001b[0m \u001b[0;34m'%m/%d%Y'\u001b[0m\u001b[0;34m)\u001b[0m \u001b[0;32mfor\u001b[0m \u001b[0mx\u001b[0m \u001b[0;32min\u001b[0m \u001b[0mdatestrs\u001b[0m\u001b[0;34m]\u001b[0m\u001b[0;34m\u001b[0m\u001b[0;34m\u001b[0m\u001b[0m\n\u001b[0m",
            "\u001b[0;32m/usr/lib/python3.6/_strptime.py\u001b[0m in \u001b[0;36m_strptime_datetime\u001b[0;34m(cls, data_string, format)\u001b[0m\n\u001b[1;32m    563\u001b[0m     \"\"\"Return a class cls instance based on the input string and the\n\u001b[1;32m    564\u001b[0m     format string.\"\"\"\n\u001b[0;32m--> 565\u001b[0;31m     \u001b[0mtt\u001b[0m\u001b[0;34m,\u001b[0m \u001b[0mfraction\u001b[0m \u001b[0;34m=\u001b[0m \u001b[0m_strptime\u001b[0m\u001b[0;34m(\u001b[0m\u001b[0mdata_string\u001b[0m\u001b[0;34m,\u001b[0m \u001b[0mformat\u001b[0m\u001b[0;34m)\u001b[0m\u001b[0;34m\u001b[0m\u001b[0;34m\u001b[0m\u001b[0m\n\u001b[0m\u001b[1;32m    566\u001b[0m     \u001b[0mtzname\u001b[0m\u001b[0;34m,\u001b[0m \u001b[0mgmtoff\u001b[0m \u001b[0;34m=\u001b[0m \u001b[0mtt\u001b[0m\u001b[0;34m[\u001b[0m\u001b[0;34m-\u001b[0m\u001b[0;36m2\u001b[0m\u001b[0;34m:\u001b[0m\u001b[0;34m]\u001b[0m\u001b[0;34m\u001b[0m\u001b[0;34m\u001b[0m\u001b[0m\n\u001b[1;32m    567\u001b[0m     \u001b[0margs\u001b[0m \u001b[0;34m=\u001b[0m \u001b[0mtt\u001b[0m\u001b[0;34m[\u001b[0m\u001b[0;34m:\u001b[0m\u001b[0;36m6\u001b[0m\u001b[0;34m]\u001b[0m \u001b[0;34m+\u001b[0m \u001b[0;34m(\u001b[0m\u001b[0mfraction\u001b[0m\u001b[0;34m,\u001b[0m\u001b[0;34m)\u001b[0m\u001b[0;34m\u001b[0m\u001b[0;34m\u001b[0m\u001b[0m\n",
            "\u001b[0;32m/usr/lib/python3.6/_strptime.py\u001b[0m in \u001b[0;36m_strptime\u001b[0;34m(data_string, format)\u001b[0m\n\u001b[1;32m    360\u001b[0m     \u001b[0;32mif\u001b[0m \u001b[0;32mnot\u001b[0m \u001b[0mfound\u001b[0m\u001b[0;34m:\u001b[0m\u001b[0;34m\u001b[0m\u001b[0;34m\u001b[0m\u001b[0m\n\u001b[1;32m    361\u001b[0m         raise ValueError(\"time data %r does not match format %r\" %\n\u001b[0;32m--> 362\u001b[0;31m                          (data_string, format))\n\u001b[0m\u001b[1;32m    363\u001b[0m     \u001b[0;32mif\u001b[0m \u001b[0mlen\u001b[0m\u001b[0;34m(\u001b[0m\u001b[0mdata_string\u001b[0m\u001b[0;34m)\u001b[0m \u001b[0;34m!=\u001b[0m \u001b[0mfound\u001b[0m\u001b[0;34m.\u001b[0m\u001b[0mend\u001b[0m\u001b[0;34m(\u001b[0m\u001b[0;34m)\u001b[0m\u001b[0;34m:\u001b[0m\u001b[0;34m\u001b[0m\u001b[0;34m\u001b[0m\u001b[0m\n\u001b[1;32m    364\u001b[0m         raise ValueError(\"unconverted data remains: %s\" %\n",
            "\u001b[0;31mValueError\u001b[0m: time data '7/6/2011' does not match format '%m/%d%Y'"
          ]
        }
      ]
    },
    {
      "cell_type": "code",
      "metadata": {
        "id": "gu8k66Zz_17b",
        "colab_type": "code",
        "colab": {
          "base_uri": "https://localhost:8080/",
          "height": 35
        },
        "outputId": "b8fec25d-ee0b-4977-edb6-e2f0cc2ed3ea"
      },
      "source": [
        "# 从上边的结果可以看出，如果格式不符合，无法进行转换。\n",
        "\n",
        "[datetime.strptime(x, '%m/%d/%Y') for x in datestrs] # 将一个是按序列字符串的list进行转换成datetime的list"
      ],
      "execution_count": 31,
      "outputs": [
        {
          "output_type": "execute_result",
          "data": {
            "text/plain": [
              "[datetime.datetime(2011, 7, 6, 0, 0), datetime.datetime(2011, 8, 6, 0, 0)]"
            ]
          },
          "metadata": {
            "tags": []
          },
          "execution_count": 31
        }
      ]
    },
    {
      "cell_type": "code",
      "metadata": {
        "id": "Gb9HvlaVUZH5",
        "colab_type": "code",
        "colab": {
          "base_uri": "https://localhost:8080/",
          "height": 35
        },
        "outputId": "d7913b69-5ac2-4210-f9f1-d2c9aac60783"
      },
      "source": [
        "# 问题： 还有更加便捷的方法没？？？？有。\n",
        "\n",
        "# 第三方库， dateutil 的时间解析库parser.parse 可以识别大部分人类能够识别的时间字符串格式。\n",
        "\n",
        "value = '2011-01-03'\n",
        "\n",
        "from dateutil.parser import parse\n",
        "\n",
        "value_date = parse(value)\n",
        "\n",
        "value_date"
      ],
      "execution_count": 33,
      "outputs": [
        {
          "output_type": "execute_result",
          "data": {
            "text/plain": [
              "datetime.datetime(2011, 1, 3, 0, 0)"
            ]
          },
          "metadata": {
            "tags": []
          },
          "execution_count": 33
        }
      ]
    },
    {
      "cell_type": "code",
      "metadata": {
        "id": "5LApH4ZhUZLH",
        "colab_type": "code",
        "colab": {
          "base_uri": "https://localhost:8080/",
          "height": 35
        },
        "outputId": "c7fd4937-424c-4e7e-dc00-f7126605ccca"
      },
      "source": [
        "time = 'Jan 31, 1997 10:45 PM'\n",
        "\n",
        "parse(time)"
      ],
      "execution_count": 34,
      "outputs": [
        {
          "output_type": "execute_result",
          "data": {
            "text/plain": [
              "datetime.datetime(1997, 1, 31, 22, 45)"
            ]
          },
          "metadata": {
            "tags": []
          },
          "execution_count": 34
        }
      ]
    },
    {
      "cell_type": "code",
      "metadata": {
        "id": "fkUH6FbkUZOY",
        "colab_type": "code",
        "colab": {
          "base_uri": "https://localhost:8080/",
          "height": 35
        },
        "outputId": "046186b7-0e45-41b0-9297-51b38dbacbee"
      },
      "source": [
        "time = '2020.10.18'\n",
        "parse(time) # 真的很方便？？？？"
      ],
      "execution_count": 35,
      "outputs": [
        {
          "output_type": "execute_result",
          "data": {
            "text/plain": [
              "datetime.datetime(2020, 10, 18, 0, 0)"
            ]
          },
          "metadata": {
            "tags": []
          },
          "execution_count": 35
        }
      ]
    },
    {
      "cell_type": "code",
      "metadata": {
        "id": "j072q1ZwUZRE",
        "colab_type": "code",
        "colab": {
          "base_uri": "https://localhost:8080/",
          "height": 35
        },
        "outputId": "9a578328-91b0-46f8-f72d-0f1c47986933"
      },
      "source": [
        "# 如果想要按照某种格式，将天放在月前。\n",
        "\n",
        "parse(time, dayfirst = True)"
      ],
      "execution_count": 36,
      "outputs": [
        {
          "output_type": "execute_result",
          "data": {
            "text/plain": [
              "datetime.datetime(2020, 10, 18, 0, 0)"
            ]
          },
          "metadata": {
            "tags": []
          },
          "execution_count": 36
        }
      ]
    },
    {
      "cell_type": "code",
      "metadata": {
        "id": "EOiNemXIDozR",
        "colab_type": "code",
        "colab": {
          "base_uri": "https://localhost:8080/",
          "height": 35
        },
        "outputId": "8e22ff4e-eea5-468d-c64d-8c93e9f50c6e"
      },
      "source": [
        "## 另一种，pandas自带的， pd.to_datetime()\n",
        "\n",
        "datestrs = ['2011-07-06', '2011-08-06']\n",
        "\n",
        "import pandas as pd\n",
        "\n",
        "pd.to_datetime(datestrs)"
      ],
      "execution_count": 37,
      "outputs": [
        {
          "output_type": "execute_result",
          "data": {
            "text/plain": [
              "DatetimeIndex(['2011-07-06', '2011-08-06'], dtype='datetime64[ns]', freq=None)"
            ]
          },
          "metadata": {
            "tags": []
          },
          "execution_count": 37
        }
      ]
    },
    {
      "cell_type": "code",
      "metadata": {
        "id": "lpMufsBKDo2O",
        "colab_type": "code",
        "colab": {
          "base_uri": "https://localhost:8080/",
          "height": 35
        },
        "outputId": "f9314acc-8f0e-48d7-9a1a-e91aa59147f8"
      },
      "source": [
        "pd.to_datetime(datestrs+[None]) # Nat 表示not time"
      ],
      "execution_count": 38,
      "outputs": [
        {
          "output_type": "execute_result",
          "data": {
            "text/plain": [
              "DatetimeIndex(['2011-07-06', '2011-08-06', 'NaT'], dtype='datetime64[ns]', freq=None)"
            ]
          },
          "metadata": {
            "tags": []
          },
          "execution_count": 38
        }
      ]
    },
    {
      "cell_type": "code",
      "metadata": {
        "id": "Pols-sTvDo5P",
        "colab_type": "code",
        "colab": {}
      },
      "source": [
        ""
      ],
      "execution_count": null,
      "outputs": []
    },
    {
      "cell_type": "code",
      "metadata": {
        "id": "vyiyjxc2Do7o",
        "colab_type": "code",
        "colab": {}
      },
      "source": [
        ""
      ],
      "execution_count": null,
      "outputs": []
    },
    {
      "cell_type": "markdown",
      "metadata": {
        "id": "uU-6lbrLAI4F",
        "colab_type": "text"
      },
      "source": [
        "## 11.2 Time Series Basics"
      ]
    },
    {
      "cell_type": "markdown",
      "metadata": {
        "id": "yXoQKp9uAI62",
        "colab_type": "text"
      },
      "source": [
        "### Indexing, Selection, Subsetting\n"
      ]
    },
    {
      "cell_type": "markdown",
      "metadata": {
        "id": "pVPv60QHAI91",
        "colab_type": "text"
      },
      "source": [
        "### Time Series with Duplicate Indices\n"
      ]
    },
    {
      "cell_type": "markdown",
      "metadata": {
        "id": "vtq4RAl1AJA2",
        "colab_type": "text"
      },
      "source": [
        "## 11.3 Date Ranges, Frequencies, and Shifting"
      ]
    },
    {
      "cell_type": "markdown",
      "metadata": {
        "id": "k_wd4ZCQAvb9",
        "colab_type": "text"
      },
      "source": [
        "### Generating Date Ranges"
      ]
    },
    {
      "cell_type": "markdown",
      "metadata": {
        "id": "ubFPpEBEAvfG",
        "colab_type": "text"
      },
      "source": [
        "### Frequencies and Date Offsets"
      ]
    },
    {
      "cell_type": "markdown",
      "metadata": {
        "id": "48f4DEhpAvh1",
        "colab_type": "text"
      },
      "source": [
        "### Shifting (Leading and Lagging) Data"
      ]
    },
    {
      "cell_type": "markdown",
      "metadata": {
        "id": "Mt8WoD1eAvkt",
        "colab_type": "text"
      },
      "source": [
        "## 11.4 Time Zone Handling"
      ]
    },
    {
      "cell_type": "markdown",
      "metadata": {
        "id": "lmwnBaaHAvqV",
        "colab_type": "text"
      },
      "source": [
        "### Time Zone Localization and Conversion"
      ]
    },
    {
      "cell_type": "markdown",
      "metadata": {
        "id": "3ED4mIAtAvtF",
        "colab_type": "text"
      },
      "source": [
        "### Operations with Time Zone−Aware Timestamp Objects"
      ]
    },
    {
      "cell_type": "markdown",
      "metadata": {
        "id": "9XYatFkJAvwN",
        "colab_type": "text"
      },
      "source": [
        "### Operations Between Different Time Zones"
      ]
    },
    {
      "cell_type": "markdown",
      "metadata": {
        "id": "iSxMu8zqAvy9",
        "colab_type": "text"
      },
      "source": [
        "## 11.5 Periods and Period Arithmetic"
      ]
    },
    {
      "cell_type": "markdown",
      "metadata": {
        "id": "T_ky1dx6Av1t",
        "colab_type": "text"
      },
      "source": [
        "### Period Frequency Conversion"
      ]
    },
    {
      "cell_type": "markdown",
      "metadata": {
        "id": "KFkvxpp1Av4u",
        "colab_type": "text"
      },
      "source": [
        "### Quarterly Period Frequencies\n"
      ]
    },
    {
      "cell_type": "markdown",
      "metadata": {
        "id": "ENn1Hi7NAv7t",
        "colab_type": "text"
      },
      "source": [
        "### Converting Timestamps to Periods (and Back)"
      ]
    },
    {
      "cell_type": "markdown",
      "metadata": {
        "id": "8CQiA4YmAv-l",
        "colab_type": "text"
      },
      "source": [
        "### Creating a PeriodIndex from Arrays\n"
      ]
    },
    {
      "cell_type": "markdown",
      "metadata": {
        "id": "gWqfT9tKAwBn",
        "colab_type": "text"
      },
      "source": [
        "## 11.6 Resampling and Frequency Conversion"
      ]
    },
    {
      "cell_type": "markdown",
      "metadata": {
        "id": "19ReHNYwAwEv",
        "colab_type": "text"
      },
      "source": [
        "### Downsampling"
      ]
    },
    {
      "cell_type": "markdown",
      "metadata": {
        "id": "kcJk4nknAwHt",
        "colab_type": "text"
      },
      "source": [
        "### Upsampling and Interpolation"
      ]
    },
    {
      "cell_type": "markdown",
      "metadata": {
        "id": "GwXx8QXUBsUm",
        "colab_type": "text"
      },
      "source": [
        "### Resampling with Periods"
      ]
    },
    {
      "cell_type": "markdown",
      "metadata": {
        "id": "8y2QgisaBsYF",
        "colab_type": "text"
      },
      "source": [
        "## 11.7 Moving Window Functions"
      ]
    },
    {
      "cell_type": "markdown",
      "metadata": {
        "id": "vhRX2mPBBsdN",
        "colab_type": "text"
      },
      "source": [
        "### Exponentially Weighted Functions"
      ]
    },
    {
      "cell_type": "markdown",
      "metadata": {
        "id": "PzozffsWBsgF",
        "colab_type": "text"
      },
      "source": [
        "### Binary Moving Window Functions"
      ]
    },
    {
      "cell_type": "markdown",
      "metadata": {
        "id": "HwcguupeBsi2",
        "colab_type": "text"
      },
      "source": [
        "### User-Defined Moving Window Functions"
      ]
    },
    {
      "cell_type": "code",
      "metadata": {
        "id": "UziBmlDCBofB",
        "colab_type": "code",
        "colab": {}
      },
      "source": [
        ""
      ],
      "execution_count": null,
      "outputs": []
    }
  ]
}