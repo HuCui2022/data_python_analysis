{
  "nbformat": 4,
  "nbformat_minor": 0,
  "metadata": {
    "colab": {
      "name": "pandas007_TimeSeries.ipynb",
      "provenance": [],
      "collapsed_sections": [],
      "toc_visible": true,
      "authorship_tag": "ABX9TyOko3AcBwCviGmONMr3QiLc",
      "include_colab_link": true
    },
    "kernelspec": {
      "name": "python3",
      "display_name": "Python 3"
    }
  },
  "cells": [
    {
      "cell_type": "markdown",
      "metadata": {
        "id": "view-in-github",
        "colab_type": "text"
      },
      "source": [
        "<a href=\"https://colab.research.google.com/github/smiledinisa/data_python_analysis/blob/master/pandas007_TimeSeries.ipynb\" target=\"_parent\"><img src=\"https://colab.research.google.com/assets/colab-badge.svg\" alt=\"Open In Colab\"/></a>"
      ]
    },
    {
      "cell_type": "code",
      "metadata": {
        "id": "4uHpwB5GooG4",
        "colab_type": "code",
        "colab": {
          "base_uri": "https://localhost:8080/",
          "height": 127
        },
        "outputId": "564b5597-8c73-4433-b4d1-1847ba1b27b1"
      },
      "source": [
        "from google.colab import drive\n",
        "drive.mount('/content/drive')"
      ],
      "execution_count": 1,
      "outputs": [
        {
          "output_type": "stream",
          "text": [
            "Go to this URL in a browser: https://accounts.google.com/o/oauth2/auth?client_id=947318989803-6bn6qk8qdgf4n4g3pfee6491hc0brc4i.apps.googleusercontent.com&redirect_uri=urn%3aietf%3awg%3aoauth%3a2.0%3aoob&scope=email%20https%3a%2f%2fwww.googleapis.com%2fauth%2fdocs.test%20https%3a%2f%2fwww.googleapis.com%2fauth%2fdrive%20https%3a%2f%2fwww.googleapis.com%2fauth%2fdrive.photos.readonly%20https%3a%2f%2fwww.googleapis.com%2fauth%2fpeopleapi.readonly&response_type=code\n",
            "\n",
            "Enter your authorization code:\n",
            "··········\n",
            "Mounted at /content/drive\n"
          ],
          "name": "stdout"
        }
      ]
    },
    {
      "cell_type": "code",
      "metadata": {
        "id": "mrgg0hZyo9XE",
        "colab_type": "code",
        "colab": {
          "base_uri": "https://localhost:8080/",
          "height": 35
        },
        "outputId": "dffebf49-b9c4-4f34-85aa-251dd1ab5705"
      },
      "source": [
        "cd /content/drive/My Drive"
      ],
      "execution_count": 2,
      "outputs": [
        {
          "output_type": "stream",
          "text": [
            "/content/drive/My Drive\n"
          ],
          "name": "stdout"
        }
      ]
    },
    {
      "cell_type": "code",
      "metadata": {
        "id": "u1Lqn9NEpSUk",
        "colab_type": "code",
        "colab": {}
      },
      "source": [
        ""
      ],
      "execution_count": null,
      "outputs": []
    },
    {
      "cell_type": "markdown",
      "metadata": {
        "id": "yVGQ8TTjAIvI",
        "colab_type": "text"
      },
      "source": [
        "# CHAPTER 11 :Time Series\n",
        "\n",
        " you may have one of the  \n",
        "\n",
        "\n",
        "following:  \n",
        "• Timestamps, specific instants in time  \n",
        "• Fixed periods, such as the month January 2007 or the full year 2010  \n",
        "• Intervals of time, indicated by a start and end timestamp. Periods can be   thought  \n",
        "of as special cases of intervals  \n",
        "• Experiment or elapsed time; each timestamp is a measure of time relative to a  \n",
        "particular start time (e.g., the diameter of a cookie baking each second since  \n",
        "being placed in the oven)  \n",
        "\n",
        "\n",
        "时间索引类型：\n",
        "\n",
        "时间戳。\n",
        "\n",
        "时间段。\n",
        "\n",
        "时间间隔。\n",
        "\n",
        "累计时间间隔。\n",
        "\n",
        "\n",
        "\n"
      ]
    },
    {
      "cell_type": "markdown",
      "metadata": {
        "id": "BtxbEh_iAIyF",
        "colab_type": "text"
      },
      "source": [
        "## 11.1 Date and Time Data Types and Tools\n",
        "\n",
        "\n",
        "![链接文字](https://img-blog.csdnimg.cn/20200821163726427.png?x-oss-process=image/watermark,type_ZmFuZ3poZW5naGVpdGk,shadow_10,text_aHR0cHM6Ly9ibG9nLmNzZG4ubmV0L2dhb2N1aTg4Mw==,size_16,color_FFFFFF,t_70#pic_center)"
      ]
    },
    {
      "cell_type": "code",
      "metadata": {
        "id": "jFVwuDdDKtck",
        "colab_type": "code",
        "colab": {}
      },
      "source": [
        "# 基础的一些时间类模块。\n",
        "\n",
        "from datetime import datetime"
      ],
      "execution_count": null,
      "outputs": []
    },
    {
      "cell_type": "code",
      "metadata": {
        "id": "x7yQueY2Ktfq",
        "colab_type": "code",
        "colab": {
          "base_uri": "https://localhost:8080/",
          "height": 35
        },
        "outputId": "2c3161de-0c45-42f8-f96d-38f6de673873"
      },
      "source": [
        "now = datetime.now()\n",
        "now"
      ],
      "execution_count": null,
      "outputs": [
        {
          "output_type": "execute_result",
          "data": {
            "text/plain": [
              "datetime.datetime(2020, 8, 21, 8, 39, 12, 36627)"
            ]
          },
          "metadata": {
            "tags": []
          },
          "execution_count": 5
        }
      ]
    },
    {
      "cell_type": "code",
      "metadata": {
        "id": "e3s5suIIKtii",
        "colab_type": "code",
        "colab": {
          "base_uri": "https://localhost:8080/",
          "height": 35
        },
        "outputId": "f7db3b1c-41e0-4f17-cae8-81bbbb78ebde"
      },
      "source": [
        "now.year\n"
      ],
      "execution_count": null,
      "outputs": [
        {
          "output_type": "execute_result",
          "data": {
            "text/plain": [
              "2020"
            ]
          },
          "metadata": {
            "tags": []
          },
          "execution_count": 6
        }
      ]
    },
    {
      "cell_type": "code",
      "metadata": {
        "id": "kfK4NWW8LMsS",
        "colab_type": "code",
        "colab": {
          "base_uri": "https://localhost:8080/",
          "height": 35
        },
        "outputId": "230fe05a-4bc0-4caf-bd29-89d59e15dab2"
      },
      "source": [
        "delta = datetime(2011,1,5) - datetime(2010,2,3,12,8,3)\n",
        "delta"
      ],
      "execution_count": null,
      "outputs": [
        {
          "output_type": "execute_result",
          "data": {
            "text/plain": [
              "datetime.timedelta(335, 42717)"
            ]
          },
          "metadata": {
            "tags": []
          },
          "execution_count": 9
        }
      ]
    },
    {
      "cell_type": "code",
      "metadata": {
        "id": "82aftLYOLMvK",
        "colab_type": "code",
        "colab": {
          "base_uri": "https://localhost:8080/",
          "height": 35
        },
        "outputId": "1112be56-5925-428f-db84-30aa6485dd19"
      },
      "source": [
        "delta.days"
      ],
      "execution_count": null,
      "outputs": [
        {
          "output_type": "execute_result",
          "data": {
            "text/plain": [
              "335"
            ]
          },
          "metadata": {
            "tags": []
          },
          "execution_count": 10
        }
      ]
    },
    {
      "cell_type": "code",
      "metadata": {
        "id": "2W64KdJHLgyS",
        "colab_type": "code",
        "colab": {
          "base_uri": "https://localhost:8080/",
          "height": 53
        },
        "outputId": "efe3fad6-25f5-4763-e22d-7fd1623dc05c"
      },
      "source": [
        "from datetime import timedelta\n",
        "start = datetime(2011,1,7)\n",
        "\n",
        "x = start + timedelta(13)\n",
        "print(x)\n",
        "\n",
        "y = start - 2*timedelta(12)\n",
        "print(y)"
      ],
      "execution_count": null,
      "outputs": [
        {
          "output_type": "stream",
          "text": [
            "2011-01-20 00:00:00\n",
            "2010-12-14 00:00:00\n"
          ],
          "name": "stdout"
        }
      ]
    },
    {
      "cell_type": "code",
      "metadata": {
        "id": "jwSsvHmNPK4Z",
        "colab_type": "code",
        "colab": {
          "base_uri": "https://localhost:8080/",
          "height": 35
        },
        "outputId": "fbef7390-509d-45b9-86a6-f933a93d540d"
      },
      "source": [
        "x.isoformat()"
      ],
      "execution_count": null,
      "outputs": [
        {
          "output_type": "execute_result",
          "data": {
            "application/vnd.google.colaboratory.intrinsic+json": {
              "type": "string"
            },
            "text/plain": [
              "'2011-01-20T00:00:00'"
            ]
          },
          "metadata": {
            "tags": []
          },
          "execution_count": 12
        }
      ]
    },
    {
      "cell_type": "code",
      "metadata": {
        "id": "GA35c475PThx",
        "colab_type": "code",
        "colab": {
          "base_uri": "https://localhost:8080/",
          "height": 35
        },
        "outputId": "ee9fab0c-bc8e-46a3-d81e-2047f340b1e2"
      },
      "source": [
        "x.isocalendar() # 返回year,week,day."
      ],
      "execution_count": null,
      "outputs": [
        {
          "output_type": "execute_result",
          "data": {
            "text/plain": [
              "(2011, 3, 4)"
            ]
          },
          "metadata": {
            "tags": []
          },
          "execution_count": 13
        }
      ]
    },
    {
      "cell_type": "code",
      "metadata": {
        "id": "D466OYSfPTkh",
        "colab_type": "code",
        "colab": {
          "base_uri": "https://localhost:8080/",
          "height": 35
        },
        "outputId": "fcab4c73-1507-4dd4-a4cb-3358fc24db30"
      },
      "source": [
        "x.weekday() # 星期4.     0 - 6 星期1到天。"
      ],
      "execution_count": null,
      "outputs": [
        {
          "output_type": "execute_result",
          "data": {
            "text/plain": [
              "3"
            ]
          },
          "metadata": {
            "tags": []
          },
          "execution_count": 14
        }
      ]
    },
    {
      "cell_type": "code",
      "metadata": {
        "id": "JoeNWN4qQUYY",
        "colab_type": "code",
        "colab": {
          "base_uri": "https://localhost:8080/",
          "height": 35
        },
        "outputId": "791c1be0-19e0-4e35-9e87-9a3fd192a026"
      },
      "source": [
        "x.ctime() # 返回一个日期字符串。"
      ],
      "execution_count": null,
      "outputs": [
        {
          "output_type": "execute_result",
          "data": {
            "application/vnd.google.colaboratory.intrinsic+json": {
              "type": "string"
            },
            "text/plain": [
              "'Thu Jan 20 00:00:00 2011'"
            ]
          },
          "metadata": {
            "tags": []
          },
          "execution_count": 15
        }
      ]
    },
    {
      "cell_type": "code",
      "metadata": {
        "id": "_Eln4qFWQUbY",
        "colab_type": "code",
        "colab": {
          "base_uri": "https://localhost:8080/",
          "height": 35
        },
        "outputId": "339b5cd2-39f0-46c9-df0d-425ccb4ab84d"
      },
      "source": [
        "x.strftime('%Y-%m-%d')"
      ],
      "execution_count": null,
      "outputs": [
        {
          "output_type": "execute_result",
          "data": {
            "application/vnd.google.colaboratory.intrinsic+json": {
              "type": "string"
            },
            "text/plain": [
              "'2011-01-20'"
            ]
          },
          "metadata": {
            "tags": []
          },
          "execution_count": 21
        }
      ]
    },
    {
      "cell_type": "markdown",
      "metadata": {
        "id": "5IufDkawAI1G",
        "colab_type": "text"
      },
      "source": [
        "### Converting Between String and Datetime\n",
        "\n",
        "\n",
        "字符串和时间时间的转换。\n",
        "\n",
        "\n",
        "![链接文字](https://img-blog.csdnimg.cn/20200821171946921.png?x-oss-process=image/watermark,type_ZmFuZ3poZW5naGVpdGk,shadow_10,text_aHR0cHM6Ly9ibG9nLmNzZG4ubmV0L2dhb2N1aTg4Mw==,size_16,color_FFFFFF,t_70#pic_center)\n",
        "\n",
        "\n",
        "![链接文字](https://img-blog.csdnimg.cn/20200821173940899.png?x-oss-process=image/watermark,type_ZmFuZ3poZW5naGVpdGk,shadow_10,text_aHR0cHM6Ly9ibG9nLmNzZG4ubmV0L2dhb2N1aTg4Mw==,size_16,color_FFFFFF,t_70#pic_center)"
      ]
    },
    {
      "cell_type": "code",
      "metadata": {
        "id": "xsZKCoiPLg3y",
        "colab_type": "code",
        "colab": {}
      },
      "source": [
        "# datetime.strptime\n",
        "# dateutil.parser import parse\n",
        "# "
      ],
      "execution_count": null,
      "outputs": []
    },
    {
      "cell_type": "code",
      "metadata": {
        "id": "AsLoKpAZ-3XH",
        "colab_type": "code",
        "colab": {
          "base_uri": "https://localhost:8080/",
          "height": 35
        },
        "outputId": "5ddc5fbe-efc7-4340-f010-9aa6909ddf3b"
      },
      "source": [
        "# 直接用str,strftime method 来进行时间和字符串的转换。\n",
        "\n",
        "stamp = datetime(2011, 1, 3)\n",
        "\n",
        "stamp"
      ],
      "execution_count": null,
      "outputs": [
        {
          "output_type": "execute_result",
          "data": {
            "text/plain": [
              "datetime.datetime(2011, 1, 3, 0, 0)"
            ]
          },
          "metadata": {
            "tags": []
          },
          "execution_count": 24
        }
      ]
    },
    {
      "cell_type": "code",
      "metadata": {
        "id": "MVq2HxNt-3Mv",
        "colab_type": "code",
        "colab": {
          "base_uri": "https://localhost:8080/",
          "height": 35
        },
        "outputId": "a82426b6-a12f-4d1b-9bea-98f2ed69665b"
      },
      "source": [
        "str(stamp)  #str 模式。"
      ],
      "execution_count": null,
      "outputs": [
        {
          "output_type": "execute_result",
          "data": {
            "application/vnd.google.colaboratory.intrinsic+json": {
              "type": "string"
            },
            "text/plain": [
              "'2011-01-03 00:00:00'"
            ]
          },
          "metadata": {
            "tags": []
          },
          "execution_count": 25
        }
      ]
    },
    {
      "cell_type": "code",
      "metadata": {
        "id": "t9Uf6hrq-3A4",
        "colab_type": "code",
        "colab": {
          "base_uri": "https://localhost:8080/",
          "height": 35
        },
        "outputId": "eacd0ee6-86b3-49b9-f0f5-d796634b08a3"
      },
      "source": [
        "stamp.strftime('%Y-%m-%d') # str format time "
      ],
      "execution_count": null,
      "outputs": [
        {
          "output_type": "execute_result",
          "data": {
            "application/vnd.google.colaboratory.intrinsic+json": {
              "type": "string"
            },
            "text/plain": [
              "'2011-01-03'"
            ]
          },
          "metadata": {
            "tags": []
          },
          "execution_count": 26
        }
      ]
    },
    {
      "cell_type": "code",
      "metadata": {
        "id": "iMsTd8kg_1ya",
        "colab_type": "code",
        "colab": {
          "base_uri": "https://localhost:8080/",
          "height": 35
        },
        "outputId": "ffa47d16-1061-4c2c-8d81-7d7139370513"
      },
      "source": [
        "# 来识别特定格式的字符串时间序列。 \n",
        "# 关键字strptime  str pass time\n",
        "\n",
        "value = '2011-01-03'\n",
        "\n",
        "datetime.strptime(value, '%Y-%m-%d') # 得到特定格式的时间字符串，转换成datatime 类型。"
      ],
      "execution_count": null,
      "outputs": [
        {
          "output_type": "execute_result",
          "data": {
            "text/plain": [
              "datetime.datetime(2011, 1, 3, 0, 0)"
            ]
          },
          "metadata": {
            "tags": []
          },
          "execution_count": 29
        }
      ]
    },
    {
      "cell_type": "code",
      "metadata": {
        "id": "UH-Jn0js_11P",
        "colab_type": "code",
        "colab": {
          "base_uri": "https://localhost:8080/",
          "height": 359
        },
        "outputId": "b3a0e22f-5589-449f-f390-1551b41ae909"
      },
      "source": [
        "datestrs = ['7/6/2011', '8/6/2011']\n",
        "\n",
        "[datetime.strptime(x, '%m-%d-%Y') for x in datestrs]  "
      ],
      "execution_count": null,
      "outputs": [
        {
          "output_type": "error",
          "ename": "ValueError",
          "evalue": "ignored",
          "traceback": [
            "\u001b[0;31m---------------------------------------------------------------------------\u001b[0m",
            "\u001b[0;31mValueError\u001b[0m                                Traceback (most recent call last)",
            "\u001b[0;32m<ipython-input-30-0f06e427d561>\u001b[0m in \u001b[0;36m<module>\u001b[0;34m()\u001b[0m\n\u001b[1;32m      1\u001b[0m \u001b[0mdatestrs\u001b[0m \u001b[0;34m=\u001b[0m \u001b[0;34m[\u001b[0m\u001b[0;34m'7/6/2011'\u001b[0m\u001b[0;34m,\u001b[0m \u001b[0;34m'8/6/2011'\u001b[0m\u001b[0;34m]\u001b[0m\u001b[0;34m\u001b[0m\u001b[0;34m\u001b[0m\u001b[0m\n\u001b[1;32m      2\u001b[0m \u001b[0;34m\u001b[0m\u001b[0m\n\u001b[0;32m----> 3\u001b[0;31m \u001b[0;34m[\u001b[0m\u001b[0mdatetime\u001b[0m\u001b[0;34m.\u001b[0m\u001b[0mstrptime\u001b[0m\u001b[0;34m(\u001b[0m\u001b[0mx\u001b[0m\u001b[0;34m,\u001b[0m \u001b[0;34m'%m/%d%Y'\u001b[0m\u001b[0;34m)\u001b[0m \u001b[0;32mfor\u001b[0m \u001b[0mx\u001b[0m \u001b[0;32min\u001b[0m \u001b[0mdatestrs\u001b[0m\u001b[0;34m]\u001b[0m\u001b[0;34m\u001b[0m\u001b[0;34m\u001b[0m\u001b[0m\n\u001b[0m",
            "\u001b[0;32m<ipython-input-30-0f06e427d561>\u001b[0m in \u001b[0;36m<listcomp>\u001b[0;34m(.0)\u001b[0m\n\u001b[1;32m      1\u001b[0m \u001b[0mdatestrs\u001b[0m \u001b[0;34m=\u001b[0m \u001b[0;34m[\u001b[0m\u001b[0;34m'7/6/2011'\u001b[0m\u001b[0;34m,\u001b[0m \u001b[0;34m'8/6/2011'\u001b[0m\u001b[0;34m]\u001b[0m\u001b[0;34m\u001b[0m\u001b[0;34m\u001b[0m\u001b[0m\n\u001b[1;32m      2\u001b[0m \u001b[0;34m\u001b[0m\u001b[0m\n\u001b[0;32m----> 3\u001b[0;31m \u001b[0;34m[\u001b[0m\u001b[0mdatetime\u001b[0m\u001b[0;34m.\u001b[0m\u001b[0mstrptime\u001b[0m\u001b[0;34m(\u001b[0m\u001b[0mx\u001b[0m\u001b[0;34m,\u001b[0m \u001b[0;34m'%m/%d%Y'\u001b[0m\u001b[0;34m)\u001b[0m \u001b[0;32mfor\u001b[0m \u001b[0mx\u001b[0m \u001b[0;32min\u001b[0m \u001b[0mdatestrs\u001b[0m\u001b[0;34m]\u001b[0m\u001b[0;34m\u001b[0m\u001b[0;34m\u001b[0m\u001b[0m\n\u001b[0m",
            "\u001b[0;32m/usr/lib/python3.6/_strptime.py\u001b[0m in \u001b[0;36m_strptime_datetime\u001b[0;34m(cls, data_string, format)\u001b[0m\n\u001b[1;32m    563\u001b[0m     \"\"\"Return a class cls instance based on the input string and the\n\u001b[1;32m    564\u001b[0m     format string.\"\"\"\n\u001b[0;32m--> 565\u001b[0;31m     \u001b[0mtt\u001b[0m\u001b[0;34m,\u001b[0m \u001b[0mfraction\u001b[0m \u001b[0;34m=\u001b[0m \u001b[0m_strptime\u001b[0m\u001b[0;34m(\u001b[0m\u001b[0mdata_string\u001b[0m\u001b[0;34m,\u001b[0m \u001b[0mformat\u001b[0m\u001b[0;34m)\u001b[0m\u001b[0;34m\u001b[0m\u001b[0;34m\u001b[0m\u001b[0m\n\u001b[0m\u001b[1;32m    566\u001b[0m     \u001b[0mtzname\u001b[0m\u001b[0;34m,\u001b[0m \u001b[0mgmtoff\u001b[0m \u001b[0;34m=\u001b[0m \u001b[0mtt\u001b[0m\u001b[0;34m[\u001b[0m\u001b[0;34m-\u001b[0m\u001b[0;36m2\u001b[0m\u001b[0;34m:\u001b[0m\u001b[0;34m]\u001b[0m\u001b[0;34m\u001b[0m\u001b[0;34m\u001b[0m\u001b[0m\n\u001b[1;32m    567\u001b[0m     \u001b[0margs\u001b[0m \u001b[0;34m=\u001b[0m \u001b[0mtt\u001b[0m\u001b[0;34m[\u001b[0m\u001b[0;34m:\u001b[0m\u001b[0;36m6\u001b[0m\u001b[0;34m]\u001b[0m \u001b[0;34m+\u001b[0m \u001b[0;34m(\u001b[0m\u001b[0mfraction\u001b[0m\u001b[0;34m,\u001b[0m\u001b[0;34m)\u001b[0m\u001b[0;34m\u001b[0m\u001b[0;34m\u001b[0m\u001b[0m\n",
            "\u001b[0;32m/usr/lib/python3.6/_strptime.py\u001b[0m in \u001b[0;36m_strptime\u001b[0;34m(data_string, format)\u001b[0m\n\u001b[1;32m    360\u001b[0m     \u001b[0;32mif\u001b[0m \u001b[0;32mnot\u001b[0m \u001b[0mfound\u001b[0m\u001b[0;34m:\u001b[0m\u001b[0;34m\u001b[0m\u001b[0;34m\u001b[0m\u001b[0m\n\u001b[1;32m    361\u001b[0m         raise ValueError(\"time data %r does not match format %r\" %\n\u001b[0;32m--> 362\u001b[0;31m                          (data_string, format))\n\u001b[0m\u001b[1;32m    363\u001b[0m     \u001b[0;32mif\u001b[0m \u001b[0mlen\u001b[0m\u001b[0;34m(\u001b[0m\u001b[0mdata_string\u001b[0m\u001b[0;34m)\u001b[0m \u001b[0;34m!=\u001b[0m \u001b[0mfound\u001b[0m\u001b[0;34m.\u001b[0m\u001b[0mend\u001b[0m\u001b[0;34m(\u001b[0m\u001b[0;34m)\u001b[0m\u001b[0;34m:\u001b[0m\u001b[0;34m\u001b[0m\u001b[0;34m\u001b[0m\u001b[0m\n\u001b[1;32m    364\u001b[0m         raise ValueError(\"unconverted data remains: %s\" %\n",
            "\u001b[0;31mValueError\u001b[0m: time data '7/6/2011' does not match format '%m/%d%Y'"
          ]
        }
      ]
    },
    {
      "cell_type": "code",
      "metadata": {
        "id": "gu8k66Zz_17b",
        "colab_type": "code",
        "colab": {
          "base_uri": "https://localhost:8080/",
          "height": 35
        },
        "outputId": "b8fec25d-ee0b-4977-edb6-e2f0cc2ed3ea"
      },
      "source": [
        "# 从上边的结果可以看出，如果格式不符合，无法进行转换。\n",
        "\n",
        "[datetime.strptime(x, '%m/%d/%Y') for x in datestrs] # 将一个是按序列字符串的list进行转换成datetime的list"
      ],
      "execution_count": null,
      "outputs": [
        {
          "output_type": "execute_result",
          "data": {
            "text/plain": [
              "[datetime.datetime(2011, 7, 6, 0, 0), datetime.datetime(2011, 8, 6, 0, 0)]"
            ]
          },
          "metadata": {
            "tags": []
          },
          "execution_count": 31
        }
      ]
    },
    {
      "cell_type": "code",
      "metadata": {
        "id": "Gb9HvlaVUZH5",
        "colab_type": "code",
        "colab": {
          "base_uri": "https://localhost:8080/",
          "height": 35
        },
        "outputId": "d7913b69-5ac2-4210-f9f1-d2c9aac60783"
      },
      "source": [
        "# 问题： 还有更加便捷的方法没？？？？有。\n",
        "\n",
        "# 第三方库， dateutil 的时间解析库parser.parse 可以识别大部分人类能够识别的时间字符串格式。\n",
        "\n",
        "value = '2011-01-03'\n",
        "\n",
        "from dateutil.parser import parse\n",
        "\n",
        "value_date = parse(value)\n",
        "\n",
        "value_date"
      ],
      "execution_count": null,
      "outputs": [
        {
          "output_type": "execute_result",
          "data": {
            "text/plain": [
              "datetime.datetime(2011, 1, 3, 0, 0)"
            ]
          },
          "metadata": {
            "tags": []
          },
          "execution_count": 33
        }
      ]
    },
    {
      "cell_type": "code",
      "metadata": {
        "id": "5LApH4ZhUZLH",
        "colab_type": "code",
        "colab": {
          "base_uri": "https://localhost:8080/",
          "height": 35
        },
        "outputId": "c7fd4937-424c-4e7e-dc00-f7126605ccca"
      },
      "source": [
        "time = 'Jan 31, 1997 10:45 PM'\n",
        "\n",
        "parse(time)"
      ],
      "execution_count": null,
      "outputs": [
        {
          "output_type": "execute_result",
          "data": {
            "text/plain": [
              "datetime.datetime(1997, 1, 31, 22, 45)"
            ]
          },
          "metadata": {
            "tags": []
          },
          "execution_count": 34
        }
      ]
    },
    {
      "cell_type": "code",
      "metadata": {
        "id": "fkUH6FbkUZOY",
        "colab_type": "code",
        "colab": {
          "base_uri": "https://localhost:8080/",
          "height": 35
        },
        "outputId": "046186b7-0e45-41b0-9297-51b38dbacbee"
      },
      "source": [
        "time = '2020.10.18'\n",
        "parse(time) # 真的很方便？？？？"
      ],
      "execution_count": null,
      "outputs": [
        {
          "output_type": "execute_result",
          "data": {
            "text/plain": [
              "datetime.datetime(2020, 10, 18, 0, 0)"
            ]
          },
          "metadata": {
            "tags": []
          },
          "execution_count": 35
        }
      ]
    },
    {
      "cell_type": "code",
      "metadata": {
        "id": "j072q1ZwUZRE",
        "colab_type": "code",
        "colab": {
          "base_uri": "https://localhost:8080/",
          "height": 35
        },
        "outputId": "9a578328-91b0-46f8-f72d-0f1c47986933"
      },
      "source": [
        "# 如果想要按照某种格式，将天放在月前。\n",
        "\n",
        "parse(time, dayfirst = True)"
      ],
      "execution_count": null,
      "outputs": [
        {
          "output_type": "execute_result",
          "data": {
            "text/plain": [
              "datetime.datetime(2020, 10, 18, 0, 0)"
            ]
          },
          "metadata": {
            "tags": []
          },
          "execution_count": 36
        }
      ]
    },
    {
      "cell_type": "code",
      "metadata": {
        "id": "EOiNemXIDozR",
        "colab_type": "code",
        "colab": {
          "base_uri": "https://localhost:8080/",
          "height": 35
        },
        "outputId": "8e22ff4e-eea5-468d-c64d-8c93e9f50c6e"
      },
      "source": [
        "## 另一种，pandas自带的， pd.to_datetime()\n",
        "\n",
        "datestrs = ['2011-07-06', '2011-08-06']\n",
        "\n",
        "import pandas as pd\n",
        "\n",
        "pd.to_datetime(datestrs)"
      ],
      "execution_count": null,
      "outputs": [
        {
          "output_type": "execute_result",
          "data": {
            "text/plain": [
              "DatetimeIndex(['2011-07-06', '2011-08-06'], dtype='datetime64[ns]', freq=None)"
            ]
          },
          "metadata": {
            "tags": []
          },
          "execution_count": 37
        }
      ]
    },
    {
      "cell_type": "code",
      "metadata": {
        "id": "lpMufsBKDo2O",
        "colab_type": "code",
        "colab": {
          "base_uri": "https://localhost:8080/",
          "height": 35
        },
        "outputId": "f9314acc-8f0e-48d7-9a1a-e91aa59147f8"
      },
      "source": [
        "pd.to_datetime(datestrs+[None]) # Nat 表示not time"
      ],
      "execution_count": null,
      "outputs": [
        {
          "output_type": "execute_result",
          "data": {
            "text/plain": [
              "DatetimeIndex(['2011-07-06', '2011-08-06', 'NaT'], dtype='datetime64[ns]', freq=None)"
            ]
          },
          "metadata": {
            "tags": []
          },
          "execution_count": 38
        }
      ]
    },
    {
      "cell_type": "markdown",
      "metadata": {
        "id": "QJ6QEW5L4svi",
        "colab_type": "text"
      },
      "source": [
        "## 2020.8.22"
      ]
    },
    {
      "cell_type": "markdown",
      "metadata": {
        "id": "uU-6lbrLAI4F",
        "colab_type": "text"
      },
      "source": [
        "## 11.2 Time Series Basics"
      ]
    },
    {
      "cell_type": "code",
      "metadata": {
        "id": "RFrFRgO-33fg",
        "colab_type": "code",
        "colab": {}
      },
      "source": [
        "# A basic kind of time series object in pandas is a Series indexed by timestamps, which\n",
        "# is often represented external to pandas as Python strings or  datetime objects:\n",
        "\n",
        "\n",
        "# 在外部表现为字符串或者时间对象。\n",
        "\n",
        "from datetime import datetime\n",
        "import pandas as pd\n",
        "\n",
        "import numpy as np\n",
        "\n"
      ],
      "execution_count": 6,
      "outputs": []
    },
    {
      "cell_type": "code",
      "metadata": {
        "id": "Pols-sTvDo5P",
        "colab_type": "code",
        "colab": {
          "base_uri": "https://localhost:8080/",
          "height": 143
        },
        "outputId": "2db9881d-a652-449e-baac-f552462891d5"
      },
      "source": [
        "dates = [datetime(2011, 1, 2), datetime(2011, 1, 5),\n",
        "      datetime(2011, 1, 7), datetime(2011, 1, 8),\n",
        "      datetime(2011, 1, 10), datetime(2011, 1, 12)]\n",
        "ts =  pd.Series(np.random.randn(6), index=dates)\n",
        "\n",
        "ts"
      ],
      "execution_count": 7,
      "outputs": [
        {
          "output_type": "execute_result",
          "data": {
            "text/plain": [
              "2011-01-02    0.543875\n",
              "2011-01-05   -0.538065\n",
              "2011-01-07   -0.055432\n",
              "2011-01-08   -0.235359\n",
              "2011-01-10   -0.252591\n",
              "2011-01-12   -0.080231\n",
              "dtype: float64"
            ]
          },
          "metadata": {
            "tags": []
          },
          "execution_count": 7
        }
      ]
    },
    {
      "cell_type": "code",
      "metadata": {
        "id": "vyiyjxc2Do7o",
        "colab_type": "code",
        "colab": {
          "base_uri": "https://localhost:8080/",
          "height": 89
        },
        "outputId": "600b3f24-de27-4cc3-97a7-6e8361ec43d6"
      },
      "source": [
        "# like other arithmetic operations between diffrent indexed time series auto matically align on the dates:\n",
        "# 与其他index相同，timeindex 也可以自动对齐。\n",
        "\n",
        "x = ts[::2]\n",
        "x"
      ],
      "execution_count": 8,
      "outputs": [
        {
          "output_type": "execute_result",
          "data": {
            "text/plain": [
              "2011-01-02    0.543875\n",
              "2011-01-07   -0.055432\n",
              "2011-01-10   -0.252591\n",
              "dtype: float64"
            ]
          },
          "metadata": {
            "tags": []
          },
          "execution_count": 8
        }
      ]
    },
    {
      "cell_type": "code",
      "metadata": {
        "id": "NqqqBjzC9Vea",
        "colab_type": "code",
        "colab": {
          "base_uri": "https://localhost:8080/",
          "height": 143
        },
        "outputId": "ab0df781-b4f0-4f8e-bd41-30c8cabfd38b"
      },
      "source": [
        "x+ ts # 没有对齐的显示为NaN"
      ],
      "execution_count": 9,
      "outputs": [
        {
          "output_type": "execute_result",
          "data": {
            "text/plain": [
              "2011-01-02    1.087750\n",
              "2011-01-05         NaN\n",
              "2011-01-07   -0.110865\n",
              "2011-01-08         NaN\n",
              "2011-01-10   -0.505181\n",
              "2011-01-12         NaN\n",
              "dtype: float64"
            ]
          },
          "metadata": {
            "tags": []
          },
          "execution_count": 9
        }
      ]
    },
    {
      "cell_type": "code",
      "metadata": {
        "id": "zh7Lxxa59Vhh",
        "colab_type": "code",
        "colab": {
          "base_uri": "https://localhost:8080/",
          "height": 35
        },
        "outputId": "de3a3d2b-9753-438c-c2ff-2548b7bc308f"
      },
      "source": [
        "# 十亿分之一毫秒。\n",
        "ts.index.dtype"
      ],
      "execution_count": 10,
      "outputs": [
        {
          "output_type": "execute_result",
          "data": {
            "text/plain": [
              "dtype('<M8[ns]')"
            ]
          },
          "metadata": {
            "tags": []
          },
          "execution_count": 10
        }
      ]
    },
    {
      "cell_type": "code",
      "metadata": {
        "id": "nZ2zCxqx9Vkg",
        "colab_type": "code",
        "colab": {
          "base_uri": "https://localhost:8080/",
          "height": 35
        },
        "outputId": "e79077bb-aefa-4830-a9cd-7a8d62ae71cb"
      },
      "source": [
        "# DateIndex object sigal are Timestamp object:\n",
        "stamp = ts.index[0]\n",
        "stamp"
      ],
      "execution_count": 11,
      "outputs": [
        {
          "output_type": "execute_result",
          "data": {
            "text/plain": [
              "Timestamp('2011-01-02 00:00:00')"
            ]
          },
          "metadata": {
            "tags": []
          },
          "execution_count": 11
        }
      ]
    },
    {
      "cell_type": "markdown",
      "metadata": {
        "id": "yXoQKp9uAI62",
        "colab_type": "text"
      },
      "source": [
        "### Indexing, Selection, Subsetting\n",
        "\n",
        "索引，选择，子集。\n",
        "\n",
        "\n"
      ]
    },
    {
      "cell_type": "code",
      "metadata": {
        "id": "oL1zI6O2-7pB",
        "colab_type": "code",
        "colab": {
          "base_uri": "https://localhost:8080/",
          "height": 35
        },
        "outputId": "31045794-effd-4570-af5d-710e409206cc"
      },
      "source": [
        "# 时间索引也可以向其他索引一样，用索引来访问数据。\n",
        "stamp = ts.index[2]\n",
        "ts[stamp]\n"
      ],
      "execution_count": 12,
      "outputs": [
        {
          "output_type": "execute_result",
          "data": {
            "text/plain": [
              "-0.055432342170292054"
            ]
          },
          "metadata": {
            "tags": []
          },
          "execution_count": 12
        }
      ]
    },
    {
      "cell_type": "code",
      "metadata": {
        "id": "NpfdYj-4-7sH",
        "colab_type": "code",
        "colab": {
          "base_uri": "https://localhost:8080/",
          "height": 35
        },
        "outputId": "14eb851b-27d1-4580-93b9-af26649eb4a6"
      },
      "source": [
        "ts['1/10/2011']"
      ],
      "execution_count": 13,
      "outputs": [
        {
          "output_type": "execute_result",
          "data": {
            "text/plain": [
              "-0.25259063834559614"
            ]
          },
          "metadata": {
            "tags": []
          },
          "execution_count": 13
        }
      ]
    },
    {
      "cell_type": "code",
      "metadata": {
        "id": "0pEHw8zp-7vH",
        "colab_type": "code",
        "colab": {
          "base_uri": "https://localhost:8080/",
          "height": 35
        },
        "outputId": "a82b199a-4596-4112-a3ea-3c847ab8f526"
      },
      "source": [
        "stamp"
      ],
      "execution_count": 14,
      "outputs": [
        {
          "output_type": "execute_result",
          "data": {
            "text/plain": [
              "Timestamp('2011-01-07 00:00:00')"
            ]
          },
          "metadata": {
            "tags": []
          },
          "execution_count": 14
        }
      ]
    },
    {
      "cell_type": "code",
      "metadata": {
        "id": "j_uBYbKfAP8Q",
        "colab_type": "code",
        "colab": {
          "base_uri": "https://localhost:8080/",
          "height": 35
        },
        "outputId": "ea5f2102-1f35-4682-8583-162bfbde8ea2"
      },
      "source": [
        "ts['20110110']# padas 索引能够识别各种字符串"
      ],
      "execution_count": 15,
      "outputs": [
        {
          "output_type": "execute_result",
          "data": {
            "text/plain": [
              "-0.25259063834559614"
            ]
          },
          "metadata": {
            "tags": []
          },
          "execution_count": 15
        }
      ]
    },
    {
      "cell_type": "code",
      "metadata": {
        "id": "X4g-s6MGAP_W",
        "colab_type": "code",
        "colab": {
          "base_uri": "https://localhost:8080/",
          "height": 233
        },
        "outputId": "4b2d1120-9512-4991-a371-aca4748b5483"
      },
      "source": [
        "# slices 切片\n",
        "longer_ts = pd.Series(np.random.randn(1000), index=pd.date_range('1/2/2000', periods=1000))\n",
        "longer_ts"
      ],
      "execution_count": 16,
      "outputs": [
        {
          "output_type": "execute_result",
          "data": {
            "text/plain": [
              "2000-01-02   -0.528778\n",
              "2000-01-03   -0.128215\n",
              "2000-01-04   -0.766332\n",
              "2000-01-05    1.522631\n",
              "2000-01-06    0.676500\n",
              "                ...   \n",
              "2002-09-23   -0.159826\n",
              "2002-09-24   -0.755058\n",
              "2002-09-25    0.280533\n",
              "2002-09-26    0.325927\n",
              "2002-09-27    0.181460\n",
              "Freq: D, Length: 1000, dtype: float64"
            ]
          },
          "metadata": {
            "tags": []
          },
          "execution_count": 16
        }
      ]
    },
    {
      "cell_type": "code",
      "metadata": {
        "id": "se5YdhBMAQCP",
        "colab_type": "code",
        "colab": {}
      },
      "source": [
        "pd.date_range?"
      ],
      "execution_count": 17,
      "outputs": []
    },
    {
      "cell_type": "code",
      "metadata": {
        "id": "2wXZTOYsAQE_",
        "colab_type": "code",
        "colab": {}
      },
      "source": [
        "Signature: pd.date_range(start=None, end=None, periods=None, freq=None, tz=None, normalize=False, name=None, closed=None, **kwargs) -> pandas.core.indexes.datetimes.DatetimeIndex\n",
        "Docstring:\n",
        "Return a fixed frequency DatetimeIndex.\n",
        "\n",
        "Parameters\n",
        "----------\n",
        "start : str or datetime-like, optional\n",
        "    Left bound for generating dates.\n",
        "end : str or datetime-like, optional\n",
        "    Right bound for generating dates.\n",
        "periods : int, optional\n",
        "    Number of periods to generate.\n",
        "freq : str or DateOffset, default 'D'\n",
        "    Frequency strings can have multiples, e.g. '5H'. See\n",
        "    :ref:`here <timeseries.offset_aliases>` for a list of\n",
        "    frequency aliases.\n",
        "tz : str or tzinfo, optional\n",
        "    Time zone name for returning localized DatetimeIndex, for example\n",
        "    'Asia/Hong_Kong'. By default, the resulting DatetimeIndex is\n",
        "    timezone-naive.\n",
        "normalize : bool, default False\n",
        "    Normalize start/end dates to midnight before generating date range.\n",
        "name : str, default None\n",
        "    Name of the resulting DatetimeIndex.\n",
        "closed : {None, 'left', 'right'}, optional\n",
        "    Make the interval closed with respect to the given frequency to\n",
        "    the 'left', 'right', or both sides (None, the default).\n",
        "**kwargs\n",
        "    For compatibility. Has no effect on the result.\n",
        "\n",
        "Returns\n",
        "-------\n",
        "rng : DatetimeIndex\n",
        "\n",
        "See Also\n",
        "--------\n",
        "DatetimeIndex : An immutable container for datetimes.\n",
        "timedelta_range : Return a fixed frequency TimedeltaIndex.\n",
        "period_range : Return a fixed frequency PeriodIndex.\n",
        "interval_range : Return a fixed frequency IntervalIndex.\n",
        "\n",
        "Notes\n",
        "-----\n",
        "Of the four parameters ``start``, ``end``, ``periods``, and ``freq``,\n",
        "exactly three must be specified. If ``freq`` is omitted, the resulting\n",
        "``DatetimeIndex`` will have ``periods`` linearly spaced elements between\n",
        "``start`` and ``end`` (closed on both sides).\n",
        "\n",
        "To learn more about the frequency strings, please see `this link\n",
        "<https://pandas.pydata.org/pandas-docs/stable/user_guide/timeseries.html#offset-aliases>`__.\n",
        "\n",
        "Examples\n",
        "--------\n",
        "**Specifying the values**\n",
        "\n",
        "The next four examples generate the same `DatetimeIndex`, but vary\n",
        "the combination of `start`, `end` and `periods`.\n",
        "\n",
        "Specify `start` and `end`, with the default daily frequency.\n",
        "\n",
        ">>> pd.date_range(start='1/1/2018', end='1/08/2018')\n",
        "DatetimeIndex(['2018-01-01', '2018-01-02', '2018-01-03', '2018-01-04',\n",
        "               '2018-01-05', '2018-01-06', '2018-01-07', '2018-01-08'],\n",
        "              dtype='datetime64[ns]', freq='D')\n",
        "\n",
        "Specify `start` and `periods`, the number of periods (days).\n",
        "\n",
        ">>> pd.date_range(start='1/1/2018', periods=8)\n",
        "DatetimeIndex(['2018-01-01', '2018-01-02', '2018-01-03', '2018-01-04',\n",
        "               '2018-01-05', '2018-01-06', '2018-01-07', '2018-01-08'],\n",
        "              dtype='datetime64[ns]', freq='D')\n",
        "\n",
        "Specify `end` and `periods`, the number of periods (days).\n",
        "\n",
        ">>> pd.date_range(end='1/1/2018', periods=8)\n",
        "DatetimeIndex(['2017-12-25', '2017-12-26', '2017-12-27', '2017-12-28',\n",
        "               '2017-12-29', '2017-12-30', '2017-12-31', '2018-01-01'],\n",
        "              dtype='datetime64[ns]', freq='D')\n",
        "\n",
        "Specify `start`, `end`, and `periods`; the frequency is generated\n",
        "automatically (linearly spaced).\n",
        "\n",
        ">>> pd.date_range(start='2018-04-24', end='2018-04-27', periods=3)\n",
        "DatetimeIndex(['2018-04-24 00:00:00', '2018-04-25 12:00:00',\n",
        "               '2018-04-27 00:00:00'],\n",
        "              dtype='datetime64[ns]', freq=None)\n",
        "\n",
        "**Other Parameters**\n",
        "\n",
        "Changed the `freq` (frequency) to ``'M'`` (month end frequency).\n",
        "\n",
        ">>> pd.date_range(start='1/1/2018', periods=5, freq='M')\n",
        "DatetimeIndex(['2018-01-31', '2018-02-28', '2018-03-31', '2018-04-30',\n",
        "               '2018-05-31'],\n",
        "              dtype='datetime64[ns]', freq='M')\n",
        "\n",
        "Multiples are allowed\n",
        "\n",
        ">>> pd.date_range(start='1/1/2018', periods=5, freq='3M')\n",
        "DatetimeIndex(['2018-01-31', '2018-04-30', '2018-07-31', '2018-10-31',\n",
        "               '2019-01-31'],\n",
        "              dtype='datetime64[ns]', freq='3M')\n",
        "\n",
        "`freq` can also be specified as an Offset object.\n",
        "\n",
        ">>> pd.date_range(start='1/1/2018', periods=5, freq=pd.offsets.MonthEnd(3))\n",
        "DatetimeIndex(['2018-01-31', '2018-04-30', '2018-07-31', '2018-10-31',\n",
        "               '2019-01-31'],\n",
        "              dtype='datetime64[ns]', freq='3M')\n",
        "\n",
        "Specify `tz` to set the timezone.\n",
        "\n",
        ">>> pd.date_range(start='1/1/2018', periods=5, tz='Asia/Tokyo')\n",
        "DatetimeIndex(['2018-01-01 00:00:00+09:00', '2018-01-02 00:00:00+09:00',\n",
        "               '2018-01-03 00:00:00+09:00', '2018-01-04 00:00:00+09:00',\n",
        "               '2018-01-05 00:00:00+09:00'],\n",
        "              dtype='datetime64[ns, Asia/Tokyo]', freq='D')\n",
        "\n",
        "`closed` controls whether to include `start` and `end` that are on the\n",
        "boundary. The default includes boundary points on either end.\n",
        "\n",
        ">>> pd.date_range(start='2017-01-01', end='2017-01-04', closed=None)\n",
        "DatetimeIndex(['2017-01-01', '2017-01-02', '2017-01-03', '2017-01-04'],\n",
        "              dtype='datetime64[ns]', freq='D')\n",
        "\n",
        "Use ``closed='left'`` to exclude `end` if it falls on the boundary.\n",
        "\n",
        ">>> pd.date_range(start='2017-01-01', end='2017-01-04', closed='left')\n",
        "DatetimeIndex(['2017-01-01', '2017-01-02', '2017-01-03'],\n",
        "              dtype='datetime64[ns]', freq='D')\n",
        "\n",
        "Use ``closed='right'`` to exclude `start` if it falls on the boundary.\n",
        "\n",
        ">>> pd.date_range(start='2017-01-01', end='2017-01-04', closed='right')\n",
        "DatetimeIndex(['2017-01-02', '2017-01-03', '2017-01-04'],\n",
        "              dtype='datetime64[ns]', freq='D')\n",
        "File:      /usr/local/lib/python3.6/dist-packages/pandas/core/indexes/datetimes.py\n",
        "Type:      function"
      ],
      "execution_count": null,
      "outputs": []
    },
    {
      "cell_type": "code",
      "metadata": {
        "id": "NHi5ybiHAQHw",
        "colab_type": "code",
        "colab": {
          "base_uri": "https://localhost:8080/",
          "height": 233
        },
        "outputId": "2b873048-803b-4dd4-8dc2-bf17cbc3d8d5"
      },
      "source": [
        "# 直接用年来切片。\n",
        "longer_ts['2001']"
      ],
      "execution_count": 18,
      "outputs": [
        {
          "output_type": "execute_result",
          "data": {
            "text/plain": [
              "2001-01-01    0.803718\n",
              "2001-01-02   -0.519887\n",
              "2001-01-03   -0.827987\n",
              "2001-01-04    1.469728\n",
              "2001-01-05   -1.462946\n",
              "                ...   \n",
              "2001-12-27   -0.335684\n",
              "2001-12-28   -1.032456\n",
              "2001-12-29    0.986667\n",
              "2001-12-30   -1.123634\n",
              "2001-12-31    0.032758\n",
              "Freq: D, Length: 365, dtype: float64"
            ]
          },
          "metadata": {
            "tags": []
          },
          "execution_count": 18
        }
      ]
    },
    {
      "cell_type": "code",
      "metadata": {
        "id": "gszMZdbcAQK2",
        "colab_type": "code",
        "colab": {
          "base_uri": "https://localhost:8080/",
          "height": 233
        },
        "outputId": "afca5ee1-c5db-42c7-e5ca-bc34c90bd5e9"
      },
      "source": [
        "longer_ts['2001.05']"
      ],
      "execution_count": 19,
      "outputs": [
        {
          "output_type": "execute_result",
          "data": {
            "text/plain": [
              "2001-01-01    0.803718\n",
              "2001-01-02   -0.519887\n",
              "2001-01-03   -0.827987\n",
              "2001-01-04    1.469728\n",
              "2001-01-05   -1.462946\n",
              "                ...   \n",
              "2001-12-27   -0.335684\n",
              "2001-12-28   -1.032456\n",
              "2001-12-29    0.986667\n",
              "2001-12-30   -1.123634\n",
              "2001-12-31    0.032758\n",
              "Freq: D, Length: 365, dtype: float64"
            ]
          },
          "metadata": {
            "tags": []
          },
          "execution_count": 19
        }
      ]
    },
    {
      "cell_type": "code",
      "metadata": {
        "id": "mVSAFqRMEJTo",
        "colab_type": "code",
        "colab": {
          "base_uri": "https://localhost:8080/",
          "height": 107
        },
        "outputId": "bd0f92bb-f2f6-4702-c6db-6ec6b267be9a"
      },
      "source": [
        "ts[datetime(2011,1,7):]"
      ],
      "execution_count": 21,
      "outputs": [
        {
          "output_type": "execute_result",
          "data": {
            "text/plain": [
              "2011-01-07   -0.055432\n",
              "2011-01-08   -0.235359\n",
              "2011-01-10   -0.252591\n",
              "2011-01-12   -0.080231\n",
              "dtype: float64"
            ]
          },
          "metadata": {
            "tags": []
          },
          "execution_count": 21
        }
      ]
    },
    {
      "cell_type": "code",
      "metadata": {
        "id": "doCwl5ItEJWs",
        "colab_type": "code",
        "colab": {
          "base_uri": "https://localhost:8080/",
          "height": 143
        },
        "outputId": "9047b3b1-49c5-4a20-b036-30167f04a815"
      },
      "source": [
        "ts"
      ],
      "execution_count": 22,
      "outputs": [
        {
          "output_type": "execute_result",
          "data": {
            "text/plain": [
              "2011-01-02    0.543875\n",
              "2011-01-05   -0.538065\n",
              "2011-01-07   -0.055432\n",
              "2011-01-08   -0.235359\n",
              "2011-01-10   -0.252591\n",
              "2011-01-12   -0.080231\n",
              "dtype: float64"
            ]
          },
          "metadata": {
            "tags": []
          },
          "execution_count": 22
        }
      ]
    },
    {
      "cell_type": "code",
      "metadata": {
        "id": "iMohg2cpEJZe",
        "colab_type": "code",
        "colab": {
          "base_uri": "https://localhost:8080/",
          "height": 89
        },
        "outputId": "6b1e5db3-469e-4c2f-c600-52ef7d4a4ec4"
      },
      "source": [
        "ts['1/6/2011':'1/11/2011']"
      ],
      "execution_count": 23,
      "outputs": [
        {
          "output_type": "execute_result",
          "data": {
            "text/plain": [
              "2011-01-07   -0.055432\n",
              "2011-01-08   -0.235359\n",
              "2011-01-10   -0.252591\n",
              "dtype: float64"
            ]
          },
          "metadata": {
            "tags": []
          },
          "execution_count": 23
        }
      ]
    },
    {
      "cell_type": "code",
      "metadata": {
        "id": "pOafd3JyEJcW",
        "colab_type": "code",
        "colab": {
          "base_uri": "https://localhost:8080/",
          "height": 107
        },
        "outputId": "d06efbbf-2c31-4492-86ff-76bcf47f3339"
      },
      "source": [
        "ts.truncate(after='1/9/2011')  #截断，裁剪，丢弃的意思。"
      ],
      "execution_count": 24,
      "outputs": [
        {
          "output_type": "execute_result",
          "data": {
            "text/plain": [
              "2011-01-02    0.543875\n",
              "2011-01-05   -0.538065\n",
              "2011-01-07   -0.055432\n",
              "2011-01-08   -0.235359\n",
              "dtype: float64"
            ]
          },
          "metadata": {
            "tags": []
          },
          "execution_count": 24
        }
      ]
    },
    {
      "cell_type": "code",
      "metadata": {
        "id": "atE2xEhxEJf3",
        "colab_type": "code",
        "colab": {}
      },
      "source": [
        "ts.truncate?"
      ],
      "execution_count": 25,
      "outputs": []
    },
    {
      "cell_type": "code",
      "metadata": {
        "id": "dKX1ecYQEy_Y",
        "colab_type": "code",
        "colab": {}
      },
      "source": [
        "Signature: ts.truncate(before=None, after=None, axis=None, copy: bool=True) -> ~FrameOrSeries\n",
        "Docstring:\n",
        "Truncate a Series or DataFrame before and after some index value.\n",
        "\n",
        "This is a useful shorthand for boolean indexing based on index\n",
        "values above or below certain thresholds.\n",
        "\n",
        "Parameters\n",
        "----------\n",
        "before : date, str, int\n",
        "    Truncate all rows before this index value.\n",
        "after : date, str, int\n",
        "    Truncate all rows after this index value.\n",
        "axis : {0 or 'index', 1 or 'columns'}, optional\n",
        "    Axis to truncate. Truncates the index (rows) by default.\n",
        "copy : bool, default is True,\n",
        "    Return a copy of the truncated section.\n",
        "\n",
        "Returns\n",
        "-------\n",
        "type of caller\n",
        "    The truncated Series or DataFrame.\n",
        "\n",
        "See Also\n",
        "--------\n",
        "DataFrame.loc : Select a subset of a DataFrame by label.\n",
        "DataFrame.iloc : Select a subset of a DataFrame by position.\n",
        "\n",
        "Notes\n",
        "-----\n",
        "If the index being truncated contains only datetime values,\n",
        "`before` and `after` may be specified as strings instead of\n",
        "Timestamps.\n",
        "\n",
        "Examples\n",
        "--------\n",
        ">>> df = pd.DataFrame({'A': ['a', 'b', 'c', 'd', 'e'],\n",
        "...                    'B': ['f', 'g', 'h', 'i', 'j'],\n",
        "...                    'C': ['k', 'l', 'm', 'n', 'o']},\n",
        "...                   index=[1, 2, 3, 4, 5])\n",
        ">>> df\n",
        "   A  B  C\n",
        "1  a  f  k\n",
        "2  b  g  l\n",
        "3  c  h  m\n",
        "4  d  i  n\n",
        "5  e  j  o\n",
        "\n",
        ">>> df.truncate(before=2, after=4)\n",
        "   A  B  C\n",
        "2  b  g  l\n",
        "3  c  h  m\n",
        "4  d  i  n\n",
        "\n",
        "The columns of a DataFrame can be truncated.\n",
        "\n",
        ">>> df.truncate(before=\"A\", after=\"B\", axis=\"columns\")\n",
        "   A  B\n",
        "1  a  f\n",
        "2  b  g\n",
        "3  c  h\n",
        "4  d  i\n",
        "5  e  j\n",
        "\n",
        "For Series, only rows can be truncated.\n",
        "\n",
        ">>> df['A'].truncate(before=2, after=4)\n",
        "2    b\n",
        "3    c\n",
        "4    d\n",
        "Name: A, dtype: object\n",
        "\n",
        "The index values in ``truncate`` can be datetimes or string\n",
        "dates.\n",
        "\n",
        ">>> dates = pd.date_range('2016-01-01', '2016-02-01', freq='s')\n",
        ">>> df = pd.DataFrame(index=dates, data={'A': 1})\n",
        ">>> df.tail()\n",
        "                     A\n",
        "2016-01-31 23:59:56  1\n",
        "2016-01-31 23:59:57  1\n",
        "2016-01-31 23:59:58  1\n",
        "2016-01-31 23:59:59  1\n",
        "2016-02-01 00:00:00  1\n",
        "\n",
        ">>> df.truncate(before=pd.Timestamp('2016-01-05'),\n",
        "...             after=pd.Timestamp('2016-01-10')).tail()\n",
        "                     A\n",
        "2016-01-09 23:59:56  1\n",
        "2016-01-09 23:59:57  1\n",
        "2016-01-09 23:59:58  1\n",
        "2016-01-09 23:59:59  1\n",
        "2016-01-10 00:00:00  1\n",
        "\n",
        "Because the index is a DatetimeIndex containing only dates, we can\n",
        "specify `before` and `after` as strings. They will be coerced to\n",
        "Timestamps before truncation.\n",
        "\n",
        ">>> df.truncate('2016-01-05', '2016-01-10').tail()\n",
        "                     A\n",
        "2016-01-09 23:59:56  1\n",
        "2016-01-09 23:59:57  1\n",
        "2016-01-09 23:59:58  1\n",
        "2016-01-09 23:59:59  1\n",
        "2016-01-10 00:00:00  1\n",
        "\n",
        "Note that ``truncate`` assumes a 0 value for any unspecified time\n",
        "component (midnight). This differs from partial string slicing, which\n",
        "returns any partially matching dates.\n",
        "\n",
        ">>> df.loc['2016-01-05':'2016-01-10', :].tail()\n",
        "                     A\n",
        "2016-01-10 23:59:55  1\n",
        "2016-01-10 23:59:56  1\n",
        "2016-01-10 23:59:57  1\n",
        "2016-01-10 23:59:58  1\n",
        "2016-01-10 23:59:59  1\n",
        "File:      /usr/local/lib/python3.6/dist-packages/pandas/core/generic.py\n",
        "Type:      method"
      ],
      "execution_count": null,
      "outputs": []
    },
    {
      "cell_type": "markdown",
      "metadata": {
        "id": "pVPv60QHAI91",
        "colab_type": "text"
      },
      "source": [
        "### Time Series with Duplicate Indices\n",
        "\n",
        "多层索引\n",
        "\n"
      ]
    },
    {
      "cell_type": "code",
      "metadata": {
        "id": "zINc36VmHQEX",
        "colab_type": "code",
        "colab": {
          "base_uri": "https://localhost:8080/",
          "height": 71
        },
        "outputId": "a8fc13df-5c71-4f06-a546-21f570d51d1a"
      },
      "source": [
        "dates = pd.DatetimeIndex(['1/1/2000', '1/2/2000', '1/2/2000',\n",
        "              '1/2/2000', '1/3/2000'])\n",
        "dates\n"
      ],
      "execution_count": 26,
      "outputs": [
        {
          "output_type": "execute_result",
          "data": {
            "text/plain": [
              "DatetimeIndex(['2000-01-01', '2000-01-02', '2000-01-02', '2000-01-02',\n",
              "               '2000-01-03'],\n",
              "              dtype='datetime64[ns]', freq=None)"
            ]
          },
          "metadata": {
            "tags": []
          },
          "execution_count": 26
        }
      ]
    },
    {
      "cell_type": "code",
      "metadata": {
        "id": "VEgkKkzFHQHN",
        "colab_type": "code",
        "colab": {
          "base_uri": "https://localhost:8080/",
          "height": 125
        },
        "outputId": "329470f0-3855-457a-9d2d-46dc9eff1b71"
      },
      "source": [
        "# 索引或者切片产生的标量还是series，取决于索引是否重复。\n",
        "\n",
        "dup_ts = pd.Series(np.arange(5), index=dates)\n",
        "dup_ts"
      ],
      "execution_count": 27,
      "outputs": [
        {
          "output_type": "execute_result",
          "data": {
            "text/plain": [
              "2000-01-01    0\n",
              "2000-01-02    1\n",
              "2000-01-02    2\n",
              "2000-01-02    3\n",
              "2000-01-03    4\n",
              "dtype: int64"
            ]
          },
          "metadata": {
            "tags": []
          },
          "execution_count": 27
        }
      ]
    },
    {
      "cell_type": "code",
      "metadata": {
        "id": "HvXfoSfJHQKS",
        "colab_type": "code",
        "colab": {
          "base_uri": "https://localhost:8080/",
          "height": 71
        },
        "outputId": "6bb8c317-f448-497d-dcc6-31eac0e1dd6c"
      },
      "source": [
        "dup_ts.index"
      ],
      "execution_count": 28,
      "outputs": [
        {
          "output_type": "execute_result",
          "data": {
            "text/plain": [
              "DatetimeIndex(['2000-01-01', '2000-01-02', '2000-01-02', '2000-01-02',\n",
              "               '2000-01-03'],\n",
              "              dtype='datetime64[ns]', freq=None)"
            ]
          },
          "metadata": {
            "tags": []
          },
          "execution_count": 28
        }
      ]
    },
    {
      "cell_type": "code",
      "metadata": {
        "id": "0nr2sjQbHQNX",
        "colab_type": "code",
        "colab": {
          "base_uri": "https://localhost:8080/",
          "height": 35
        },
        "outputId": "dfeba162-341b-4ec0-f027-3c4198e34bb9"
      },
      "source": [
        "dup_ts.index.is_unique"
      ],
      "execution_count": 29,
      "outputs": [
        {
          "output_type": "execute_result",
          "data": {
            "text/plain": [
              "False"
            ]
          },
          "metadata": {
            "tags": []
          },
          "execution_count": 29
        }
      ]
    },
    {
      "cell_type": "code",
      "metadata": {
        "id": "9K-uUyfrHQQH",
        "colab_type": "code",
        "colab": {
          "base_uri": "https://localhost:8080/",
          "height": 35
        },
        "outputId": "a652a3d7-420a-4f41-de6e-dfbabbe735c0"
      },
      "source": [
        "dup_ts['1/3/2000']"
      ],
      "execution_count": 30,
      "outputs": [
        {
          "output_type": "execute_result",
          "data": {
            "text/plain": [
              "4"
            ]
          },
          "metadata": {
            "tags": []
          },
          "execution_count": 30
        }
      ]
    },
    {
      "cell_type": "code",
      "metadata": {
        "id": "MRvb4wT8HQTZ",
        "colab_type": "code",
        "colab": {
          "base_uri": "https://localhost:8080/",
          "height": 89
        },
        "outputId": "b68e825e-f074-4e09-fd51-cf2287d68e7f"
      },
      "source": [
        "dup_ts['1/2/2000']"
      ],
      "execution_count": 36,
      "outputs": [
        {
          "output_type": "execute_result",
          "data": {
            "text/plain": [
              "2000-01-02    1\n",
              "2000-01-02    2\n",
              "2000-01-02    3\n",
              "dtype: int64"
            ]
          },
          "metadata": {
            "tags": []
          },
          "execution_count": 36
        }
      ]
    },
    {
      "cell_type": "markdown",
      "metadata": {
        "id": "vtq4RAl1AJA2",
        "colab_type": "text"
      },
      "source": [
        "## 11.3 Date Ranges, Frequencies, and Shifting"
      ]
    },
    {
      "cell_type": "code",
      "metadata": {
        "id": "9ap29WO9HQZ1",
        "colab_type": "code",
        "colab": {
          "base_uri": "https://localhost:8080/",
          "height": 143
        },
        "outputId": "b753a7ef-1836-4f65-e64a-4ec3ec246516"
      },
      "source": [
        "ts\n"
      ],
      "execution_count": 37,
      "outputs": [
        {
          "output_type": "execute_result",
          "data": {
            "text/plain": [
              "2011-01-02    0.543875\n",
              "2011-01-05   -0.538065\n",
              "2011-01-07   -0.055432\n",
              "2011-01-08   -0.235359\n",
              "2011-01-10   -0.252591\n",
              "2011-01-12   -0.080231\n",
              "dtype: float64"
            ]
          },
          "metadata": {
            "tags": []
          },
          "execution_count": 37
        }
      ]
    },
    {
      "cell_type": "code",
      "metadata": {
        "id": "BxNy_iAKHQWo",
        "colab_type": "code",
        "colab": {
          "base_uri": "https://localhost:8080/",
          "height": 35
        },
        "outputId": "22c06b9b-1816-4a80-f130-ca1554946cfc"
      },
      "source": [
        "resampler = ts.resample('D')\n",
        "resampler"
      ],
      "execution_count": 39,
      "outputs": [
        {
          "output_type": "execute_result",
          "data": {
            "text/plain": [
              "<pandas.core.resample.DatetimeIndexResampler object at 0x7fe2eba99278>"
            ]
          },
          "metadata": {
            "tags": []
          },
          "execution_count": 39
        }
      ]
    },
    {
      "cell_type": "markdown",
      "metadata": {
        "id": "k_wd4ZCQAvb9",
        "colab_type": "text"
      },
      "source": [
        "### Generating Date Ranges"
      ]
    },
    {
      "cell_type": "code",
      "metadata": {
        "id": "Bnr_Q1i5PpHW",
        "colab_type": "code",
        "colab": {
          "base_uri": "https://localhost:8080/",
          "height": 323
        },
        "outputId": "be4f789d-47d0-4f02-fa08-20026239df64"
      },
      "source": [
        "# While I used it previously without explanation,  pandas.date_range is responsible for\n",
        "# generating a  DatetimeIndex with an indicated length according to a particular\n",
        "# frequency:\n",
        "\n",
        "index = pd.date_range('2012.04.01', '2012.06.01')\n",
        "index"
      ],
      "execution_count": 40,
      "outputs": [
        {
          "output_type": "execute_result",
          "data": {
            "text/plain": [
              "DatetimeIndex(['2012-04-01', '2012-04-02', '2012-04-03', '2012-04-04',\n",
              "               '2012-04-05', '2012-04-06', '2012-04-07', '2012-04-08',\n",
              "               '2012-04-09', '2012-04-10', '2012-04-11', '2012-04-12',\n",
              "               '2012-04-13', '2012-04-14', '2012-04-15', '2012-04-16',\n",
              "               '2012-04-17', '2012-04-18', '2012-04-19', '2012-04-20',\n",
              "               '2012-04-21', '2012-04-22', '2012-04-23', '2012-04-24',\n",
              "               '2012-04-25', '2012-04-26', '2012-04-27', '2012-04-28',\n",
              "               '2012-04-29', '2012-04-30', '2012-05-01', '2012-05-02',\n",
              "               '2012-05-03', '2012-05-04', '2012-05-05', '2012-05-06',\n",
              "               '2012-05-07', '2012-05-08', '2012-05-09', '2012-05-10',\n",
              "               '2012-05-11', '2012-05-12', '2012-05-13', '2012-05-14',\n",
              "               '2012-05-15', '2012-05-16', '2012-05-17', '2012-05-18',\n",
              "               '2012-05-19', '2012-05-20', '2012-05-21', '2012-05-22',\n",
              "               '2012-05-23', '2012-05-24', '2012-05-25', '2012-05-26',\n",
              "               '2012-05-27', '2012-05-28', '2012-05-29', '2012-05-30',\n",
              "               '2012-05-31', '2012-06-01'],\n",
              "              dtype='datetime64[ns]', freq='D')"
            ]
          },
          "metadata": {
            "tags": []
          },
          "execution_count": 40
        }
      ]
    },
    {
      "cell_type": "code",
      "metadata": {
        "id": "cPn6NpL1PpKU",
        "colab_type": "code",
        "colab": {}
      },
      "source": [
        "# 之前的函数已经对pd.date_range()内的各个参数说的很明确了，这里就不再说了。"
      ],
      "execution_count": null,
      "outputs": []
    },
    {
      "cell_type": "code",
      "metadata": {
        "id": "jo8leWlJPpNh",
        "colab_type": "code",
        "colab": {}
      },
      "source": [
        ""
      ],
      "execution_count": null,
      "outputs": []
    },
    {
      "cell_type": "markdown",
      "metadata": {
        "id": "ubFPpEBEAvfG",
        "colab_type": "text"
      },
      "source": [
        "### Frequencies and Date Offsets\n",
        "\n",
        "频率间隔 和日期偏移。\n",
        "\n",
        "M H   ---> Hour class \n",
        "\n",
        "每一种间隔都有相应的日期便宜类对应。\n",
        "\n",
        "\n",
        "![链接文字](https://img-blog.csdnimg.cn/20200822135325145.png?x-oss-process=image/watermark,type_ZmFuZ3poZW5naGVpdGk,shadow_10,text_aHR0cHM6Ly9ibG9nLmNzZG4ubmV0L2dhb2N1aTg4Mw==,size_16,color_FFFFFF,t_70#pic_center)"
      ]
    },
    {
      "cell_type": "code",
      "metadata": {
        "id": "mlCtD3sAs6tJ",
        "colab_type": "code",
        "colab": {}
      },
      "source": [
        "# 本节主要讲述各种时间间隔，这些都是用时间偏移类来进行定义的。当然一般是不用自己来定义的。\n",
        "# pandas可以自己识别相应的字符样式的时间间隔。如上表。\n",
        "\n",
        "from pandas.tseries.offsets import Hour, Minute"
      ],
      "execution_count": 41,
      "outputs": []
    },
    {
      "cell_type": "code",
      "metadata": {
        "id": "haSUUDm6s6vv",
        "colab_type": "code",
        "colab": {
          "base_uri": "https://localhost:8080/",
          "height": 35
        },
        "outputId": "006df7ec-a77a-4c5b-fa68-3d1dd545100c"
      },
      "source": [
        "hour =Hour()\n",
        "hour"
      ],
      "execution_count": 42,
      "outputs": [
        {
          "output_type": "execute_result",
          "data": {
            "text/plain": [
              "<Hour>"
            ]
          },
          "metadata": {
            "tags": []
          },
          "execution_count": 42
        }
      ]
    },
    {
      "cell_type": "code",
      "metadata": {
        "id": "JW4skDmEs6yn",
        "colab_type": "code",
        "colab": {
          "base_uri": "https://localhost:8080/",
          "height": 35
        },
        "outputId": "e3d1f6ba-8bdc-4b1a-e9b4-fd9a135693ad"
      },
      "source": [
        "# 可以看到，hour是Hour类对象\n",
        "\n",
        "fourhour = Hour(4)\n",
        "fourhour"
      ],
      "execution_count": 43,
      "outputs": [
        {
          "output_type": "execute_result",
          "data": {
            "text/plain": [
              "<4 * Hours>"
            ]
          },
          "metadata": {
            "tags": []
          },
          "execution_count": 43
        }
      ]
    },
    {
      "cell_type": "code",
      "metadata": {
        "id": "OCiGNE3ks61i",
        "colab_type": "code",
        "colab": {
          "base_uri": "https://localhost:8080/",
          "height": 161
        },
        "outputId": "7d157dd2-6924-460f-de49-4c228c20f66f"
      },
      "source": [
        "pd.date_range('2000.1.1', '2000.1.3', freq=fourhour)"
      ],
      "execution_count": 45,
      "outputs": [
        {
          "output_type": "execute_result",
          "data": {
            "text/plain": [
              "DatetimeIndex(['2000-01-01 00:00:00', '2000-01-01 04:00:00',\n",
              "               '2000-01-01 08:00:00', '2000-01-01 12:00:00',\n",
              "               '2000-01-01 16:00:00', '2000-01-01 20:00:00',\n",
              "               '2000-01-02 00:00:00', '2000-01-02 04:00:00',\n",
              "               '2000-01-02 08:00:00', '2000-01-02 12:00:00',\n",
              "               '2000-01-02 16:00:00', '2000-01-02 20:00:00',\n",
              "               '2000-01-03 00:00:00'],\n",
              "              dtype='datetime64[ns]', freq='4H')"
            ]
          },
          "metadata": {
            "tags": []
          },
          "execution_count": 45
        }
      ]
    },
    {
      "cell_type": "code",
      "metadata": {
        "id": "SQgT5eG0wTIH",
        "colab_type": "code",
        "colab": {
          "base_uri": "https://localhost:8080/",
          "height": 161
        },
        "outputId": "7b751569-6ab4-47a9-87cf-a050f86ccefa"
      },
      "source": [
        "pd.date_range('2000.1.1', '2000.1.3', freq='4H')"
      ],
      "execution_count": 46,
      "outputs": [
        {
          "output_type": "execute_result",
          "data": {
            "text/plain": [
              "DatetimeIndex(['2000-01-01 00:00:00', '2000-01-01 04:00:00',\n",
              "               '2000-01-01 08:00:00', '2000-01-01 12:00:00',\n",
              "               '2000-01-01 16:00:00', '2000-01-01 20:00:00',\n",
              "               '2000-01-02 00:00:00', '2000-01-02 04:00:00',\n",
              "               '2000-01-02 08:00:00', '2000-01-02 12:00:00',\n",
              "               '2000-01-02 16:00:00', '2000-01-02 20:00:00',\n",
              "               '2000-01-03 00:00:00'],\n",
              "              dtype='datetime64[ns]', freq='4H')"
            ]
          },
          "metadata": {
            "tags": []
          },
          "execution_count": 46
        }
      ]
    },
    {
      "cell_type": "code",
      "metadata": {
        "id": "rn_UKx5pwTKw",
        "colab_type": "code",
        "colab": {
          "base_uri": "https://localhost:8080/",
          "height": 161
        },
        "outputId": "8317411b-f88b-48d2-bd6e-6193a2ab3f90"
      },
      "source": [
        "# 有用的week of month dates \n",
        "\n",
        "rng = pd.date_range('2012.1.1', '2012.9.1', freq='WOM-3FRI')# 每个月第三个星期五。\n",
        "\n",
        "list(rng)"
      ],
      "execution_count": 48,
      "outputs": [
        {
          "output_type": "execute_result",
          "data": {
            "text/plain": [
              "[Timestamp('2012-01-20 00:00:00', freq='WOM-3FRI'),\n",
              " Timestamp('2012-02-17 00:00:00', freq='WOM-3FRI'),\n",
              " Timestamp('2012-03-16 00:00:00', freq='WOM-3FRI'),\n",
              " Timestamp('2012-04-20 00:00:00', freq='WOM-3FRI'),\n",
              " Timestamp('2012-05-18 00:00:00', freq='WOM-3FRI'),\n",
              " Timestamp('2012-06-15 00:00:00', freq='WOM-3FRI'),\n",
              " Timestamp('2012-07-20 00:00:00', freq='WOM-3FRI'),\n",
              " Timestamp('2012-08-17 00:00:00', freq='WOM-3FRI')]"
            ]
          },
          "metadata": {
            "tags": []
          },
          "execution_count": 48
        }
      ]
    },
    {
      "cell_type": "markdown",
      "metadata": {
        "id": "48f4DEhpAvh1",
        "colab_type": "text"
      },
      "source": [
        "### Shifting (Leading and Lagging) Data\n",
        "\n",
        "\n",
        "向前或者向后移动日期"
      ]
    },
    {
      "cell_type": "code",
      "metadata": {
        "id": "AwR-iic4x2sg",
        "colab_type": "code",
        "colab": {
          "base_uri": "https://localhost:8080/",
          "height": 107
        },
        "outputId": "0e4a6a42-1ece-4e60-e79b-f952516efd64"
      },
      "source": [
        "ts = pd.Series(np.random.randn(4), index=pd.date_range('1/1/2000', periods=4, freq='M'))\n",
        "ts"
      ],
      "execution_count": 50,
      "outputs": [
        {
          "output_type": "execute_result",
          "data": {
            "text/plain": [
              "2000-01-31   -0.353654\n",
              "2000-02-29   -1.181412\n",
              "2000-03-31   -0.524985\n",
              "2000-04-30    0.124733\n",
              "Freq: M, dtype: float64"
            ]
          },
          "metadata": {
            "tags": []
          },
          "execution_count": 50
        }
      ]
    },
    {
      "cell_type": "code",
      "metadata": {
        "id": "G3Ka1nYUx2vn",
        "colab_type": "code",
        "colab": {
          "base_uri": "https://localhost:8080/",
          "height": 107
        },
        "outputId": "0adfcdcd-6d9e-4085-dc44-8d4ca4f89d3a"
      },
      "source": [
        "ts.shift(2)"
      ],
      "execution_count": 51,
      "outputs": [
        {
          "output_type": "execute_result",
          "data": {
            "text/plain": [
              "2000-01-31         NaN\n",
              "2000-02-29         NaN\n",
              "2000-03-31   -0.353654\n",
              "2000-04-30   -1.181412\n",
              "Freq: M, dtype: float64"
            ]
          },
          "metadata": {
            "tags": []
          },
          "execution_count": 51
        }
      ]
    },
    {
      "cell_type": "code",
      "metadata": {
        "id": "YEpoWOPRx2y9",
        "colab_type": "code",
        "colab": {
          "base_uri": "https://localhost:8080/",
          "height": 107
        },
        "outputId": "be7cdff1-67b8-4b35-97d8-a4568695a407"
      },
      "source": [
        "(ts-ts.shift(1))/ts.shift(1) # 可以很方便的计算两天的增长百分比。"
      ],
      "execution_count": 53,
      "outputs": [
        {
          "output_type": "execute_result",
          "data": {
            "text/plain": [
              "2000-01-31         NaN\n",
              "2000-02-29    2.340586\n",
              "2000-03-31   -0.555629\n",
              "2000-04-30   -1.237594\n",
              "Freq: M, dtype: float64"
            ]
          },
          "metadata": {
            "tags": []
          },
          "execution_count": 53
        }
      ]
    },
    {
      "cell_type": "code",
      "metadata": {
        "id": "KkFHKUIO1r0-",
        "colab_type": "code",
        "colab": {
          "base_uri": "https://localhost:8080/",
          "height": 107
        },
        "outputId": "699f5630-1c89-44b8-feec-bc74464526eb"
      },
      "source": [
        "# 如果移动的间隔知道的画。\n",
        "ts.shift(2,freq='M')"
      ],
      "execution_count": 54,
      "outputs": [
        {
          "output_type": "execute_result",
          "data": {
            "text/plain": [
              "2000-03-31   -0.353654\n",
              "2000-04-30   -1.181412\n",
              "2000-05-31   -0.524985\n",
              "2000-06-30    0.124733\n",
              "Freq: M, dtype: float64"
            ]
          },
          "metadata": {
            "tags": []
          },
          "execution_count": 54
        }
      ]
    },
    {
      "cell_type": "code",
      "metadata": {
        "id": "-G_Ssgdv1r3g",
        "colab_type": "code",
        "colab": {
          "base_uri": "https://localhost:8080/",
          "height": 107
        },
        "outputId": "7d17e873-b6fc-415b-a93c-78e16f7a8791"
      },
      "source": [
        "# 可以明显的看出，时间戳改变了。\n",
        "\n",
        "ts.shift(2, freq='D')"
      ],
      "execution_count": 55,
      "outputs": [
        {
          "output_type": "execute_result",
          "data": {
            "text/plain": [
              "2000-02-02   -0.353654\n",
              "2000-03-02   -1.181412\n",
              "2000-04-02   -0.524985\n",
              "2000-05-02    0.124733\n",
              "dtype: float64"
            ]
          },
          "metadata": {
            "tags": []
          },
          "execution_count": 55
        }
      ]
    },
    {
      "cell_type": "code",
      "metadata": {
        "id": "U2VduSgw1r61",
        "colab_type": "code",
        "colab": {
          "base_uri": "https://localhost:8080/",
          "height": 35
        },
        "outputId": "8b916250-3f7c-48df-f9f1-2a77ed9f05c4"
      },
      "source": [
        "# shitf with offsets.\n",
        "\n",
        "\n",
        "from pandas.tseries.offsets import Day,MonthEnd\n",
        "\n",
        "NOW = datetime(2011,2,3)\n",
        "\n",
        "NOW + 3*Day()"
      ],
      "execution_count": 57,
      "outputs": [
        {
          "output_type": "execute_result",
          "data": {
            "text/plain": [
              "Timestamp('2011-02-06 00:00:00')"
            ]
          },
          "metadata": {
            "tags": []
          },
          "execution_count": 57
        }
      ]
    },
    {
      "cell_type": "code",
      "metadata": {
        "id": "QmjQC3Z81r9p",
        "colab_type": "code",
        "colab": {
          "base_uri": "https://localhost:8080/",
          "height": 35
        },
        "outputId": "ecea177e-488e-4ccd-ffcd-9c80e87a9ead"
      },
      "source": [
        "NOW + MonthEnd()"
      ],
      "execution_count": 59,
      "outputs": [
        {
          "output_type": "execute_result",
          "data": {
            "text/plain": [
              "Timestamp('2011-02-28 00:00:00')"
            ]
          },
          "metadata": {
            "tags": []
          },
          "execution_count": 59
        }
      ]
    },
    {
      "cell_type": "code",
      "metadata": {
        "id": "67ocRmuj2ehO",
        "colab_type": "code",
        "colab": {
          "base_uri": "https://localhost:8080/",
          "height": 35
        },
        "outputId": "0dbe1b55-9f68-487f-8a58-ac22fbacaad9"
      },
      "source": [
        "offset = MonthEnd()\n",
        "offset.rollforward(NOW) #显式的前滚。"
      ],
      "execution_count": 61,
      "outputs": [
        {
          "output_type": "execute_result",
          "data": {
            "text/plain": [
              "Timestamp('2011-02-28 00:00:00')"
            ]
          },
          "metadata": {
            "tags": []
          },
          "execution_count": 61
        }
      ]
    },
    {
      "cell_type": "code",
      "metadata": {
        "id": "1UswtOj_2ekE",
        "colab_type": "code",
        "colab": {
          "base_uri": "https://localhost:8080/",
          "height": 35
        },
        "outputId": "06bf4ddc-5ed3-44fa-a0c7-4e986dc0c534"
      },
      "source": [
        "offset.rollback(NOW)"
      ],
      "execution_count": 62,
      "outputs": [
        {
          "output_type": "execute_result",
          "data": {
            "text/plain": [
              "Timestamp('2011-01-31 00:00:00')"
            ]
          },
          "metadata": {
            "tags": []
          },
          "execution_count": 62
        }
      ]
    },
    {
      "cell_type": "code",
      "metadata": {
        "id": "Gr2BO1xo2enR",
        "colab_type": "code",
        "colab": {
          "base_uri": "https://localhost:8080/",
          "height": 395
        },
        "outputId": "c1191c0b-2788-46a9-b560-5f66f1c32132"
      },
      "source": [
        "ts = pd.Series(np.random.randn(20),\n",
        "        index=pd.date_range('1/15/2000', periods=20, freq='4d'))\n",
        "ts"
      ],
      "execution_count": 64,
      "outputs": [
        {
          "output_type": "execute_result",
          "data": {
            "text/plain": [
              "2000-01-15    1.012790\n",
              "2000-01-19   -0.578575\n",
              "2000-01-23    0.898893\n",
              "2000-01-27   -0.773803\n",
              "2000-01-31   -1.716588\n",
              "2000-02-04   -0.002551\n",
              "2000-02-08   -1.267683\n",
              "2000-02-12    1.567952\n",
              "2000-02-16    0.128305\n",
              "2000-02-20   -0.161111\n",
              "2000-02-24   -0.851241\n",
              "2000-02-28    2.282059\n",
              "2000-03-03   -0.039216\n",
              "2000-03-07   -0.466481\n",
              "2000-03-11   -0.066231\n",
              "2000-03-15    0.677725\n",
              "2000-03-19    0.940002\n",
              "2000-03-23   -0.417170\n",
              "2000-03-27   -0.633030\n",
              "2000-03-31    0.822663\n",
              "Freq: 4D, dtype: float64"
            ]
          },
          "metadata": {
            "tags": []
          },
          "execution_count": 64
        }
      ]
    },
    {
      "cell_type": "code",
      "metadata": {
        "id": "3cjl77xB243T",
        "colab_type": "code",
        "colab": {
          "base_uri": "https://localhost:8080/",
          "height": 89
        },
        "outputId": "015f1ea2-69b6-4ec7-cc04-80877dec357e"
      },
      "source": [
        "# 结合groupby使用。 \n",
        "ts.groupby(offset.rollforward).mean()"
      ],
      "execution_count": 65,
      "outputs": [
        {
          "output_type": "execute_result",
          "data": {
            "text/plain": [
              "2000-01-31   -0.231456\n",
              "2000-02-29    0.242247\n",
              "2000-03-31    0.102283\n",
              "dtype: float64"
            ]
          },
          "metadata": {
            "tags": []
          },
          "execution_count": 65
        }
      ]
    },
    {
      "cell_type": "code",
      "metadata": {
        "id": "cb_CoOC9246d",
        "colab_type": "code",
        "colab": {
          "base_uri": "https://localhost:8080/",
          "height": 89
        },
        "outputId": "3e16d326-55c9-4b87-b0e3-dbab79adaf03"
      },
      "source": [
        "# 当然也可以直接使用resample ，在之后会讲到。\n",
        "ts.resample('M').mean()"
      ],
      "execution_count": 66,
      "outputs": [
        {
          "output_type": "execute_result",
          "data": {
            "text/plain": [
              "2000-01-31   -0.231456\n",
              "2000-02-29    0.242247\n",
              "2000-03-31    0.102283\n",
              "Freq: M, dtype: float64"
            ]
          },
          "metadata": {
            "tags": []
          },
          "execution_count": 66
        }
      ]
    },
    {
      "cell_type": "markdown",
      "metadata": {
        "id": "Mt8WoD1eAvkt",
        "colab_type": "text"
      },
      "source": [
        "## 11.4 Time Zone Handling"
      ]
    },
    {
      "cell_type": "markdown",
      "metadata": {
        "id": "lmwnBaaHAvqV",
        "colab_type": "text"
      },
      "source": [
        "### Time Zone Localization and Conversion"
      ]
    },
    {
      "cell_type": "markdown",
      "metadata": {
        "id": "3ED4mIAtAvtF",
        "colab_type": "text"
      },
      "source": [
        "### Operations with Time Zone−Aware Timestamp Objects"
      ]
    },
    {
      "cell_type": "markdown",
      "metadata": {
        "id": "9XYatFkJAvwN",
        "colab_type": "text"
      },
      "source": [
        "### Operations Between Different Time Zones"
      ]
    },
    {
      "cell_type": "markdown",
      "metadata": {
        "id": "iSxMu8zqAvy9",
        "colab_type": "text"
      },
      "source": [
        "## 11.5 Periods and Period Arithmetic"
      ]
    },
    {
      "cell_type": "markdown",
      "metadata": {
        "id": "T_ky1dx6Av1t",
        "colab_type": "text"
      },
      "source": [
        "### Period Frequency Conversion"
      ]
    },
    {
      "cell_type": "markdown",
      "metadata": {
        "id": "KFkvxpp1Av4u",
        "colab_type": "text"
      },
      "source": [
        "### Quarterly Period Frequencies\n"
      ]
    },
    {
      "cell_type": "markdown",
      "metadata": {
        "id": "ENn1Hi7NAv7t",
        "colab_type": "text"
      },
      "source": [
        "### Converting Timestamps to Periods (and Back)"
      ]
    },
    {
      "cell_type": "markdown",
      "metadata": {
        "id": "8CQiA4YmAv-l",
        "colab_type": "text"
      },
      "source": [
        "### Creating a PeriodIndex from Arrays\n"
      ]
    },
    {
      "cell_type": "markdown",
      "metadata": {
        "id": "gWqfT9tKAwBn",
        "colab_type": "text"
      },
      "source": [
        "## 11.6 Resampling and Frequency Conversion"
      ]
    },
    {
      "cell_type": "markdown",
      "metadata": {
        "id": "19ReHNYwAwEv",
        "colab_type": "text"
      },
      "source": [
        "### Downsampling"
      ]
    },
    {
      "cell_type": "markdown",
      "metadata": {
        "id": "kcJk4nknAwHt",
        "colab_type": "text"
      },
      "source": [
        "### Upsampling and Interpolation"
      ]
    },
    {
      "cell_type": "markdown",
      "metadata": {
        "id": "GwXx8QXUBsUm",
        "colab_type": "text"
      },
      "source": [
        "### Resampling with Periods"
      ]
    },
    {
      "cell_type": "markdown",
      "metadata": {
        "id": "8y2QgisaBsYF",
        "colab_type": "text"
      },
      "source": [
        "## 11.7 Moving Window Functions"
      ]
    },
    {
      "cell_type": "markdown",
      "metadata": {
        "id": "vhRX2mPBBsdN",
        "colab_type": "text"
      },
      "source": [
        "### Exponentially Weighted Functions"
      ]
    },
    {
      "cell_type": "markdown",
      "metadata": {
        "id": "PzozffsWBsgF",
        "colab_type": "text"
      },
      "source": [
        "### Binary Moving Window Functions"
      ]
    },
    {
      "cell_type": "markdown",
      "metadata": {
        "id": "HwcguupeBsi2",
        "colab_type": "text"
      },
      "source": [
        "### User-Defined Moving Window Functions"
      ]
    },
    {
      "cell_type": "code",
      "metadata": {
        "id": "UziBmlDCBofB",
        "colab_type": "code",
        "colab": {}
      },
      "source": [
        ""
      ],
      "execution_count": null,
      "outputs": []
    }
  ]
}