{
  "nbformat": 4,
  "nbformat_minor": 0,
  "metadata": {
    "colab": {
      "name": "pandas007_TimeSeries.ipynb",
      "provenance": [],
      "collapsed_sections": [],
      "toc_visible": true,
      "authorship_tag": "ABX9TyMb/Z+xTPI1FUspZzDTo5vc",
      "include_colab_link": true
    },
    "kernelspec": {
      "name": "python3",
      "display_name": "Python 3"
    }
  },
  "cells": [
    {
      "cell_type": "markdown",
      "metadata": {
        "id": "view-in-github",
        "colab_type": "text"
      },
      "source": [
        "<a href=\"https://colab.research.google.com/github/smiledinisa/data_python_analysis/blob/master/pandas007_TimeSeries.ipynb\" target=\"_parent\"><img src=\"https://colab.research.google.com/assets/colab-badge.svg\" alt=\"Open In Colab\"/></a>"
      ]
    },
    {
      "cell_type": "code",
      "metadata": {
        "id": "4uHpwB5GooG4",
        "colab_type": "code",
        "colab": {
          "base_uri": "https://localhost:8080/",
          "height": 127
        },
        "outputId": "98a662cb-07bc-496c-84fb-c317470bf8b4"
      },
      "source": [
        "from google.colab import drive\n",
        "drive.mount('/content/drive')"
      ],
      "execution_count": 1,
      "outputs": [
        {
          "output_type": "stream",
          "text": [
            "Go to this URL in a browser: https://accounts.google.com/o/oauth2/auth?client_id=947318989803-6bn6qk8qdgf4n4g3pfee6491hc0brc4i.apps.googleusercontent.com&redirect_uri=urn%3aietf%3awg%3aoauth%3a2.0%3aoob&scope=email%20https%3a%2f%2fwww.googleapis.com%2fauth%2fdocs.test%20https%3a%2f%2fwww.googleapis.com%2fauth%2fdrive%20https%3a%2f%2fwww.googleapis.com%2fauth%2fdrive.photos.readonly%20https%3a%2f%2fwww.googleapis.com%2fauth%2fpeopleapi.readonly&response_type=code\n",
            "\n",
            "Enter your authorization code:\n",
            "··········\n",
            "Mounted at /content/drive\n"
          ],
          "name": "stdout"
        }
      ]
    },
    {
      "cell_type": "code",
      "metadata": {
        "id": "mrgg0hZyo9XE",
        "colab_type": "code",
        "colab": {
          "base_uri": "https://localhost:8080/",
          "height": 35
        },
        "outputId": "62c750e8-792f-4531-b01f-20166918f52e"
      },
      "source": [
        "cd /content/drive/My Drive"
      ],
      "execution_count": 2,
      "outputs": [
        {
          "output_type": "stream",
          "text": [
            "/content/drive/My Drive\n"
          ],
          "name": "stdout"
        }
      ]
    },
    {
      "cell_type": "code",
      "metadata": {
        "id": "u1Lqn9NEpSUk",
        "colab_type": "code",
        "colab": {}
      },
      "source": [
        ""
      ],
      "execution_count": null,
      "outputs": []
    },
    {
      "cell_type": "markdown",
      "metadata": {
        "id": "yVGQ8TTjAIvI",
        "colab_type": "text"
      },
      "source": [
        "# CHAPTER 11 :Time Series\n",
        "\n",
        " you may have one of the  \n",
        "\n",
        "\n",
        "following:  \n",
        "• Timestamps, specific instants in time  \n",
        "• Fixed periods, such as the month January 2007 or the full year 2010  \n",
        "• Intervals of time, indicated by a start and end timestamp. Periods can be   thought  \n",
        "of as special cases of intervals  \n",
        "• Experiment or elapsed time; each timestamp is a measure of time relative to a  \n",
        "particular start time (e.g., the diameter of a cookie baking each second since  \n",
        "being placed in the oven)  \n",
        "\n",
        "\n",
        "时间索引类型：\n",
        "\n",
        "时间戳。\n",
        "\n",
        "时间段。\n",
        "\n",
        "时间间隔。\n",
        "\n",
        "累计时间间隔。\n",
        "\n",
        "\n",
        "\n"
      ]
    },
    {
      "cell_type": "markdown",
      "metadata": {
        "id": "BtxbEh_iAIyF",
        "colab_type": "text"
      },
      "source": [
        "## 11.1 Date and Time Data Types and Tools\n",
        "\n",
        "\n",
        "![链接文字](https://img-blog.csdnimg.cn/20200821163726427.png?x-oss-process=image/watermark,type_ZmFuZ3poZW5naGVpdGk,shadow_10,text_aHR0cHM6Ly9ibG9nLmNzZG4ubmV0L2dhb2N1aTg4Mw==,size_16,color_FFFFFF,t_70#pic_center)"
      ]
    },
    {
      "cell_type": "code",
      "metadata": {
        "id": "jFVwuDdDKtck",
        "colab_type": "code",
        "colab": {}
      },
      "source": [
        "# 基础的一些时间类模块。\n",
        "\n",
        "from datetime import datetime"
      ],
      "execution_count": null,
      "outputs": []
    },
    {
      "cell_type": "code",
      "metadata": {
        "id": "x7yQueY2Ktfq",
        "colab_type": "code",
        "colab": {
          "base_uri": "https://localhost:8080/",
          "height": 35
        },
        "outputId": "2c3161de-0c45-42f8-f96d-38f6de673873"
      },
      "source": [
        "now = datetime.now()\n",
        "now"
      ],
      "execution_count": null,
      "outputs": [
        {
          "output_type": "execute_result",
          "data": {
            "text/plain": [
              "datetime.datetime(2020, 8, 21, 8, 39, 12, 36627)"
            ]
          },
          "metadata": {
            "tags": []
          },
          "execution_count": 5
        }
      ]
    },
    {
      "cell_type": "code",
      "metadata": {
        "id": "e3s5suIIKtii",
        "colab_type": "code",
        "colab": {
          "base_uri": "https://localhost:8080/",
          "height": 35
        },
        "outputId": "f7db3b1c-41e0-4f17-cae8-81bbbb78ebde"
      },
      "source": [
        "now.year\n"
      ],
      "execution_count": null,
      "outputs": [
        {
          "output_type": "execute_result",
          "data": {
            "text/plain": [
              "2020"
            ]
          },
          "metadata": {
            "tags": []
          },
          "execution_count": 6
        }
      ]
    },
    {
      "cell_type": "code",
      "metadata": {
        "id": "kfK4NWW8LMsS",
        "colab_type": "code",
        "colab": {
          "base_uri": "https://localhost:8080/",
          "height": 35
        },
        "outputId": "230fe05a-4bc0-4caf-bd29-89d59e15dab2"
      },
      "source": [
        "delta = datetime(2011,1,5) - datetime(2010,2,3,12,8,3)\n",
        "delta"
      ],
      "execution_count": null,
      "outputs": [
        {
          "output_type": "execute_result",
          "data": {
            "text/plain": [
              "datetime.timedelta(335, 42717)"
            ]
          },
          "metadata": {
            "tags": []
          },
          "execution_count": 9
        }
      ]
    },
    {
      "cell_type": "code",
      "metadata": {
        "id": "82aftLYOLMvK",
        "colab_type": "code",
        "colab": {
          "base_uri": "https://localhost:8080/",
          "height": 35
        },
        "outputId": "1112be56-5925-428f-db84-30aa6485dd19"
      },
      "source": [
        "delta.days"
      ],
      "execution_count": null,
      "outputs": [
        {
          "output_type": "execute_result",
          "data": {
            "text/plain": [
              "335"
            ]
          },
          "metadata": {
            "tags": []
          },
          "execution_count": 10
        }
      ]
    },
    {
      "cell_type": "code",
      "metadata": {
        "id": "2W64KdJHLgyS",
        "colab_type": "code",
        "colab": {
          "base_uri": "https://localhost:8080/",
          "height": 53
        },
        "outputId": "efe3fad6-25f5-4763-e22d-7fd1623dc05c"
      },
      "source": [
        "from datetime import timedelta\n",
        "start = datetime(2011,1,7)\n",
        "\n",
        "x = start + timedelta(13)\n",
        "print(x)\n",
        "\n",
        "y = start - 2*timedelta(12)\n",
        "print(y)"
      ],
      "execution_count": null,
      "outputs": [
        {
          "output_type": "stream",
          "text": [
            "2011-01-20 00:00:00\n",
            "2010-12-14 00:00:00\n"
          ],
          "name": "stdout"
        }
      ]
    },
    {
      "cell_type": "code",
      "metadata": {
        "id": "jwSsvHmNPK4Z",
        "colab_type": "code",
        "colab": {
          "base_uri": "https://localhost:8080/",
          "height": 35
        },
        "outputId": "fbef7390-509d-45b9-86a6-f933a93d540d"
      },
      "source": [
        "x.isoformat()"
      ],
      "execution_count": null,
      "outputs": [
        {
          "output_type": "execute_result",
          "data": {
            "application/vnd.google.colaboratory.intrinsic+json": {
              "type": "string"
            },
            "text/plain": [
              "'2011-01-20T00:00:00'"
            ]
          },
          "metadata": {
            "tags": []
          },
          "execution_count": 12
        }
      ]
    },
    {
      "cell_type": "code",
      "metadata": {
        "id": "GA35c475PThx",
        "colab_type": "code",
        "colab": {
          "base_uri": "https://localhost:8080/",
          "height": 35
        },
        "outputId": "ee9fab0c-bc8e-46a3-d81e-2047f340b1e2"
      },
      "source": [
        "x.isocalendar() # 返回year,week,day."
      ],
      "execution_count": null,
      "outputs": [
        {
          "output_type": "execute_result",
          "data": {
            "text/plain": [
              "(2011, 3, 4)"
            ]
          },
          "metadata": {
            "tags": []
          },
          "execution_count": 13
        }
      ]
    },
    {
      "cell_type": "code",
      "metadata": {
        "id": "D466OYSfPTkh",
        "colab_type": "code",
        "colab": {
          "base_uri": "https://localhost:8080/",
          "height": 35
        },
        "outputId": "fcab4c73-1507-4dd4-a4cb-3358fc24db30"
      },
      "source": [
        "x.weekday() # 星期4.     0 - 6 星期1到天。"
      ],
      "execution_count": null,
      "outputs": [
        {
          "output_type": "execute_result",
          "data": {
            "text/plain": [
              "3"
            ]
          },
          "metadata": {
            "tags": []
          },
          "execution_count": 14
        }
      ]
    },
    {
      "cell_type": "code",
      "metadata": {
        "id": "JoeNWN4qQUYY",
        "colab_type": "code",
        "colab": {
          "base_uri": "https://localhost:8080/",
          "height": 35
        },
        "outputId": "791c1be0-19e0-4e35-9e87-9a3fd192a026"
      },
      "source": [
        "x.ctime() # 返回一个日期字符串。"
      ],
      "execution_count": null,
      "outputs": [
        {
          "output_type": "execute_result",
          "data": {
            "application/vnd.google.colaboratory.intrinsic+json": {
              "type": "string"
            },
            "text/plain": [
              "'Thu Jan 20 00:00:00 2011'"
            ]
          },
          "metadata": {
            "tags": []
          },
          "execution_count": 15
        }
      ]
    },
    {
      "cell_type": "code",
      "metadata": {
        "id": "_Eln4qFWQUbY",
        "colab_type": "code",
        "colab": {
          "base_uri": "https://localhost:8080/",
          "height": 35
        },
        "outputId": "339b5cd2-39f0-46c9-df0d-425ccb4ab84d"
      },
      "source": [
        "x.strftime('%Y-%m-%d')"
      ],
      "execution_count": null,
      "outputs": [
        {
          "output_type": "execute_result",
          "data": {
            "application/vnd.google.colaboratory.intrinsic+json": {
              "type": "string"
            },
            "text/plain": [
              "'2011-01-20'"
            ]
          },
          "metadata": {
            "tags": []
          },
          "execution_count": 21
        }
      ]
    },
    {
      "cell_type": "markdown",
      "metadata": {
        "id": "5IufDkawAI1G",
        "colab_type": "text"
      },
      "source": [
        "### Converting Between String and Datetime\n",
        "\n",
        "\n",
        "字符串和时间时间的转换。\n",
        "\n",
        "\n",
        "![链接文字](https://img-blog.csdnimg.cn/20200821171946921.png?x-oss-process=image/watermark,type_ZmFuZ3poZW5naGVpdGk,shadow_10,text_aHR0cHM6Ly9ibG9nLmNzZG4ubmV0L2dhb2N1aTg4Mw==,size_16,color_FFFFFF,t_70#pic_center)\n",
        "\n",
        "\n",
        "![链接文字](https://img-blog.csdnimg.cn/20200821173940899.png?x-oss-process=image/watermark,type_ZmFuZ3poZW5naGVpdGk,shadow_10,text_aHR0cHM6Ly9ibG9nLmNzZG4ubmV0L2dhb2N1aTg4Mw==,size_16,color_FFFFFF,t_70#pic_center)"
      ]
    },
    {
      "cell_type": "code",
      "metadata": {
        "id": "xsZKCoiPLg3y",
        "colab_type": "code",
        "colab": {}
      },
      "source": [
        "# datetime.strptime\n",
        "# dateutil.parser import parse\n",
        "# "
      ],
      "execution_count": null,
      "outputs": []
    },
    {
      "cell_type": "code",
      "metadata": {
        "id": "AsLoKpAZ-3XH",
        "colab_type": "code",
        "colab": {
          "base_uri": "https://localhost:8080/",
          "height": 35
        },
        "outputId": "5ddc5fbe-efc7-4340-f010-9aa6909ddf3b"
      },
      "source": [
        "# 直接用str,strftime method 来进行时间和字符串的转换。\n",
        "\n",
        "stamp = datetime(2011, 1, 3)\n",
        "\n",
        "stamp"
      ],
      "execution_count": null,
      "outputs": [
        {
          "output_type": "execute_result",
          "data": {
            "text/plain": [
              "datetime.datetime(2011, 1, 3, 0, 0)"
            ]
          },
          "metadata": {
            "tags": []
          },
          "execution_count": 24
        }
      ]
    },
    {
      "cell_type": "code",
      "metadata": {
        "id": "MVq2HxNt-3Mv",
        "colab_type": "code",
        "colab": {
          "base_uri": "https://localhost:8080/",
          "height": 35
        },
        "outputId": "a82426b6-a12f-4d1b-9bea-98f2ed69665b"
      },
      "source": [
        "str(stamp)  #str 模式。"
      ],
      "execution_count": null,
      "outputs": [
        {
          "output_type": "execute_result",
          "data": {
            "application/vnd.google.colaboratory.intrinsic+json": {
              "type": "string"
            },
            "text/plain": [
              "'2011-01-03 00:00:00'"
            ]
          },
          "metadata": {
            "tags": []
          },
          "execution_count": 25
        }
      ]
    },
    {
      "cell_type": "code",
      "metadata": {
        "id": "t9Uf6hrq-3A4",
        "colab_type": "code",
        "colab": {
          "base_uri": "https://localhost:8080/",
          "height": 35
        },
        "outputId": "eacd0ee6-86b3-49b9-f0f5-d796634b08a3"
      },
      "source": [
        "stamp.strftime('%Y-%m-%d') # str format time "
      ],
      "execution_count": null,
      "outputs": [
        {
          "output_type": "execute_result",
          "data": {
            "application/vnd.google.colaboratory.intrinsic+json": {
              "type": "string"
            },
            "text/plain": [
              "'2011-01-03'"
            ]
          },
          "metadata": {
            "tags": []
          },
          "execution_count": 26
        }
      ]
    },
    {
      "cell_type": "code",
      "metadata": {
        "id": "iMsTd8kg_1ya",
        "colab_type": "code",
        "colab": {
          "base_uri": "https://localhost:8080/",
          "height": 35
        },
        "outputId": "ffa47d16-1061-4c2c-8d81-7d7139370513"
      },
      "source": [
        "# 来识别特定格式的字符串时间序列。 \n",
        "# 关键字strptime  str pass time\n",
        "\n",
        "value = '2011-01-03'\n",
        "\n",
        "datetime.strptime(value, '%Y-%m-%d') # 得到特定格式的时间字符串，转换成datatime 类型。"
      ],
      "execution_count": null,
      "outputs": [
        {
          "output_type": "execute_result",
          "data": {
            "text/plain": [
              "datetime.datetime(2011, 1, 3, 0, 0)"
            ]
          },
          "metadata": {
            "tags": []
          },
          "execution_count": 29
        }
      ]
    },
    {
      "cell_type": "code",
      "metadata": {
        "id": "UH-Jn0js_11P",
        "colab_type": "code",
        "colab": {
          "base_uri": "https://localhost:8080/",
          "height": 359
        },
        "outputId": "b3a0e22f-5589-449f-f390-1551b41ae909"
      },
      "source": [
        "datestrs = ['7/6/2011', '8/6/2011']\n",
        "\n",
        "[datetime.strptime(x, '%m-%d-%Y') for x in datestrs]  "
      ],
      "execution_count": null,
      "outputs": [
        {
          "output_type": "error",
          "ename": "ValueError",
          "evalue": "ignored",
          "traceback": [
            "\u001b[0;31m---------------------------------------------------------------------------\u001b[0m",
            "\u001b[0;31mValueError\u001b[0m                                Traceback (most recent call last)",
            "\u001b[0;32m<ipython-input-30-0f06e427d561>\u001b[0m in \u001b[0;36m<module>\u001b[0;34m()\u001b[0m\n\u001b[1;32m      1\u001b[0m \u001b[0mdatestrs\u001b[0m \u001b[0;34m=\u001b[0m \u001b[0;34m[\u001b[0m\u001b[0;34m'7/6/2011'\u001b[0m\u001b[0;34m,\u001b[0m \u001b[0;34m'8/6/2011'\u001b[0m\u001b[0;34m]\u001b[0m\u001b[0;34m\u001b[0m\u001b[0;34m\u001b[0m\u001b[0m\n\u001b[1;32m      2\u001b[0m \u001b[0;34m\u001b[0m\u001b[0m\n\u001b[0;32m----> 3\u001b[0;31m \u001b[0;34m[\u001b[0m\u001b[0mdatetime\u001b[0m\u001b[0;34m.\u001b[0m\u001b[0mstrptime\u001b[0m\u001b[0;34m(\u001b[0m\u001b[0mx\u001b[0m\u001b[0;34m,\u001b[0m \u001b[0;34m'%m/%d%Y'\u001b[0m\u001b[0;34m)\u001b[0m \u001b[0;32mfor\u001b[0m \u001b[0mx\u001b[0m \u001b[0;32min\u001b[0m \u001b[0mdatestrs\u001b[0m\u001b[0;34m]\u001b[0m\u001b[0;34m\u001b[0m\u001b[0;34m\u001b[0m\u001b[0m\n\u001b[0m",
            "\u001b[0;32m<ipython-input-30-0f06e427d561>\u001b[0m in \u001b[0;36m<listcomp>\u001b[0;34m(.0)\u001b[0m\n\u001b[1;32m      1\u001b[0m \u001b[0mdatestrs\u001b[0m \u001b[0;34m=\u001b[0m \u001b[0;34m[\u001b[0m\u001b[0;34m'7/6/2011'\u001b[0m\u001b[0;34m,\u001b[0m \u001b[0;34m'8/6/2011'\u001b[0m\u001b[0;34m]\u001b[0m\u001b[0;34m\u001b[0m\u001b[0;34m\u001b[0m\u001b[0m\n\u001b[1;32m      2\u001b[0m \u001b[0;34m\u001b[0m\u001b[0m\n\u001b[0;32m----> 3\u001b[0;31m \u001b[0;34m[\u001b[0m\u001b[0mdatetime\u001b[0m\u001b[0;34m.\u001b[0m\u001b[0mstrptime\u001b[0m\u001b[0;34m(\u001b[0m\u001b[0mx\u001b[0m\u001b[0;34m,\u001b[0m \u001b[0;34m'%m/%d%Y'\u001b[0m\u001b[0;34m)\u001b[0m \u001b[0;32mfor\u001b[0m \u001b[0mx\u001b[0m \u001b[0;32min\u001b[0m \u001b[0mdatestrs\u001b[0m\u001b[0;34m]\u001b[0m\u001b[0;34m\u001b[0m\u001b[0;34m\u001b[0m\u001b[0m\n\u001b[0m",
            "\u001b[0;32m/usr/lib/python3.6/_strptime.py\u001b[0m in \u001b[0;36m_strptime_datetime\u001b[0;34m(cls, data_string, format)\u001b[0m\n\u001b[1;32m    563\u001b[0m     \"\"\"Return a class cls instance based on the input string and the\n\u001b[1;32m    564\u001b[0m     format string.\"\"\"\n\u001b[0;32m--> 565\u001b[0;31m     \u001b[0mtt\u001b[0m\u001b[0;34m,\u001b[0m \u001b[0mfraction\u001b[0m \u001b[0;34m=\u001b[0m \u001b[0m_strptime\u001b[0m\u001b[0;34m(\u001b[0m\u001b[0mdata_string\u001b[0m\u001b[0;34m,\u001b[0m \u001b[0mformat\u001b[0m\u001b[0;34m)\u001b[0m\u001b[0;34m\u001b[0m\u001b[0;34m\u001b[0m\u001b[0m\n\u001b[0m\u001b[1;32m    566\u001b[0m     \u001b[0mtzname\u001b[0m\u001b[0;34m,\u001b[0m \u001b[0mgmtoff\u001b[0m \u001b[0;34m=\u001b[0m \u001b[0mtt\u001b[0m\u001b[0;34m[\u001b[0m\u001b[0;34m-\u001b[0m\u001b[0;36m2\u001b[0m\u001b[0;34m:\u001b[0m\u001b[0;34m]\u001b[0m\u001b[0;34m\u001b[0m\u001b[0;34m\u001b[0m\u001b[0m\n\u001b[1;32m    567\u001b[0m     \u001b[0margs\u001b[0m \u001b[0;34m=\u001b[0m \u001b[0mtt\u001b[0m\u001b[0;34m[\u001b[0m\u001b[0;34m:\u001b[0m\u001b[0;36m6\u001b[0m\u001b[0;34m]\u001b[0m \u001b[0;34m+\u001b[0m \u001b[0;34m(\u001b[0m\u001b[0mfraction\u001b[0m\u001b[0;34m,\u001b[0m\u001b[0;34m)\u001b[0m\u001b[0;34m\u001b[0m\u001b[0;34m\u001b[0m\u001b[0m\n",
            "\u001b[0;32m/usr/lib/python3.6/_strptime.py\u001b[0m in \u001b[0;36m_strptime\u001b[0;34m(data_string, format)\u001b[0m\n\u001b[1;32m    360\u001b[0m     \u001b[0;32mif\u001b[0m \u001b[0;32mnot\u001b[0m \u001b[0mfound\u001b[0m\u001b[0;34m:\u001b[0m\u001b[0;34m\u001b[0m\u001b[0;34m\u001b[0m\u001b[0m\n\u001b[1;32m    361\u001b[0m         raise ValueError(\"time data %r does not match format %r\" %\n\u001b[0;32m--> 362\u001b[0;31m                          (data_string, format))\n\u001b[0m\u001b[1;32m    363\u001b[0m     \u001b[0;32mif\u001b[0m \u001b[0mlen\u001b[0m\u001b[0;34m(\u001b[0m\u001b[0mdata_string\u001b[0m\u001b[0;34m)\u001b[0m \u001b[0;34m!=\u001b[0m \u001b[0mfound\u001b[0m\u001b[0;34m.\u001b[0m\u001b[0mend\u001b[0m\u001b[0;34m(\u001b[0m\u001b[0;34m)\u001b[0m\u001b[0;34m:\u001b[0m\u001b[0;34m\u001b[0m\u001b[0;34m\u001b[0m\u001b[0m\n\u001b[1;32m    364\u001b[0m         raise ValueError(\"unconverted data remains: %s\" %\n",
            "\u001b[0;31mValueError\u001b[0m: time data '7/6/2011' does not match format '%m/%d%Y'"
          ]
        }
      ]
    },
    {
      "cell_type": "code",
      "metadata": {
        "id": "gu8k66Zz_17b",
        "colab_type": "code",
        "colab": {
          "base_uri": "https://localhost:8080/",
          "height": 35
        },
        "outputId": "b8fec25d-ee0b-4977-edb6-e2f0cc2ed3ea"
      },
      "source": [
        "# 从上边的结果可以看出，如果格式不符合，无法进行转换。\n",
        "\n",
        "[datetime.strptime(x, '%m/%d/%Y') for x in datestrs] # 将一个是按序列字符串的list进行转换成datetime的list"
      ],
      "execution_count": null,
      "outputs": [
        {
          "output_type": "execute_result",
          "data": {
            "text/plain": [
              "[datetime.datetime(2011, 7, 6, 0, 0), datetime.datetime(2011, 8, 6, 0, 0)]"
            ]
          },
          "metadata": {
            "tags": []
          },
          "execution_count": 31
        }
      ]
    },
    {
      "cell_type": "code",
      "metadata": {
        "id": "Gb9HvlaVUZH5",
        "colab_type": "code",
        "colab": {
          "base_uri": "https://localhost:8080/",
          "height": 35
        },
        "outputId": "d7913b69-5ac2-4210-f9f1-d2c9aac60783"
      },
      "source": [
        "# 问题： 还有更加便捷的方法没？？？？有。\n",
        "\n",
        "# 第三方库， dateutil 的时间解析库parser.parse 可以识别大部分人类能够识别的时间字符串格式。\n",
        "\n",
        "value = '2011-01-03'\n",
        "\n",
        "from dateutil.parser import parse\n",
        "\n",
        "value_date = parse(value)\n",
        "\n",
        "value_date"
      ],
      "execution_count": null,
      "outputs": [
        {
          "output_type": "execute_result",
          "data": {
            "text/plain": [
              "datetime.datetime(2011, 1, 3, 0, 0)"
            ]
          },
          "metadata": {
            "tags": []
          },
          "execution_count": 33
        }
      ]
    },
    {
      "cell_type": "code",
      "metadata": {
        "id": "5LApH4ZhUZLH",
        "colab_type": "code",
        "colab": {
          "base_uri": "https://localhost:8080/",
          "height": 35
        },
        "outputId": "c7fd4937-424c-4e7e-dc00-f7126605ccca"
      },
      "source": [
        "time = 'Jan 31, 1997 10:45 PM'\n",
        "\n",
        "parse(time)"
      ],
      "execution_count": null,
      "outputs": [
        {
          "output_type": "execute_result",
          "data": {
            "text/plain": [
              "datetime.datetime(1997, 1, 31, 22, 45)"
            ]
          },
          "metadata": {
            "tags": []
          },
          "execution_count": 34
        }
      ]
    },
    {
      "cell_type": "code",
      "metadata": {
        "id": "fkUH6FbkUZOY",
        "colab_type": "code",
        "colab": {
          "base_uri": "https://localhost:8080/",
          "height": 35
        },
        "outputId": "046186b7-0e45-41b0-9297-51b38dbacbee"
      },
      "source": [
        "time = '2020.10.18'\n",
        "parse(time) # 真的很方便？？？？"
      ],
      "execution_count": null,
      "outputs": [
        {
          "output_type": "execute_result",
          "data": {
            "text/plain": [
              "datetime.datetime(2020, 10, 18, 0, 0)"
            ]
          },
          "metadata": {
            "tags": []
          },
          "execution_count": 35
        }
      ]
    },
    {
      "cell_type": "code",
      "metadata": {
        "id": "j072q1ZwUZRE",
        "colab_type": "code",
        "colab": {
          "base_uri": "https://localhost:8080/",
          "height": 35
        },
        "outputId": "9a578328-91b0-46f8-f72d-0f1c47986933"
      },
      "source": [
        "# 如果想要按照某种格式，将天放在月前。\n",
        "\n",
        "parse(time, dayfirst = True)"
      ],
      "execution_count": null,
      "outputs": [
        {
          "output_type": "execute_result",
          "data": {
            "text/plain": [
              "datetime.datetime(2020, 10, 18, 0, 0)"
            ]
          },
          "metadata": {
            "tags": []
          },
          "execution_count": 36
        }
      ]
    },
    {
      "cell_type": "code",
      "metadata": {
        "id": "EOiNemXIDozR",
        "colab_type": "code",
        "colab": {
          "base_uri": "https://localhost:8080/",
          "height": 35
        },
        "outputId": "8e22ff4e-eea5-468d-c64d-8c93e9f50c6e"
      },
      "source": [
        "## 另一种，pandas自带的， pd.to_datetime()\n",
        "\n",
        "datestrs = ['2011-07-06', '2011-08-06']\n",
        "\n",
        "import pandas as pd\n",
        "\n",
        "pd.to_datetime(datestrs)"
      ],
      "execution_count": null,
      "outputs": [
        {
          "output_type": "execute_result",
          "data": {
            "text/plain": [
              "DatetimeIndex(['2011-07-06', '2011-08-06'], dtype='datetime64[ns]', freq=None)"
            ]
          },
          "metadata": {
            "tags": []
          },
          "execution_count": 37
        }
      ]
    },
    {
      "cell_type": "code",
      "metadata": {
        "id": "lpMufsBKDo2O",
        "colab_type": "code",
        "colab": {
          "base_uri": "https://localhost:8080/",
          "height": 35
        },
        "outputId": "f9314acc-8f0e-48d7-9a1a-e91aa59147f8"
      },
      "source": [
        "pd.to_datetime(datestrs+[None]) # Nat 表示not time"
      ],
      "execution_count": null,
      "outputs": [
        {
          "output_type": "execute_result",
          "data": {
            "text/plain": [
              "DatetimeIndex(['2011-07-06', '2011-08-06', 'NaT'], dtype='datetime64[ns]', freq=None)"
            ]
          },
          "metadata": {
            "tags": []
          },
          "execution_count": 38
        }
      ]
    },
    {
      "cell_type": "markdown",
      "metadata": {
        "id": "QJ6QEW5L4svi",
        "colab_type": "text"
      },
      "source": [
        "## 2020.8.22"
      ]
    },
    {
      "cell_type": "markdown",
      "metadata": {
        "id": "uU-6lbrLAI4F",
        "colab_type": "text"
      },
      "source": [
        "## 11.2 Time Series Basics"
      ]
    },
    {
      "cell_type": "code",
      "metadata": {
        "id": "RFrFRgO-33fg",
        "colab_type": "code",
        "colab": {}
      },
      "source": [
        "# A basic kind of time series object in pandas is a Series indexed by timestamps, which\n",
        "# is often represented external to pandas as Python strings or  datetime objects:\n",
        "\n",
        "\n",
        "# 在外部表现为字符串或者时间对象。\n",
        "\n",
        "from datetime import datetime\n",
        "import pandas as pd\n",
        "\n",
        "import numpy as np\n",
        "\n"
      ],
      "execution_count": null,
      "outputs": []
    },
    {
      "cell_type": "code",
      "metadata": {
        "id": "Pols-sTvDo5P",
        "colab_type": "code",
        "colab": {
          "base_uri": "https://localhost:8080/",
          "height": 143
        },
        "outputId": "2db9881d-a652-449e-baac-f552462891d5"
      },
      "source": [
        "dates = [datetime(2011, 1, 2), datetime(2011, 1, 5),\n",
        "      datetime(2011, 1, 7), datetime(2011, 1, 8),\n",
        "      datetime(2011, 1, 10), datetime(2011, 1, 12)]\n",
        "ts =  pd.Series(np.random.randn(6), index=dates)\n",
        "\n",
        "ts"
      ],
      "execution_count": null,
      "outputs": [
        {
          "output_type": "execute_result",
          "data": {
            "text/plain": [
              "2011-01-02    0.543875\n",
              "2011-01-05   -0.538065\n",
              "2011-01-07   -0.055432\n",
              "2011-01-08   -0.235359\n",
              "2011-01-10   -0.252591\n",
              "2011-01-12   -0.080231\n",
              "dtype: float64"
            ]
          },
          "metadata": {
            "tags": []
          },
          "execution_count": 7
        }
      ]
    },
    {
      "cell_type": "code",
      "metadata": {
        "id": "vyiyjxc2Do7o",
        "colab_type": "code",
        "colab": {
          "base_uri": "https://localhost:8080/",
          "height": 89
        },
        "outputId": "600b3f24-de27-4cc3-97a7-6e8361ec43d6"
      },
      "source": [
        "# like other arithmetic operations between diffrent indexed time series auto matically align on the dates:\n",
        "# 与其他index相同，timeindex 也可以自动对齐。\n",
        "\n",
        "x = ts[::2]\n",
        "x"
      ],
      "execution_count": null,
      "outputs": [
        {
          "output_type": "execute_result",
          "data": {
            "text/plain": [
              "2011-01-02    0.543875\n",
              "2011-01-07   -0.055432\n",
              "2011-01-10   -0.252591\n",
              "dtype: float64"
            ]
          },
          "metadata": {
            "tags": []
          },
          "execution_count": 8
        }
      ]
    },
    {
      "cell_type": "code",
      "metadata": {
        "id": "NqqqBjzC9Vea",
        "colab_type": "code",
        "colab": {
          "base_uri": "https://localhost:8080/",
          "height": 143
        },
        "outputId": "ab0df781-b4f0-4f8e-bd41-30c8cabfd38b"
      },
      "source": [
        "x+ ts # 没有对齐的显示为NaN"
      ],
      "execution_count": null,
      "outputs": [
        {
          "output_type": "execute_result",
          "data": {
            "text/plain": [
              "2011-01-02    1.087750\n",
              "2011-01-05         NaN\n",
              "2011-01-07   -0.110865\n",
              "2011-01-08         NaN\n",
              "2011-01-10   -0.505181\n",
              "2011-01-12         NaN\n",
              "dtype: float64"
            ]
          },
          "metadata": {
            "tags": []
          },
          "execution_count": 9
        }
      ]
    },
    {
      "cell_type": "code",
      "metadata": {
        "id": "zh7Lxxa59Vhh",
        "colab_type": "code",
        "colab": {
          "base_uri": "https://localhost:8080/",
          "height": 35
        },
        "outputId": "de3a3d2b-9753-438c-c2ff-2548b7bc308f"
      },
      "source": [
        "# 十亿分之一毫秒。\n",
        "ts.index.dtype"
      ],
      "execution_count": null,
      "outputs": [
        {
          "output_type": "execute_result",
          "data": {
            "text/plain": [
              "dtype('<M8[ns]')"
            ]
          },
          "metadata": {
            "tags": []
          },
          "execution_count": 10
        }
      ]
    },
    {
      "cell_type": "code",
      "metadata": {
        "id": "nZ2zCxqx9Vkg",
        "colab_type": "code",
        "colab": {
          "base_uri": "https://localhost:8080/",
          "height": 35
        },
        "outputId": "e79077bb-aefa-4830-a9cd-7a8d62ae71cb"
      },
      "source": [
        "# DateIndex object sigal are Timestamp object:\n",
        "stamp = ts.index[0]\n",
        "stamp"
      ],
      "execution_count": null,
      "outputs": [
        {
          "output_type": "execute_result",
          "data": {
            "text/plain": [
              "Timestamp('2011-01-02 00:00:00')"
            ]
          },
          "metadata": {
            "tags": []
          },
          "execution_count": 11
        }
      ]
    },
    {
      "cell_type": "markdown",
      "metadata": {
        "id": "yXoQKp9uAI62",
        "colab_type": "text"
      },
      "source": [
        "### Indexing, Selection, Subsetting\n",
        "\n",
        "索引，选择，子集。\n",
        "\n",
        "\n"
      ]
    },
    {
      "cell_type": "code",
      "metadata": {
        "id": "oL1zI6O2-7pB",
        "colab_type": "code",
        "colab": {
          "base_uri": "https://localhost:8080/",
          "height": 35
        },
        "outputId": "31045794-effd-4570-af5d-710e409206cc"
      },
      "source": [
        "# 时间索引也可以向其他索引一样，用索引来访问数据。\n",
        "stamp = ts.index[2]\n",
        "ts[stamp]\n"
      ],
      "execution_count": null,
      "outputs": [
        {
          "output_type": "execute_result",
          "data": {
            "text/plain": [
              "-0.055432342170292054"
            ]
          },
          "metadata": {
            "tags": []
          },
          "execution_count": 12
        }
      ]
    },
    {
      "cell_type": "code",
      "metadata": {
        "id": "NpfdYj-4-7sH",
        "colab_type": "code",
        "colab": {
          "base_uri": "https://localhost:8080/",
          "height": 35
        },
        "outputId": "14eb851b-27d1-4580-93b9-af26649eb4a6"
      },
      "source": [
        "ts['1/10/2011']"
      ],
      "execution_count": null,
      "outputs": [
        {
          "output_type": "execute_result",
          "data": {
            "text/plain": [
              "-0.25259063834559614"
            ]
          },
          "metadata": {
            "tags": []
          },
          "execution_count": 13
        }
      ]
    },
    {
      "cell_type": "code",
      "metadata": {
        "id": "0pEHw8zp-7vH",
        "colab_type": "code",
        "colab": {
          "base_uri": "https://localhost:8080/",
          "height": 35
        },
        "outputId": "a82b199a-4596-4112-a3ea-3c847ab8f526"
      },
      "source": [
        "stamp"
      ],
      "execution_count": null,
      "outputs": [
        {
          "output_type": "execute_result",
          "data": {
            "text/plain": [
              "Timestamp('2011-01-07 00:00:00')"
            ]
          },
          "metadata": {
            "tags": []
          },
          "execution_count": 14
        }
      ]
    },
    {
      "cell_type": "code",
      "metadata": {
        "id": "j_uBYbKfAP8Q",
        "colab_type": "code",
        "colab": {
          "base_uri": "https://localhost:8080/",
          "height": 35
        },
        "outputId": "ea5f2102-1f35-4682-8583-162bfbde8ea2"
      },
      "source": [
        "ts['20110110']# padas 索引能够识别各种字符串"
      ],
      "execution_count": null,
      "outputs": [
        {
          "output_type": "execute_result",
          "data": {
            "text/plain": [
              "-0.25259063834559614"
            ]
          },
          "metadata": {
            "tags": []
          },
          "execution_count": 15
        }
      ]
    },
    {
      "cell_type": "code",
      "metadata": {
        "id": "X4g-s6MGAP_W",
        "colab_type": "code",
        "colab": {
          "base_uri": "https://localhost:8080/",
          "height": 233
        },
        "outputId": "4b2d1120-9512-4991-a371-aca4748b5483"
      },
      "source": [
        "# slices 切片\n",
        "longer_ts = pd.Series(np.random.randn(1000), index=pd.date_range('1/2/2000', periods=1000))\n",
        "longer_ts"
      ],
      "execution_count": null,
      "outputs": [
        {
          "output_type": "execute_result",
          "data": {
            "text/plain": [
              "2000-01-02   -0.528778\n",
              "2000-01-03   -0.128215\n",
              "2000-01-04   -0.766332\n",
              "2000-01-05    1.522631\n",
              "2000-01-06    0.676500\n",
              "                ...   \n",
              "2002-09-23   -0.159826\n",
              "2002-09-24   -0.755058\n",
              "2002-09-25    0.280533\n",
              "2002-09-26    0.325927\n",
              "2002-09-27    0.181460\n",
              "Freq: D, Length: 1000, dtype: float64"
            ]
          },
          "metadata": {
            "tags": []
          },
          "execution_count": 16
        }
      ]
    },
    {
      "cell_type": "code",
      "metadata": {
        "id": "se5YdhBMAQCP",
        "colab_type": "code",
        "colab": {}
      },
      "source": [
        "pd.date_range?"
      ],
      "execution_count": null,
      "outputs": []
    },
    {
      "cell_type": "code",
      "metadata": {
        "id": "2wXZTOYsAQE_",
        "colab_type": "code",
        "colab": {}
      },
      "source": [
        "Signature: pd.date_range(start=None, end=None, periods=None, freq=None, tz=None, normalize=False, name=None, closed=None, **kwargs) -> pandas.core.indexes.datetimes.DatetimeIndex\n",
        "Docstring:\n",
        "Return a fixed frequency DatetimeIndex.\n",
        "\n",
        "Parameters\n",
        "----------\n",
        "start : str or datetime-like, optional\n",
        "    Left bound for generating dates.\n",
        "end : str or datetime-like, optional\n",
        "    Right bound for generating dates.\n",
        "periods : int, optional\n",
        "    Number of periods to generate.\n",
        "freq : str or DateOffset, default 'D'\n",
        "    Frequency strings can have multiples, e.g. '5H'. See\n",
        "    :ref:`here <timeseries.offset_aliases>` for a list of\n",
        "    frequency aliases.\n",
        "tz : str or tzinfo, optional\n",
        "    Time zone name for returning localized DatetimeIndex, for example\n",
        "    'Asia/Hong_Kong'. By default, the resulting DatetimeIndex is\n",
        "    timezone-naive.\n",
        "normalize : bool, default False\n",
        "    Normalize start/end dates to midnight before generating date range.\n",
        "name : str, default None\n",
        "    Name of the resulting DatetimeIndex.\n",
        "closed : {None, 'left', 'right'}, optional\n",
        "    Make the interval closed with respect to the given frequency to\n",
        "    the 'left', 'right', or both sides (None, the default).\n",
        "**kwargs\n",
        "    For compatibility. Has no effect on the result.\n",
        "\n",
        "Returns\n",
        "-------\n",
        "rng : DatetimeIndex\n",
        "\n",
        "See Also\n",
        "--------\n",
        "DatetimeIndex : An immutable container for datetimes.\n",
        "timedelta_range : Return a fixed frequency TimedeltaIndex.\n",
        "period_range : Return a fixed frequency PeriodIndex.\n",
        "interval_range : Return a fixed frequency IntervalIndex.\n",
        "\n",
        "Notes\n",
        "-----\n",
        "Of the four parameters ``start``, ``end``, ``periods``, and ``freq``,\n",
        "exactly three must be specified. If ``freq`` is omitted, the resulting\n",
        "``DatetimeIndex`` will have ``periods`` linearly spaced elements between\n",
        "``start`` and ``end`` (closed on both sides).\n",
        "\n",
        "To learn more about the frequency strings, please see `this link\n",
        "<https://pandas.pydata.org/pandas-docs/stable/user_guide/timeseries.html#offset-aliases>`__.\n",
        "\n",
        "Examples\n",
        "--------\n",
        "**Specifying the values**\n",
        "\n",
        "The next four examples generate the same `DatetimeIndex`, but vary\n",
        "the combination of `start`, `end` and `periods`.\n",
        "\n",
        "Specify `start` and `end`, with the default daily frequency.\n",
        "\n",
        ">>> pd.date_range(start='1/1/2018', end='1/08/2018')\n",
        "DatetimeIndex(['2018-01-01', '2018-01-02', '2018-01-03', '2018-01-04',\n",
        "               '2018-01-05', '2018-01-06', '2018-01-07', '2018-01-08'],\n",
        "              dtype='datetime64[ns]', freq='D')\n",
        "\n",
        "Specify `start` and `periods`, the number of periods (days).\n",
        "\n",
        ">>> pd.date_range(start='1/1/2018', periods=8)\n",
        "DatetimeIndex(['2018-01-01', '2018-01-02', '2018-01-03', '2018-01-04',\n",
        "               '2018-01-05', '2018-01-06', '2018-01-07', '2018-01-08'],\n",
        "              dtype='datetime64[ns]', freq='D')\n",
        "\n",
        "Specify `end` and `periods`, the number of periods (days).\n",
        "\n",
        ">>> pd.date_range(end='1/1/2018', periods=8)\n",
        "DatetimeIndex(['2017-12-25', '2017-12-26', '2017-12-27', '2017-12-28',\n",
        "               '2017-12-29', '2017-12-30', '2017-12-31', '2018-01-01'],\n",
        "              dtype='datetime64[ns]', freq='D')\n",
        "\n",
        "Specify `start`, `end`, and `periods`; the frequency is generated\n",
        "automatically (linearly spaced).\n",
        "\n",
        ">>> pd.date_range(start='2018-04-24', end='2018-04-27', periods=3)\n",
        "DatetimeIndex(['2018-04-24 00:00:00', '2018-04-25 12:00:00',\n",
        "               '2018-04-27 00:00:00'],\n",
        "              dtype='datetime64[ns]', freq=None)\n",
        "\n",
        "**Other Parameters**\n",
        "\n",
        "Changed the `freq` (frequency) to ``'M'`` (month end frequency).\n",
        "\n",
        ">>> pd.date_range(start='1/1/2018', periods=5, freq='M')\n",
        "DatetimeIndex(['2018-01-31', '2018-02-28', '2018-03-31', '2018-04-30',\n",
        "               '2018-05-31'],\n",
        "              dtype='datetime64[ns]', freq='M')\n",
        "\n",
        "Multiples are allowed\n",
        "\n",
        ">>> pd.date_range(start='1/1/2018', periods=5, freq='3M')\n",
        "DatetimeIndex(['2018-01-31', '2018-04-30', '2018-07-31', '2018-10-31',\n",
        "               '2019-01-31'],\n",
        "              dtype='datetime64[ns]', freq='3M')\n",
        "\n",
        "`freq` can also be specified as an Offset object.\n",
        "\n",
        ">>> pd.date_range(start='1/1/2018', periods=5, freq=pd.offsets.MonthEnd(3))\n",
        "DatetimeIndex(['2018-01-31', '2018-04-30', '2018-07-31', '2018-10-31',\n",
        "               '2019-01-31'],\n",
        "              dtype='datetime64[ns]', freq='3M')\n",
        "\n",
        "Specify `tz` to set the timezone.\n",
        "\n",
        ">>> pd.date_range(start='1/1/2018', periods=5, tz='Asia/Tokyo')\n",
        "DatetimeIndex(['2018-01-01 00:00:00+09:00', '2018-01-02 00:00:00+09:00',\n",
        "               '2018-01-03 00:00:00+09:00', '2018-01-04 00:00:00+09:00',\n",
        "               '2018-01-05 00:00:00+09:00'],\n",
        "              dtype='datetime64[ns, Asia/Tokyo]', freq='D')\n",
        "\n",
        "`closed` controls whether to include `start` and `end` that are on the\n",
        "boundary. The default includes boundary points on either end.\n",
        "\n",
        ">>> pd.date_range(start='2017-01-01', end='2017-01-04', closed=None)\n",
        "DatetimeIndex(['2017-01-01', '2017-01-02', '2017-01-03', '2017-01-04'],\n",
        "              dtype='datetime64[ns]', freq='D')\n",
        "\n",
        "Use ``closed='left'`` to exclude `end` if it falls on the boundary.\n",
        "\n",
        ">>> pd.date_range(start='2017-01-01', end='2017-01-04', closed='left')\n",
        "DatetimeIndex(['2017-01-01', '2017-01-02', '2017-01-03'],\n",
        "              dtype='datetime64[ns]', freq='D')\n",
        "\n",
        "Use ``closed='right'`` to exclude `start` if it falls on the boundary.\n",
        "\n",
        ">>> pd.date_range(start='2017-01-01', end='2017-01-04', closed='right')\n",
        "DatetimeIndex(['2017-01-02', '2017-01-03', '2017-01-04'],\n",
        "              dtype='datetime64[ns]', freq='D')\n",
        "File:      /usr/local/lib/python3.6/dist-packages/pandas/core/indexes/datetimes.py\n",
        "Type:      function"
      ],
      "execution_count": null,
      "outputs": []
    },
    {
      "cell_type": "code",
      "metadata": {
        "id": "NHi5ybiHAQHw",
        "colab_type": "code",
        "colab": {
          "base_uri": "https://localhost:8080/",
          "height": 233
        },
        "outputId": "2b873048-803b-4dd4-8dc2-bf17cbc3d8d5"
      },
      "source": [
        "# 直接用年来切片。\n",
        "longer_ts['2001']"
      ],
      "execution_count": null,
      "outputs": [
        {
          "output_type": "execute_result",
          "data": {
            "text/plain": [
              "2001-01-01    0.803718\n",
              "2001-01-02   -0.519887\n",
              "2001-01-03   -0.827987\n",
              "2001-01-04    1.469728\n",
              "2001-01-05   -1.462946\n",
              "                ...   \n",
              "2001-12-27   -0.335684\n",
              "2001-12-28   -1.032456\n",
              "2001-12-29    0.986667\n",
              "2001-12-30   -1.123634\n",
              "2001-12-31    0.032758\n",
              "Freq: D, Length: 365, dtype: float64"
            ]
          },
          "metadata": {
            "tags": []
          },
          "execution_count": 18
        }
      ]
    },
    {
      "cell_type": "code",
      "metadata": {
        "id": "gszMZdbcAQK2",
        "colab_type": "code",
        "colab": {
          "base_uri": "https://localhost:8080/",
          "height": 233
        },
        "outputId": "afca5ee1-c5db-42c7-e5ca-bc34c90bd5e9"
      },
      "source": [
        "longer_ts['2001.05']"
      ],
      "execution_count": null,
      "outputs": [
        {
          "output_type": "execute_result",
          "data": {
            "text/plain": [
              "2001-01-01    0.803718\n",
              "2001-01-02   -0.519887\n",
              "2001-01-03   -0.827987\n",
              "2001-01-04    1.469728\n",
              "2001-01-05   -1.462946\n",
              "                ...   \n",
              "2001-12-27   -0.335684\n",
              "2001-12-28   -1.032456\n",
              "2001-12-29    0.986667\n",
              "2001-12-30   -1.123634\n",
              "2001-12-31    0.032758\n",
              "Freq: D, Length: 365, dtype: float64"
            ]
          },
          "metadata": {
            "tags": []
          },
          "execution_count": 19
        }
      ]
    },
    {
      "cell_type": "code",
      "metadata": {
        "id": "mVSAFqRMEJTo",
        "colab_type": "code",
        "colab": {
          "base_uri": "https://localhost:8080/",
          "height": 107
        },
        "outputId": "bd0f92bb-f2f6-4702-c6db-6ec6b267be9a"
      },
      "source": [
        "ts[datetime(2011,1,7):]"
      ],
      "execution_count": null,
      "outputs": [
        {
          "output_type": "execute_result",
          "data": {
            "text/plain": [
              "2011-01-07   -0.055432\n",
              "2011-01-08   -0.235359\n",
              "2011-01-10   -0.252591\n",
              "2011-01-12   -0.080231\n",
              "dtype: float64"
            ]
          },
          "metadata": {
            "tags": []
          },
          "execution_count": 21
        }
      ]
    },
    {
      "cell_type": "code",
      "metadata": {
        "id": "doCwl5ItEJWs",
        "colab_type": "code",
        "colab": {
          "base_uri": "https://localhost:8080/",
          "height": 143
        },
        "outputId": "9047b3b1-49c5-4a20-b036-30167f04a815"
      },
      "source": [
        "ts"
      ],
      "execution_count": null,
      "outputs": [
        {
          "output_type": "execute_result",
          "data": {
            "text/plain": [
              "2011-01-02    0.543875\n",
              "2011-01-05   -0.538065\n",
              "2011-01-07   -0.055432\n",
              "2011-01-08   -0.235359\n",
              "2011-01-10   -0.252591\n",
              "2011-01-12   -0.080231\n",
              "dtype: float64"
            ]
          },
          "metadata": {
            "tags": []
          },
          "execution_count": 22
        }
      ]
    },
    {
      "cell_type": "code",
      "metadata": {
        "id": "iMohg2cpEJZe",
        "colab_type": "code",
        "colab": {
          "base_uri": "https://localhost:8080/",
          "height": 89
        },
        "outputId": "6b1e5db3-469e-4c2f-c600-52ef7d4a4ec4"
      },
      "source": [
        "ts['1/6/2011':'1/11/2011']"
      ],
      "execution_count": null,
      "outputs": [
        {
          "output_type": "execute_result",
          "data": {
            "text/plain": [
              "2011-01-07   -0.055432\n",
              "2011-01-08   -0.235359\n",
              "2011-01-10   -0.252591\n",
              "dtype: float64"
            ]
          },
          "metadata": {
            "tags": []
          },
          "execution_count": 23
        }
      ]
    },
    {
      "cell_type": "code",
      "metadata": {
        "id": "pOafd3JyEJcW",
        "colab_type": "code",
        "colab": {
          "base_uri": "https://localhost:8080/",
          "height": 107
        },
        "outputId": "d06efbbf-2c31-4492-86ff-76bcf47f3339"
      },
      "source": [
        "ts.truncate(after='1/9/2011')  #截断，裁剪，丢弃的意思。"
      ],
      "execution_count": null,
      "outputs": [
        {
          "output_type": "execute_result",
          "data": {
            "text/plain": [
              "2011-01-02    0.543875\n",
              "2011-01-05   -0.538065\n",
              "2011-01-07   -0.055432\n",
              "2011-01-08   -0.235359\n",
              "dtype: float64"
            ]
          },
          "metadata": {
            "tags": []
          },
          "execution_count": 24
        }
      ]
    },
    {
      "cell_type": "code",
      "metadata": {
        "id": "atE2xEhxEJf3",
        "colab_type": "code",
        "colab": {}
      },
      "source": [
        "ts.truncate?"
      ],
      "execution_count": null,
      "outputs": []
    },
    {
      "cell_type": "code",
      "metadata": {
        "id": "dKX1ecYQEy_Y",
        "colab_type": "code",
        "colab": {}
      },
      "source": [
        "Signature: ts.truncate(before=None, after=None, axis=None, copy: bool=True) -> ~FrameOrSeries\n",
        "Docstring:\n",
        "Truncate a Series or DataFrame before and after some index value.\n",
        "\n",
        "This is a useful shorthand for boolean indexing based on index\n",
        "values above or below certain thresholds.\n",
        "\n",
        "Parameters\n",
        "----------\n",
        "before : date, str, int\n",
        "    Truncate all rows before this index value.\n",
        "after : date, str, int\n",
        "    Truncate all rows after this index value.\n",
        "axis : {0 or 'index', 1 or 'columns'}, optional\n",
        "    Axis to truncate. Truncates the index (rows) by default.\n",
        "copy : bool, default is True,\n",
        "    Return a copy of the truncated section.\n",
        "\n",
        "Returns\n",
        "-------\n",
        "type of caller\n",
        "    The truncated Series or DataFrame.\n",
        "\n",
        "See Also\n",
        "--------\n",
        "DataFrame.loc : Select a subset of a DataFrame by label.\n",
        "DataFrame.iloc : Select a subset of a DataFrame by position.\n",
        "\n",
        "Notes\n",
        "-----\n",
        "If the index being truncated contains only datetime values,\n",
        "`before` and `after` may be specified as strings instead of\n",
        "Timestamps.\n",
        "\n",
        "Examples\n",
        "--------\n",
        ">>> df = pd.DataFrame({'A': ['a', 'b', 'c', 'd', 'e'],\n",
        "...                    'B': ['f', 'g', 'h', 'i', 'j'],\n",
        "...                    'C': ['k', 'l', 'm', 'n', 'o']},\n",
        "...                   index=[1, 2, 3, 4, 5])\n",
        ">>> df\n",
        "   A  B  C\n",
        "1  a  f  k\n",
        "2  b  g  l\n",
        "3  c  h  m\n",
        "4  d  i  n\n",
        "5  e  j  o\n",
        "\n",
        ">>> df.truncate(before=2, after=4)\n",
        "   A  B  C\n",
        "2  b  g  l\n",
        "3  c  h  m\n",
        "4  d  i  n\n",
        "\n",
        "The columns of a DataFrame can be truncated.\n",
        "\n",
        ">>> df.truncate(before=\"A\", after=\"B\", axis=\"columns\")\n",
        "   A  B\n",
        "1  a  f\n",
        "2  b  g\n",
        "3  c  h\n",
        "4  d  i\n",
        "5  e  j\n",
        "\n",
        "For Series, only rows can be truncated.\n",
        "\n",
        ">>> df['A'].truncate(before=2, after=4)\n",
        "2    b\n",
        "3    c\n",
        "4    d\n",
        "Name: A, dtype: object\n",
        "\n",
        "The index values in ``truncate`` can be datetimes or string\n",
        "dates.\n",
        "\n",
        ">>> dates = pd.date_range('2016-01-01', '2016-02-01', freq='s')\n",
        ">>> df = pd.DataFrame(index=dates, data={'A': 1})\n",
        ">>> df.tail()\n",
        "                     A\n",
        "2016-01-31 23:59:56  1\n",
        "2016-01-31 23:59:57  1\n",
        "2016-01-31 23:59:58  1\n",
        "2016-01-31 23:59:59  1\n",
        "2016-02-01 00:00:00  1\n",
        "\n",
        ">>> df.truncate(before=pd.Timestamp('2016-01-05'),\n",
        "...             after=pd.Timestamp('2016-01-10')).tail()\n",
        "                     A\n",
        "2016-01-09 23:59:56  1\n",
        "2016-01-09 23:59:57  1\n",
        "2016-01-09 23:59:58  1\n",
        "2016-01-09 23:59:59  1\n",
        "2016-01-10 00:00:00  1\n",
        "\n",
        "Because the index is a DatetimeIndex containing only dates, we can\n",
        "specify `before` and `after` as strings. They will be coerced to\n",
        "Timestamps before truncation.\n",
        "\n",
        ">>> df.truncate('2016-01-05', '2016-01-10').tail()\n",
        "                     A\n",
        "2016-01-09 23:59:56  1\n",
        "2016-01-09 23:59:57  1\n",
        "2016-01-09 23:59:58  1\n",
        "2016-01-09 23:59:59  1\n",
        "2016-01-10 00:00:00  1\n",
        "\n",
        "Note that ``truncate`` assumes a 0 value for any unspecified time\n",
        "component (midnight). This differs from partial string slicing, which\n",
        "returns any partially matching dates.\n",
        "\n",
        ">>> df.loc['2016-01-05':'2016-01-10', :].tail()\n",
        "                     A\n",
        "2016-01-10 23:59:55  1\n",
        "2016-01-10 23:59:56  1\n",
        "2016-01-10 23:59:57  1\n",
        "2016-01-10 23:59:58  1\n",
        "2016-01-10 23:59:59  1\n",
        "File:      /usr/local/lib/python3.6/dist-packages/pandas/core/generic.py\n",
        "Type:      method"
      ],
      "execution_count": null,
      "outputs": []
    },
    {
      "cell_type": "markdown",
      "metadata": {
        "id": "pVPv60QHAI91",
        "colab_type": "text"
      },
      "source": [
        "### Time Series with Duplicate Indices\n",
        "\n",
        "多层索引\n",
        "\n"
      ]
    },
    {
      "cell_type": "code",
      "metadata": {
        "id": "zINc36VmHQEX",
        "colab_type": "code",
        "colab": {
          "base_uri": "https://localhost:8080/",
          "height": 71
        },
        "outputId": "a8fc13df-5c71-4f06-a546-21f570d51d1a"
      },
      "source": [
        "dates = pd.DatetimeIndex(['1/1/2000', '1/2/2000', '1/2/2000',\n",
        "              '1/2/2000', '1/3/2000'])\n",
        "dates\n"
      ],
      "execution_count": null,
      "outputs": [
        {
          "output_type": "execute_result",
          "data": {
            "text/plain": [
              "DatetimeIndex(['2000-01-01', '2000-01-02', '2000-01-02', '2000-01-02',\n",
              "               '2000-01-03'],\n",
              "              dtype='datetime64[ns]', freq=None)"
            ]
          },
          "metadata": {
            "tags": []
          },
          "execution_count": 26
        }
      ]
    },
    {
      "cell_type": "code",
      "metadata": {
        "id": "VEgkKkzFHQHN",
        "colab_type": "code",
        "colab": {
          "base_uri": "https://localhost:8080/",
          "height": 125
        },
        "outputId": "329470f0-3855-457a-9d2d-46dc9eff1b71"
      },
      "source": [
        "# 索引或者切片产生的标量还是series，取决于索引是否重复。\n",
        "\n",
        "dup_ts = pd.Series(np.arange(5), index=dates)\n",
        "dup_ts"
      ],
      "execution_count": null,
      "outputs": [
        {
          "output_type": "execute_result",
          "data": {
            "text/plain": [
              "2000-01-01    0\n",
              "2000-01-02    1\n",
              "2000-01-02    2\n",
              "2000-01-02    3\n",
              "2000-01-03    4\n",
              "dtype: int64"
            ]
          },
          "metadata": {
            "tags": []
          },
          "execution_count": 27
        }
      ]
    },
    {
      "cell_type": "code",
      "metadata": {
        "id": "HvXfoSfJHQKS",
        "colab_type": "code",
        "colab": {
          "base_uri": "https://localhost:8080/",
          "height": 71
        },
        "outputId": "6bb8c317-f448-497d-dcc6-31eac0e1dd6c"
      },
      "source": [
        "dup_ts.index"
      ],
      "execution_count": null,
      "outputs": [
        {
          "output_type": "execute_result",
          "data": {
            "text/plain": [
              "DatetimeIndex(['2000-01-01', '2000-01-02', '2000-01-02', '2000-01-02',\n",
              "               '2000-01-03'],\n",
              "              dtype='datetime64[ns]', freq=None)"
            ]
          },
          "metadata": {
            "tags": []
          },
          "execution_count": 28
        }
      ]
    },
    {
      "cell_type": "code",
      "metadata": {
        "id": "0nr2sjQbHQNX",
        "colab_type": "code",
        "colab": {
          "base_uri": "https://localhost:8080/",
          "height": 35
        },
        "outputId": "dfeba162-341b-4ec0-f027-3c4198e34bb9"
      },
      "source": [
        "dup_ts.index.is_unique"
      ],
      "execution_count": null,
      "outputs": [
        {
          "output_type": "execute_result",
          "data": {
            "text/plain": [
              "False"
            ]
          },
          "metadata": {
            "tags": []
          },
          "execution_count": 29
        }
      ]
    },
    {
      "cell_type": "code",
      "metadata": {
        "id": "9K-uUyfrHQQH",
        "colab_type": "code",
        "colab": {
          "base_uri": "https://localhost:8080/",
          "height": 35
        },
        "outputId": "a652a3d7-420a-4f41-de6e-dfbabbe735c0"
      },
      "source": [
        "dup_ts['1/3/2000']"
      ],
      "execution_count": null,
      "outputs": [
        {
          "output_type": "execute_result",
          "data": {
            "text/plain": [
              "4"
            ]
          },
          "metadata": {
            "tags": []
          },
          "execution_count": 30
        }
      ]
    },
    {
      "cell_type": "code",
      "metadata": {
        "id": "MRvb4wT8HQTZ",
        "colab_type": "code",
        "colab": {
          "base_uri": "https://localhost:8080/",
          "height": 89
        },
        "outputId": "b68e825e-f074-4e09-fd51-cf2287d68e7f"
      },
      "source": [
        "dup_ts['1/2/2000']"
      ],
      "execution_count": null,
      "outputs": [
        {
          "output_type": "execute_result",
          "data": {
            "text/plain": [
              "2000-01-02    1\n",
              "2000-01-02    2\n",
              "2000-01-02    3\n",
              "dtype: int64"
            ]
          },
          "metadata": {
            "tags": []
          },
          "execution_count": 36
        }
      ]
    },
    {
      "cell_type": "markdown",
      "metadata": {
        "id": "vtq4RAl1AJA2",
        "colab_type": "text"
      },
      "source": [
        "## 11.3 Date Ranges, Frequencies, and Shifting"
      ]
    },
    {
      "cell_type": "code",
      "metadata": {
        "id": "9ap29WO9HQZ1",
        "colab_type": "code",
        "colab": {
          "base_uri": "https://localhost:8080/",
          "height": 143
        },
        "outputId": "b753a7ef-1836-4f65-e64a-4ec3ec246516"
      },
      "source": [
        "ts\n"
      ],
      "execution_count": null,
      "outputs": [
        {
          "output_type": "execute_result",
          "data": {
            "text/plain": [
              "2011-01-02    0.543875\n",
              "2011-01-05   -0.538065\n",
              "2011-01-07   -0.055432\n",
              "2011-01-08   -0.235359\n",
              "2011-01-10   -0.252591\n",
              "2011-01-12   -0.080231\n",
              "dtype: float64"
            ]
          },
          "metadata": {
            "tags": []
          },
          "execution_count": 37
        }
      ]
    },
    {
      "cell_type": "code",
      "metadata": {
        "id": "BxNy_iAKHQWo",
        "colab_type": "code",
        "colab": {
          "base_uri": "https://localhost:8080/",
          "height": 35
        },
        "outputId": "22c06b9b-1816-4a80-f130-ca1554946cfc"
      },
      "source": [
        "resampler = ts.resample('D')\n",
        "resampler"
      ],
      "execution_count": null,
      "outputs": [
        {
          "output_type": "execute_result",
          "data": {
            "text/plain": [
              "<pandas.core.resample.DatetimeIndexResampler object at 0x7fe2eba99278>"
            ]
          },
          "metadata": {
            "tags": []
          },
          "execution_count": 39
        }
      ]
    },
    {
      "cell_type": "markdown",
      "metadata": {
        "id": "k_wd4ZCQAvb9",
        "colab_type": "text"
      },
      "source": [
        "### Generating Date Ranges"
      ]
    },
    {
      "cell_type": "code",
      "metadata": {
        "id": "Bnr_Q1i5PpHW",
        "colab_type": "code",
        "colab": {
          "base_uri": "https://localhost:8080/",
          "height": 323
        },
        "outputId": "be4f789d-47d0-4f02-fa08-20026239df64"
      },
      "source": [
        "# While I used it previously without explanation,  pandas.date_range is responsible for\n",
        "# generating a  DatetimeIndex with an indicated length according to a particular\n",
        "# frequency:\n",
        "\n",
        "index = pd.date_range('2012.04.01', '2012.06.01')\n",
        "index"
      ],
      "execution_count": null,
      "outputs": [
        {
          "output_type": "execute_result",
          "data": {
            "text/plain": [
              "DatetimeIndex(['2012-04-01', '2012-04-02', '2012-04-03', '2012-04-04',\n",
              "               '2012-04-05', '2012-04-06', '2012-04-07', '2012-04-08',\n",
              "               '2012-04-09', '2012-04-10', '2012-04-11', '2012-04-12',\n",
              "               '2012-04-13', '2012-04-14', '2012-04-15', '2012-04-16',\n",
              "               '2012-04-17', '2012-04-18', '2012-04-19', '2012-04-20',\n",
              "               '2012-04-21', '2012-04-22', '2012-04-23', '2012-04-24',\n",
              "               '2012-04-25', '2012-04-26', '2012-04-27', '2012-04-28',\n",
              "               '2012-04-29', '2012-04-30', '2012-05-01', '2012-05-02',\n",
              "               '2012-05-03', '2012-05-04', '2012-05-05', '2012-05-06',\n",
              "               '2012-05-07', '2012-05-08', '2012-05-09', '2012-05-10',\n",
              "               '2012-05-11', '2012-05-12', '2012-05-13', '2012-05-14',\n",
              "               '2012-05-15', '2012-05-16', '2012-05-17', '2012-05-18',\n",
              "               '2012-05-19', '2012-05-20', '2012-05-21', '2012-05-22',\n",
              "               '2012-05-23', '2012-05-24', '2012-05-25', '2012-05-26',\n",
              "               '2012-05-27', '2012-05-28', '2012-05-29', '2012-05-30',\n",
              "               '2012-05-31', '2012-06-01'],\n",
              "              dtype='datetime64[ns]', freq='D')"
            ]
          },
          "metadata": {
            "tags": []
          },
          "execution_count": 40
        }
      ]
    },
    {
      "cell_type": "code",
      "metadata": {
        "id": "cPn6NpL1PpKU",
        "colab_type": "code",
        "colab": {}
      },
      "source": [
        "# 之前的函数已经对pd.date_range()内的各个参数说的很明确了，这里就不再说了。"
      ],
      "execution_count": null,
      "outputs": []
    },
    {
      "cell_type": "code",
      "metadata": {
        "id": "jo8leWlJPpNh",
        "colab_type": "code",
        "colab": {}
      },
      "source": [
        ""
      ],
      "execution_count": null,
      "outputs": []
    },
    {
      "cell_type": "markdown",
      "metadata": {
        "id": "ubFPpEBEAvfG",
        "colab_type": "text"
      },
      "source": [
        "### Frequencies and Date Offsets\n",
        "\n",
        "频率间隔 和日期偏移。\n",
        "\n",
        "M H   ---> Hour class \n",
        "\n",
        "每一种间隔都有相应的日期便宜类对应。\n",
        "\n",
        "\n",
        "![链接文字](https://img-blog.csdnimg.cn/20200822135325145.png?x-oss-process=image/watermark,type_ZmFuZ3poZW5naGVpdGk,shadow_10,text_aHR0cHM6Ly9ibG9nLmNzZG4ubmV0L2dhb2N1aTg4Mw==,size_16,color_FFFFFF,t_70#pic_center)"
      ]
    },
    {
      "cell_type": "code",
      "metadata": {
        "id": "mlCtD3sAs6tJ",
        "colab_type": "code",
        "colab": {}
      },
      "source": [
        "# 本节主要讲述各种时间间隔，这些都是用时间偏移类来进行定义的。当然一般是不用自己来定义的。\n",
        "# pandas可以自己识别相应的字符样式的时间间隔。如上表。\n",
        "\n",
        "from pandas.tseries.offsets import Hour, Minute"
      ],
      "execution_count": null,
      "outputs": []
    },
    {
      "cell_type": "code",
      "metadata": {
        "id": "haSUUDm6s6vv",
        "colab_type": "code",
        "colab": {
          "base_uri": "https://localhost:8080/",
          "height": 35
        },
        "outputId": "006df7ec-a77a-4c5b-fa68-3d1dd545100c"
      },
      "source": [
        "hour =Hour()\n",
        "hour"
      ],
      "execution_count": null,
      "outputs": [
        {
          "output_type": "execute_result",
          "data": {
            "text/plain": [
              "<Hour>"
            ]
          },
          "metadata": {
            "tags": []
          },
          "execution_count": 42
        }
      ]
    },
    {
      "cell_type": "code",
      "metadata": {
        "id": "JW4skDmEs6yn",
        "colab_type": "code",
        "colab": {
          "base_uri": "https://localhost:8080/",
          "height": 35
        },
        "outputId": "e3d1f6ba-8bdc-4b1a-e9b4-fd9a135693ad"
      },
      "source": [
        "# 可以看到，hour是Hour类对象\n",
        "\n",
        "fourhour = Hour(4)\n",
        "fourhour"
      ],
      "execution_count": null,
      "outputs": [
        {
          "output_type": "execute_result",
          "data": {
            "text/plain": [
              "<4 * Hours>"
            ]
          },
          "metadata": {
            "tags": []
          },
          "execution_count": 43
        }
      ]
    },
    {
      "cell_type": "code",
      "metadata": {
        "id": "OCiGNE3ks61i",
        "colab_type": "code",
        "colab": {
          "base_uri": "https://localhost:8080/",
          "height": 161
        },
        "outputId": "7d157dd2-6924-460f-de49-4c228c20f66f"
      },
      "source": [
        "pd.date_range('2000.1.1', '2000.1.3', freq=fourhour)"
      ],
      "execution_count": null,
      "outputs": [
        {
          "output_type": "execute_result",
          "data": {
            "text/plain": [
              "DatetimeIndex(['2000-01-01 00:00:00', '2000-01-01 04:00:00',\n",
              "               '2000-01-01 08:00:00', '2000-01-01 12:00:00',\n",
              "               '2000-01-01 16:00:00', '2000-01-01 20:00:00',\n",
              "               '2000-01-02 00:00:00', '2000-01-02 04:00:00',\n",
              "               '2000-01-02 08:00:00', '2000-01-02 12:00:00',\n",
              "               '2000-01-02 16:00:00', '2000-01-02 20:00:00',\n",
              "               '2000-01-03 00:00:00'],\n",
              "              dtype='datetime64[ns]', freq='4H')"
            ]
          },
          "metadata": {
            "tags": []
          },
          "execution_count": 45
        }
      ]
    },
    {
      "cell_type": "code",
      "metadata": {
        "id": "SQgT5eG0wTIH",
        "colab_type": "code",
        "colab": {
          "base_uri": "https://localhost:8080/",
          "height": 161
        },
        "outputId": "7b751569-6ab4-47a9-87cf-a050f86ccefa"
      },
      "source": [
        "pd.date_range('2000.1.1', '2000.1.3', freq='4H')"
      ],
      "execution_count": null,
      "outputs": [
        {
          "output_type": "execute_result",
          "data": {
            "text/plain": [
              "DatetimeIndex(['2000-01-01 00:00:00', '2000-01-01 04:00:00',\n",
              "               '2000-01-01 08:00:00', '2000-01-01 12:00:00',\n",
              "               '2000-01-01 16:00:00', '2000-01-01 20:00:00',\n",
              "               '2000-01-02 00:00:00', '2000-01-02 04:00:00',\n",
              "               '2000-01-02 08:00:00', '2000-01-02 12:00:00',\n",
              "               '2000-01-02 16:00:00', '2000-01-02 20:00:00',\n",
              "               '2000-01-03 00:00:00'],\n",
              "              dtype='datetime64[ns]', freq='4H')"
            ]
          },
          "metadata": {
            "tags": []
          },
          "execution_count": 46
        }
      ]
    },
    {
      "cell_type": "code",
      "metadata": {
        "id": "rn_UKx5pwTKw",
        "colab_type": "code",
        "colab": {
          "base_uri": "https://localhost:8080/",
          "height": 161
        },
        "outputId": "8317411b-f88b-48d2-bd6e-6193a2ab3f90"
      },
      "source": [
        "# 有用的week of month dates \n",
        "\n",
        "rng = pd.date_range('2012.1.1', '2012.9.1', freq='WOM-3FRI')# 每个月第三个星期五。\n",
        "\n",
        "list(rng)"
      ],
      "execution_count": null,
      "outputs": [
        {
          "output_type": "execute_result",
          "data": {
            "text/plain": [
              "[Timestamp('2012-01-20 00:00:00', freq='WOM-3FRI'),\n",
              " Timestamp('2012-02-17 00:00:00', freq='WOM-3FRI'),\n",
              " Timestamp('2012-03-16 00:00:00', freq='WOM-3FRI'),\n",
              " Timestamp('2012-04-20 00:00:00', freq='WOM-3FRI'),\n",
              " Timestamp('2012-05-18 00:00:00', freq='WOM-3FRI'),\n",
              " Timestamp('2012-06-15 00:00:00', freq='WOM-3FRI'),\n",
              " Timestamp('2012-07-20 00:00:00', freq='WOM-3FRI'),\n",
              " Timestamp('2012-08-17 00:00:00', freq='WOM-3FRI')]"
            ]
          },
          "metadata": {
            "tags": []
          },
          "execution_count": 48
        }
      ]
    },
    {
      "cell_type": "markdown",
      "metadata": {
        "id": "48f4DEhpAvh1",
        "colab_type": "text"
      },
      "source": [
        "### Shifting (Leading and Lagging) Data\n",
        "\n",
        "\n",
        "向前或者向后移动日期"
      ]
    },
    {
      "cell_type": "code",
      "metadata": {
        "id": "AwR-iic4x2sg",
        "colab_type": "code",
        "colab": {
          "base_uri": "https://localhost:8080/",
          "height": 107
        },
        "outputId": "0e4a6a42-1ece-4e60-e79b-f952516efd64"
      },
      "source": [
        "ts = pd.Series(np.random.randn(4), index=pd.date_range('1/1/2000', periods=4, freq='M'))\n",
        "ts"
      ],
      "execution_count": null,
      "outputs": [
        {
          "output_type": "execute_result",
          "data": {
            "text/plain": [
              "2000-01-31   -0.353654\n",
              "2000-02-29   -1.181412\n",
              "2000-03-31   -0.524985\n",
              "2000-04-30    0.124733\n",
              "Freq: M, dtype: float64"
            ]
          },
          "metadata": {
            "tags": []
          },
          "execution_count": 50
        }
      ]
    },
    {
      "cell_type": "code",
      "metadata": {
        "id": "G3Ka1nYUx2vn",
        "colab_type": "code",
        "colab": {
          "base_uri": "https://localhost:8080/",
          "height": 107
        },
        "outputId": "0adfcdcd-6d9e-4085-dc44-8d4ca4f89d3a"
      },
      "source": [
        "ts.shift(2)"
      ],
      "execution_count": null,
      "outputs": [
        {
          "output_type": "execute_result",
          "data": {
            "text/plain": [
              "2000-01-31         NaN\n",
              "2000-02-29         NaN\n",
              "2000-03-31   -0.353654\n",
              "2000-04-30   -1.181412\n",
              "Freq: M, dtype: float64"
            ]
          },
          "metadata": {
            "tags": []
          },
          "execution_count": 51
        }
      ]
    },
    {
      "cell_type": "code",
      "metadata": {
        "id": "YEpoWOPRx2y9",
        "colab_type": "code",
        "colab": {
          "base_uri": "https://localhost:8080/",
          "height": 107
        },
        "outputId": "be7cdff1-67b8-4b35-97d8-a4568695a407"
      },
      "source": [
        "(ts-ts.shift(1))/ts.shift(1) # 可以很方便的计算两天的增长百分比。"
      ],
      "execution_count": null,
      "outputs": [
        {
          "output_type": "execute_result",
          "data": {
            "text/plain": [
              "2000-01-31         NaN\n",
              "2000-02-29    2.340586\n",
              "2000-03-31   -0.555629\n",
              "2000-04-30   -1.237594\n",
              "Freq: M, dtype: float64"
            ]
          },
          "metadata": {
            "tags": []
          },
          "execution_count": 53
        }
      ]
    },
    {
      "cell_type": "code",
      "metadata": {
        "id": "KkFHKUIO1r0-",
        "colab_type": "code",
        "colab": {
          "base_uri": "https://localhost:8080/",
          "height": 107
        },
        "outputId": "699f5630-1c89-44b8-feec-bc74464526eb"
      },
      "source": [
        "# 如果移动的间隔知道的画。\n",
        "ts.shift(2,freq='M')"
      ],
      "execution_count": null,
      "outputs": [
        {
          "output_type": "execute_result",
          "data": {
            "text/plain": [
              "2000-03-31   -0.353654\n",
              "2000-04-30   -1.181412\n",
              "2000-05-31   -0.524985\n",
              "2000-06-30    0.124733\n",
              "Freq: M, dtype: float64"
            ]
          },
          "metadata": {
            "tags": []
          },
          "execution_count": 54
        }
      ]
    },
    {
      "cell_type": "code",
      "metadata": {
        "id": "-G_Ssgdv1r3g",
        "colab_type": "code",
        "colab": {
          "base_uri": "https://localhost:8080/",
          "height": 107
        },
        "outputId": "7d17e873-b6fc-415b-a93c-78e16f7a8791"
      },
      "source": [
        "# 可以明显的看出，时间戳改变了。\n",
        "\n",
        "ts.shift(2, freq='D')"
      ],
      "execution_count": null,
      "outputs": [
        {
          "output_type": "execute_result",
          "data": {
            "text/plain": [
              "2000-02-02   -0.353654\n",
              "2000-03-02   -1.181412\n",
              "2000-04-02   -0.524985\n",
              "2000-05-02    0.124733\n",
              "dtype: float64"
            ]
          },
          "metadata": {
            "tags": []
          },
          "execution_count": 55
        }
      ]
    },
    {
      "cell_type": "code",
      "metadata": {
        "id": "U2VduSgw1r61",
        "colab_type": "code",
        "colab": {
          "base_uri": "https://localhost:8080/",
          "height": 35
        },
        "outputId": "8b916250-3f7c-48df-f9f1-2a77ed9f05c4"
      },
      "source": [
        "# shitf with offsets.\n",
        "\n",
        "\n",
        "from pandas.tseries.offsets import Day,MonthEnd\n",
        "\n",
        "NOW = datetime(2011,2,3)\n",
        "\n",
        "NOW + 3*Day()"
      ],
      "execution_count": null,
      "outputs": [
        {
          "output_type": "execute_result",
          "data": {
            "text/plain": [
              "Timestamp('2011-02-06 00:00:00')"
            ]
          },
          "metadata": {
            "tags": []
          },
          "execution_count": 57
        }
      ]
    },
    {
      "cell_type": "code",
      "metadata": {
        "id": "QmjQC3Z81r9p",
        "colab_type": "code",
        "colab": {
          "base_uri": "https://localhost:8080/",
          "height": 35
        },
        "outputId": "ecea177e-488e-4ccd-ffcd-9c80e87a9ead"
      },
      "source": [
        "NOW + MonthEnd()"
      ],
      "execution_count": null,
      "outputs": [
        {
          "output_type": "execute_result",
          "data": {
            "text/plain": [
              "Timestamp('2011-02-28 00:00:00')"
            ]
          },
          "metadata": {
            "tags": []
          },
          "execution_count": 59
        }
      ]
    },
    {
      "cell_type": "code",
      "metadata": {
        "id": "67ocRmuj2ehO",
        "colab_type": "code",
        "colab": {
          "base_uri": "https://localhost:8080/",
          "height": 35
        },
        "outputId": "0dbe1b55-9f68-487f-8a58-ac22fbacaad9"
      },
      "source": [
        "offset = MonthEnd()\n",
        "offset.rollforward(NOW) #显式的前滚。"
      ],
      "execution_count": null,
      "outputs": [
        {
          "output_type": "execute_result",
          "data": {
            "text/plain": [
              "Timestamp('2011-02-28 00:00:00')"
            ]
          },
          "metadata": {
            "tags": []
          },
          "execution_count": 61
        }
      ]
    },
    {
      "cell_type": "code",
      "metadata": {
        "id": "1UswtOj_2ekE",
        "colab_type": "code",
        "colab": {
          "base_uri": "https://localhost:8080/",
          "height": 35
        },
        "outputId": "06bf4ddc-5ed3-44fa-a0c7-4e986dc0c534"
      },
      "source": [
        "offset.rollback(NOW)"
      ],
      "execution_count": null,
      "outputs": [
        {
          "output_type": "execute_result",
          "data": {
            "text/plain": [
              "Timestamp('2011-01-31 00:00:00')"
            ]
          },
          "metadata": {
            "tags": []
          },
          "execution_count": 62
        }
      ]
    },
    {
      "cell_type": "code",
      "metadata": {
        "id": "Gr2BO1xo2enR",
        "colab_type": "code",
        "colab": {
          "base_uri": "https://localhost:8080/",
          "height": 395
        },
        "outputId": "c1191c0b-2788-46a9-b560-5f66f1c32132"
      },
      "source": [
        "ts = pd.Series(np.random.randn(20),\n",
        "        index=pd.date_range('1/15/2000', periods=20, freq='4d'))\n",
        "ts"
      ],
      "execution_count": null,
      "outputs": [
        {
          "output_type": "execute_result",
          "data": {
            "text/plain": [
              "2000-01-15    1.012790\n",
              "2000-01-19   -0.578575\n",
              "2000-01-23    0.898893\n",
              "2000-01-27   -0.773803\n",
              "2000-01-31   -1.716588\n",
              "2000-02-04   -0.002551\n",
              "2000-02-08   -1.267683\n",
              "2000-02-12    1.567952\n",
              "2000-02-16    0.128305\n",
              "2000-02-20   -0.161111\n",
              "2000-02-24   -0.851241\n",
              "2000-02-28    2.282059\n",
              "2000-03-03   -0.039216\n",
              "2000-03-07   -0.466481\n",
              "2000-03-11   -0.066231\n",
              "2000-03-15    0.677725\n",
              "2000-03-19    0.940002\n",
              "2000-03-23   -0.417170\n",
              "2000-03-27   -0.633030\n",
              "2000-03-31    0.822663\n",
              "Freq: 4D, dtype: float64"
            ]
          },
          "metadata": {
            "tags": []
          },
          "execution_count": 64
        }
      ]
    },
    {
      "cell_type": "code",
      "metadata": {
        "id": "3cjl77xB243T",
        "colab_type": "code",
        "colab": {
          "base_uri": "https://localhost:8080/",
          "height": 89
        },
        "outputId": "015f1ea2-69b6-4ec7-cc04-80877dec357e"
      },
      "source": [
        "# 结合groupby使用。 \n",
        "ts.groupby(offset.rollforward).mean()"
      ],
      "execution_count": null,
      "outputs": [
        {
          "output_type": "execute_result",
          "data": {
            "text/plain": [
              "2000-01-31   -0.231456\n",
              "2000-02-29    0.242247\n",
              "2000-03-31    0.102283\n",
              "dtype: float64"
            ]
          },
          "metadata": {
            "tags": []
          },
          "execution_count": 65
        }
      ]
    },
    {
      "cell_type": "code",
      "metadata": {
        "id": "cb_CoOC9246d",
        "colab_type": "code",
        "colab": {
          "base_uri": "https://localhost:8080/",
          "height": 89
        },
        "outputId": "3e16d326-55c9-4b87-b0e3-dbab79adaf03"
      },
      "source": [
        "# 当然也可以直接使用resample ，在之后会讲到。\n",
        "ts.resample('M').mean()"
      ],
      "execution_count": null,
      "outputs": [
        {
          "output_type": "execute_result",
          "data": {
            "text/plain": [
              "2000-01-31   -0.231456\n",
              "2000-02-29    0.242247\n",
              "2000-03-31    0.102283\n",
              "Freq: M, dtype: float64"
            ]
          },
          "metadata": {
            "tags": []
          },
          "execution_count": 66
        }
      ]
    },
    {
      "cell_type": "markdown",
      "metadata": {
        "id": "NYemXW9pENoj",
        "colab_type": "text"
      },
      "source": [
        "## 2020.8.23"
      ]
    },
    {
      "cell_type": "markdown",
      "metadata": {
        "id": "Mt8WoD1eAvkt",
        "colab_type": "text"
      },
      "source": [
        "## 11.4 Time Zone Handling\n",
        "\n",
        "时区表： pytz 可以在查看时区\n"
      ]
    },
    {
      "cell_type": "code",
      "metadata": {
        "id": "Ytsv098SFGYf",
        "colab_type": "code",
        "colab": {
          "base_uri": "https://localhost:8080/",
          "height": 35
        },
        "outputId": "402f8215-219f-457f-fbff-9223833292c0"
      },
      "source": [
        "import pytz\n",
        "pytz.common_timezones[-5:] # 最后五个时区表。"
      ],
      "execution_count": null,
      "outputs": [
        {
          "output_type": "execute_result",
          "data": {
            "text/plain": [
              "['US/Eastern', 'US/Hawaii', 'US/Mountain', 'US/Pacific', 'UTC']"
            ]
          },
          "metadata": {
            "tags": []
          },
          "execution_count": 4
        }
      ]
    },
    {
      "cell_type": "code",
      "metadata": {
        "id": "9PHebVgUFGbx",
        "colab_type": "code",
        "colab": {
          "base_uri": "https://localhost:8080/",
          "height": 35
        },
        "outputId": "d6ab536b-df15-4758-aaac-ad79a67a3135"
      },
      "source": [
        "# to get a timezone object .\n",
        "tz = pytz.timezone('America/New_York')\n",
        "tz"
      ],
      "execution_count": null,
      "outputs": [
        {
          "output_type": "execute_result",
          "data": {
            "text/plain": [
              "<DstTzInfo 'America/New_York' LMT-1 day, 19:04:00 STD>"
            ]
          },
          "metadata": {
            "tags": []
          },
          "execution_count": 6
        }
      ]
    },
    {
      "cell_type": "markdown",
      "metadata": {
        "id": "lmwnBaaHAvqV",
        "colab_type": "text"
      },
      "source": [
        "### Time Zone Localization and Conversion\n",
        "\n",
        "时间戳的本地化，已经时间的时区转换。"
      ]
    },
    {
      "cell_type": "code",
      "metadata": {
        "id": "MLxP17JuFGtl",
        "colab_type": "code",
        "colab": {
          "base_uri": "https://localhost:8080/",
          "height": 89
        },
        "outputId": "ae5d9a62-e8bb-448b-9ccd-af89e8b00534"
      },
      "source": [
        "import pandas as pd\n",
        "import numpy as np\n",
        "\n",
        "rng = pd.date_range('3/9/2012 9:30', periods=6, freq='D')\n",
        "rng"
      ],
      "execution_count": null,
      "outputs": [
        {
          "output_type": "execute_result",
          "data": {
            "text/plain": [
              "DatetimeIndex(['2012-03-09 09:30:00', '2012-03-10 09:30:00',\n",
              "               '2012-03-11 09:30:00', '2012-03-12 09:30:00',\n",
              "               '2012-03-13 09:30:00', '2012-03-14 09:30:00'],\n",
              "              dtype='datetime64[ns]', freq='D')"
            ]
          },
          "metadata": {
            "tags": []
          },
          "execution_count": 7
        }
      ]
    },
    {
      "cell_type": "code",
      "metadata": {
        "id": "kOgIEBw9FGwk",
        "colab_type": "code",
        "colab": {
          "base_uri": "https://localhost:8080/",
          "height": 143
        },
        "outputId": "275304d6-edb8-4a3c-c52b-aabb56ff3349"
      },
      "source": [
        "# 上边生成的时间戳是没有时区的\n",
        "\n",
        "ts = pd.Series(np.random.randn(len(rng)), index=rng)\n",
        "ts"
      ],
      "execution_count": null,
      "outputs": [
        {
          "output_type": "execute_result",
          "data": {
            "text/plain": [
              "2012-03-09 09:30:00   -1.441822\n",
              "2012-03-10 09:30:00   -0.006039\n",
              "2012-03-11 09:30:00   -0.049505\n",
              "2012-03-12 09:30:00    0.450607\n",
              "2012-03-13 09:30:00    2.298597\n",
              "2012-03-14 09:30:00   -1.555118\n",
              "Freq: D, dtype: float64"
            ]
          },
          "metadata": {
            "tags": []
          },
          "execution_count": 8
        }
      ]
    },
    {
      "cell_type": "code",
      "metadata": {
        "id": "kDXbzQXGJ4F1",
        "colab_type": "code",
        "colab": {
          "base_uri": "https://localhost:8080/",
          "height": 35
        },
        "outputId": "b99739be-86fa-4ebb-99ca-6188944c2017"
      },
      "source": [
        "print(rng.tz)"
      ],
      "execution_count": null,
      "outputs": [
        {
          "output_type": "stream",
          "text": [
            "None\n"
          ],
          "name": "stdout"
        }
      ]
    },
    {
      "cell_type": "code",
      "metadata": {
        "id": "jQx9E0qOJ4Io",
        "colab_type": "code",
        "colab": {
          "base_uri": "https://localhost:8080/",
          "height": 35
        },
        "outputId": "1e5e6b13-7941-45e8-c517-3470f37a985b"
      },
      "source": [
        "print(ts.index.tz)"
      ],
      "execution_count": null,
      "outputs": [
        {
          "output_type": "stream",
          "text": [
            "None\n"
          ],
          "name": "stdout"
        }
      ]
    },
    {
      "cell_type": "code",
      "metadata": {
        "id": "1ipdz7SrJ4L3",
        "colab_type": "code",
        "colab": {
          "base_uri": "https://localhost:8080/",
          "height": 143
        },
        "outputId": "7f3affcc-5807-4975-eb17-7819c6195014"
      },
      "source": [
        "# 本节的内容就是将时间本地化，将这些时间本地化为当地时区的时间，也就是给时间戳添加tz信息。\n",
        "\n",
        "# keyward: tz_localize\n",
        "\n",
        "ts_utc = ts.tz_localize('UTC')\n",
        "ts_utc"
      ],
      "execution_count": null,
      "outputs": [
        {
          "output_type": "execute_result",
          "data": {
            "text/plain": [
              "2012-03-09 09:30:00+00:00   -1.441822\n",
              "2012-03-10 09:30:00+00:00   -0.006039\n",
              "2012-03-11 09:30:00+00:00   -0.049505\n",
              "2012-03-12 09:30:00+00:00    0.450607\n",
              "2012-03-13 09:30:00+00:00    2.298597\n",
              "2012-03-14 09:30:00+00:00   -1.555118\n",
              "Freq: D, dtype: float64"
            ]
          },
          "metadata": {
            "tags": []
          },
          "execution_count": 13
        }
      ]
    },
    {
      "cell_type": "code",
      "metadata": {
        "id": "z53y61oLLGg9",
        "colab_type": "code",
        "colab": {
          "base_uri": "https://localhost:8080/",
          "height": 35
        },
        "outputId": "a08edc22-6dce-47f6-cb0c-2754c6e5d7a0"
      },
      "source": [
        "ts_utc.index.tz # 可以看到标准时间。"
      ],
      "execution_count": null,
      "outputs": [
        {
          "output_type": "execute_result",
          "data": {
            "text/plain": [
              "<UTC>"
            ]
          },
          "metadata": {
            "tags": []
          },
          "execution_count": 18
        }
      ]
    },
    {
      "cell_type": "code",
      "metadata": {
        "id": "EZg6a0H9LGkL",
        "colab_type": "code",
        "colab": {}
      },
      "source": [
        ""
      ],
      "execution_count": null,
      "outputs": []
    },
    {
      "cell_type": "code",
      "metadata": {
        "id": "bb-oY7_PJ4O8",
        "colab_type": "code",
        "colab": {
          "base_uri": "https://localhost:8080/",
          "height": 125
        },
        "outputId": "79b15b28-d18a-45bb-9d7b-c0af6ff7d557"
      },
      "source": [
        "# 当然，也可以在生成的时候指定tz属性。\n",
        "pd.date_range('3/9/2011 9:30', periods=10, freq='D', tz='UTC')\n"
      ],
      "execution_count": null,
      "outputs": [
        {
          "output_type": "execute_result",
          "data": {
            "text/plain": [
              "DatetimeIndex(['2011-03-09 09:30:00+00:00', '2011-03-10 09:30:00+00:00',\n",
              "               '2011-03-11 09:30:00+00:00', '2011-03-12 09:30:00+00:00',\n",
              "               '2011-03-13 09:30:00+00:00', '2011-03-14 09:30:00+00:00',\n",
              "               '2011-03-15 09:30:00+00:00', '2011-03-16 09:30:00+00:00',\n",
              "               '2011-03-17 09:30:00+00:00', '2011-03-18 09:30:00+00:00'],\n",
              "              dtype='datetime64[ns, UTC]', freq='D')"
            ]
          },
          "metadata": {
            "tags": []
          },
          "execution_count": 16
        }
      ]
    },
    {
      "cell_type": "code",
      "metadata": {
        "id": "5gu77qidJ4SE",
        "colab_type": "code",
        "colab": {}
      },
      "source": [
        "# 然后如果要对已经有时区信息的时间戳进行时区转换呢？？？\n",
        "# keyward: tz_convert\n",
        "\n",
        "# 将之前的是按转换为美国纽约时间。\n",
        "x = ts_utc.tz_convert('America/New_York')"
      ],
      "execution_count": null,
      "outputs": []
    },
    {
      "cell_type": "code",
      "metadata": {
        "id": "AjR1AceLLvt_",
        "colab_type": "code",
        "colab": {
          "base_uri": "https://localhost:8080/",
          "height": 35
        },
        "outputId": "2dc6e752-01c1-4b6f-d315-00a56e75f0b9"
      },
      "source": [
        "ts_utc.index.tz"
      ],
      "execution_count": null,
      "outputs": [
        {
          "output_type": "execute_result",
          "data": {
            "text/plain": [
              "<UTC>"
            ]
          },
          "metadata": {
            "tags": []
          },
          "execution_count": 20
        }
      ]
    },
    {
      "cell_type": "code",
      "metadata": {
        "id": "dskhr4y5LvxV",
        "colab_type": "code",
        "colab": {
          "base_uri": "https://localhost:8080/",
          "height": 35
        },
        "outputId": "0b7450d3-63c6-4156-b359-554e05a6314e"
      },
      "source": [
        "x.index.tz"
      ],
      "execution_count": null,
      "outputs": [
        {
          "output_type": "execute_result",
          "data": {
            "text/plain": [
              "<DstTzInfo 'America/New_York' LMT-1 day, 19:04:00 STD>"
            ]
          },
          "metadata": {
            "tags": []
          },
          "execution_count": 22
        }
      ]
    },
    {
      "cell_type": "code",
      "metadata": {
        "id": "8SxTpPZRLv0f",
        "colab_type": "code",
        "colab": {
          "base_uri": "https://localhost:8080/",
          "height": 89
        },
        "outputId": "10f2e99b-d240-4b73-8421-c8223b24612e"
      },
      "source": [
        "# 当然，除了dataframe和series 直接进行转换，也可以直接使用他们的索引来进行调用。\n",
        "\n",
        "ts.index.tz_localize('Asia/Shanghai')\n"
      ],
      "execution_count": null,
      "outputs": [
        {
          "output_type": "execute_result",
          "data": {
            "text/plain": [
              "DatetimeIndex(['2012-03-09 09:30:00+08:00', '2012-03-10 09:30:00+08:00',\n",
              "               '2012-03-11 09:30:00+08:00', '2012-03-12 09:30:00+08:00',\n",
              "               '2012-03-13 09:30:00+08:00', '2012-03-14 09:30:00+08:00'],\n",
              "              dtype='datetime64[ns, Asia/Shanghai]', freq='D')"
            ]
          },
          "metadata": {
            "tags": []
          },
          "execution_count": 23
        }
      ]
    },
    {
      "cell_type": "markdown",
      "metadata": {
        "id": "3ED4mIAtAvtF",
        "colab_type": "text"
      },
      "source": [
        "### Operations with Time Zone−Aware Timestamp Objects"
      ]
    },
    {
      "cell_type": "code",
      "metadata": {
        "id": "7KqQ1GdRMehs",
        "colab_type": "code",
        "colab": {
          "base_uri": "https://localhost:8080/",
          "height": 35
        },
        "outputId": "04c02fa2-d7e3-40fd-abf6-a4e906eddcc1"
      },
      "source": [
        "# 单个时间戳的本地化以及转换，以及夏令时自动转换。\n",
        "\n",
        "stamp = pd.Timestamp('2011-03-12 04:00')\n",
        "stamp"
      ],
      "execution_count": null,
      "outputs": [
        {
          "output_type": "execute_result",
          "data": {
            "text/plain": [
              "Timestamp('2011-03-12 04:00:00')"
            ]
          },
          "metadata": {
            "tags": []
          },
          "execution_count": 24
        }
      ]
    },
    {
      "cell_type": "code",
      "metadata": {
        "id": "RK-g086xMek4",
        "colab_type": "code",
        "colab": {
          "base_uri": "https://localhost:8080/",
          "height": 35
        },
        "outputId": "264b8be3-d96f-4a4f-8062-241a47e95caf"
      },
      "source": [
        "stamp_utc = stamp.tz_localize('utc')\n",
        "stamp_utc"
      ],
      "execution_count": null,
      "outputs": [
        {
          "output_type": "execute_result",
          "data": {
            "text/plain": [
              "Timestamp('2011-03-12 04:00:00+0000', tz='UTC')"
            ]
          },
          "metadata": {
            "tags": []
          },
          "execution_count": 25
        }
      ]
    },
    {
      "cell_type": "code",
      "metadata": {
        "id": "ziryOURYMeoK",
        "colab_type": "code",
        "colab": {
          "base_uri": "https://localhost:8080/",
          "height": 35
        },
        "outputId": "35bc94ee-f03b-4818-df5a-18e20459c64f"
      },
      "source": [
        "stamp_utc.tz_convert('America/New_York')\n"
      ],
      "execution_count": null,
      "outputs": [
        {
          "output_type": "execute_result",
          "data": {
            "text/plain": [
              "Timestamp('2011-03-11 23:00:00-0500', tz='America/New_York')"
            ]
          },
          "metadata": {
            "tags": []
          },
          "execution_count": 26
        }
      ]
    },
    {
      "cell_type": "code",
      "metadata": {
        "id": "32UtwgTqMerG",
        "colab_type": "code",
        "colab": {
          "base_uri": "https://localhost:8080/",
          "height": 35
        },
        "outputId": "541c9c39-79ef-4b68-951f-0d13dd236700"
      },
      "source": [
        "stamp_utc.value"
      ],
      "execution_count": null,
      "outputs": [
        {
          "output_type": "execute_result",
          "data": {
            "text/plain": [
              "1299902400000000000"
            ]
          },
          "metadata": {
            "tags": []
          },
          "execution_count": 27
        }
      ]
    },
    {
      "cell_type": "code",
      "metadata": {
        "id": "RbFwIzYeMeuI",
        "colab_type": "code",
        "colab": {}
      },
      "source": [
        ""
      ],
      "execution_count": null,
      "outputs": []
    },
    {
      "cell_type": "markdown",
      "metadata": {
        "id": "9XYatFkJAvwN",
        "colab_type": "text"
      },
      "source": [
        "### Operations Between Different Time Zones"
      ]
    },
    {
      "cell_type": "code",
      "metadata": {
        "id": "TnyQw1LrPsbM",
        "colab_type": "code",
        "colab": {
          "base_uri": "https://localhost:8080/",
          "height": 215
        },
        "outputId": "38a4e998-bb1f-48ca-87a7-92b107ba59dd"
      },
      "source": [
        "# 不同时区间的操作。\n",
        "# 如果两个时间series combined，那么不需要转换， 结果将是UTC 时间。\n",
        "rng = pd.date_range('3/7/2012 9:30', periods=10, freq='B')\n",
        "\n",
        "ts = pd.Series(np.random.randn(len(rng)), index=rng)\n",
        "\n",
        "ts"
      ],
      "execution_count": null,
      "outputs": [
        {
          "output_type": "execute_result",
          "data": {
            "text/plain": [
              "2012-03-07 09:30:00    0.151446\n",
              "2012-03-08 09:30:00    0.103712\n",
              "2012-03-09 09:30:00   -0.073881\n",
              "2012-03-12 09:30:00   -0.427224\n",
              "2012-03-13 09:30:00   -1.142750\n",
              "2012-03-14 09:30:00   -1.177466\n",
              "2012-03-15 09:30:00    1.106466\n",
              "2012-03-16 09:30:00    0.158998\n",
              "2012-03-19 09:30:00   -0.090418\n",
              "2012-03-20 09:30:00    2.006070\n",
              "Freq: B, dtype: float64"
            ]
          },
          "metadata": {
            "tags": []
          },
          "execution_count": 30
        }
      ]
    },
    {
      "cell_type": "code",
      "metadata": {
        "id": "8nD8xQkCPsei",
        "colab_type": "code",
        "colab": {
          "base_uri": "https://localhost:8080/",
          "height": 305
        },
        "outputId": "cf65ef35-9754-40cf-cc16-0c28303c5bc1"
      },
      "source": [
        "ts1 = ts[:7].tz_localize('Europe/London')\n",
        "ts2 = ts[2:].tz_localize('Europe/Moscow')\n",
        "\n",
        "result = ts1+ts2\n",
        "result"
      ],
      "execution_count": null,
      "outputs": [
        {
          "output_type": "execute_result",
          "data": {
            "text/plain": [
              "2012-03-07 09:30:00+00:00   NaN\n",
              "2012-03-08 09:30:00+00:00   NaN\n",
              "2012-03-09 05:30:00+00:00   NaN\n",
              "2012-03-09 09:30:00+00:00   NaN\n",
              "2012-03-12 05:30:00+00:00   NaN\n",
              "2012-03-12 09:30:00+00:00   NaN\n",
              "2012-03-13 05:30:00+00:00   NaN\n",
              "2012-03-13 09:30:00+00:00   NaN\n",
              "2012-03-14 05:30:00+00:00   NaN\n",
              "2012-03-14 09:30:00+00:00   NaN\n",
              "2012-03-15 05:30:00+00:00   NaN\n",
              "2012-03-15 09:30:00+00:00   NaN\n",
              "2012-03-16 05:30:00+00:00   NaN\n",
              "2012-03-19 05:30:00+00:00   NaN\n",
              "2012-03-20 05:30:00+00:00   NaN\n",
              "dtype: float64"
            ]
          },
          "metadata": {
            "tags": []
          },
          "execution_count": 34
        }
      ]
    },
    {
      "cell_type": "code",
      "metadata": {
        "id": "qWToT61NRXi0",
        "colab_type": "code",
        "colab": {
          "base_uri": "https://localhost:8080/",
          "height": 179
        },
        "outputId": "c139ce4d-fe7c-4056-cc86-1126cb49e1ec"
      },
      "source": [
        "result.index"
      ],
      "execution_count": null,
      "outputs": [
        {
          "output_type": "execute_result",
          "data": {
            "text/plain": [
              "DatetimeIndex(['2012-03-07 09:30:00+00:00', '2012-03-08 09:30:00+00:00',\n",
              "               '2012-03-09 05:30:00+00:00', '2012-03-09 09:30:00+00:00',\n",
              "               '2012-03-12 05:30:00+00:00', '2012-03-12 09:30:00+00:00',\n",
              "               '2012-03-13 05:30:00+00:00', '2012-03-13 09:30:00+00:00',\n",
              "               '2012-03-14 05:30:00+00:00', '2012-03-14 09:30:00+00:00',\n",
              "               '2012-03-15 05:30:00+00:00', '2012-03-15 09:30:00+00:00',\n",
              "               '2012-03-16 05:30:00+00:00', '2012-03-19 05:30:00+00:00',\n",
              "               '2012-03-20 05:30:00+00:00'],\n",
              "              dtype='datetime64[ns, UTC]', freq=None)"
            ]
          },
          "metadata": {
            "tags": []
          },
          "execution_count": 35
        }
      ]
    },
    {
      "cell_type": "code",
      "metadata": {
        "id": "MWlsN1gmRXl8",
        "colab_type": "code",
        "colab": {
          "base_uri": "https://localhost:8080/",
          "height": 107
        },
        "outputId": "33057113-6a3a-4482-8efc-8d9ce4809ef7"
      },
      "source": [
        "ts1.index"
      ],
      "execution_count": null,
      "outputs": [
        {
          "output_type": "execute_result",
          "data": {
            "text/plain": [
              "DatetimeIndex(['2012-03-07 09:30:00+00:00', '2012-03-08 09:30:00+00:00',\n",
              "               '2012-03-09 09:30:00+00:00', '2012-03-12 09:30:00+00:00',\n",
              "               '2012-03-13 09:30:00+00:00', '2012-03-14 09:30:00+00:00',\n",
              "               '2012-03-15 09:30:00+00:00'],\n",
              "              dtype='datetime64[ns, Europe/London]', freq='B')"
            ]
          },
          "metadata": {
            "tags": []
          },
          "execution_count": 36
        }
      ]
    },
    {
      "cell_type": "code",
      "metadata": {
        "id": "nEusgkGfRgzj",
        "colab_type": "code",
        "colab": {
          "base_uri": "https://localhost:8080/",
          "height": 107
        },
        "outputId": "77fbab04-609b-4368-9abb-4bbca462fdbc"
      },
      "source": [
        "ts2.index"
      ],
      "execution_count": null,
      "outputs": [
        {
          "output_type": "execute_result",
          "data": {
            "text/plain": [
              "DatetimeIndex(['2012-03-09 09:30:00+04:00', '2012-03-12 09:30:00+04:00',\n",
              "               '2012-03-13 09:30:00+04:00', '2012-03-14 09:30:00+04:00',\n",
              "               '2012-03-15 09:30:00+04:00', '2012-03-16 09:30:00+04:00',\n",
              "               '2012-03-19 09:30:00+04:00', '2012-03-20 09:30:00+04:00'],\n",
              "              dtype='datetime64[ns, Europe/Moscow]', freq='B')"
            ]
          },
          "metadata": {
            "tags": []
          },
          "execution_count": 37
        }
      ]
    },
    {
      "cell_type": "markdown",
      "metadata": {
        "id": "iSxMu8zqAvy9",
        "colab_type": "text"
      },
      "source": [
        "## 11.5 Periods and Period Arithmetic"
      ]
    },
    {
      "cell_type": "code",
      "metadata": {
        "id": "82n3zFIwRri8",
        "colab_type": "code",
        "colab": {
          "base_uri": "https://localhost:8080/",
          "height": 35
        },
        "outputId": "ee84978b-21a2-48ac-90f0-d839f570d9cf"
      },
      "source": [
        "# Period 对象。以及PeriodIndex 对象。\n",
        "p = pd.Period(2001, freq='A-DEC') # 以十二月份为点来统计。\n",
        "p"
      ],
      "execution_count": null,
      "outputs": [
        {
          "output_type": "execute_result",
          "data": {
            "text/plain": [
              "Period('2001', 'A-DEC')"
            ]
          },
          "metadata": {
            "tags": []
          },
          "execution_count": 38
        }
      ]
    },
    {
      "cell_type": "code",
      "metadata": {
        "id": "UOwvi6deRrmh",
        "colab_type": "code",
        "colab": {
          "base_uri": "https://localhost:8080/",
          "height": 35
        },
        "outputId": "3a56f9fb-cb6d-4729-ea7f-b94fce67a606"
      },
      "source": [
        "p+3"
      ],
      "execution_count": null,
      "outputs": [
        {
          "output_type": "execute_result",
          "data": {
            "text/plain": [
              "Period('2004', 'A-DEC')"
            ]
          },
          "metadata": {
            "tags": []
          },
          "execution_count": 39
        }
      ]
    },
    {
      "cell_type": "code",
      "metadata": {
        "id": "AeKdXd9lVTdb",
        "colab_type": "code",
        "colab": {
          "base_uri": "https://localhost:8080/",
          "height": 89
        },
        "outputId": "3188a98b-fcd8-4755-ae9e-dc244acde5a6"
      },
      "source": [
        "# 要生成一个Period的列表，可以用 period_range # 注意与date_range 的不同。\n",
        "import pandas as pd\n",
        "\n",
        "\n",
        "rng = pd.period_range('2001-01-01', '2002-05-01', freq='M')\n",
        "rng"
      ],
      "execution_count": 4,
      "outputs": [
        {
          "output_type": "execute_result",
          "data": {
            "text/plain": [
              "PeriodIndex(['2001-01', '2001-02', '2001-03', '2001-04', '2001-05', '2001-06',\n",
              "             '2001-07', '2001-08', '2001-09', '2001-10', '2001-11', '2001-12',\n",
              "             '2002-01', '2002-02', '2002-03', '2002-04', '2002-05'],\n",
              "            dtype='period[M]', freq='M')"
            ]
          },
          "metadata": {
            "tags": []
          },
          "execution_count": 4
        }
      ]
    },
    {
      "cell_type": "code",
      "metadata": {
        "id": "1zxu09PEVTgS",
        "colab_type": "code",
        "colab": {}
      },
      "source": [
        "pd.period_range?"
      ],
      "execution_count": null,
      "outputs": []
    },
    {
      "cell_type": "code",
      "metadata": {
        "id": "uGf9v6tuWNqK",
        "colab_type": "code",
        "colab": {}
      },
      "source": [
        "Signature: pd.period_range(start=None, end=None, periods=None, freq=None, name=None) -> pandas.core.indexes.period.PeriodIndex\n",
        "Docstring:\n",
        "Return a fixed frequency PeriodIndex.\n",
        "\n",
        "The day (calendar) is the default frequency.\n",
        "\n",
        "Parameters\n",
        "----------\n",
        "start : str or period-like, default None\n",
        "    Left bound for generating periods.\n",
        "end : str or period-like, default None\n",
        "    Right bound for generating periods.\n",
        "periods : int, default None\n",
        "    Number of periods to generate.\n",
        "freq : str or DateOffset, optional\n",
        "    Frequency alias. By default the freq is taken from `start` or `end`\n",
        "    if those are Period objects. Otherwise, the default is ``\"D\"`` for\n",
        "    daily frequency.\n",
        "name : str, default None\n",
        "    Name of the resulting PeriodIndex.\n",
        "\n",
        "Returns\n",
        "-------\n",
        "PeriodIndex\n",
        "\n",
        "Notes\n",
        "-----\n",
        "Of the three parameters: ``start``, ``end``, and ``periods``, exactly two\n",
        "must be specified.\n",
        "\n",
        "To learn more about the frequency strings, please see `this link\n",
        "<https://pandas.pydata.org/pandas-docs/stable/user_guide/timeseries.html#offset-aliases>`__.\n",
        "\n",
        "Examples\n",
        "--------\n",
        "\n",
        ">>> pd.period_range(start='2017-01-01', end='2018-01-01', freq='M')\n",
        "PeriodIndex(['2017-01', '2017-02', '2017-03', '2017-04', '2017-05',\n",
        "             '2017-06', '2017-06', '2017-07', '2017-08', '2017-09',\n",
        "             '2017-10', '2017-11', '2017-12', '2018-01'],\n",
        "            dtype='period[M]', freq='M')\n",
        "\n",
        "If ``start`` or ``end`` are ``Period`` objects, they will be used as anchor\n",
        "endpoints for a ``PeriodIndex`` with frequency matching that of the\n",
        "``period_range`` constructor.\n",
        "\n",
        ">>> pd.period_range(start=pd.Period('2017Q1', freq='Q'),\n",
        "...                 end=pd.Period('2017Q2', freq='Q'), freq='M')\n",
        "PeriodIndex(['2017-03', '2017-04', '2017-05', '2017-06'],\n",
        "            dtype='period[M]', freq='M')\n",
        "File:      /usr/local/lib/python3.6/dist-packages/pandas/core/indexes/period.py\n",
        "Type:      function"
      ],
      "execution_count": null,
      "outputs": []
    },
    {
      "cell_type": "code",
      "metadata": {
        "id": "2VSSzCGNWNt7",
        "colab_type": "code",
        "colab": {
          "base_uri": "https://localhost:8080/",
          "height": 89
        },
        "outputId": "ad2f5f5c-09bd-4486-9bd7-7e0e115447e3"
      },
      "source": [
        "pd.period_range(start='2017-01-01', end='2018-01-01', freq='M')"
      ],
      "execution_count": null,
      "outputs": [
        {
          "output_type": "execute_result",
          "data": {
            "text/plain": [
              "PeriodIndex(['2017-01', '2017-02', '2017-03', '2017-04', '2017-05', '2017-06',\n",
              "             '2017-07', '2017-08', '2017-09', '2017-10', '2017-11', '2017-12',\n",
              "             '2018-01'],\n",
              "            dtype='period[M]', freq='M')"
            ]
          },
          "metadata": {
            "tags": []
          },
          "execution_count": 44
        }
      ]
    },
    {
      "cell_type": "code",
      "metadata": {
        "id": "5SVgNPRjWqpr",
        "colab_type": "code",
        "colab": {}
      },
      "source": [
        ""
      ],
      "execution_count": null,
      "outputs": []
    },
    {
      "cell_type": "code",
      "metadata": {
        "id": "Agt-yopZWqs-",
        "colab_type": "code",
        "colab": {}
      },
      "source": [
        ""
      ],
      "execution_count": null,
      "outputs": []
    },
    {
      "cell_type": "code",
      "metadata": {
        "id": "zhAGt2F9Wqvw",
        "colab_type": "code",
        "colab": {}
      },
      "source": [
        ""
      ],
      "execution_count": null,
      "outputs": []
    },
    {
      "cell_type": "code",
      "metadata": {
        "id": "wCxWB4pqWqyt",
        "colab_type": "code",
        "colab": {}
      },
      "source": [
        ""
      ],
      "execution_count": null,
      "outputs": []
    },
    {
      "cell_type": "markdown",
      "metadata": {
        "id": "T_ky1dx6Av1t",
        "colab_type": "text"
      },
      "source": [
        "### Period Frequency Conversion\n",
        "\n",
        "时间段转换。"
      ]
    },
    {
      "cell_type": "code",
      "metadata": {
        "id": "5C8WkghshMIY",
        "colab_type": "code",
        "colab": {
          "base_uri": "https://localhost:8080/",
          "height": 35
        },
        "outputId": "df630f50-6934-450a-eed0-f5ddfd9cbb5a"
      },
      "source": [
        "p = pd.Period(2007, freq = 'A-DEC')\n",
        "p"
      ],
      "execution_count": null,
      "outputs": [
        {
          "output_type": "execute_result",
          "data": {
            "text/plain": [
              "Period('2007', 'A-DEC')"
            ]
          },
          "metadata": {
            "tags": []
          },
          "execution_count": 47
        }
      ]
    },
    {
      "cell_type": "code",
      "metadata": {
        "id": "Vx0CXPathMLv",
        "colab_type": "code",
        "colab": {}
      },
      "source": [
        "p.asfreq?\n",
        "Docstring:\n",
        "Convert Period to desired frequency, at the start or end of the interval.\n",
        "\n",
        "Parameters\n",
        "----------\n",
        "freq : str\n",
        "    The desired frequency.\n",
        "how : {'E', 'S', 'end', 'start'}, default 'end'\n",
        "    Start or end of the timespan.\n",
        "\n",
        "Returns\n",
        "-------\n",
        "resampled : Period\n",
        "Type:      builtin_function_or_method"
      ],
      "execution_count": null,
      "outputs": []
    },
    {
      "cell_type": "code",
      "metadata": {
        "id": "ZuCMKKSghMO3",
        "colab_type": "code",
        "colab": {
          "base_uri": "https://localhost:8080/",
          "height": 35
        },
        "outputId": "f25a5387-9ffb-47de-c610-a6d984a4e167"
      },
      "source": [
        "p.asfreq('M', how='start')"
      ],
      "execution_count": null,
      "outputs": [
        {
          "output_type": "execute_result",
          "data": {
            "text/plain": [
              "Period('2007-01', 'M')"
            ]
          },
          "metadata": {
            "tags": []
          },
          "execution_count": 49
        }
      ]
    },
    {
      "cell_type": "code",
      "metadata": {
        "id": "TiiFz0p9hMlN",
        "colab_type": "code",
        "colab": {
          "base_uri": "https://localhost:8080/",
          "height": 35
        },
        "outputId": "b0716669-ff0e-4997-bb8f-083921a97e8c"
      },
      "source": [
        "p.asfreq('M', how='S') # s e 都是start和end的缩写。"
      ],
      "execution_count": null,
      "outputs": [
        {
          "output_type": "execute_result",
          "data": {
            "text/plain": [
              "Period('2007-01', 'M')"
            ]
          },
          "metadata": {
            "tags": []
          },
          "execution_count": 51
        }
      ]
    },
    {
      "cell_type": "code",
      "metadata": {
        "id": "OU9Ga9m_hMR-",
        "colab_type": "code",
        "colab": {
          "base_uri": "https://localhost:8080/",
          "height": 107
        },
        "outputId": "b29553ec-5170-464d-a0dd-19599ddc08d8"
      },
      "source": [
        "# 不仅单个Period可以进行转换。\n",
        "rng = pd.period_range('2006', '2009', freq='A-DEC')\n",
        "ts = pd.Series(np.random.randn(len(rng)), index=rng)\n",
        "ts"
      ],
      "execution_count": null,
      "outputs": [
        {
          "output_type": "execute_result",
          "data": {
            "text/plain": [
              "2006   -0.321211\n",
              "2007    0.289534\n",
              "2008    0.077627\n",
              "2009    1.822571\n",
              "Freq: A-DEC, dtype: float64"
            ]
          },
          "metadata": {
            "tags": []
          },
          "execution_count": 52
        }
      ]
    },
    {
      "cell_type": "code",
      "metadata": {
        "id": "DUHPPYMuij1_",
        "colab_type": "code",
        "colab": {
          "base_uri": "https://localhost:8080/",
          "height": 107
        },
        "outputId": "24138bc7-c67f-4f38-addc-c57c976c5377"
      },
      "source": [
        "# 对series的索引也可以使用 asfreq\n",
        "\n",
        "ts.asfreq('M', how='S')"
      ],
      "execution_count": null,
      "outputs": [
        {
          "output_type": "execute_result",
          "data": {
            "text/plain": [
              "2006-01   -0.321211\n",
              "2007-01    0.289534\n",
              "2008-01    0.077627\n",
              "2009-01    1.822571\n",
              "Freq: M, dtype: float64"
            ]
          },
          "metadata": {
            "tags": []
          },
          "execution_count": 53
        }
      ]
    },
    {
      "cell_type": "markdown",
      "metadata": {
        "id": "KFkvxpp1Av4u",
        "colab_type": "text"
      },
      "source": [
        "### Quarterly Period Frequencies\n",
        "\n",
        "季度周期频率。\n",
        "\n",
        "pandas 支持全部12中 quarterly frequencies.\n",
        "\n",
        "从q-JAN, Q-DEC\n",
        "\n"
      ]
    },
    {
      "cell_type": "code",
      "metadata": {
        "id": "mJRQNnxxi15f",
        "colab_type": "code",
        "colab": {
          "base_uri": "https://localhost:8080/",
          "height": 35
        },
        "outputId": "e374d239-8fba-450d-9430-1512ff1e7b4d"
      },
      "source": [
        "p = pd.Period('2012Q4', freq='Q-JAN')\n",
        "p"
      ],
      "execution_count": null,
      "outputs": [
        {
          "output_type": "execute_result",
          "data": {
            "text/plain": [
              "Period('2012Q4', 'Q-JAN')"
            ]
          },
          "metadata": {
            "tags": []
          },
          "execution_count": 57
        }
      ]
    },
    {
      "cell_type": "code",
      "metadata": {
        "id": "v5cyApDZmr6e",
        "colab_type": "code",
        "colab": {
          "base_uri": "https://localhost:8080/",
          "height": 35
        },
        "outputId": "6bb0094d-4868-482e-a3f6-e524d9179c6b"
      },
      "source": [
        "p.asfreq('D', 'start')\n"
      ],
      "execution_count": null,
      "outputs": [
        {
          "output_type": "execute_result",
          "data": {
            "text/plain": [
              "Period('2011-11-01', 'D')"
            ]
          },
          "metadata": {
            "tags": []
          },
          "execution_count": 58
        }
      ]
    },
    {
      "cell_type": "code",
      "metadata": {
        "id": "n04NEA0um6DN",
        "colab_type": "code",
        "colab": {
          "base_uri": "https://localhost:8080/",
          "height": 35
        },
        "outputId": "deee52f6-0ee5-4d18-afac-de4310e8690c"
      },
      "source": [
        "# 计算结账日前一天的下午四点日期。\n",
        "p4pm = (p.asfreq('B', 'e') -1).asfreq('T','s') + 16*60 # 表示分钟。s表示start \n",
        "p4pm"
      ],
      "execution_count": null,
      "outputs": [
        {
          "output_type": "execute_result",
          "data": {
            "text/plain": [
              "Period('2012-01-30 16:00', 'T')"
            ]
          },
          "metadata": {
            "tags": []
          },
          "execution_count": 59
        }
      ]
    },
    {
      "cell_type": "code",
      "metadata": {
        "id": "Pddo8Z6andLl",
        "colab_type": "code",
        "colab": {
          "base_uri": "https://localhost:8080/",
          "height": 35
        },
        "outputId": "c7749e7e-e622-4480-c2a7-2587f9a88524"
      },
      "source": [
        "# 同样，可以用period_range() 来产生季度列表。\n",
        "rng = pd.period_range('2011Q3','2012Q4', freq='Q-JAN')\n",
        "rng"
      ],
      "execution_count": null,
      "outputs": [
        {
          "output_type": "execute_result",
          "data": {
            "text/plain": [
              "PeriodIndex(['2011Q3', '2011Q4', '2012Q1', '2012Q2', '2012Q3', '2012Q4'], dtype='period[Q-JAN]', freq='Q-JAN')"
            ]
          },
          "metadata": {
            "tags": []
          },
          "execution_count": 60
        }
      ]
    },
    {
      "cell_type": "code",
      "metadata": {
        "id": "jxW7_B9fnyaq",
        "colab_type": "code",
        "colab": {
          "base_uri": "https://localhost:8080/",
          "height": 143
        },
        "outputId": "79d639d7-6131-4ab5-d4da-707afda14404"
      },
      "source": [
        "ts = pd.Series(np.arange(len(rng)), index=rng)\n",
        "ts"
      ],
      "execution_count": null,
      "outputs": [
        {
          "output_type": "execute_result",
          "data": {
            "text/plain": [
              "2011Q3    0\n",
              "2011Q4    1\n",
              "2012Q1    2\n",
              "2012Q2    3\n",
              "2012Q3    4\n",
              "2012Q4    5\n",
              "Freq: Q-JAN, dtype: int64"
            ]
          },
          "metadata": {
            "tags": []
          },
          "execution_count": 62
        }
      ]
    },
    {
      "cell_type": "code",
      "metadata": {
        "id": "VByqxn_Jn9CN",
        "colab_type": "code",
        "colab": {}
      },
      "source": [
        "# 计算每个季度最后一天：\n",
        "\n",
        "new_rng = (rng.asfreq('B','e') -1).asfreq('T','s')+16*60\n",
        "ts.index = new_rng.to_timestamp()"
      ],
      "execution_count": null,
      "outputs": []
    },
    {
      "cell_type": "code",
      "metadata": {
        "id": "wyVcEGk0okMF",
        "colab_type": "code",
        "colab": {
          "base_uri": "https://localhost:8080/",
          "height": 143
        },
        "outputId": "6837a0e3-8804-48b7-bfe1-5660a6fa3690"
      },
      "source": [
        "ts"
      ],
      "execution_count": null,
      "outputs": [
        {
          "output_type": "execute_result",
          "data": {
            "text/plain": [
              "2010-10-28 16:00:00    0\n",
              "2011-01-28 16:00:00    1\n",
              "2011-04-28 16:00:00    2\n",
              "2011-07-28 16:00:00    3\n",
              "2011-10-28 16:00:00    4\n",
              "2012-01-30 16:00:00    5\n",
              "dtype: int64"
            ]
          },
          "metadata": {
            "tags": []
          },
          "execution_count": 64
        }
      ]
    },
    {
      "cell_type": "code",
      "metadata": {
        "id": "38TnS5cSqy_k",
        "colab_type": "code",
        "colab": {}
      },
      "source": [
        ""
      ],
      "execution_count": null,
      "outputs": []
    },
    {
      "cell_type": "markdown",
      "metadata": {
        "id": "ENn1Hi7NAv7t",
        "colab_type": "text"
      },
      "source": [
        "### Converting Timestamps to Periods (and Back)\n",
        "\n",
        "\n",
        "\n",
        "时间戳转换为periods to_period 和 to_timestamp"
      ]
    },
    {
      "cell_type": "code",
      "metadata": {
        "id": "SfKSKwraqztC",
        "colab_type": "code",
        "colab": {
          "base_uri": "https://localhost:8080/",
          "height": 35
        },
        "outputId": "07ec7d42-a791-4c05-aadd-5e41d020eb4c"
      },
      "source": [
        "rng = pd.date_range('2000-01-01', periods=3, freq='M')\n",
        "rng"
      ],
      "execution_count": null,
      "outputs": [
        {
          "output_type": "execute_result",
          "data": {
            "text/plain": [
              "DatetimeIndex(['2000-01-31', '2000-02-29', '2000-03-31'], dtype='datetime64[ns]', freq='M')"
            ]
          },
          "metadata": {
            "tags": []
          },
          "execution_count": 66
        }
      ]
    },
    {
      "cell_type": "code",
      "metadata": {
        "id": "Ag2wj6UCq2xK",
        "colab_type": "code",
        "colab": {
          "base_uri": "https://localhost:8080/",
          "height": 89
        },
        "outputId": "3d4ee69a-21b7-4800-bed0-36e3bfe4a0d9"
      },
      "source": [
        "ts = pd.Series(np.random.randn(3), index=rng)\n",
        "ts\n"
      ],
      "execution_count": null,
      "outputs": [
        {
          "output_type": "execute_result",
          "data": {
            "text/plain": [
              "2000-01-31   -0.220209\n",
              "2000-02-29    0.193986\n",
              "2000-03-31    0.244773\n",
              "Freq: M, dtype: float64"
            ]
          },
          "metadata": {
            "tags": []
          },
          "execution_count": 68
        }
      ]
    },
    {
      "cell_type": "code",
      "metadata": {
        "id": "sgkFmJoUrB2U",
        "colab_type": "code",
        "colab": {
          "base_uri": "https://localhost:8080/",
          "height": 89
        },
        "outputId": "d8ebb0ca-c0f3-4e57-a7b2-d870e0e67c50"
      },
      "source": [
        "pts = ts.to_period()\n",
        "pts"
      ],
      "execution_count": null,
      "outputs": [
        {
          "output_type": "execute_result",
          "data": {
            "text/plain": [
              "2000-01   -0.220209\n",
              "2000-02    0.193986\n",
              "2000-03    0.244773\n",
              "Freq: M, dtype: float64"
            ]
          },
          "metadata": {
            "tags": []
          },
          "execution_count": 70
        }
      ]
    },
    {
      "cell_type": "code",
      "metadata": {
        "id": "4EZeGtprrJ6z",
        "colab_type": "code",
        "colab": {}
      },
      "source": [
        "rng = pd.date_range('1/29/2000', periods=6, freq='D')"
      ],
      "execution_count": null,
      "outputs": []
    },
    {
      "cell_type": "code",
      "metadata": {
        "id": "8YxibvGQrPd0",
        "colab_type": "code",
        "colab": {
          "base_uri": "https://localhost:8080/",
          "height": 143
        },
        "outputId": "e979386f-243e-4d9c-d6eb-9532ddb14295"
      },
      "source": [
        "ts2 = pd.Series(np.random.randn(6), index=rng)\n",
        "\n",
        "ts2"
      ],
      "execution_count": null,
      "outputs": [
        {
          "output_type": "execute_result",
          "data": {
            "text/plain": [
              "2000-01-29    0.068939\n",
              "2000-01-30   -1.151333\n",
              "2000-01-31   -1.133923\n",
              "2000-02-01   -0.442602\n",
              "2000-02-02    0.535830\n",
              "2000-02-03   -0.176583\n",
              "Freq: D, dtype: float64"
            ]
          },
          "metadata": {
            "tags": []
          },
          "execution_count": 73
        }
      ]
    },
    {
      "cell_type": "code",
      "metadata": {
        "id": "HOGRWAiprXGi",
        "colab_type": "code",
        "colab": {
          "base_uri": "https://localhost:8080/",
          "height": 143
        },
        "outputId": "d08c114a-db5f-4cd5-a538-289dc46dd3c3"
      },
      "source": [
        "ts2.to_period('M')"
      ],
      "execution_count": null,
      "outputs": [
        {
          "output_type": "execute_result",
          "data": {
            "text/plain": [
              "2000-01    0.068939\n",
              "2000-01   -1.151333\n",
              "2000-01   -1.133923\n",
              "2000-02   -0.442602\n",
              "2000-02    0.535830\n",
              "2000-02   -0.176583\n",
              "Freq: M, dtype: float64"
            ]
          },
          "metadata": {
            "tags": []
          },
          "execution_count": 74
        }
      ]
    },
    {
      "cell_type": "code",
      "metadata": {
        "id": "NXsMg6KWrb-S",
        "colab_type": "code",
        "colab": {
          "base_uri": "https://localhost:8080/",
          "height": 143
        },
        "outputId": "d75f342e-4b4a-45f9-9a48-347475205e23"
      },
      "source": [
        "ts2.to_period('M').to_timestamp(how='start') #可以转回去。"
      ],
      "execution_count": null,
      "outputs": [
        {
          "output_type": "execute_result",
          "data": {
            "text/plain": [
              "2000-01-01    0.068939\n",
              "2000-01-01   -1.151333\n",
              "2000-01-01   -1.133923\n",
              "2000-02-01   -0.442602\n",
              "2000-02-01    0.535830\n",
              "2000-02-01   -0.176583\n",
              "dtype: float64"
            ]
          },
          "metadata": {
            "tags": []
          },
          "execution_count": 77
        }
      ]
    },
    {
      "cell_type": "markdown",
      "metadata": {
        "id": "8CQiA4YmAv-l",
        "colab_type": "text"
      },
      "source": [
        "### Creating a PeriodIndex from Arrays\n"
      ]
    },
    {
      "cell_type": "code",
      "metadata": {
        "id": "jllRJIOurWgM",
        "colab_type": "code",
        "colab": {
          "base_uri": "https://localhost:8080/",
          "height": 439
        },
        "outputId": "2a0567da-ac92-41c6-fc51-6fe6259eb9ec"
      },
      "source": [
        "# 时间间隔信息存储在不同的列中。\n",
        "data = pd.read_csv('/content/drive/My Drive/examples/macrodata.csv')\n",
        "data\n"
      ],
      "execution_count": null,
      "outputs": [
        {
          "output_type": "execute_result",
          "data": {
            "text/html": [
              "<div>\n",
              "<style scoped>\n",
              "    .dataframe tbody tr th:only-of-type {\n",
              "        vertical-align: middle;\n",
              "    }\n",
              "\n",
              "    .dataframe tbody tr th {\n",
              "        vertical-align: top;\n",
              "    }\n",
              "\n",
              "    .dataframe thead th {\n",
              "        text-align: right;\n",
              "    }\n",
              "</style>\n",
              "<table border=\"1\" class=\"dataframe\">\n",
              "  <thead>\n",
              "    <tr style=\"text-align: right;\">\n",
              "      <th></th>\n",
              "      <th>year</th>\n",
              "      <th>quarter</th>\n",
              "      <th>realgdp</th>\n",
              "      <th>realcons</th>\n",
              "      <th>realinv</th>\n",
              "      <th>realgovt</th>\n",
              "      <th>realdpi</th>\n",
              "      <th>cpi</th>\n",
              "      <th>m1</th>\n",
              "      <th>tbilrate</th>\n",
              "      <th>unemp</th>\n",
              "      <th>pop</th>\n",
              "      <th>infl</th>\n",
              "      <th>realint</th>\n",
              "    </tr>\n",
              "  </thead>\n",
              "  <tbody>\n",
              "    <tr>\n",
              "      <th>0</th>\n",
              "      <td>1959.0</td>\n",
              "      <td>1.0</td>\n",
              "      <td>2710.349</td>\n",
              "      <td>1707.4</td>\n",
              "      <td>286.898</td>\n",
              "      <td>470.045</td>\n",
              "      <td>1886.9</td>\n",
              "      <td>28.980</td>\n",
              "      <td>139.7</td>\n",
              "      <td>2.82</td>\n",
              "      <td>5.8</td>\n",
              "      <td>177.146</td>\n",
              "      <td>0.00</td>\n",
              "      <td>0.00</td>\n",
              "    </tr>\n",
              "    <tr>\n",
              "      <th>1</th>\n",
              "      <td>1959.0</td>\n",
              "      <td>2.0</td>\n",
              "      <td>2778.801</td>\n",
              "      <td>1733.7</td>\n",
              "      <td>310.859</td>\n",
              "      <td>481.301</td>\n",
              "      <td>1919.7</td>\n",
              "      <td>29.150</td>\n",
              "      <td>141.7</td>\n",
              "      <td>3.08</td>\n",
              "      <td>5.1</td>\n",
              "      <td>177.830</td>\n",
              "      <td>2.34</td>\n",
              "      <td>0.74</td>\n",
              "    </tr>\n",
              "    <tr>\n",
              "      <th>2</th>\n",
              "      <td>1959.0</td>\n",
              "      <td>3.0</td>\n",
              "      <td>2775.488</td>\n",
              "      <td>1751.8</td>\n",
              "      <td>289.226</td>\n",
              "      <td>491.260</td>\n",
              "      <td>1916.4</td>\n",
              "      <td>29.350</td>\n",
              "      <td>140.5</td>\n",
              "      <td>3.82</td>\n",
              "      <td>5.3</td>\n",
              "      <td>178.657</td>\n",
              "      <td>2.74</td>\n",
              "      <td>1.09</td>\n",
              "    </tr>\n",
              "    <tr>\n",
              "      <th>3</th>\n",
              "      <td>1959.0</td>\n",
              "      <td>4.0</td>\n",
              "      <td>2785.204</td>\n",
              "      <td>1753.7</td>\n",
              "      <td>299.356</td>\n",
              "      <td>484.052</td>\n",
              "      <td>1931.3</td>\n",
              "      <td>29.370</td>\n",
              "      <td>140.0</td>\n",
              "      <td>4.33</td>\n",
              "      <td>5.6</td>\n",
              "      <td>179.386</td>\n",
              "      <td>0.27</td>\n",
              "      <td>4.06</td>\n",
              "    </tr>\n",
              "    <tr>\n",
              "      <th>4</th>\n",
              "      <td>1960.0</td>\n",
              "      <td>1.0</td>\n",
              "      <td>2847.699</td>\n",
              "      <td>1770.5</td>\n",
              "      <td>331.722</td>\n",
              "      <td>462.199</td>\n",
              "      <td>1955.5</td>\n",
              "      <td>29.540</td>\n",
              "      <td>139.6</td>\n",
              "      <td>3.50</td>\n",
              "      <td>5.2</td>\n",
              "      <td>180.007</td>\n",
              "      <td>2.31</td>\n",
              "      <td>1.19</td>\n",
              "    </tr>\n",
              "    <tr>\n",
              "      <th>...</th>\n",
              "      <td>...</td>\n",
              "      <td>...</td>\n",
              "      <td>...</td>\n",
              "      <td>...</td>\n",
              "      <td>...</td>\n",
              "      <td>...</td>\n",
              "      <td>...</td>\n",
              "      <td>...</td>\n",
              "      <td>...</td>\n",
              "      <td>...</td>\n",
              "      <td>...</td>\n",
              "      <td>...</td>\n",
              "      <td>...</td>\n",
              "      <td>...</td>\n",
              "    </tr>\n",
              "    <tr>\n",
              "      <th>198</th>\n",
              "      <td>2008.0</td>\n",
              "      <td>3.0</td>\n",
              "      <td>13324.600</td>\n",
              "      <td>9267.7</td>\n",
              "      <td>1990.693</td>\n",
              "      <td>991.551</td>\n",
              "      <td>9838.3</td>\n",
              "      <td>216.889</td>\n",
              "      <td>1474.7</td>\n",
              "      <td>1.17</td>\n",
              "      <td>6.0</td>\n",
              "      <td>305.270</td>\n",
              "      <td>-3.16</td>\n",
              "      <td>4.33</td>\n",
              "    </tr>\n",
              "    <tr>\n",
              "      <th>199</th>\n",
              "      <td>2008.0</td>\n",
              "      <td>4.0</td>\n",
              "      <td>13141.920</td>\n",
              "      <td>9195.3</td>\n",
              "      <td>1857.661</td>\n",
              "      <td>1007.273</td>\n",
              "      <td>9920.4</td>\n",
              "      <td>212.174</td>\n",
              "      <td>1576.5</td>\n",
              "      <td>0.12</td>\n",
              "      <td>6.9</td>\n",
              "      <td>305.952</td>\n",
              "      <td>-8.79</td>\n",
              "      <td>8.91</td>\n",
              "    </tr>\n",
              "    <tr>\n",
              "      <th>200</th>\n",
              "      <td>2009.0</td>\n",
              "      <td>1.0</td>\n",
              "      <td>12925.410</td>\n",
              "      <td>9209.2</td>\n",
              "      <td>1558.494</td>\n",
              "      <td>996.287</td>\n",
              "      <td>9926.4</td>\n",
              "      <td>212.671</td>\n",
              "      <td>1592.8</td>\n",
              "      <td>0.22</td>\n",
              "      <td>8.1</td>\n",
              "      <td>306.547</td>\n",
              "      <td>0.94</td>\n",
              "      <td>-0.71</td>\n",
              "    </tr>\n",
              "    <tr>\n",
              "      <th>201</th>\n",
              "      <td>2009.0</td>\n",
              "      <td>2.0</td>\n",
              "      <td>12901.504</td>\n",
              "      <td>9189.0</td>\n",
              "      <td>1456.678</td>\n",
              "      <td>1023.528</td>\n",
              "      <td>10077.5</td>\n",
              "      <td>214.469</td>\n",
              "      <td>1653.6</td>\n",
              "      <td>0.18</td>\n",
              "      <td>9.2</td>\n",
              "      <td>307.226</td>\n",
              "      <td>3.37</td>\n",
              "      <td>-3.19</td>\n",
              "    </tr>\n",
              "    <tr>\n",
              "      <th>202</th>\n",
              "      <td>2009.0</td>\n",
              "      <td>3.0</td>\n",
              "      <td>12990.341</td>\n",
              "      <td>9256.0</td>\n",
              "      <td>1486.398</td>\n",
              "      <td>1044.088</td>\n",
              "      <td>10040.6</td>\n",
              "      <td>216.385</td>\n",
              "      <td>1673.9</td>\n",
              "      <td>0.12</td>\n",
              "      <td>9.6</td>\n",
              "      <td>308.013</td>\n",
              "      <td>3.56</td>\n",
              "      <td>-3.44</td>\n",
              "    </tr>\n",
              "  </tbody>\n",
              "</table>\n",
              "<p>203 rows × 14 columns</p>\n",
              "</div>"
            ],
            "text/plain": [
              "       year  quarter    realgdp  realcons  ...  unemp      pop  infl  realint\n",
              "0    1959.0      1.0   2710.349    1707.4  ...    5.8  177.146  0.00     0.00\n",
              "1    1959.0      2.0   2778.801    1733.7  ...    5.1  177.830  2.34     0.74\n",
              "2    1959.0      3.0   2775.488    1751.8  ...    5.3  178.657  2.74     1.09\n",
              "3    1959.0      4.0   2785.204    1753.7  ...    5.6  179.386  0.27     4.06\n",
              "4    1960.0      1.0   2847.699    1770.5  ...    5.2  180.007  2.31     1.19\n",
              "..      ...      ...        ...       ...  ...    ...      ...   ...      ...\n",
              "198  2008.0      3.0  13324.600    9267.7  ...    6.0  305.270 -3.16     4.33\n",
              "199  2008.0      4.0  13141.920    9195.3  ...    6.9  305.952 -8.79     8.91\n",
              "200  2009.0      1.0  12925.410    9209.2  ...    8.1  306.547  0.94    -0.71\n",
              "201  2009.0      2.0  12901.504    9189.0  ...    9.2  307.226  3.37    -3.19\n",
              "202  2009.0      3.0  12990.341    9256.0  ...    9.6  308.013  3.56    -3.44\n",
              "\n",
              "[203 rows x 14 columns]"
            ]
          },
          "metadata": {
            "tags": []
          },
          "execution_count": 90
        }
      ]
    },
    {
      "cell_type": "code",
      "metadata": {
        "id": "sIGjUji7uAxz",
        "colab_type": "code",
        "colab": {
          "base_uri": "https://localhost:8080/",
          "height": 233
        },
        "outputId": "3f1a29a9-b87c-499f-ddef-0f73cfa11db8"
      },
      "source": [
        "# 可以看出，年份和季度在不同的列。\n",
        "\n",
        "data.year"
      ],
      "execution_count": null,
      "outputs": [
        {
          "output_type": "execute_result",
          "data": {
            "text/plain": [
              "0      1959.0\n",
              "1      1959.0\n",
              "2      1959.0\n",
              "3      1959.0\n",
              "4      1960.0\n",
              "        ...  \n",
              "198    2008.0\n",
              "199    2008.0\n",
              "200    2009.0\n",
              "201    2009.0\n",
              "202    2009.0\n",
              "Name: year, Length: 203, dtype: float64"
            ]
          },
          "metadata": {
            "tags": []
          },
          "execution_count": 91
        }
      ]
    },
    {
      "cell_type": "code",
      "metadata": {
        "id": "wVIQENQnuLGM",
        "colab_type": "code",
        "colab": {
          "base_uri": "https://localhost:8080/",
          "height": 233
        },
        "outputId": "20eba11c-8b26-4958-820e-bda92655d694"
      },
      "source": [
        "data.quarter"
      ],
      "execution_count": null,
      "outputs": [
        {
          "output_type": "execute_result",
          "data": {
            "text/plain": [
              "0      1.0\n",
              "1      2.0\n",
              "2      3.0\n",
              "3      4.0\n",
              "4      1.0\n",
              "      ... \n",
              "198    3.0\n",
              "199    4.0\n",
              "200    1.0\n",
              "201    2.0\n",
              "202    3.0\n",
              "Name: quarter, Length: 203, dtype: float64"
            ]
          },
          "metadata": {
            "tags": []
          },
          "execution_count": 92
        }
      ]
    },
    {
      "cell_type": "code",
      "metadata": {
        "id": "NIxLizOiuNIK",
        "colab_type": "code",
        "colab": {
          "base_uri": "https://localhost:8080/",
          "height": 125
        },
        "outputId": "24c29010-af7e-4db3-ff7d-7a53646d5706"
      },
      "source": [
        "# By passing these arrays to  PeriodIndex with a frequency, you can combine them to\n",
        "# form an index for the DataFrame\n",
        "\n",
        "# PeriodIndex\n",
        "\n",
        "index = pd.PeriodIndex(year=data.year, quarter=data.quarter, freq='Q-DEC')\n",
        "index # 用这种方法将他们组合起来。"
      ],
      "execution_count": null,
      "outputs": [
        {
          "output_type": "execute_result",
          "data": {
            "text/plain": [
              "PeriodIndex(['1959Q1', '1959Q2', '1959Q3', '1959Q4', '1960Q1', '1960Q2',\n",
              "             '1960Q3', '1960Q4', '1961Q1', '1961Q2',\n",
              "             ...\n",
              "             '2007Q2', '2007Q3', '2007Q4', '2008Q1', '2008Q2', '2008Q3',\n",
              "             '2008Q4', '2009Q1', '2009Q2', '2009Q3'],\n",
              "            dtype='period[Q-DEC]', length=203, freq='Q-DEC')"
            ]
          },
          "metadata": {
            "tags": []
          },
          "execution_count": 93
        }
      ]
    },
    {
      "cell_type": "code",
      "metadata": {
        "id": "opgkM5iquzSL",
        "colab_type": "code",
        "colab": {}
      },
      "source": [
        "pd.PeriodIndex?\n",
        "Init signature: pd.PeriodIndex(*args, **kwargs)\n",
        "Docstring:     \n",
        "Immutable ndarray holding ordinal values indicating regular periods in time.\n",
        "\n",
        "Index keys are boxed to Period objects which carries the metadata (eg,\n",
        "frequency information).\n",
        "\n",
        "Parameters\n",
        "----------\n",
        "data : array-like (1d int np.ndarray or PeriodArray), optional\n",
        "    Optional period-like data to construct index with.\n",
        "copy : bool\n",
        "    Make a copy of input ndarray.\n",
        "freq : str or period object, optional\n",
        "    One of pandas period strings or corresponding objects\n",
        "year : int, array, or Series, default None\n",
        "month : int, array, or Series, default None\n",
        "quarter : int, array, or Series, default None\n",
        "day : int, array, or Series, default None\n",
        "hour : int, array, or Series, default None\n",
        "minute : int, array, or Series, default None\n",
        "second : int, array, or Series, default None\n",
        "tz : object, default None\n",
        "    Timezone for converting datetime64 data to Periods.\n",
        "dtype : str or PeriodDtype, default None\n",
        "\n",
        "Attributes\n",
        "----------\n",
        "day\n",
        "dayofweek\n",
        "dayofyear\n",
        "days_in_month\n",
        "daysinmonth\n",
        "end_time\n",
        "freq\n",
        "freqstr\n",
        "hour\n",
        "is_leap_year\n",
        "minute\n",
        "month\n",
        "quarter\n",
        "qyear\n",
        "second\n",
        "start_time\n",
        "week\n",
        "weekday\n",
        "weekofyear\n",
        "year\n",
        "\n",
        "Methods\n",
        "-------\n",
        "asfreq\n",
        "strftime\n",
        "to_timestamp\n",
        "\n",
        "See Also\n",
        "--------\n",
        "Index : The base pandas Index type.\n",
        "Period : Represents a period of time.\n",
        "DatetimeIndex : Index with datetime64 data.\n",
        "TimedeltaIndex : Index of timedelta64 data.\n",
        "period_range : Create a fixed-frequency PeriodIndex.\n",
        "\n",
        "Examples\n",
        "--------\n",
        ">>> idx = pd.PeriodIndex(year=year_arr, quarter=q_arr)\n",
        "File:           /usr/local/lib/python3.6/dist-packages/pandas/core/indexes/period.py\n",
        "Type:           type"
      ],
      "execution_count": null,
      "outputs": []
    },
    {
      "cell_type": "code",
      "metadata": {
        "id": "rzqoeYdtvk7b",
        "colab_type": "code",
        "colab": {
          "base_uri": "https://localhost:8080/",
          "height": 439
        },
        "outputId": "79bf120c-9d46-41f2-aa59-feb3c8075217"
      },
      "source": [
        "data.index = index\n",
        "data"
      ],
      "execution_count": null,
      "outputs": [
        {
          "output_type": "execute_result",
          "data": {
            "text/html": [
              "<div>\n",
              "<style scoped>\n",
              "    .dataframe tbody tr th:only-of-type {\n",
              "        vertical-align: middle;\n",
              "    }\n",
              "\n",
              "    .dataframe tbody tr th {\n",
              "        vertical-align: top;\n",
              "    }\n",
              "\n",
              "    .dataframe thead th {\n",
              "        text-align: right;\n",
              "    }\n",
              "</style>\n",
              "<table border=\"1\" class=\"dataframe\">\n",
              "  <thead>\n",
              "    <tr style=\"text-align: right;\">\n",
              "      <th></th>\n",
              "      <th>year</th>\n",
              "      <th>quarter</th>\n",
              "      <th>realgdp</th>\n",
              "      <th>realcons</th>\n",
              "      <th>realinv</th>\n",
              "      <th>realgovt</th>\n",
              "      <th>realdpi</th>\n",
              "      <th>cpi</th>\n",
              "      <th>m1</th>\n",
              "      <th>tbilrate</th>\n",
              "      <th>unemp</th>\n",
              "      <th>pop</th>\n",
              "      <th>infl</th>\n",
              "      <th>realint</th>\n",
              "    </tr>\n",
              "  </thead>\n",
              "  <tbody>\n",
              "    <tr>\n",
              "      <th>1959Q1</th>\n",
              "      <td>1959.0</td>\n",
              "      <td>1.0</td>\n",
              "      <td>2710.349</td>\n",
              "      <td>1707.4</td>\n",
              "      <td>286.898</td>\n",
              "      <td>470.045</td>\n",
              "      <td>1886.9</td>\n",
              "      <td>28.980</td>\n",
              "      <td>139.7</td>\n",
              "      <td>2.82</td>\n",
              "      <td>5.8</td>\n",
              "      <td>177.146</td>\n",
              "      <td>0.00</td>\n",
              "      <td>0.00</td>\n",
              "    </tr>\n",
              "    <tr>\n",
              "      <th>1959Q2</th>\n",
              "      <td>1959.0</td>\n",
              "      <td>2.0</td>\n",
              "      <td>2778.801</td>\n",
              "      <td>1733.7</td>\n",
              "      <td>310.859</td>\n",
              "      <td>481.301</td>\n",
              "      <td>1919.7</td>\n",
              "      <td>29.150</td>\n",
              "      <td>141.7</td>\n",
              "      <td>3.08</td>\n",
              "      <td>5.1</td>\n",
              "      <td>177.830</td>\n",
              "      <td>2.34</td>\n",
              "      <td>0.74</td>\n",
              "    </tr>\n",
              "    <tr>\n",
              "      <th>1959Q3</th>\n",
              "      <td>1959.0</td>\n",
              "      <td>3.0</td>\n",
              "      <td>2775.488</td>\n",
              "      <td>1751.8</td>\n",
              "      <td>289.226</td>\n",
              "      <td>491.260</td>\n",
              "      <td>1916.4</td>\n",
              "      <td>29.350</td>\n",
              "      <td>140.5</td>\n",
              "      <td>3.82</td>\n",
              "      <td>5.3</td>\n",
              "      <td>178.657</td>\n",
              "      <td>2.74</td>\n",
              "      <td>1.09</td>\n",
              "    </tr>\n",
              "    <tr>\n",
              "      <th>1959Q4</th>\n",
              "      <td>1959.0</td>\n",
              "      <td>4.0</td>\n",
              "      <td>2785.204</td>\n",
              "      <td>1753.7</td>\n",
              "      <td>299.356</td>\n",
              "      <td>484.052</td>\n",
              "      <td>1931.3</td>\n",
              "      <td>29.370</td>\n",
              "      <td>140.0</td>\n",
              "      <td>4.33</td>\n",
              "      <td>5.6</td>\n",
              "      <td>179.386</td>\n",
              "      <td>0.27</td>\n",
              "      <td>4.06</td>\n",
              "    </tr>\n",
              "    <tr>\n",
              "      <th>1960Q1</th>\n",
              "      <td>1960.0</td>\n",
              "      <td>1.0</td>\n",
              "      <td>2847.699</td>\n",
              "      <td>1770.5</td>\n",
              "      <td>331.722</td>\n",
              "      <td>462.199</td>\n",
              "      <td>1955.5</td>\n",
              "      <td>29.540</td>\n",
              "      <td>139.6</td>\n",
              "      <td>3.50</td>\n",
              "      <td>5.2</td>\n",
              "      <td>180.007</td>\n",
              "      <td>2.31</td>\n",
              "      <td>1.19</td>\n",
              "    </tr>\n",
              "    <tr>\n",
              "      <th>...</th>\n",
              "      <td>...</td>\n",
              "      <td>...</td>\n",
              "      <td>...</td>\n",
              "      <td>...</td>\n",
              "      <td>...</td>\n",
              "      <td>...</td>\n",
              "      <td>...</td>\n",
              "      <td>...</td>\n",
              "      <td>...</td>\n",
              "      <td>...</td>\n",
              "      <td>...</td>\n",
              "      <td>...</td>\n",
              "      <td>...</td>\n",
              "      <td>...</td>\n",
              "    </tr>\n",
              "    <tr>\n",
              "      <th>2008Q3</th>\n",
              "      <td>2008.0</td>\n",
              "      <td>3.0</td>\n",
              "      <td>13324.600</td>\n",
              "      <td>9267.7</td>\n",
              "      <td>1990.693</td>\n",
              "      <td>991.551</td>\n",
              "      <td>9838.3</td>\n",
              "      <td>216.889</td>\n",
              "      <td>1474.7</td>\n",
              "      <td>1.17</td>\n",
              "      <td>6.0</td>\n",
              "      <td>305.270</td>\n",
              "      <td>-3.16</td>\n",
              "      <td>4.33</td>\n",
              "    </tr>\n",
              "    <tr>\n",
              "      <th>2008Q4</th>\n",
              "      <td>2008.0</td>\n",
              "      <td>4.0</td>\n",
              "      <td>13141.920</td>\n",
              "      <td>9195.3</td>\n",
              "      <td>1857.661</td>\n",
              "      <td>1007.273</td>\n",
              "      <td>9920.4</td>\n",
              "      <td>212.174</td>\n",
              "      <td>1576.5</td>\n",
              "      <td>0.12</td>\n",
              "      <td>6.9</td>\n",
              "      <td>305.952</td>\n",
              "      <td>-8.79</td>\n",
              "      <td>8.91</td>\n",
              "    </tr>\n",
              "    <tr>\n",
              "      <th>2009Q1</th>\n",
              "      <td>2009.0</td>\n",
              "      <td>1.0</td>\n",
              "      <td>12925.410</td>\n",
              "      <td>9209.2</td>\n",
              "      <td>1558.494</td>\n",
              "      <td>996.287</td>\n",
              "      <td>9926.4</td>\n",
              "      <td>212.671</td>\n",
              "      <td>1592.8</td>\n",
              "      <td>0.22</td>\n",
              "      <td>8.1</td>\n",
              "      <td>306.547</td>\n",
              "      <td>0.94</td>\n",
              "      <td>-0.71</td>\n",
              "    </tr>\n",
              "    <tr>\n",
              "      <th>2009Q2</th>\n",
              "      <td>2009.0</td>\n",
              "      <td>2.0</td>\n",
              "      <td>12901.504</td>\n",
              "      <td>9189.0</td>\n",
              "      <td>1456.678</td>\n",
              "      <td>1023.528</td>\n",
              "      <td>10077.5</td>\n",
              "      <td>214.469</td>\n",
              "      <td>1653.6</td>\n",
              "      <td>0.18</td>\n",
              "      <td>9.2</td>\n",
              "      <td>307.226</td>\n",
              "      <td>3.37</td>\n",
              "      <td>-3.19</td>\n",
              "    </tr>\n",
              "    <tr>\n",
              "      <th>2009Q3</th>\n",
              "      <td>2009.0</td>\n",
              "      <td>3.0</td>\n",
              "      <td>12990.341</td>\n",
              "      <td>9256.0</td>\n",
              "      <td>1486.398</td>\n",
              "      <td>1044.088</td>\n",
              "      <td>10040.6</td>\n",
              "      <td>216.385</td>\n",
              "      <td>1673.9</td>\n",
              "      <td>0.12</td>\n",
              "      <td>9.6</td>\n",
              "      <td>308.013</td>\n",
              "      <td>3.56</td>\n",
              "      <td>-3.44</td>\n",
              "    </tr>\n",
              "  </tbody>\n",
              "</table>\n",
              "<p>203 rows × 14 columns</p>\n",
              "</div>"
            ],
            "text/plain": [
              "          year  quarter    realgdp  realcons  ...  unemp      pop  infl  realint\n",
              "1959Q1  1959.0      1.0   2710.349    1707.4  ...    5.8  177.146  0.00     0.00\n",
              "1959Q2  1959.0      2.0   2778.801    1733.7  ...    5.1  177.830  2.34     0.74\n",
              "1959Q3  1959.0      3.0   2775.488    1751.8  ...    5.3  178.657  2.74     1.09\n",
              "1959Q4  1959.0      4.0   2785.204    1753.7  ...    5.6  179.386  0.27     4.06\n",
              "1960Q1  1960.0      1.0   2847.699    1770.5  ...    5.2  180.007  2.31     1.19\n",
              "...        ...      ...        ...       ...  ...    ...      ...   ...      ...\n",
              "2008Q3  2008.0      3.0  13324.600    9267.7  ...    6.0  305.270 -3.16     4.33\n",
              "2008Q4  2008.0      4.0  13141.920    9195.3  ...    6.9  305.952 -8.79     8.91\n",
              "2009Q1  2009.0      1.0  12925.410    9209.2  ...    8.1  306.547  0.94    -0.71\n",
              "2009Q2  2009.0      2.0  12901.504    9189.0  ...    9.2  307.226  3.37    -3.19\n",
              "2009Q3  2009.0      3.0  12990.341    9256.0  ...    9.6  308.013  3.56    -3.44\n",
              "\n",
              "[203 rows x 14 columns]"
            ]
          },
          "metadata": {
            "tags": []
          },
          "execution_count": 95
        }
      ]
    },
    {
      "cell_type": "code",
      "metadata": {
        "id": "sE4-4GsDvsvA",
        "colab_type": "code",
        "colab": {
          "base_uri": "https://localhost:8080/",
          "height": 233
        },
        "outputId": "68d2b591-bf6a-45df-c592-1e06c449b9e7"
      },
      "source": [
        "data.infl"
      ],
      "execution_count": null,
      "outputs": [
        {
          "output_type": "execute_result",
          "data": {
            "text/plain": [
              "1959Q1    0.00\n",
              "1959Q2    2.34\n",
              "1959Q3    2.74\n",
              "1959Q4    0.27\n",
              "1960Q1    2.31\n",
              "          ... \n",
              "2008Q3   -3.16\n",
              "2008Q4   -8.79\n",
              "2009Q1    0.94\n",
              "2009Q2    3.37\n",
              "2009Q3    3.56\n",
              "Freq: Q-DEC, Name: infl, Length: 203, dtype: float64"
            ]
          },
          "metadata": {
            "tags": []
          },
          "execution_count": 96
        }
      ]
    },
    {
      "cell_type": "markdown",
      "metadata": {
        "id": "gWqfT9tKAwBn",
        "colab_type": "text"
      },
      "source": [
        "## 11.6 Resampling and Frequency Conversion\n",
        "\n",
        "从高维到低维： 下采样。反之，上采样，但是resampling 却不仅仅如此，比如从 W-WED（weekly on Wednesday）到（W-RRI) 既不是下采样，也不是上采样。"
      ]
    },
    {
      "cell_type": "markdown",
      "metadata": {
        "id": "rV16e0NwprnP",
        "colab_type": "text"
      },
      "source": [
        "## 2020.8.24"
      ]
    },
    {
      "cell_type": "code",
      "metadata": {
        "id": "IxJQZI2NKHGM",
        "colab_type": "code",
        "colab": {}
      },
      "source": [
        "# 一般来说，resample 有和group 类似的api，可以先用resample进行分组然后用group\n",
        "import numpy as np\n",
        "\n",
        "rng = pd.date_range('2000-01-01', periods=100, freq='D')\n",
        "ts = pd.Series(np.random.randn(len(rng)), index=rng)"
      ],
      "execution_count": 6,
      "outputs": []
    },
    {
      "cell_type": "code",
      "metadata": {
        "id": "csEvpU00KoDl",
        "colab_type": "code",
        "colab": {}
      },
      "source": [
        "ts.resample?\n",
        "Signature: ts.resample(rule, axis=0, closed: Union[str, NoneType]=None, label: Union[str, NoneType]=None, \n",
        "                       convention: str='start', kind: Union[str, NoneType]=None, \n",
        "                       loffset=None, base: int=0, on=None, level=None)\n",
        "Docstring:\n",
        "Resample time-series data.\n",
        "\n",
        "Convenience method for frequency conversion and resampling of time\n",
        "series. Object must have a datetime-like index (`DatetimeIndex`,\n",
        "`PeriodIndex`, or `TimedeltaIndex`), or pass datetime-like values\n",
        "to the `on` or `level` keyword.\n",
        "\n",
        "Parameters\n",
        "----------\n",
        "rule : DateOffset, Timedelta or str\n",
        "    The offset string or object representing target conversion.\n",
        "     \n",
        "axis : {0 or 'index', 1 or 'columns'}, default 0\n",
        "    Which axis to use for up- or down-sampling. For `Series` this\n",
        "    will default to 0, i.e. along the rows. Must be\n",
        "    `DatetimeIndex`, `TimedeltaIndex` or `PeriodIndex`.\n",
        "\n",
        "    轴\n",
        "closed : {'right', 'left'}, default None\n",
        "    Which side of bin interval is closed. The default is 'left'\n",
        "    for all frequency offsets except for 'M', 'A', 'Q', 'BM',\n",
        "    'BA', 'BQ', and 'W' which all have a default of 'right'.\n",
        "\n",
        "    确定统计的收哪边开，那边闭\n",
        "label : {'right', 'left'}, default None\n",
        "    Which bin edge label to label bucket with. The default is 'left'\n",
        "    for all frequency offsets except for 'M', 'A', 'Q', 'BM',\n",
        "    'BA', 'BQ', and 'W' which all have a default of 'right'.\n",
        "    确定转换后标签是用左边的还是用右边的。\n",
        "convention : {'start', 'end', 's', 'e'}, default 'start'\n",
        "    For `PeriodIndex` only, controls whether to use the start or\n",
        "    end of `rule`.\n",
        "    作为开始还是作为结束。（在反向转换的时候。）\n",
        "kind : {'timestamp', 'period'}, optional, default None\n",
        "    Pass 'timestamp' to convert the resulting index to a\n",
        "    `DateTimeIndex` or 'period' to convert it to a `PeriodIndex`.\n",
        "    By default the input representation is retained.\n",
        "loffset : timedelta, default None\n",
        "    Adjust the resampled time labels.\n",
        "base : int, default 0\n",
        "    For frequencies that evenly subdivide 1 day, the \"origin\" of the\n",
        "    aggregated intervals. For example, for '5min' frequency, base could\n",
        "    range from 0 through 4. Defaults to 0.\n",
        "on : str, optional\n",
        "    For a DataFrame, column to use instead of index for resampling.\n",
        "    Column must be datetime-like.\n",
        "\n",
        "level : str or int, optional\n",
        "    For a MultiIndex, level (name or number) to use for\n",
        "    resampling. `level` must be datetime-like.\n",
        "\n",
        "Returns\n",
        "-------\n",
        "Resampler object\n",
        "\n",
        "See Also\n",
        "--------\n",
        "groupby : Group by mapping, function, label, or list of labels.\n",
        "Series.resample : Resample a Series.\n",
        "DataFrame.resample: Resample a DataFrame.\n",
        "\n",
        "Notes\n",
        "-----\n",
        "See the `user guide\n",
        "<https://pandas.pydata.org/pandas-docs/stable/user_guide/timeseries.html#resampling>`_\n",
        "for more.\n",
        "\n",
        "To learn more about the offset strings, please see `this link\n",
        "<https://pandas.pydata.org/pandas-docs/stable/user_guide/timeseries.html#dateoffset-objects>`__.\n",
        "\n",
        "Examples\n",
        "--------\n",
        "\n",
        "Start by creating a series with 9 one minute timestamps.\n",
        "\n",
        ">>> index = pd.date_range('1/1/2000', periods=9, freq='T')\n",
        ">>> series = pd.Series(range(9), index=index)\n",
        ">>> series\n",
        "2000-01-01 00:00:00    0\n",
        "2000-01-01 00:01:00    1\n",
        "2000-01-01 00:02:00    2\n",
        "2000-01-01 00:03:00    3\n",
        "2000-01-01 00:04:00    4\n",
        "2000-01-01 00:05:00    5\n",
        "2000-01-01 00:06:00    6\n",
        "2000-01-01 00:07:00    7\n",
        "2000-01-01 00:08:00    8\n",
        "Freq: T, dtype: int64\n",
        "\n",
        "Downsample the series into 3 minute bins and sum the values\n",
        "of the timestamps falling into a bin.\n",
        "\n",
        ">>> series.resample('3T').sum()\n",
        "2000-01-01 00:00:00     3\n",
        "2000-01-01 00:03:00    12\n",
        "2000-01-01 00:06:00    21\n",
        "Freq: 3T, dtype: int64\n",
        "\n",
        "Downsample the series into 3 minute bins as above, but label each\n",
        "bin using the right edge instead of the left. Please note that the\n",
        "value in the bucket used as the label is not included in the bucket,\n",
        "which it labels. For example, in the original series the\n",
        "bucket ``2000-01-01 00:03:00`` contains the value 3, but the summed\n",
        "value in the resampled bucket with the label ``2000-01-01 00:03:00``\n",
        "does not include 3 (if it did, the summed value would be 6, not 3).\n",
        "To include this value close the right side of the bin interval as\n",
        "illustrated in the example below this one.\n",
        "\n",
        ">>> series.resample('3T', label='right').sum()\n",
        "2000-01-01 00:03:00     3\n",
        "2000-01-01 00:06:00    12\n",
        "2000-01-01 00:09:00    21\n",
        "Freq: 3T, dtype: int64\n",
        "\n",
        "Downsample the series into 3 minute bins as above, but close the right\n",
        "side of the bin interval.\n",
        "\n",
        ">>> series.resample('3T', label='right', closed='right').sum()\n",
        "2000-01-01 00:00:00     0\n",
        "2000-01-01 00:03:00     6\n",
        "2000-01-01 00:06:00    15\n",
        "2000-01-01 00:09:00    15\n",
        "Freq: 3T, dtype: int64\n",
        "\n",
        "Upsample the series into 30 second bins.\n",
        "\n",
        ">>> series.resample('30S').asfreq()[0:5]   # Select first 5 rows\n",
        "2000-01-01 00:00:00   0.0\n",
        "2000-01-01 00:00:30   NaN\n",
        "2000-01-01 00:01:00   1.0\n",
        "2000-01-01 00:01:30   NaN\n",
        "2000-01-01 00:02:00   2.0\n",
        "Freq: 30S, dtype: float64\n",
        "\n",
        "Upsample the series into 30 second bins and fill the ``NaN``\n",
        "values using the ``pad`` method.\n",
        "\n",
        ">>> series.resample('30S').pad()[0:5]\n",
        "2000-01-01 00:00:00    0\n",
        "2000-01-01 00:00:30    0\n",
        "2000-01-01 00:01:00    1\n",
        "2000-01-01 00:01:30    1\n",
        "2000-01-01 00:02:00    2\n",
        "Freq: 30S, dtype: int64\n",
        "\n",
        "Upsample the series into 30 second bins and fill the\n",
        "``NaN`` values using the ``bfill`` method.\n",
        "\n",
        ">>> series.resample('30S').bfill()[0:5]\n",
        "2000-01-01 00:00:00    0\n",
        "2000-01-01 00:00:30    1\n",
        "2000-01-01 00:01:00    1\n",
        "2000-01-01 00:01:30    2\n",
        "2000-01-01 00:02:00    2\n",
        "Freq: 30S, dtype: int64\n",
        "\n",
        "Pass a custom function via ``apply``\n",
        "\n",
        ">>> def custom_resampler(array_like):\n",
        "...     return np.sum(array_like) + 5\n",
        "...\n",
        ">>> series.resample('3T').apply(custom_resampler)\n",
        "2000-01-01 00:00:00     8\n",
        "2000-01-01 00:03:00    17\n",
        "2000-01-01 00:06:00    26\n",
        "Freq: 3T, dtype: int64\n",
        "\n",
        "For a Series with a PeriodIndex, the keyword `convention` can be\n",
        "used to control whether to use the start or end of `rule`.\n",
        "\n",
        "Resample a year by quarter using 'start' `convention`. Values are\n",
        "assigned to the first quarter of the period.\n",
        "\n",
        ">>> s = pd.Series([1, 2], index=pd.period_range('2012-01-01',\n",
        "...                                             freq='A',\n",
        "...                                             periods=2))\n",
        ">>> s\n",
        "2012    1\n",
        "2013    2\n",
        "Freq: A-DEC, dtype: int64\n",
        ">>> s.resample('Q', convention='start').asfreq()\n",
        "2012Q1    1.0\n",
        "2012Q2    NaN\n",
        "2012Q3    NaN\n",
        "2012Q4    NaN\n",
        "2013Q1    2.0\n",
        "2013Q2    NaN\n",
        "2013Q3    NaN\n",
        "2013Q4    NaN\n",
        "Freq: Q-DEC, dtype: float64\n",
        "\n",
        "Resample quarters by month using 'end' `convention`. Values are\n",
        "assigned to the last month of the period.\n",
        "\n",
        ">>> q = pd.Series([1, 2, 3, 4], index=pd.period_range('2018-01-01',\n",
        "...                                                   freq='Q',\n",
        "...                                                   periods=4))\n",
        ">>> q\n",
        "2018Q1    1\n",
        "2018Q2    2\n",
        "2018Q3    3\n",
        "2018Q4    4\n",
        "Freq: Q-DEC, dtype: int64\n",
        ">>> q.resample('M', convention='end').asfreq()\n",
        "2018-03    1.0\n",
        "2018-04    NaN\n",
        "2018-05    NaN\n",
        "2018-06    2.0\n",
        "2018-07    NaN\n",
        "2018-08    NaN\n",
        "2018-09    3.0\n",
        "2018-10    NaN\n",
        "2018-11    NaN\n",
        "2018-12    4.0\n",
        "Freq: M, dtype: float64\n",
        "\n",
        "For DataFrame objects, the keyword `on` can be used to specify the\n",
        "column instead of the index for resampling.\n",
        "\n",
        ">>> d = dict({'price': [10, 11, 9, 13, 14, 18, 17, 19],\n",
        "...           'volume': [50, 60, 40, 100, 50, 100, 40, 50]})\n",
        ">>> df = pd.DataFrame(d)\n",
        ">>> df['week_starting'] = pd.date_range('01/01/2018',\n",
        "...                                     periods=8,\n",
        "...                                     freq='W')\n",
        ">>> df\n",
        "   price  volume week_starting\n",
        "0     10      50    2018-01-07\n",
        "1     11      60    2018-01-14\n",
        "2      9      40    2018-01-21\n",
        "3     13     100    2018-01-28\n",
        "4     14      50    2018-02-04\n",
        "5     18     100    2018-02-11\n",
        "6     17      40    2018-02-18\n",
        "7     19      50    2018-02-25\n",
        ">>> df.resample('M', on='week_starting').mean()\n",
        "               price  volume\n",
        "week_starting\n",
        "2018-01-31     10.75    62.5\n",
        "2018-02-28     17.00    60.0\n",
        "\n",
        "For a DataFrame with MultiIndex, the keyword `level` can be used to\n",
        "specify on which level the resampling needs to take place.\n",
        "\n",
        ">>> days = pd.date_range('1/1/2000', periods=4, freq='D')\n",
        ">>> d2 = dict({'price': [10, 11, 9, 13, 14, 18, 17, 19],\n",
        "...            'volume': [50, 60, 40, 100, 50, 100, 40, 50]})\n",
        ">>> df2 = pd.DataFrame(d2,\n",
        "...                    index=pd.MultiIndex.from_product([days,\n",
        "...                                                     ['morning',\n",
        "...                                                      'afternoon']]\n",
        "...                                                     ))\n",
        ">>> df2\n",
        "                      price  volume\n",
        "2000-01-01 morning       10      50\n",
        "           afternoon     11      60\n",
        "2000-01-02 morning        9      40\n",
        "           afternoon     13     100\n",
        "2000-01-03 morning       14      50\n",
        "           afternoon     18     100\n",
        "2000-01-04 morning       17      40\n",
        "           afternoon     19      50\n",
        ">>> df2.resample('D', level=0).sum()\n",
        "            price  volume\n",
        "2000-01-01     21     110\n",
        "2000-01-02     22     140\n",
        "2000-01-03     32     150\n",
        "2000-01-04     36      90\n",
        "File:      /usr/local/lib/python3.6/dist-packages/pandas/core/generic.py\n",
        "Type:      method"
      ],
      "execution_count": 7,
      "outputs": []
    },
    {
      "cell_type": "code",
      "metadata": {
        "id": "LxPvEGB7QWwd",
        "colab_type": "code",
        "colab": {}
      },
      "source": [
        "# 可以从上边的函数说明可以看出，resample 可以实现上采样，下采样，并且进行填充。\n",
        "# 下边就来详细示例。"
      ],
      "execution_count": null,
      "outputs": []
    },
    {
      "cell_type": "markdown",
      "metadata": {
        "id": "19ReHNYwAwEv",
        "colab_type": "text"
      },
      "source": [
        "### Downsampling"
      ]
    },
    {
      "cell_type": "code",
      "metadata": {
        "id": "tb4uD8pAQXqT",
        "colab_type": "code",
        "colab": {
          "base_uri": "https://localhost:8080/",
          "height": 485
        },
        "outputId": "a33ede79-7ed6-4f80-a4ae-5548de3ccef7"
      },
      "source": [
        "rng"
      ],
      "execution_count": 8,
      "outputs": [
        {
          "output_type": "execute_result",
          "data": {
            "text/plain": [
              "DatetimeIndex(['2000-01-01', '2000-01-02', '2000-01-03', '2000-01-04',\n",
              "               '2000-01-05', '2000-01-06', '2000-01-07', '2000-01-08',\n",
              "               '2000-01-09', '2000-01-10', '2000-01-11', '2000-01-12',\n",
              "               '2000-01-13', '2000-01-14', '2000-01-15', '2000-01-16',\n",
              "               '2000-01-17', '2000-01-18', '2000-01-19', '2000-01-20',\n",
              "               '2000-01-21', '2000-01-22', '2000-01-23', '2000-01-24',\n",
              "               '2000-01-25', '2000-01-26', '2000-01-27', '2000-01-28',\n",
              "               '2000-01-29', '2000-01-30', '2000-01-31', '2000-02-01',\n",
              "               '2000-02-02', '2000-02-03', '2000-02-04', '2000-02-05',\n",
              "               '2000-02-06', '2000-02-07', '2000-02-08', '2000-02-09',\n",
              "               '2000-02-10', '2000-02-11', '2000-02-12', '2000-02-13',\n",
              "               '2000-02-14', '2000-02-15', '2000-02-16', '2000-02-17',\n",
              "               '2000-02-18', '2000-02-19', '2000-02-20', '2000-02-21',\n",
              "               '2000-02-22', '2000-02-23', '2000-02-24', '2000-02-25',\n",
              "               '2000-02-26', '2000-02-27', '2000-02-28', '2000-02-29',\n",
              "               '2000-03-01', '2000-03-02', '2000-03-03', '2000-03-04',\n",
              "               '2000-03-05', '2000-03-06', '2000-03-07', '2000-03-08',\n",
              "               '2000-03-09', '2000-03-10', '2000-03-11', '2000-03-12',\n",
              "               '2000-03-13', '2000-03-14', '2000-03-15', '2000-03-16',\n",
              "               '2000-03-17', '2000-03-18', '2000-03-19', '2000-03-20',\n",
              "               '2000-03-21', '2000-03-22', '2000-03-23', '2000-03-24',\n",
              "               '2000-03-25', '2000-03-26', '2000-03-27', '2000-03-28',\n",
              "               '2000-03-29', '2000-03-30', '2000-03-31', '2000-04-01',\n",
              "               '2000-04-02', '2000-04-03', '2000-04-04', '2000-04-05',\n",
              "               '2000-04-06', '2000-04-07', '2000-04-08', '2000-04-09'],\n",
              "              dtype='datetime64[ns]', freq='D')"
            ]
          },
          "metadata": {
            "tags": []
          },
          "execution_count": 8
        }
      ]
    },
    {
      "cell_type": "code",
      "metadata": {
        "id": "inQ1cidiQXnD",
        "colab_type": "code",
        "colab": {
          "base_uri": "https://localhost:8080/",
          "height": 233
        },
        "outputId": "46d1d399-949d-4614-df9d-f44ad1328ea6"
      },
      "source": [
        "ts"
      ],
      "execution_count": 9,
      "outputs": [
        {
          "output_type": "execute_result",
          "data": {
            "text/plain": [
              "2000-01-01    1.099229\n",
              "2000-01-02   -1.575995\n",
              "2000-01-03   -0.068944\n",
              "2000-01-04    1.129837\n",
              "2000-01-05    0.249344\n",
              "                ...   \n",
              "2000-04-05   -1.323917\n",
              "2000-04-06   -1.430953\n",
              "2000-04-07    1.025158\n",
              "2000-04-08   -0.652026\n",
              "2000-04-09    1.507031\n",
              "Freq: D, Length: 100, dtype: float64"
            ]
          },
          "metadata": {
            "tags": []
          },
          "execution_count": 9
        }
      ]
    },
    {
      "cell_type": "code",
      "metadata": {
        "id": "P0yeoYZxQXjt",
        "colab_type": "code",
        "colab": {
          "base_uri": "https://localhost:8080/",
          "height": 107
        },
        "outputId": "fd376e71-5262-42df-8036-4be206bcb7a2"
      },
      "source": [
        "ts.resample('M', closed='right').sum()"
      ],
      "execution_count": 14,
      "outputs": [
        {
          "output_type": "execute_result",
          "data": {
            "text/plain": [
              "2000-01-31    1.294801\n",
              "2000-02-29    7.393599\n",
              "2000-03-31   -6.079126\n",
              "2000-04-30   -5.868118\n",
              "Freq: M, dtype: float64"
            ]
          },
          "metadata": {
            "tags": []
          },
          "execution_count": 14
        }
      ]
    },
    {
      "cell_type": "code",
      "metadata": {
        "id": "ClNjL2fOQXhJ",
        "colab_type": "code",
        "colab": {
          "base_uri": "https://localhost:8080/",
          "height": 107
        },
        "outputId": "8cc1104a-ee77-49e5-af76-4f813ba280d7"
      },
      "source": [
        "ts.resample('M', closed = 'left').sum()"
      ],
      "execution_count": 15,
      "outputs": [
        {
          "output_type": "execute_result",
          "data": {
            "text/plain": [
              "2000-01-31    0.658274\n",
              "2000-02-29    6.208818\n",
              "2000-03-31   -5.467581\n",
              "2000-04-30   -4.658356\n",
              "Freq: M, dtype: float64"
            ]
          },
          "metadata": {
            "tags": []
          },
          "execution_count": 15
        }
      ]
    },
    {
      "cell_type": "code",
      "metadata": {
        "id": "_VbIG0n-QXdf",
        "colab_type": "code",
        "colab": {
          "base_uri": "https://localhost:8080/",
          "height": 107
        },
        "outputId": "413e7b3d-2f25-4f3f-f87b-a6140d6d0ed0"
      },
      "source": [
        "# 可以看出，标签默认用的是右边的。如果我标签想用左边的。\n",
        "\n",
        "ts.resample('M', closed='left', label='left').sum()"
      ],
      "execution_count": 20,
      "outputs": [
        {
          "output_type": "execute_result",
          "data": {
            "text/plain": [
              "1999-12-31    0.658274\n",
              "2000-01-31    6.208818\n",
              "2000-02-29   -5.467581\n",
              "2000-03-31   -4.658356\n",
              "Freq: M, dtype: float64"
            ]
          },
          "metadata": {
            "tags": []
          },
          "execution_count": 20
        }
      ]
    },
    {
      "cell_type": "code",
      "metadata": {
        "id": "A6TxbzHfTAr0",
        "colab_type": "code",
        "colab": {
          "base_uri": "https://localhost:8080/",
          "height": 107
        },
        "outputId": "9233816c-ed84-4730-ee1f-e78442b1929c"
      },
      "source": [
        "# loffset参数。\n",
        "# loffset 将标签稍微移动某个距离。\n",
        "ts.resample('M', closed='right', label='left', loffset='1d').sum()\n"
      ],
      "execution_count": 23,
      "outputs": [
        {
          "output_type": "execute_result",
          "data": {
            "text/plain": [
              "2000-01-01    1.294801\n",
              "2000-02-01    7.393599\n",
              "2000-03-01   -6.079126\n",
              "2000-04-01   -5.868118\n",
              "Freq: MS, dtype: float64"
            ]
          },
          "metadata": {
            "tags": []
          },
          "execution_count": 23
        }
      ]
    },
    {
      "cell_type": "code",
      "metadata": {
        "id": "3GrNvmWkTkqq",
        "colab_type": "code",
        "colab": {
          "base_uri": "https://localhost:8080/",
          "height": 173
        },
        "outputId": "6f51390b-12e1-4f30-be04-c451bc28525e"
      },
      "source": [
        "# 计算一个bins内的first（open), last(close), maximum(high), minimal(low)四个数据。\n",
        "# 公式：ohlc \n",
        "\n",
        "ts.resample('M').ohlc()"
      ],
      "execution_count": 24,
      "outputs": [
        {
          "output_type": "execute_result",
          "data": {
            "text/html": [
              "<div>\n",
              "<style scoped>\n",
              "    .dataframe tbody tr th:only-of-type {\n",
              "        vertical-align: middle;\n",
              "    }\n",
              "\n",
              "    .dataframe tbody tr th {\n",
              "        vertical-align: top;\n",
              "    }\n",
              "\n",
              "    .dataframe thead th {\n",
              "        text-align: right;\n",
              "    }\n",
              "</style>\n",
              "<table border=\"1\" class=\"dataframe\">\n",
              "  <thead>\n",
              "    <tr style=\"text-align: right;\">\n",
              "      <th></th>\n",
              "      <th>open</th>\n",
              "      <th>high</th>\n",
              "      <th>low</th>\n",
              "      <th>close</th>\n",
              "    </tr>\n",
              "  </thead>\n",
              "  <tbody>\n",
              "    <tr>\n",
              "      <th>2000-01-31</th>\n",
              "      <td>1.099229</td>\n",
              "      <td>2.348550</td>\n",
              "      <td>-2.300780</td>\n",
              "      <td>0.636527</td>\n",
              "    </tr>\n",
              "    <tr>\n",
              "      <th>2000-02-29</th>\n",
              "      <td>0.316739</td>\n",
              "      <td>2.296884</td>\n",
              "      <td>-2.432440</td>\n",
              "      <td>1.821308</td>\n",
              "    </tr>\n",
              "    <tr>\n",
              "      <th>2000-03-31</th>\n",
              "      <td>0.119725</td>\n",
              "      <td>1.209762</td>\n",
              "      <td>-2.601449</td>\n",
              "      <td>1.209762</td>\n",
              "    </tr>\n",
              "    <tr>\n",
              "      <th>2000-04-30</th>\n",
              "      <td>-1.293894</td>\n",
              "      <td>1.507031</td>\n",
              "      <td>-1.806199</td>\n",
              "      <td>1.507031</td>\n",
              "    </tr>\n",
              "  </tbody>\n",
              "</table>\n",
              "</div>"
            ],
            "text/plain": [
              "                open      high       low     close\n",
              "2000-01-31  1.099229  2.348550 -2.300780  0.636527\n",
              "2000-02-29  0.316739  2.296884 -2.432440  1.821308\n",
              "2000-03-31  0.119725  1.209762 -2.601449  1.209762\n",
              "2000-04-30 -1.293894  1.507031 -1.806199  1.507031"
            ]
          },
          "metadata": {
            "tags": []
          },
          "execution_count": 24
        }
      ]
    },
    {
      "cell_type": "markdown",
      "metadata": {
        "id": "kcJk4nknAwHt",
        "colab_type": "text"
      },
      "source": [
        "### Upsampling and Interpolation\n",
        "\n",
        "\n",
        "from low frequency to higher frequency."
      ]
    },
    {
      "cell_type": "code",
      "metadata": {
        "id": "LZxJUc-QVfLy",
        "colab_type": "code",
        "colab": {
          "base_uri": "https://localhost:8080/",
          "height": 111
        },
        "outputId": "a4402de6-479c-4405-9263-dbcac5326929"
      },
      "source": [
        " frame = pd.DataFrame(np.random.randn(2, 4),\n",
        "            index=pd.date_range('1/1/2000', periods=2,\n",
        "            freq='W-WED'),\n",
        "            columns=['Colorado', 'Texas', 'New York', 'Ohio'])\n",
        " \n",
        " frame"
      ],
      "execution_count": 25,
      "outputs": [
        {
          "output_type": "execute_result",
          "data": {
            "text/html": [
              "<div>\n",
              "<style scoped>\n",
              "    .dataframe tbody tr th:only-of-type {\n",
              "        vertical-align: middle;\n",
              "    }\n",
              "\n",
              "    .dataframe tbody tr th {\n",
              "        vertical-align: top;\n",
              "    }\n",
              "\n",
              "    .dataframe thead th {\n",
              "        text-align: right;\n",
              "    }\n",
              "</style>\n",
              "<table border=\"1\" class=\"dataframe\">\n",
              "  <thead>\n",
              "    <tr style=\"text-align: right;\">\n",
              "      <th></th>\n",
              "      <th>Colorado</th>\n",
              "      <th>Texas</th>\n",
              "      <th>New York</th>\n",
              "      <th>Ohio</th>\n",
              "    </tr>\n",
              "  </thead>\n",
              "  <tbody>\n",
              "    <tr>\n",
              "      <th>2000-01-05</th>\n",
              "      <td>0.358188</td>\n",
              "      <td>-0.648494</td>\n",
              "      <td>-1.637655</td>\n",
              "      <td>-0.982334</td>\n",
              "    </tr>\n",
              "    <tr>\n",
              "      <th>2000-01-12</th>\n",
              "      <td>-1.208638</td>\n",
              "      <td>-0.493447</td>\n",
              "      <td>-0.680765</td>\n",
              "      <td>1.684767</td>\n",
              "    </tr>\n",
              "  </tbody>\n",
              "</table>\n",
              "</div>"
            ],
            "text/plain": [
              "            Colorado     Texas  New York      Ohio\n",
              "2000-01-05  0.358188 -0.648494 -1.637655 -0.982334\n",
              "2000-01-12 -1.208638 -0.493447 -0.680765  1.684767"
            ]
          },
          "metadata": {
            "tags": []
          },
          "execution_count": 25
        }
      ]
    },
    {
      "cell_type": "code",
      "metadata": {
        "id": "W85rAvJDVowJ",
        "colab_type": "code",
        "colab": {
          "base_uri": "https://localhost:8080/",
          "height": 297
        },
        "outputId": "26cf5105-c5ac-4bd2-e1bd-51959e814c31"
      },
      "source": [
        "df_daily = frame.resample('D').asfreq()\n",
        "df_daily"
      ],
      "execution_count": 28,
      "outputs": [
        {
          "output_type": "execute_result",
          "data": {
            "text/html": [
              "<div>\n",
              "<style scoped>\n",
              "    .dataframe tbody tr th:only-of-type {\n",
              "        vertical-align: middle;\n",
              "    }\n",
              "\n",
              "    .dataframe tbody tr th {\n",
              "        vertical-align: top;\n",
              "    }\n",
              "\n",
              "    .dataframe thead th {\n",
              "        text-align: right;\n",
              "    }\n",
              "</style>\n",
              "<table border=\"1\" class=\"dataframe\">\n",
              "  <thead>\n",
              "    <tr style=\"text-align: right;\">\n",
              "      <th></th>\n",
              "      <th>Colorado</th>\n",
              "      <th>Texas</th>\n",
              "      <th>New York</th>\n",
              "      <th>Ohio</th>\n",
              "    </tr>\n",
              "  </thead>\n",
              "  <tbody>\n",
              "    <tr>\n",
              "      <th>2000-01-05</th>\n",
              "      <td>0.358188</td>\n",
              "      <td>-0.648494</td>\n",
              "      <td>-1.637655</td>\n",
              "      <td>-0.982334</td>\n",
              "    </tr>\n",
              "    <tr>\n",
              "      <th>2000-01-06</th>\n",
              "      <td>NaN</td>\n",
              "      <td>NaN</td>\n",
              "      <td>NaN</td>\n",
              "      <td>NaN</td>\n",
              "    </tr>\n",
              "    <tr>\n",
              "      <th>2000-01-07</th>\n",
              "      <td>NaN</td>\n",
              "      <td>NaN</td>\n",
              "      <td>NaN</td>\n",
              "      <td>NaN</td>\n",
              "    </tr>\n",
              "    <tr>\n",
              "      <th>2000-01-08</th>\n",
              "      <td>NaN</td>\n",
              "      <td>NaN</td>\n",
              "      <td>NaN</td>\n",
              "      <td>NaN</td>\n",
              "    </tr>\n",
              "    <tr>\n",
              "      <th>2000-01-09</th>\n",
              "      <td>NaN</td>\n",
              "      <td>NaN</td>\n",
              "      <td>NaN</td>\n",
              "      <td>NaN</td>\n",
              "    </tr>\n",
              "    <tr>\n",
              "      <th>2000-01-10</th>\n",
              "      <td>NaN</td>\n",
              "      <td>NaN</td>\n",
              "      <td>NaN</td>\n",
              "      <td>NaN</td>\n",
              "    </tr>\n",
              "    <tr>\n",
              "      <th>2000-01-11</th>\n",
              "      <td>NaN</td>\n",
              "      <td>NaN</td>\n",
              "      <td>NaN</td>\n",
              "      <td>NaN</td>\n",
              "    </tr>\n",
              "    <tr>\n",
              "      <th>2000-01-12</th>\n",
              "      <td>-1.208638</td>\n",
              "      <td>-0.493447</td>\n",
              "      <td>-0.680765</td>\n",
              "      <td>1.684767</td>\n",
              "    </tr>\n",
              "  </tbody>\n",
              "</table>\n",
              "</div>"
            ],
            "text/plain": [
              "            Colorado     Texas  New York      Ohio\n",
              "2000-01-05  0.358188 -0.648494 -1.637655 -0.982334\n",
              "2000-01-06       NaN       NaN       NaN       NaN\n",
              "2000-01-07       NaN       NaN       NaN       NaN\n",
              "2000-01-08       NaN       NaN       NaN       NaN\n",
              "2000-01-09       NaN       NaN       NaN       NaN\n",
              "2000-01-10       NaN       NaN       NaN       NaN\n",
              "2000-01-11       NaN       NaN       NaN       NaN\n",
              "2000-01-12 -1.208638 -0.493447 -0.680765  1.684767"
            ]
          },
          "metadata": {
            "tags": []
          },
          "execution_count": 28
        }
      ]
    },
    {
      "cell_type": "code",
      "metadata": {
        "id": "DzJhg8NzW1jx",
        "colab_type": "code",
        "colab": {}
      },
      "source": [
        "frame.asfreq?\n",
        "Signature: frame.asfreq(freq, method=None, how: Union[str, NoneType]=None, \n",
        "                        normalize: bool=False, fill_value=None) -> ~FrameOrSeries\n",
        "Docstring:\n",
        "Convert TimeSeries to specified frequency.\n",
        "\n",
        "Optionally provide filling method to pad/backfill missing values.\n",
        "\n",
        "Returns the original data conformed to a new index with the specified\n",
        "frequency. ``resample`` is more appropriate if an operation, such as\n",
        "summarization, is necessary to represent the data at the new frequency.\n",
        "\n",
        "Parameters\n",
        "----------\n",
        "freq : DateOffset or str\n",
        "method : {'backfill'/'bfill', 'pad'/'ffill'}, default None\n",
        "    Method to use for filling holes in reindexed Series (note this\n",
        "    does not fill NaNs that already were present):\n",
        "\n",
        "    * 'pad' / 'ffill': propagate last valid observation forward to next\n",
        "      valid\n",
        "    * 'backfill' / 'bfill': use NEXT valid observation to fill.\n",
        "how : {'start', 'end'}, default end\n",
        "    For PeriodIndex only (see PeriodIndex.asfreq).\n",
        "normalize : bool, default False\n",
        "    Whether to reset output index to midnight.\n",
        "fill_value : scalar, optional\n",
        "    Value to use for missing values, applied during upsampling (note\n",
        "    this does not fill NaNs that already were present).\n",
        "\n",
        "Returns\n",
        "-------\n",
        "converted : same type as caller\n",
        "\n",
        "See Also\n",
        "--------\n",
        "reindex\n",
        "\n",
        "Notes\n",
        "-----\n",
        "To learn more about the frequency strings, please see `this link\n",
        "<https://pandas.pydata.org/pandas-docs/stable/user_guide/timeseries.html#offset-aliases>`__.\n",
        "\n",
        "Examples\n",
        "--------\n",
        "\n",
        "Start by creating a series with 4 one minute timestamps.\n",
        "\n",
        ">>> index = pd.date_range('1/1/2000', periods=4, freq='T')\n",
        ">>> series = pd.Series([0.0, None, 2.0, 3.0], index=index)\n",
        ">>> df = pd.DataFrame({'s':series})\n",
        ">>> df\n",
        "                       s\n",
        "2000-01-01 00:00:00    0.0\n",
        "2000-01-01 00:01:00    NaN\n",
        "2000-01-01 00:02:00    2.0\n",
        "2000-01-01 00:03:00    3.0\n",
        "\n",
        "Upsample the series into 30 second bins.\n",
        "\n",
        ">>> df.asfreq(freq='30S')\n",
        "                       s\n",
        "2000-01-01 00:00:00    0.0\n",
        "2000-01-01 00:00:30    NaN\n",
        "2000-01-01 00:01:00    NaN\n",
        "2000-01-01 00:01:30    NaN\n",
        "2000-01-01 00:02:00    2.0\n",
        "2000-01-01 00:02:30    NaN\n",
        "2000-01-01 00:03:00    3.0\n",
        "\n",
        "Upsample again, providing a ``fill value``.\n",
        "\n",
        ">>> df.asfreq(freq='30S', fill_value=9.0)\n",
        "                       s\n",
        "2000-01-01 00:00:00    0.0\n",
        "2000-01-01 00:00:30    9.0\n",
        "2000-01-01 00:01:00    NaN\n",
        "2000-01-01 00:01:30    9.0\n",
        "2000-01-01 00:02:00    2.0\n",
        "2000-01-01 00:02:30    9.0\n",
        "2000-01-01 00:03:00    3.0\n",
        "\n",
        "Upsample again, providing a ``method``.\n",
        "\n",
        ">>> df.asfreq(freq='30S', method='bfill')\n",
        "                       s\n",
        "2000-01-01 00:00:00    0.0\n",
        "2000-01-01 00:00:30    NaN\n",
        "2000-01-01 00:01:00    NaN\n",
        "2000-01-01 00:01:30    2.0\n",
        "2000-01-01 00:02:00    2.0\n",
        "2000-01-01 00:02:30    3.0\n",
        "2000-01-01 00:03:00    3.0\n",
        "File:      /usr/local/lib/python3.6/dist-packages/pandas/core/generic.py\n",
        "Type:      method"
      ],
      "execution_count": 30,
      "outputs": []
    },
    {
      "cell_type": "code",
      "metadata": {
        "id": "IfSXrmyqYeVJ",
        "colab_type": "code",
        "colab": {
          "base_uri": "https://localhost:8080/",
          "height": 297
        },
        "outputId": "d9722b75-a8c7-467f-d730-ae3e402394ab"
      },
      "source": [
        "# 要对空值进行填充，： pad(),ffill(),bfill()\n",
        "\n",
        "frame.resample('D').pad()"
      ],
      "execution_count": 32,
      "outputs": [
        {
          "output_type": "execute_result",
          "data": {
            "text/html": [
              "<div>\n",
              "<style scoped>\n",
              "    .dataframe tbody tr th:only-of-type {\n",
              "        vertical-align: middle;\n",
              "    }\n",
              "\n",
              "    .dataframe tbody tr th {\n",
              "        vertical-align: top;\n",
              "    }\n",
              "\n",
              "    .dataframe thead th {\n",
              "        text-align: right;\n",
              "    }\n",
              "</style>\n",
              "<table border=\"1\" class=\"dataframe\">\n",
              "  <thead>\n",
              "    <tr style=\"text-align: right;\">\n",
              "      <th></th>\n",
              "      <th>Colorado</th>\n",
              "      <th>Texas</th>\n",
              "      <th>New York</th>\n",
              "      <th>Ohio</th>\n",
              "    </tr>\n",
              "  </thead>\n",
              "  <tbody>\n",
              "    <tr>\n",
              "      <th>2000-01-05</th>\n",
              "      <td>0.358188</td>\n",
              "      <td>-0.648494</td>\n",
              "      <td>-1.637655</td>\n",
              "      <td>-0.982334</td>\n",
              "    </tr>\n",
              "    <tr>\n",
              "      <th>2000-01-06</th>\n",
              "      <td>0.358188</td>\n",
              "      <td>-0.648494</td>\n",
              "      <td>-1.637655</td>\n",
              "      <td>-0.982334</td>\n",
              "    </tr>\n",
              "    <tr>\n",
              "      <th>2000-01-07</th>\n",
              "      <td>0.358188</td>\n",
              "      <td>-0.648494</td>\n",
              "      <td>-1.637655</td>\n",
              "      <td>-0.982334</td>\n",
              "    </tr>\n",
              "    <tr>\n",
              "      <th>2000-01-08</th>\n",
              "      <td>0.358188</td>\n",
              "      <td>-0.648494</td>\n",
              "      <td>-1.637655</td>\n",
              "      <td>-0.982334</td>\n",
              "    </tr>\n",
              "    <tr>\n",
              "      <th>2000-01-09</th>\n",
              "      <td>0.358188</td>\n",
              "      <td>-0.648494</td>\n",
              "      <td>-1.637655</td>\n",
              "      <td>-0.982334</td>\n",
              "    </tr>\n",
              "    <tr>\n",
              "      <th>2000-01-10</th>\n",
              "      <td>0.358188</td>\n",
              "      <td>-0.648494</td>\n",
              "      <td>-1.637655</td>\n",
              "      <td>-0.982334</td>\n",
              "    </tr>\n",
              "    <tr>\n",
              "      <th>2000-01-11</th>\n",
              "      <td>0.358188</td>\n",
              "      <td>-0.648494</td>\n",
              "      <td>-1.637655</td>\n",
              "      <td>-0.982334</td>\n",
              "    </tr>\n",
              "    <tr>\n",
              "      <th>2000-01-12</th>\n",
              "      <td>-1.208638</td>\n",
              "      <td>-0.493447</td>\n",
              "      <td>-0.680765</td>\n",
              "      <td>1.684767</td>\n",
              "    </tr>\n",
              "  </tbody>\n",
              "</table>\n",
              "</div>"
            ],
            "text/plain": [
              "            Colorado     Texas  New York      Ohio\n",
              "2000-01-05  0.358188 -0.648494 -1.637655 -0.982334\n",
              "2000-01-06  0.358188 -0.648494 -1.637655 -0.982334\n",
              "2000-01-07  0.358188 -0.648494 -1.637655 -0.982334\n",
              "2000-01-08  0.358188 -0.648494 -1.637655 -0.982334\n",
              "2000-01-09  0.358188 -0.648494 -1.637655 -0.982334\n",
              "2000-01-10  0.358188 -0.648494 -1.637655 -0.982334\n",
              "2000-01-11  0.358188 -0.648494 -1.637655 -0.982334\n",
              "2000-01-12 -1.208638 -0.493447 -0.680765  1.684767"
            ]
          },
          "metadata": {
            "tags": []
          },
          "execution_count": 32
        }
      ]
    },
    {
      "cell_type": "code",
      "metadata": {
        "id": "ANwTLI6gY3RA",
        "colab_type": "code",
        "colab": {
          "base_uri": "https://localhost:8080/",
          "height": 35
        },
        "outputId": "bae8030f-2b59-4632-d1f2-ea421fb39f24"
      },
      "source": [
        "x = frame.resample('D')\n",
        "x"
      ],
      "execution_count": 36,
      "outputs": [
        {
          "output_type": "execute_result",
          "data": {
            "text/plain": [
              "<pandas.core.resample.DatetimeIndexResampler object at 0x7f6d39ca3fd0>"
            ]
          },
          "metadata": {
            "tags": []
          },
          "execution_count": 36
        }
      ]
    },
    {
      "cell_type": "code",
      "metadata": {
        "id": "Yoy6KLiYZLLZ",
        "colab_type": "code",
        "colab": {}
      },
      "source": [
        "x.pad? \n",
        "ignature: x.pad(limit=None)\n",
        "Docstring:\n",
        "Forward fill the values.\n"
      ],
      "execution_count": 38,
      "outputs": []
    },
    {
      "cell_type": "code",
      "metadata": {
        "id": "1Pwdnf2KZWVY",
        "colab_type": "code",
        "colab": {
          "base_uri": "https://localhost:8080/",
          "height": 297
        },
        "outputId": "b6a24d9c-0924-4d19-c1cd-58c840b91709"
      },
      "source": [
        "frame.resample('D').bfill()"
      ],
      "execution_count": 40,
      "outputs": [
        {
          "output_type": "execute_result",
          "data": {
            "text/html": [
              "<div>\n",
              "<style scoped>\n",
              "    .dataframe tbody tr th:only-of-type {\n",
              "        vertical-align: middle;\n",
              "    }\n",
              "\n",
              "    .dataframe tbody tr th {\n",
              "        vertical-align: top;\n",
              "    }\n",
              "\n",
              "    .dataframe thead th {\n",
              "        text-align: right;\n",
              "    }\n",
              "</style>\n",
              "<table border=\"1\" class=\"dataframe\">\n",
              "  <thead>\n",
              "    <tr style=\"text-align: right;\">\n",
              "      <th></th>\n",
              "      <th>Colorado</th>\n",
              "      <th>Texas</th>\n",
              "      <th>New York</th>\n",
              "      <th>Ohio</th>\n",
              "    </tr>\n",
              "  </thead>\n",
              "  <tbody>\n",
              "    <tr>\n",
              "      <th>2000-01-05</th>\n",
              "      <td>0.358188</td>\n",
              "      <td>-0.648494</td>\n",
              "      <td>-1.637655</td>\n",
              "      <td>-0.982334</td>\n",
              "    </tr>\n",
              "    <tr>\n",
              "      <th>2000-01-06</th>\n",
              "      <td>-1.208638</td>\n",
              "      <td>-0.493447</td>\n",
              "      <td>-0.680765</td>\n",
              "      <td>1.684767</td>\n",
              "    </tr>\n",
              "    <tr>\n",
              "      <th>2000-01-07</th>\n",
              "      <td>-1.208638</td>\n",
              "      <td>-0.493447</td>\n",
              "      <td>-0.680765</td>\n",
              "      <td>1.684767</td>\n",
              "    </tr>\n",
              "    <tr>\n",
              "      <th>2000-01-08</th>\n",
              "      <td>-1.208638</td>\n",
              "      <td>-0.493447</td>\n",
              "      <td>-0.680765</td>\n",
              "      <td>1.684767</td>\n",
              "    </tr>\n",
              "    <tr>\n",
              "      <th>2000-01-09</th>\n",
              "      <td>-1.208638</td>\n",
              "      <td>-0.493447</td>\n",
              "      <td>-0.680765</td>\n",
              "      <td>1.684767</td>\n",
              "    </tr>\n",
              "    <tr>\n",
              "      <th>2000-01-10</th>\n",
              "      <td>-1.208638</td>\n",
              "      <td>-0.493447</td>\n",
              "      <td>-0.680765</td>\n",
              "      <td>1.684767</td>\n",
              "    </tr>\n",
              "    <tr>\n",
              "      <th>2000-01-11</th>\n",
              "      <td>-1.208638</td>\n",
              "      <td>-0.493447</td>\n",
              "      <td>-0.680765</td>\n",
              "      <td>1.684767</td>\n",
              "    </tr>\n",
              "    <tr>\n",
              "      <th>2000-01-12</th>\n",
              "      <td>-1.208638</td>\n",
              "      <td>-0.493447</td>\n",
              "      <td>-0.680765</td>\n",
              "      <td>1.684767</td>\n",
              "    </tr>\n",
              "  </tbody>\n",
              "</table>\n",
              "</div>"
            ],
            "text/plain": [
              "            Colorado     Texas  New York      Ohio\n",
              "2000-01-05  0.358188 -0.648494 -1.637655 -0.982334\n",
              "2000-01-06 -1.208638 -0.493447 -0.680765  1.684767\n",
              "2000-01-07 -1.208638 -0.493447 -0.680765  1.684767\n",
              "2000-01-08 -1.208638 -0.493447 -0.680765  1.684767\n",
              "2000-01-09 -1.208638 -0.493447 -0.680765  1.684767\n",
              "2000-01-10 -1.208638 -0.493447 -0.680765  1.684767\n",
              "2000-01-11 -1.208638 -0.493447 -0.680765  1.684767\n",
              "2000-01-12 -1.208638 -0.493447 -0.680765  1.684767"
            ]
          },
          "metadata": {
            "tags": []
          },
          "execution_count": 40
        }
      ]
    },
    {
      "cell_type": "markdown",
      "metadata": {
        "id": "GwXx8QXUBsUm",
        "colab_type": "text"
      },
      "source": [
        "### Resampling with Periods\n",
        "\n",
        "Resampling data indexed by periods is similar to timestamps:\n",
        "\n",
        "日期其实与时间戳类似。"
      ]
    },
    {
      "cell_type": "code",
      "metadata": {
        "id": "phdQCdd1Zv-_",
        "colab_type": "code",
        "colab": {
          "base_uri": "https://localhost:8080/",
          "height": 793
        },
        "outputId": "a8b67661-2d49-41d2-c9ef-e1c2f4653e5c"
      },
      "source": [
        "frame = pd.DataFrame(np.random.randn(24,4),\n",
        "                     index=pd.period_range('1-2000', '12-2001',freq='M'),\n",
        "                     columns= ['Colorado', 'Texas', 'New York', 'Ohio'])\n",
        "\n",
        "frame"
      ],
      "execution_count": 41,
      "outputs": [
        {
          "output_type": "execute_result",
          "data": {
            "text/html": [
              "<div>\n",
              "<style scoped>\n",
              "    .dataframe tbody tr th:only-of-type {\n",
              "        vertical-align: middle;\n",
              "    }\n",
              "\n",
              "    .dataframe tbody tr th {\n",
              "        vertical-align: top;\n",
              "    }\n",
              "\n",
              "    .dataframe thead th {\n",
              "        text-align: right;\n",
              "    }\n",
              "</style>\n",
              "<table border=\"1\" class=\"dataframe\">\n",
              "  <thead>\n",
              "    <tr style=\"text-align: right;\">\n",
              "      <th></th>\n",
              "      <th>Colorado</th>\n",
              "      <th>Texas</th>\n",
              "      <th>New York</th>\n",
              "      <th>Ohio</th>\n",
              "    </tr>\n",
              "  </thead>\n",
              "  <tbody>\n",
              "    <tr>\n",
              "      <th>2000-01</th>\n",
              "      <td>-0.933881</td>\n",
              "      <td>-0.582165</td>\n",
              "      <td>-0.623997</td>\n",
              "      <td>1.226788</td>\n",
              "    </tr>\n",
              "    <tr>\n",
              "      <th>2000-02</th>\n",
              "      <td>-0.263626</td>\n",
              "      <td>1.625127</td>\n",
              "      <td>0.060131</td>\n",
              "      <td>1.132380</td>\n",
              "    </tr>\n",
              "    <tr>\n",
              "      <th>2000-03</th>\n",
              "      <td>2.287090</td>\n",
              "      <td>-2.783147</td>\n",
              "      <td>0.447865</td>\n",
              "      <td>0.397240</td>\n",
              "    </tr>\n",
              "    <tr>\n",
              "      <th>2000-04</th>\n",
              "      <td>0.833854</td>\n",
              "      <td>0.379528</td>\n",
              "      <td>-1.255572</td>\n",
              "      <td>1.834628</td>\n",
              "    </tr>\n",
              "    <tr>\n",
              "      <th>2000-05</th>\n",
              "      <td>-0.247006</td>\n",
              "      <td>0.443543</td>\n",
              "      <td>0.220484</td>\n",
              "      <td>1.953852</td>\n",
              "    </tr>\n",
              "    <tr>\n",
              "      <th>2000-06</th>\n",
              "      <td>0.653147</td>\n",
              "      <td>-2.001966</td>\n",
              "      <td>0.003131</td>\n",
              "      <td>-0.699097</td>\n",
              "    </tr>\n",
              "    <tr>\n",
              "      <th>2000-07</th>\n",
              "      <td>-1.644223</td>\n",
              "      <td>0.154396</td>\n",
              "      <td>-0.303945</td>\n",
              "      <td>0.028635</td>\n",
              "    </tr>\n",
              "    <tr>\n",
              "      <th>2000-08</th>\n",
              "      <td>1.196627</td>\n",
              "      <td>0.481280</td>\n",
              "      <td>0.693789</td>\n",
              "      <td>-0.091278</td>\n",
              "    </tr>\n",
              "    <tr>\n",
              "      <th>2000-09</th>\n",
              "      <td>-0.545559</td>\n",
              "      <td>0.293313</td>\n",
              "      <td>0.021460</td>\n",
              "      <td>1.049770</td>\n",
              "    </tr>\n",
              "    <tr>\n",
              "      <th>2000-10</th>\n",
              "      <td>-0.841355</td>\n",
              "      <td>-0.160139</td>\n",
              "      <td>-1.099916</td>\n",
              "      <td>-0.737369</td>\n",
              "    </tr>\n",
              "    <tr>\n",
              "      <th>2000-11</th>\n",
              "      <td>-1.570382</td>\n",
              "      <td>-1.162947</td>\n",
              "      <td>0.514775</td>\n",
              "      <td>1.488807</td>\n",
              "    </tr>\n",
              "    <tr>\n",
              "      <th>2000-12</th>\n",
              "      <td>1.056442</td>\n",
              "      <td>1.896090</td>\n",
              "      <td>-1.557491</td>\n",
              "      <td>-1.193173</td>\n",
              "    </tr>\n",
              "    <tr>\n",
              "      <th>2001-01</th>\n",
              "      <td>0.955177</td>\n",
              "      <td>0.322850</td>\n",
              "      <td>1.097171</td>\n",
              "      <td>1.423990</td>\n",
              "    </tr>\n",
              "    <tr>\n",
              "      <th>2001-02</th>\n",
              "      <td>1.095901</td>\n",
              "      <td>-0.646652</td>\n",
              "      <td>0.443136</td>\n",
              "      <td>-0.543911</td>\n",
              "    </tr>\n",
              "    <tr>\n",
              "      <th>2001-03</th>\n",
              "      <td>0.079323</td>\n",
              "      <td>-0.039266</td>\n",
              "      <td>-1.669780</td>\n",
              "      <td>-0.891340</td>\n",
              "    </tr>\n",
              "    <tr>\n",
              "      <th>2001-04</th>\n",
              "      <td>-0.164784</td>\n",
              "      <td>1.592090</td>\n",
              "      <td>0.743788</td>\n",
              "      <td>-0.816556</td>\n",
              "    </tr>\n",
              "    <tr>\n",
              "      <th>2001-05</th>\n",
              "      <td>-0.415774</td>\n",
              "      <td>0.491274</td>\n",
              "      <td>-1.978407</td>\n",
              "      <td>-0.088756</td>\n",
              "    </tr>\n",
              "    <tr>\n",
              "      <th>2001-06</th>\n",
              "      <td>-2.699378</td>\n",
              "      <td>1.241141</td>\n",
              "      <td>0.457599</td>\n",
              "      <td>-1.630789</td>\n",
              "    </tr>\n",
              "    <tr>\n",
              "      <th>2001-07</th>\n",
              "      <td>-0.001040</td>\n",
              "      <td>-0.597871</td>\n",
              "      <td>-1.507085</td>\n",
              "      <td>-1.326574</td>\n",
              "    </tr>\n",
              "    <tr>\n",
              "      <th>2001-08</th>\n",
              "      <td>-0.053341</td>\n",
              "      <td>1.630212</td>\n",
              "      <td>-0.282888</td>\n",
              "      <td>-0.420080</td>\n",
              "    </tr>\n",
              "    <tr>\n",
              "      <th>2001-09</th>\n",
              "      <td>2.081180</td>\n",
              "      <td>-1.271168</td>\n",
              "      <td>1.624902</td>\n",
              "      <td>2.118271</td>\n",
              "    </tr>\n",
              "    <tr>\n",
              "      <th>2001-10</th>\n",
              "      <td>0.780212</td>\n",
              "      <td>0.082644</td>\n",
              "      <td>0.624808</td>\n",
              "      <td>0.451472</td>\n",
              "    </tr>\n",
              "    <tr>\n",
              "      <th>2001-11</th>\n",
              "      <td>1.928170</td>\n",
              "      <td>1.018218</td>\n",
              "      <td>-0.225208</td>\n",
              "      <td>0.247583</td>\n",
              "    </tr>\n",
              "    <tr>\n",
              "      <th>2001-12</th>\n",
              "      <td>0.130046</td>\n",
              "      <td>-0.236379</td>\n",
              "      <td>-0.916637</td>\n",
              "      <td>-1.924752</td>\n",
              "    </tr>\n",
              "  </tbody>\n",
              "</table>\n",
              "</div>"
            ],
            "text/plain": [
              "         Colorado     Texas  New York      Ohio\n",
              "2000-01 -0.933881 -0.582165 -0.623997  1.226788\n",
              "2000-02 -0.263626  1.625127  0.060131  1.132380\n",
              "2000-03  2.287090 -2.783147  0.447865  0.397240\n",
              "2000-04  0.833854  0.379528 -1.255572  1.834628\n",
              "2000-05 -0.247006  0.443543  0.220484  1.953852\n",
              "2000-06  0.653147 -2.001966  0.003131 -0.699097\n",
              "2000-07 -1.644223  0.154396 -0.303945  0.028635\n",
              "2000-08  1.196627  0.481280  0.693789 -0.091278\n",
              "2000-09 -0.545559  0.293313  0.021460  1.049770\n",
              "2000-10 -0.841355 -0.160139 -1.099916 -0.737369\n",
              "2000-11 -1.570382 -1.162947  0.514775  1.488807\n",
              "2000-12  1.056442  1.896090 -1.557491 -1.193173\n",
              "2001-01  0.955177  0.322850  1.097171  1.423990\n",
              "2001-02  1.095901 -0.646652  0.443136 -0.543911\n",
              "2001-03  0.079323 -0.039266 -1.669780 -0.891340\n",
              "2001-04 -0.164784  1.592090  0.743788 -0.816556\n",
              "2001-05 -0.415774  0.491274 -1.978407 -0.088756\n",
              "2001-06 -2.699378  1.241141  0.457599 -1.630789\n",
              "2001-07 -0.001040 -0.597871 -1.507085 -1.326574\n",
              "2001-08 -0.053341  1.630212 -0.282888 -0.420080\n",
              "2001-09  2.081180 -1.271168  1.624902  2.118271\n",
              "2001-10  0.780212  0.082644  0.624808  0.451472\n",
              "2001-11  1.928170  1.018218 -0.225208  0.247583\n",
              "2001-12  0.130046 -0.236379 -0.916637 -1.924752"
            ]
          },
          "metadata": {
            "tags": []
          },
          "execution_count": 41
        }
      ]
    },
    {
      "cell_type": "code",
      "metadata": {
        "id": "N88xv2_zaHX4",
        "colab_type": "code",
        "colab": {
          "base_uri": "https://localhost:8080/",
          "height": 111
        },
        "outputId": "3a86bb1d-dbfc-407c-ae72-b2849b2d6fa1"
      },
      "source": [
        "annual_frame = frame.resample('A-DEC').mean() # a 表示年度。\n",
        "annual_frame"
      ],
      "execution_count": 42,
      "outputs": [
        {
          "output_type": "execute_result",
          "data": {
            "text/html": [
              "<div>\n",
              "<style scoped>\n",
              "    .dataframe tbody tr th:only-of-type {\n",
              "        vertical-align: middle;\n",
              "    }\n",
              "\n",
              "    .dataframe tbody tr th {\n",
              "        vertical-align: top;\n",
              "    }\n",
              "\n",
              "    .dataframe thead th {\n",
              "        text-align: right;\n",
              "    }\n",
              "</style>\n",
              "<table border=\"1\" class=\"dataframe\">\n",
              "  <thead>\n",
              "    <tr style=\"text-align: right;\">\n",
              "      <th></th>\n",
              "      <th>Colorado</th>\n",
              "      <th>Texas</th>\n",
              "      <th>New York</th>\n",
              "      <th>Ohio</th>\n",
              "    </tr>\n",
              "  </thead>\n",
              "  <tbody>\n",
              "    <tr>\n",
              "      <th>2000</th>\n",
              "      <td>-0.001573</td>\n",
              "      <td>-0.118091</td>\n",
              "      <td>-0.239941</td>\n",
              "      <td>0.532599</td>\n",
              "    </tr>\n",
              "    <tr>\n",
              "      <th>2001</th>\n",
              "      <td>0.309641</td>\n",
              "      <td>0.298924</td>\n",
              "      <td>-0.132383</td>\n",
              "      <td>-0.283453</td>\n",
              "    </tr>\n",
              "  </tbody>\n",
              "</table>\n",
              "</div>"
            ],
            "text/plain": [
              "      Colorado     Texas  New York      Ohio\n",
              "2000 -0.001573 -0.118091 -0.239941  0.532599\n",
              "2001  0.309641  0.298924 -0.132383 -0.283453"
            ]
          },
          "metadata": {
            "tags": []
          },
          "execution_count": 42
        }
      ]
    },
    {
      "cell_type": "code",
      "metadata": {
        "id": "qSn3Vf0lacxA",
        "colab_type": "code",
        "colab": {
          "base_uri": "https://localhost:8080/",
          "height": 297
        },
        "outputId": "c847c0a4-d684-4bd6-eedc-c22a34150372"
      },
      "source": [
        "annual_frame.resample('Q-DEC').ffill() # convention 参数，默认是start "
      ],
      "execution_count": 43,
      "outputs": [
        {
          "output_type": "execute_result",
          "data": {
            "text/html": [
              "<div>\n",
              "<style scoped>\n",
              "    .dataframe tbody tr th:only-of-type {\n",
              "        vertical-align: middle;\n",
              "    }\n",
              "\n",
              "    .dataframe tbody tr th {\n",
              "        vertical-align: top;\n",
              "    }\n",
              "\n",
              "    .dataframe thead th {\n",
              "        text-align: right;\n",
              "    }\n",
              "</style>\n",
              "<table border=\"1\" class=\"dataframe\">\n",
              "  <thead>\n",
              "    <tr style=\"text-align: right;\">\n",
              "      <th></th>\n",
              "      <th>Colorado</th>\n",
              "      <th>Texas</th>\n",
              "      <th>New York</th>\n",
              "      <th>Ohio</th>\n",
              "    </tr>\n",
              "  </thead>\n",
              "  <tbody>\n",
              "    <tr>\n",
              "      <th>2000Q1</th>\n",
              "      <td>-0.001573</td>\n",
              "      <td>-0.118091</td>\n",
              "      <td>-0.239941</td>\n",
              "      <td>0.532599</td>\n",
              "    </tr>\n",
              "    <tr>\n",
              "      <th>2000Q2</th>\n",
              "      <td>-0.001573</td>\n",
              "      <td>-0.118091</td>\n",
              "      <td>-0.239941</td>\n",
              "      <td>0.532599</td>\n",
              "    </tr>\n",
              "    <tr>\n",
              "      <th>2000Q3</th>\n",
              "      <td>-0.001573</td>\n",
              "      <td>-0.118091</td>\n",
              "      <td>-0.239941</td>\n",
              "      <td>0.532599</td>\n",
              "    </tr>\n",
              "    <tr>\n",
              "      <th>2000Q4</th>\n",
              "      <td>-0.001573</td>\n",
              "      <td>-0.118091</td>\n",
              "      <td>-0.239941</td>\n",
              "      <td>0.532599</td>\n",
              "    </tr>\n",
              "    <tr>\n",
              "      <th>2001Q1</th>\n",
              "      <td>0.309641</td>\n",
              "      <td>0.298924</td>\n",
              "      <td>-0.132383</td>\n",
              "      <td>-0.283453</td>\n",
              "    </tr>\n",
              "    <tr>\n",
              "      <th>2001Q2</th>\n",
              "      <td>0.309641</td>\n",
              "      <td>0.298924</td>\n",
              "      <td>-0.132383</td>\n",
              "      <td>-0.283453</td>\n",
              "    </tr>\n",
              "    <tr>\n",
              "      <th>2001Q3</th>\n",
              "      <td>0.309641</td>\n",
              "      <td>0.298924</td>\n",
              "      <td>-0.132383</td>\n",
              "      <td>-0.283453</td>\n",
              "    </tr>\n",
              "    <tr>\n",
              "      <th>2001Q4</th>\n",
              "      <td>0.309641</td>\n",
              "      <td>0.298924</td>\n",
              "      <td>-0.132383</td>\n",
              "      <td>-0.283453</td>\n",
              "    </tr>\n",
              "  </tbody>\n",
              "</table>\n",
              "</div>"
            ],
            "text/plain": [
              "        Colorado     Texas  New York      Ohio\n",
              "2000Q1 -0.001573 -0.118091 -0.239941  0.532599\n",
              "2000Q2 -0.001573 -0.118091 -0.239941  0.532599\n",
              "2000Q3 -0.001573 -0.118091 -0.239941  0.532599\n",
              "2000Q4 -0.001573 -0.118091 -0.239941  0.532599\n",
              "2001Q1  0.309641  0.298924 -0.132383 -0.283453\n",
              "2001Q2  0.309641  0.298924 -0.132383 -0.283453\n",
              "2001Q3  0.309641  0.298924 -0.132383 -0.283453\n",
              "2001Q4  0.309641  0.298924 -0.132383 -0.283453"
            ]
          },
          "metadata": {
            "tags": []
          },
          "execution_count": 43
        }
      ]
    },
    {
      "cell_type": "code",
      "metadata": {
        "id": "L8eePjHgbmFu",
        "colab_type": "code",
        "colab": {
          "base_uri": "https://localhost:8080/",
          "height": 204
        },
        "outputId": "b5ba6209-beb7-4794-b557-77ff0f305592"
      },
      "source": [
        "# convention 设置成end后。\n",
        "annual_frame.resample('Q-DEC', convention='end').ffill() # 将当前作为季度的结尾而不是开头"
      ],
      "execution_count": 44,
      "outputs": [
        {
          "output_type": "execute_result",
          "data": {
            "text/html": [
              "<div>\n",
              "<style scoped>\n",
              "    .dataframe tbody tr th:only-of-type {\n",
              "        vertical-align: middle;\n",
              "    }\n",
              "\n",
              "    .dataframe tbody tr th {\n",
              "        vertical-align: top;\n",
              "    }\n",
              "\n",
              "    .dataframe thead th {\n",
              "        text-align: right;\n",
              "    }\n",
              "</style>\n",
              "<table border=\"1\" class=\"dataframe\">\n",
              "  <thead>\n",
              "    <tr style=\"text-align: right;\">\n",
              "      <th></th>\n",
              "      <th>Colorado</th>\n",
              "      <th>Texas</th>\n",
              "      <th>New York</th>\n",
              "      <th>Ohio</th>\n",
              "    </tr>\n",
              "  </thead>\n",
              "  <tbody>\n",
              "    <tr>\n",
              "      <th>2000Q4</th>\n",
              "      <td>-0.001573</td>\n",
              "      <td>-0.118091</td>\n",
              "      <td>-0.239941</td>\n",
              "      <td>0.532599</td>\n",
              "    </tr>\n",
              "    <tr>\n",
              "      <th>2001Q1</th>\n",
              "      <td>-0.001573</td>\n",
              "      <td>-0.118091</td>\n",
              "      <td>-0.239941</td>\n",
              "      <td>0.532599</td>\n",
              "    </tr>\n",
              "    <tr>\n",
              "      <th>2001Q2</th>\n",
              "      <td>-0.001573</td>\n",
              "      <td>-0.118091</td>\n",
              "      <td>-0.239941</td>\n",
              "      <td>0.532599</td>\n",
              "    </tr>\n",
              "    <tr>\n",
              "      <th>2001Q3</th>\n",
              "      <td>-0.001573</td>\n",
              "      <td>-0.118091</td>\n",
              "      <td>-0.239941</td>\n",
              "      <td>0.532599</td>\n",
              "    </tr>\n",
              "    <tr>\n",
              "      <th>2001Q4</th>\n",
              "      <td>0.309641</td>\n",
              "      <td>0.298924</td>\n",
              "      <td>-0.132383</td>\n",
              "      <td>-0.283453</td>\n",
              "    </tr>\n",
              "  </tbody>\n",
              "</table>\n",
              "</div>"
            ],
            "text/plain": [
              "        Colorado     Texas  New York      Ohio\n",
              "2000Q4 -0.001573 -0.118091 -0.239941  0.532599\n",
              "2001Q1 -0.001573 -0.118091 -0.239941  0.532599\n",
              "2001Q2 -0.001573 -0.118091 -0.239941  0.532599\n",
              "2001Q3 -0.001573 -0.118091 -0.239941  0.532599\n",
              "2001Q4  0.309641  0.298924 -0.132383 -0.283453"
            ]
          },
          "metadata": {
            "tags": []
          },
          "execution_count": 44
        }
      ]
    },
    {
      "cell_type": "code",
      "metadata": {
        "id": "G64AllKaccDp",
        "colab_type": "code",
        "colab": {
          "base_uri": "https://localhost:8080/",
          "height": 297
        },
        "outputId": "a76199aa-4e83-4176-ea20-f9fef258755f"
      },
      "source": [
        "#  In downsampling, the target frequency must be a subperiod of the source\n",
        "# frequency.\n",
        "# • In upsampling, the target frequency must be a superperiod of the source\n",
        "# frequency.\n",
        "\n",
        "# 时间跨度的上下采样更加严格： 下采样：目标频率必须原频率的子频率。\n",
        "# 上采样：目标频率必须是原频率的超周期。\n",
        "\n",
        "# the timespans defined by  Q-\n",
        "# MAR only line up with  A-MAR ,  A-JUN ,  A-SEP , and  A-DEC\n",
        "\n",
        "annual_frame.resample('Q-MAR').ffill()  #产生了错误的结果。"
      ],
      "execution_count": 45,
      "outputs": [
        {
          "output_type": "execute_result",
          "data": {
            "text/html": [
              "<div>\n",
              "<style scoped>\n",
              "    .dataframe tbody tr th:only-of-type {\n",
              "        vertical-align: middle;\n",
              "    }\n",
              "\n",
              "    .dataframe tbody tr th {\n",
              "        vertical-align: top;\n",
              "    }\n",
              "\n",
              "    .dataframe thead th {\n",
              "        text-align: right;\n",
              "    }\n",
              "</style>\n",
              "<table border=\"1\" class=\"dataframe\">\n",
              "  <thead>\n",
              "    <tr style=\"text-align: right;\">\n",
              "      <th></th>\n",
              "      <th>Colorado</th>\n",
              "      <th>Texas</th>\n",
              "      <th>New York</th>\n",
              "      <th>Ohio</th>\n",
              "    </tr>\n",
              "  </thead>\n",
              "  <tbody>\n",
              "    <tr>\n",
              "      <th>2000Q4</th>\n",
              "      <td>-0.001573</td>\n",
              "      <td>-0.118091</td>\n",
              "      <td>-0.239941</td>\n",
              "      <td>0.532599</td>\n",
              "    </tr>\n",
              "    <tr>\n",
              "      <th>2001Q1</th>\n",
              "      <td>-0.001573</td>\n",
              "      <td>-0.118091</td>\n",
              "      <td>-0.239941</td>\n",
              "      <td>0.532599</td>\n",
              "    </tr>\n",
              "    <tr>\n",
              "      <th>2001Q2</th>\n",
              "      <td>-0.001573</td>\n",
              "      <td>-0.118091</td>\n",
              "      <td>-0.239941</td>\n",
              "      <td>0.532599</td>\n",
              "    </tr>\n",
              "    <tr>\n",
              "      <th>2001Q3</th>\n",
              "      <td>-0.001573</td>\n",
              "      <td>-0.118091</td>\n",
              "      <td>-0.239941</td>\n",
              "      <td>0.532599</td>\n",
              "    </tr>\n",
              "    <tr>\n",
              "      <th>2001Q4</th>\n",
              "      <td>0.309641</td>\n",
              "      <td>0.298924</td>\n",
              "      <td>-0.132383</td>\n",
              "      <td>-0.283453</td>\n",
              "    </tr>\n",
              "    <tr>\n",
              "      <th>2002Q1</th>\n",
              "      <td>0.309641</td>\n",
              "      <td>0.298924</td>\n",
              "      <td>-0.132383</td>\n",
              "      <td>-0.283453</td>\n",
              "    </tr>\n",
              "    <tr>\n",
              "      <th>2002Q2</th>\n",
              "      <td>0.309641</td>\n",
              "      <td>0.298924</td>\n",
              "      <td>-0.132383</td>\n",
              "      <td>-0.283453</td>\n",
              "    </tr>\n",
              "    <tr>\n",
              "      <th>2002Q3</th>\n",
              "      <td>0.309641</td>\n",
              "      <td>0.298924</td>\n",
              "      <td>-0.132383</td>\n",
              "      <td>-0.283453</td>\n",
              "    </tr>\n",
              "  </tbody>\n",
              "</table>\n",
              "</div>"
            ],
            "text/plain": [
              "        Colorado     Texas  New York      Ohio\n",
              "2000Q4 -0.001573 -0.118091 -0.239941  0.532599\n",
              "2001Q1 -0.001573 -0.118091 -0.239941  0.532599\n",
              "2001Q2 -0.001573 -0.118091 -0.239941  0.532599\n",
              "2001Q3 -0.001573 -0.118091 -0.239941  0.532599\n",
              "2001Q4  0.309641  0.298924 -0.132383 -0.283453\n",
              "2002Q1  0.309641  0.298924 -0.132383 -0.283453\n",
              "2002Q2  0.309641  0.298924 -0.132383 -0.283453\n",
              "2002Q3  0.309641  0.298924 -0.132383 -0.283453"
            ]
          },
          "metadata": {
            "tags": []
          },
          "execution_count": 45
        }
      ]
    },
    {
      "cell_type": "markdown",
      "metadata": {
        "id": "8y2QgisaBsYF",
        "colab_type": "text"
      },
      "source": [
        "## 11.7 Moving Window Functions"
      ]
    },
    {
      "cell_type": "code",
      "metadata": {
        "id": "U_8-h9QqfE0f",
        "colab_type": "code",
        "colab": {
          "base_uri": "https://localhost:8080/",
          "height": 35
        },
        "outputId": "d7e41c38-7e20-477a-f2e8-2633465b626a"
      },
      "source": [
        "cd /content/drive/My Drive/examples"
      ],
      "execution_count": 46,
      "outputs": [
        {
          "output_type": "stream",
          "text": [
            "/content/drive/My Drive/examples\n"
          ],
          "name": "stdout"
        }
      ]
    },
    {
      "cell_type": "code",
      "metadata": {
        "id": "W6vmujHDfExG",
        "colab_type": "code",
        "colab": {
          "base_uri": "https://localhost:8080/",
          "height": 419
        },
        "outputId": "4475f658-76a9-401c-8ed7-f2e162fa2b44"
      },
      "source": [
        "close_px_all = pd.read_csv('stock_px_2.csv', parse_dates=True, index_col=0)\n",
        "close_px = close_px_all[['AAPL', 'MSFT', 'XOM']]\n",
        "close_px = close_px.resample('B').ffill()\n",
        "close_px"
      ],
      "execution_count": 47,
      "outputs": [
        {
          "output_type": "execute_result",
          "data": {
            "text/html": [
              "<div>\n",
              "<style scoped>\n",
              "    .dataframe tbody tr th:only-of-type {\n",
              "        vertical-align: middle;\n",
              "    }\n",
              "\n",
              "    .dataframe tbody tr th {\n",
              "        vertical-align: top;\n",
              "    }\n",
              "\n",
              "    .dataframe thead th {\n",
              "        text-align: right;\n",
              "    }\n",
              "</style>\n",
              "<table border=\"1\" class=\"dataframe\">\n",
              "  <thead>\n",
              "    <tr style=\"text-align: right;\">\n",
              "      <th></th>\n",
              "      <th>AAPL</th>\n",
              "      <th>MSFT</th>\n",
              "      <th>XOM</th>\n",
              "    </tr>\n",
              "  </thead>\n",
              "  <tbody>\n",
              "    <tr>\n",
              "      <th>2003-01-02</th>\n",
              "      <td>7.40</td>\n",
              "      <td>21.11</td>\n",
              "      <td>29.22</td>\n",
              "    </tr>\n",
              "    <tr>\n",
              "      <th>2003-01-03</th>\n",
              "      <td>7.45</td>\n",
              "      <td>21.14</td>\n",
              "      <td>29.24</td>\n",
              "    </tr>\n",
              "    <tr>\n",
              "      <th>2003-01-06</th>\n",
              "      <td>7.45</td>\n",
              "      <td>21.52</td>\n",
              "      <td>29.96</td>\n",
              "    </tr>\n",
              "    <tr>\n",
              "      <th>2003-01-07</th>\n",
              "      <td>7.43</td>\n",
              "      <td>21.93</td>\n",
              "      <td>28.95</td>\n",
              "    </tr>\n",
              "    <tr>\n",
              "      <th>2003-01-08</th>\n",
              "      <td>7.28</td>\n",
              "      <td>21.31</td>\n",
              "      <td>28.83</td>\n",
              "    </tr>\n",
              "    <tr>\n",
              "      <th>...</th>\n",
              "      <td>...</td>\n",
              "      <td>...</td>\n",
              "      <td>...</td>\n",
              "    </tr>\n",
              "    <tr>\n",
              "      <th>2011-10-10</th>\n",
              "      <td>388.81</td>\n",
              "      <td>26.94</td>\n",
              "      <td>76.28</td>\n",
              "    </tr>\n",
              "    <tr>\n",
              "      <th>2011-10-11</th>\n",
              "      <td>400.29</td>\n",
              "      <td>27.00</td>\n",
              "      <td>76.27</td>\n",
              "    </tr>\n",
              "    <tr>\n",
              "      <th>2011-10-12</th>\n",
              "      <td>402.19</td>\n",
              "      <td>26.96</td>\n",
              "      <td>77.16</td>\n",
              "    </tr>\n",
              "    <tr>\n",
              "      <th>2011-10-13</th>\n",
              "      <td>408.43</td>\n",
              "      <td>27.18</td>\n",
              "      <td>76.37</td>\n",
              "    </tr>\n",
              "    <tr>\n",
              "      <th>2011-10-14</th>\n",
              "      <td>422.00</td>\n",
              "      <td>27.27</td>\n",
              "      <td>78.11</td>\n",
              "    </tr>\n",
              "  </tbody>\n",
              "</table>\n",
              "<p>2292 rows × 3 columns</p>\n",
              "</div>"
            ],
            "text/plain": [
              "              AAPL   MSFT    XOM\n",
              "2003-01-02    7.40  21.11  29.22\n",
              "2003-01-03    7.45  21.14  29.24\n",
              "2003-01-06    7.45  21.52  29.96\n",
              "2003-01-07    7.43  21.93  28.95\n",
              "2003-01-08    7.28  21.31  28.83\n",
              "...            ...    ...    ...\n",
              "2011-10-10  388.81  26.94  76.28\n",
              "2011-10-11  400.29  27.00  76.27\n",
              "2011-10-12  402.19  26.96  77.16\n",
              "2011-10-13  408.43  27.18  76.37\n",
              "2011-10-14  422.00  27.27  78.11\n",
              "\n",
              "[2292 rows x 3 columns]"
            ]
          },
          "metadata": {
            "tags": []
          },
          "execution_count": 47
        }
      ]
    },
    {
      "cell_type": "code",
      "metadata": {
        "id": "kUDeVGbvgEy1",
        "colab_type": "code",
        "colab": {
          "base_uri": "https://localhost:8080/",
          "height": 283
        },
        "outputId": "d5ff665a-d38f-4fcf-d890-ee2645db2611"
      },
      "source": [
        "close_px.AAPL.plot()\n",
        "close_px.AAPL.rolling(250).mean().plot() # 滑动窗口的平均。类似于groupby 和 resample ,调用后可以调用统计函数。"
      ],
      "execution_count": 50,
      "outputs": [
        {
          "output_type": "execute_result",
          "data": {
            "text/plain": [
              "<matplotlib.axes._subplots.AxesSubplot at 0x7f6d3992ec18>"
            ]
          },
          "metadata": {
            "tags": []
          },
          "execution_count": 50
        },
        {
          "output_type": "display_data",
          "data": {
            "image/png": "[encoded data removed]",
            "text/plain": [
              "<Figure size 432x288 with 1 Axes>"
            ]
          },
          "metadata": {
            "tags": [],
            "needs_background": "light"
          }
        }
      ]
    },
    {
      "cell_type": "code",
      "metadata": {
        "id": "l11oyhqqiIpb",
        "colab_type": "code",
        "colab": {
          "base_uri": "https://localhost:8080/",
          "height": 125
        },
        "outputId": "57ec9e76-01df-4ad7-f97a-d327ae43d50c"
      },
      "source": [
        "# 一个问题，在开始阶段，我们数据可能少于window periods 怎么设置？？？\n",
        "# min_periods 这个参数可以\n",
        "\n",
        "appl_std250 = close_px.AAPL.rolling(250, min_periods=10).std()\n",
        "\n",
        "appl_std250[5:10]"
      ],
      "execution_count": 51,
      "outputs": [
        {
          "output_type": "execute_result",
          "data": {
            "text/plain": [
              "2003-01-09         NaN\n",
              "2003-01-10         NaN\n",
              "2003-01-13         NaN\n",
              "2003-01-14         NaN\n",
              "2003-01-15    0.077496\n",
              "Freq: B, Name: AAPL, dtype: float64"
            ]
          },
          "metadata": {
            "tags": []
          },
          "execution_count": 51
        }
      ]
    },
    {
      "cell_type": "code",
      "metadata": {
        "id": "8v6uHDFniInx",
        "colab_type": "code",
        "colab": {
          "base_uri": "https://localhost:8080/",
          "height": 283
        },
        "outputId": "acd9d369-477a-4ed8-fb15-310572909148"
      },
      "source": [
        "appl_std250.plot()"
      ],
      "execution_count": 52,
      "outputs": [
        {
          "output_type": "execute_result",
          "data": {
            "text/plain": [
              "<matplotlib.axes._subplots.AxesSubplot at 0x7f6d39a1de10>"
            ]
          },
          "metadata": {
            "tags": []
          },
          "execution_count": 52
        },
        {
          "output_type": "display_data",
          "data": {
            "image/png": "[encoded data removed]",
            "text/plain": [
              "<Figure size 432x288 with 1 Axes>"
            ]
          },
          "metadata": {
            "tags": [],
            "needs_background": "light"
          }
        }
      ]
    },
    {
      "cell_type": "code",
      "metadata": {
        "id": "C7AJ-yDgiImF",
        "colab_type": "code",
        "colab": {}
      },
      "source": [
        "close_px.AAPL.rolling?\n",
        "Signature: close_px.AAPL.rolling(window, min_periods=None, center=False, win_type=None, on=None, axis=0, closed=None)\n",
        "Docstring:\n",
        "Provide rolling window calculations.\n",
        "\n",
        "Parameters\n",
        "----------\n",
        "window : int, offset, or BaseIndexer subclass\n",
        "    Size of the moving window. This is the number of observations used for\n",
        "    calculating the statistic. Each window will be a fixed size.\n",
        "\n",
        "    If its an offset then this will be the time period of each window. Each\n",
        "    window will be a variable sized based on the observations included in\n",
        "    the time-period. This is only valid for datetimelike indexes.\n",
        "\n",
        "    If a BaseIndexer subclass is passed, calculates the window boundaries\n",
        "    based on the defined ``get_window_bounds`` method. Additional rolling\n",
        "    keyword arguments, namely `min_periods`, `center`, and\n",
        "    `closed` will be passed to `get_window_bounds`.\n",
        "min_periods : int, default None\n",
        "    Minimum number of observations in window required to have a value\n",
        "    (otherwise result is NA). For a window that is specified by an offset,\n",
        "    `min_periods` will default to 1. Otherwise, `min_periods` will default\n",
        "    to the size of the window.\n",
        "center : bool, default False\n",
        "    Set the labels at the center of the window.\n",
        "win_type : str, default None\n",
        "    Provide a window type. If ``None``, all points are evenly weighted.\n",
        "    See the notes below for further information.\n",
        "on : str, optional\n",
        "    For a DataFrame, a datetime-like column or MultiIndex level on which\n",
        "    to calculate the rolling window, rather than the DataFrame's index.\n",
        "    Provided integer column is ignored and excluded from result since\n",
        "    an integer index is not used to calculate the rolling window.\n",
        "axis : int or str, default 0\n",
        "closed : str, default None\n",
        "    Make the interval closed on the 'right', 'left', 'both' or\n",
        "    'neither' endpoints.\n",
        "    For offset-based windows, it defaults to 'right'.\n",
        "    For fixed windows, defaults to 'both'. Remaining cases not implemented\n",
        "    for fixed windows.\n",
        "\n",
        "Returns\n",
        "-------\n",
        "a Window or Rolling sub-classed for the particular operation\n",
        "\n",
        "See Also\n",
        "--------\n",
        "expanding : Provides expanding transformations.\n",
        "ewm : Provides exponential weighted functions.\n",
        "\n",
        "Notes\n",
        "-----\n",
        "By default, the result is set to the right edge of the window. This can be\n",
        "changed to the center of the window by setting ``center=True``.\n",
        "\n",
        "To learn more about the offsets & frequency strings, please see `this link\n",
        "<https://pandas.pydata.org/pandas-docs/stable/user_guide/timeseries.html#offset-aliases>`__.\n",
        "\n",
        "The recognized win_types are:\n",
        "win_types 指定统计方法，不指定默认算数平均。\n",
        "* ``boxcar``\n",
        "* ``triang``\n",
        "* ``blackman``\n",
        "* ``hamming``\n",
        "* ``bartlett``\n",
        "* ``parzen``\n",
        "* ``bohman``\n",
        "* ``blackmanharris``\n",
        "* ``nuttall``\n",
        "* ``barthann``\n",
        "* ``kaiser`` (needs beta)\n",
        "* ``gaussian`` (needs std)\n",
        "* ``general_gaussian`` (needs power, width)\n",
        "* ``slepian`` (needs width)\n",
        "* ``exponential`` (needs tau), center is set to None.\n",
        "\n",
        "If ``win_type=None`` all points are evenly weighted. To learn more about\n",
        "different window types see `scipy.signal window functions\n",
        "<https://docs.scipy.org/doc/scipy/reference/signal.html#window-functions>`__.\n",
        "\n",
        "Examples\n",
        "--------\n",
        "\n",
        ">>> df = pd.DataFrame({'B': [0, 1, 2, np.nan, 4]})\n",
        ">>> df\n",
        "     B\n",
        "0  0.0\n",
        "1  1.0\n",
        "2  2.0\n",
        "3  NaN\n",
        "4  4.0\n",
        "\n",
        "Rolling sum with a window length of 2, using the 'triang'\n",
        "window type.\n",
        "\n",
        ">>> df.rolling(2, win_type='triang').sum()\n",
        "     B\n",
        "0  NaN\n",
        "1  0.5\n",
        "2  1.5\n",
        "3  NaN\n",
        "4  NaN\n",
        "\n",
        "Rolling sum with a window length of 2, using the 'gaussian'\n",
        "window type (note how we need to specify std).\n",
        "\n",
        ">>> df.rolling(2, win_type='gaussian').sum(std=3)\n",
        "          B\n",
        "0       NaN\n",
        "1  0.986207\n",
        "2  2.958621\n",
        "3       NaN\n",
        "4       NaN\n",
        "\n",
        "Rolling sum with a window length of 2, min_periods defaults\n",
        "to the window length.\n",
        "\n",
        ">>> df.rolling(2).sum()\n",
        "     B\n",
        "0  NaN\n",
        "1  1.0\n",
        "2  3.0\n",
        "3  NaN\n",
        "4  NaN\n",
        "\n",
        "Same as above, but explicitly set the min_periods\n",
        "\n",
        ">>> df.rolling(2, min_periods=1).sum()\n",
        "     B\n",
        "0  0.0\n",
        "1  1.0\n",
        "2  3.0\n",
        "3  2.0\n",
        "4  4.0\n",
        "\n",
        "A ragged (meaning not-a-regular frequency), time-indexed DataFrame\n",
        "\n",
        ">>> df = pd.DataFrame({'B': [0, 1, 2, np.nan, 4]},\n",
        "...                   index = [pd.Timestamp('20130101 09:00:00'),\n",
        "...                            pd.Timestamp('20130101 09:00:02'),\n",
        "...                            pd.Timestamp('20130101 09:00:03'),\n",
        "...                            pd.Timestamp('20130101 09:00:05'),\n",
        "...                            pd.Timestamp('20130101 09:00:06')])\n",
        "\n",
        ">>> df\n",
        "                       B\n",
        "2013-01-01 09:00:00  0.0\n",
        "2013-01-01 09:00:02  1.0\n",
        "2013-01-01 09:00:03  2.0\n",
        "2013-01-01 09:00:05  NaN\n",
        "2013-01-01 09:00:06  4.0\n",
        "\n",
        "Contrasting to an integer rolling window, this will roll a variable\n",
        "length window corresponding to the time period.\n",
        "The default for min_periods is 1.\n",
        "\n",
        ">>> df.rolling('2s').sum()\n",
        "                       B\n",
        "2013-01-01 09:00:00  0.0\n",
        "2013-01-01 09:00:02  1.0\n",
        "2013-01-01 09:00:03  3.0\n",
        "2013-01-01 09:00:05  NaN\n",
        "2013-01-01 09:00:06  4.0\n",
        "File:      /usr/local/lib/python3.6/dist-packages/pandas/core/generic.py\n",
        "Type:      method"
      ],
      "execution_count": 53,
      "outputs": []
    },
    {
      "cell_type": "code",
      "metadata": {
        "id": "NmcaUrbwiIkU",
        "colab_type": "code",
        "colab": {}
      },
      "source": [
        "# 从上函数说明来看，最重要的三个参数： window，指定大小。  min_period :最小。\n",
        "# win_type()\n",
        "\n",
        "# expanding 从窗口从小到大，知道最后充满整个序列。\n",
        "\n",
        "expending_mean = appl_std250.expanding().mean()"
      ],
      "execution_count": 54,
      "outputs": []
    },
    {
      "cell_type": "code",
      "metadata": {
        "id": "xqhnkXBTmgHL",
        "colab_type": "code",
        "colab": {
          "base_uri": "https://localhost:8080/",
          "height": 283
        },
        "outputId": "ebb8c9cc-78eb-4d23-8c2a-6fce26f07610"
      },
      "source": [
        "expending_mean.plot()"
      ],
      "execution_count": 55,
      "outputs": [
        {
          "output_type": "execute_result",
          "data": {
            "text/plain": [
              "<matplotlib.axes._subplots.AxesSubplot at 0x7f6d38689588>"
            ]
          },
          "metadata": {
            "tags": []
          },
          "execution_count": 55
        },
        {
          "output_type": "display_data",
          "data": {
            "image/png": "[encoded data removed]",
            "text/plain": [
              "<Figure size 432x288 with 1 Axes>"
            ]
          },
          "metadata": {
            "tags": [],
            "needs_background": "light"
          }
        }
      ]
    },
    {
      "cell_type": "code",
      "metadata": {
        "id": "rwLY9x39mwCq",
        "colab_type": "code",
        "colab": {
          "base_uri": "https://localhost:8080/",
          "height": 419
        },
        "outputId": "ddb4e899-ae27-425b-a0fa-012373d39541"
      },
      "source": [
        "# 对于dataframe来说，进行rolling或者expendding，都是根据列来的。\n",
        "\n",
        "close_px"
      ],
      "execution_count": 56,
      "outputs": [
        {
          "output_type": "execute_result",
          "data": {
            "text/html": [
              "<div>\n",
              "<style scoped>\n",
              "    .dataframe tbody tr th:only-of-type {\n",
              "        vertical-align: middle;\n",
              "    }\n",
              "\n",
              "    .dataframe tbody tr th {\n",
              "        vertical-align: top;\n",
              "    }\n",
              "\n",
              "    .dataframe thead th {\n",
              "        text-align: right;\n",
              "    }\n",
              "</style>\n",
              "<table border=\"1\" class=\"dataframe\">\n",
              "  <thead>\n",
              "    <tr style=\"text-align: right;\">\n",
              "      <th></th>\n",
              "      <th>AAPL</th>\n",
              "      <th>MSFT</th>\n",
              "      <th>XOM</th>\n",
              "    </tr>\n",
              "  </thead>\n",
              "  <tbody>\n",
              "    <tr>\n",
              "      <th>2003-01-02</th>\n",
              "      <td>7.40</td>\n",
              "      <td>21.11</td>\n",
              "      <td>29.22</td>\n",
              "    </tr>\n",
              "    <tr>\n",
              "      <th>2003-01-03</th>\n",
              "      <td>7.45</td>\n",
              "      <td>21.14</td>\n",
              "      <td>29.24</td>\n",
              "    </tr>\n",
              "    <tr>\n",
              "      <th>2003-01-06</th>\n",
              "      <td>7.45</td>\n",
              "      <td>21.52</td>\n",
              "      <td>29.96</td>\n",
              "    </tr>\n",
              "    <tr>\n",
              "      <th>2003-01-07</th>\n",
              "      <td>7.43</td>\n",
              "      <td>21.93</td>\n",
              "      <td>28.95</td>\n",
              "    </tr>\n",
              "    <tr>\n",
              "      <th>2003-01-08</th>\n",
              "      <td>7.28</td>\n",
              "      <td>21.31</td>\n",
              "      <td>28.83</td>\n",
              "    </tr>\n",
              "    <tr>\n",
              "      <th>...</th>\n",
              "      <td>...</td>\n",
              "      <td>...</td>\n",
              "      <td>...</td>\n",
              "    </tr>\n",
              "    <tr>\n",
              "      <th>2011-10-10</th>\n",
              "      <td>388.81</td>\n",
              "      <td>26.94</td>\n",
              "      <td>76.28</td>\n",
              "    </tr>\n",
              "    <tr>\n",
              "      <th>2011-10-11</th>\n",
              "      <td>400.29</td>\n",
              "      <td>27.00</td>\n",
              "      <td>76.27</td>\n",
              "    </tr>\n",
              "    <tr>\n",
              "      <th>2011-10-12</th>\n",
              "      <td>402.19</td>\n",
              "      <td>26.96</td>\n",
              "      <td>77.16</td>\n",
              "    </tr>\n",
              "    <tr>\n",
              "      <th>2011-10-13</th>\n",
              "      <td>408.43</td>\n",
              "      <td>27.18</td>\n",
              "      <td>76.37</td>\n",
              "    </tr>\n",
              "    <tr>\n",
              "      <th>2011-10-14</th>\n",
              "      <td>422.00</td>\n",
              "      <td>27.27</td>\n",
              "      <td>78.11</td>\n",
              "    </tr>\n",
              "  </tbody>\n",
              "</table>\n",
              "<p>2292 rows × 3 columns</p>\n",
              "</div>"
            ],
            "text/plain": [
              "              AAPL   MSFT    XOM\n",
              "2003-01-02    7.40  21.11  29.22\n",
              "2003-01-03    7.45  21.14  29.24\n",
              "2003-01-06    7.45  21.52  29.96\n",
              "2003-01-07    7.43  21.93  28.95\n",
              "2003-01-08    7.28  21.31  28.83\n",
              "...            ...    ...    ...\n",
              "2011-10-10  388.81  26.94  76.28\n",
              "2011-10-11  400.29  27.00  76.27\n",
              "2011-10-12  402.19  26.96  77.16\n",
              "2011-10-13  408.43  27.18  76.37\n",
              "2011-10-14  422.00  27.27  78.11\n",
              "\n",
              "[2292 rows x 3 columns]"
            ]
          },
          "metadata": {
            "tags": []
          },
          "execution_count": 56
        }
      ]
    },
    {
      "cell_type": "code",
      "metadata": {
        "id": "_Fe5NpB6m646",
        "colab_type": "code",
        "colab": {
          "base_uri": "https://localhost:8080/",
          "height": 283
        },
        "outputId": "8b41fa01-c1d5-4969-e3d6-cfe12ee49a06"
      },
      "source": [
        "close_px.rolling(60).mean().plot(logy=True)"
      ],
      "execution_count": 57,
      "outputs": [
        {
          "output_type": "execute_result",
          "data": {
            "text/plain": [
              "<matplotlib.axes._subplots.AxesSubplot at 0x7f6d37f54550>"
            ]
          },
          "metadata": {
            "tags": []
          },
          "execution_count": 57
        },
        {
          "output_type": "display_data",
          "data": {
            "image/png": "[encoded data removed]",
            "text/plain": [
              "<Figure size 432x288 with 1 Axes>"
            ]
          },
          "metadata": {
            "tags": [],
            "needs_background": "light"
          }
        }
      ]
    },
    {
      "cell_type": "code",
      "metadata": {
        "id": "MJN4j6P5nKas",
        "colab_type": "code",
        "colab": {
          "base_uri": "https://localhost:8080/",
          "height": 283
        },
        "outputId": "d99efff4-c977-4df6-9f79-c951d79b1494"
      },
      "source": [
        "close_px.expanding().mean().plot(logy=True)"
      ],
      "execution_count": 59,
      "outputs": [
        {
          "output_type": "execute_result",
          "data": {
            "text/plain": [
              "<matplotlib.axes._subplots.AxesSubplot at 0x7f6d37ca41d0>"
            ]
          },
          "metadata": {
            "tags": []
          },
          "execution_count": 59
        },
        {
          "output_type": "display_data",
          "data": {
            "image/png": "[encoded data removed]",
            "text/plain": [
              "<Figure size 432x288 with 1 Axes>"
            ]
          },
          "metadata": {
            "tags": [],
            "needs_background": "light"
          }
        }
      ]
    },
    {
      "cell_type": "code",
      "metadata": {
        "id": "1fHsa-JJn4R7",
        "colab_type": "code",
        "colab": {
          "base_uri": "https://localhost:8080/",
          "height": 283
        },
        "outputId": "58d040ec-3e5b-413d-f1ea-40972bbb7dc6"
      },
      "source": [
        "# 也可以传递 offset对象。\n",
        "close_px.rolling('20D').mean().plot()"
      ],
      "execution_count": 61,
      "outputs": [
        {
          "output_type": "execute_result",
          "data": {
            "text/plain": [
              "<matplotlib.axes._subplots.AxesSubplot at 0x7f6d37ad9908>"
            ]
          },
          "metadata": {
            "tags": []
          },
          "execution_count": 61
        },
        {
          "output_type": "display_data",
          "data": {
            "image/png": "[encoded data removed]",
            "text/plain": [
              "<Figure size 432x288 with 1 Axes>"
            ]
          },
          "metadata": {
            "tags": [],
            "needs_background": "light"
          }
        }
      ]
    },
    {
      "cell_type": "markdown",
      "metadata": {
        "id": "vhRX2mPBBsdN",
        "colab_type": "text"
      },
      "source": [
        "### Exponentially Weighted Functions"
      ]
    },
    {
      "cell_type": "markdown",
      "metadata": {
        "id": "qzzhIr72e-0X",
        "colab_type": "text"
      },
      "source": [
        "更重视近期的加权。"
      ]
    },
    {
      "cell_type": "code",
      "metadata": {
        "id": "ro10nVYEB54e",
        "colab_type": "code",
        "colab": {}
      },
      "source": [
        "appl_px = close_px.AAPL['2006':'2007']\n",
        "\n",
        "ma60 = appl_px.rolling(30, min_periods=20).mean()\n",
        "\n",
        "ma60x = appl_px.rolling(30, min_periods=20)\n",
        "\n",
        "ewma60 = appl_px.ewm(span=30).mean()\n"
      ],
      "execution_count": 65,
      "outputs": []
    },
    {
      "cell_type": "code",
      "metadata": {
        "id": "HpZ5XM7vCj6Q",
        "colab_type": "code",
        "colab": {
          "base_uri": "https://localhost:8080/",
          "height": 277
        },
        "outputId": "f514e050-d7f3-444a-aaa3-d0d7c9ed9a70"
      },
      "source": [
        "# 画图。\n",
        "import matplotlib.pyplot as plt\n",
        "\n",
        "ma60.plot(style='k--', label='Simple MA')\n",
        "ewma60.plot(style='r-', label = 'EW MA')\n",
        "\n",
        "plt.legend()\n",
        "plt.show()"
      ],
      "execution_count": 68,
      "outputs": [
        {
          "output_type": "display_data",
          "data": {
            "image/png": "[encoded data removed]",
            "text/plain": [
              "<Figure size 432x288 with 1 Axes>"
            ]
          },
          "metadata": {
            "tags": [],
            "needs_background": "light"
          }
        }
      ]
    },
    {
      "cell_type": "markdown",
      "metadata": {
        "id": "PzozffsWBsgF",
        "colab_type": "text"
      },
      "source": [
        "### Binary Moving Window Functions"
      ]
    },
    {
      "cell_type": "code",
      "metadata": {
        "id": "yUIFQr0FHddU",
        "colab_type": "code",
        "colab": {}
      },
      "source": [
        "# 计算苹果股票的滑动均值变化于标准普尔变化的相关性。\n",
        "\n",
        "spx_px = close_px_all['SPX']"
      ],
      "execution_count": 69,
      "outputs": []
    },
    {
      "cell_type": "code",
      "metadata": {
        "id": "ez7ODmrIHdaE",
        "colab_type": "code",
        "colab": {}
      },
      "source": [
        "spx_rets = spx_px.pct_change()\n",
        "returns = close_px.pct_change()\n",
        "\n",
        "corr = returns.AAPL.rolling(125, min_periods=100).corr(spx_rets)"
      ],
      "execution_count": 71,
      "outputs": []
    },
    {
      "cell_type": "code",
      "metadata": {
        "id": "3l0-4T1WHdNk",
        "colab_type": "code",
        "colab": {
          "base_uri": "https://localhost:8080/",
          "height": 283
        },
        "outputId": "f6a8a005-18af-4e33-f825-b42cad829812"
      },
      "source": [
        "corr.plot()\n"
      ],
      "execution_count": 72,
      "outputs": [
        {
          "output_type": "execute_result",
          "data": {
            "text/plain": [
              "<matplotlib.axes._subplots.AxesSubplot at 0x7f6d2cf610b8>"
            ]
          },
          "metadata": {
            "tags": []
          },
          "execution_count": 72
        },
        {
          "output_type": "display_data",
          "data": {
            "image/png": "[encoded data removed]",
            "text/plain": [
              "<Figure size 432x288 with 1 Axes>"
            ]
          },
          "metadata": {
            "tags": [],
            "needs_background": "light"
          }
        }
      ]
    },
    {
      "cell_type": "code",
      "metadata": {
        "id": "7OC4LpZKIiTq",
        "colab_type": "code",
        "colab": {
          "base_uri": "https://localhost:8080/",
          "height": 283
        },
        "outputId": "be985592-57e0-49d9-cbe0-e71f05b7610f"
      },
      "source": [
        "# 如果要一次计算很多类数据对标准普尔的相关数据呢。\n",
        "# rolling_corr\n",
        "\n",
        "corr = returns.rolling(125, min_periods=100).corr(spx_rets)\n",
        "corr.plot()"
      ],
      "execution_count": 73,
      "outputs": [
        {
          "output_type": "execute_result",
          "data": {
            "text/plain": [
              "<matplotlib.axes._subplots.AxesSubplot at 0x7f6d2ce7d240>"
            ]
          },
          "metadata": {
            "tags": []
          },
          "execution_count": 73
        },
        {
          "output_type": "display_data",
          "data": {
            "image/png": "[encoded data removed]",
            "text/plain": [
              "<Figure size 432x288 with 1 Axes>"
            ]
          },
          "metadata": {
            "tags": [],
            "needs_background": "light"
          }
        }
      ]
    },
    {
      "cell_type": "markdown",
      "metadata": {
        "id": "HwcguupeBsi2",
        "colab_type": "text"
      },
      "source": [
        "### User-Defined Moving Window Functions\n",
        "\n",
        "\n",
        "用户自定义的，移动窗口函数。"
      ]
    },
    {
      "cell_type": "code",
      "metadata": {
        "id": "6KHEp5piIiXD",
        "colab_type": "code",
        "colab": {
          "base_uri": "https://localhost:8080/",
          "height": 283
        },
        "outputId": "aee631fb-bee8-422c-af74-cd553727665d"
      },
      "source": [
        "# 我们之前都是用的mean,sum函数，其实也可以自定义函数，要注意的就是，函数是从一个list返回一个标量即可。\n",
        "\n",
        "from scipy.stats import percentileofscore\n",
        "score_at_2percent = lambda x: percentileofscore(x, 0.02)\n",
        "reslult = returns.AAPL.rolling(250).apply(score_at_2percent)\n",
        "reslult.plot()"
      ],
      "execution_count": 74,
      "outputs": [
        {
          "output_type": "execute_result",
          "data": {
            "text/plain": [
              "<matplotlib.axes._subplots.AxesSubplot at 0x7f6d39cdcb00>"
            ]
          },
          "metadata": {
            "tags": []
          },
          "execution_count": 74
        },
        {
          "output_type": "display_data",
          "data": {
            "image/png": "[encoded data removed]",
            "text/plain": [
              "<Figure size 432x288 with 1 Axes>"
            ]
          },
          "metadata": {
            "tags": [],
            "needs_background": "light"
          }
        }
      ]
    },
    {
      "cell_type": "code",
      "metadata": {
        "id": "UziBmlDCBofB",
        "colab_type": "code",
        "colab": {}
      },
      "source": [
        " # 下一章节，继续前进，学习使用更加高级的方法，和一些模型库，比如statsmodels，scikit-learn."
      ],
      "execution_count": null,
      "outputs": []
    }
  ]
}