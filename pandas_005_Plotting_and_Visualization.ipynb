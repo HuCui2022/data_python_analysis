{
  "nbformat": 4,
  "nbformat_minor": 0,
  "metadata": {
    "colab": {
      "name": "pandas_005_Plotting_and_Visualization.ipynb",
      "provenance": [],
      "collapsed_sections": [],
      "authorship_tag": "ABX9TyO5uT7wGExMxt0ENC218uLR",
      "include_colab_link": true
    },
    "kernelspec": {
      "name": "python3",
      "display_name": "Python 3"
    }
  },
  "cells": [
    {
      "cell_type": "markdown",
      "metadata": {
        "id": "view-in-github",
        "colab_type": "text"
      },
      "source": [
        "<a href=\"https://colab.research.google.com/github/smiledinisa/data_python_analysis/blob/master/pandas_005_Plotting_and_Visualization.ipynb\" target=\"_parent\"><img src=\"https://colab.research.google.com/assets/colab-badge.svg\" alt=\"Open In Colab\"/></a>"
      ]
    },
    {
      "cell_type": "markdown",
      "metadata": {
        "id": "MeirAhGwuawl",
        "colab_type": "text"
      },
      "source": [
        "# CHAPTER 9 : Ploting and Visualization."
      ]
    },
    {
      "cell_type": "code",
      "metadata": {
        "id": "auOuykLWtyJI",
        "colab_type": "code",
        "colab": {
          "base_uri": "https://localhost:8080/",
          "height": 127
        },
        "outputId": "94cee343-a49e-4632-aa00-485445aa4bd4"
      },
      "source": [
        "from google.colab import drive\n",
        "drive.mount('/content/drive/')"
      ],
      "execution_count": 3,
      "outputs": [
        {
          "output_type": "stream",
          "text": [
            "Go to this URL in a browser: https://accounts.google.com/o/oauth2/auth?client_id=947318989803-6bn6qk8qdgf4n4g3pfee6491hc0brc4i.apps.googleusercontent.com&redirect_uri=urn%3aietf%3awg%3aoauth%3a2.0%3aoob&scope=email%20https%3a%2f%2fwww.googleapis.com%2fauth%2fdocs.test%20https%3a%2f%2fwww.googleapis.com%2fauth%2fdrive%20https%3a%2f%2fwww.googleapis.com%2fauth%2fdrive.photos.readonly%20https%3a%2f%2fwww.googleapis.com%2fauth%2fpeopleapi.readonly&response_type=code\n",
            "\n",
            "Enter your authorization code:\n",
            "··········\n",
            "Mounted at /content/drive/\n"
          ],
          "name": "stdout"
        }
      ]
    },
    {
      "cell_type": "code",
      "metadata": {
        "id": "12Dc45qUuFoY",
        "colab_type": "code",
        "colab": {
          "base_uri": "https://localhost:8080/",
          "height": 35
        },
        "outputId": "1a01aca4-1822-4d13-dd00-5a83e5a04f29"
      },
      "source": [
        "cd /content/drive/My Drive/examples"
      ],
      "execution_count": 4,
      "outputs": [
        {
          "output_type": "stream",
          "text": [
            "/content/drive/My Drive/examples\n"
          ],
          "name": "stdout"
        }
      ]
    },
    {
      "cell_type": "markdown",
      "metadata": {
        "id": "78u29z3KyBey",
        "colab_type": "text"
      },
      "source": [
        "## 9.1 A Brief matplotlib API Primer."
      ]
    },
    {
      "cell_type": "code",
      "metadata": {
        "id": "2TvVxT8Uy7cZ",
        "colab_type": "code",
        "colab": {}
      },
      "source": [
        "# we use folling import convention:\n",
        "import matplotlib.pyplot as plt\n",
        "import numpy as np\n"
      ],
      "execution_count": 7,
      "outputs": []
    },
    {
      "cell_type": "code",
      "metadata": {
        "id": "qpjEDGBpy7fC",
        "colab_type": "code",
        "colab": {
          "base_uri": "https://localhost:8080/",
          "height": 319
        },
        "outputId": "bcb44e24-a994-4347-fbd5-f40bbc8668fd"
      },
      "source": [
        "%matplotlib\n",
        "data = np.arange(10)\n",
        "print(data)\n",
        "\n",
        "plt.plot(data)"
      ],
      "execution_count": 13,
      "outputs": [
        {
          "output_type": "stream",
          "text": [
            "Using matplotlib backend: agg\n",
            "[0 1 2 3 4 5 6 7 8 9]\n"
          ],
          "name": "stdout"
        },
        {
          "output_type": "execute_result",
          "data": {
            "text/plain": [
              "[<matplotlib.lines.Line2D at 0x7f477ed5e898>]"
            ]
          },
          "metadata": {
            "tags": []
          },
          "execution_count": 13
        },
        {
          "output_type": "display_data",
          "data": {
            "image/png": "[encoded data removed]",
            "text/plain": [
              "<Figure size 432x288 with 1 Axes>"
            ]
          },
          "metadata": {
            "tags": [],
            "needs_background": "light"
          }
        }
      ]
    },
    {
      "cell_type": "markdown",
      "metadata": {
        "id": "EpIMFBmIuYbp",
        "colab_type": "text"
      },
      "source": [
        "###Figures and Subplots\n",
        "\n",
        "\n",
        "One nuance of using Jupyter notebooks is that plots are reset after\n",
        "each cell is evaluated, so for more complex plots you must put all of\n",
        "the plotting commands in a single notebook cell.\n",
        "\n",
        "---\n",
        "注意，在note中绘图，应该尽量让绘图命令在一个单元格内，因为figure对象在单元格冲重新赋值后，会初始化。\n",
        "---"
      ]
    },
    {
      "cell_type": "code",
      "metadata": {
        "id": "XOxlmFOGy7h6",
        "colab_type": "code",
        "colab": {
          "base_uri": "https://localhost:8080/",
          "height": 269
        },
        "outputId": "58de08cf-6534-4f41-f0d2-7c73ffe4136f"
      },
      "source": [
        "fig = plt.figure()\n",
        "ax1 = fig.add_subplot(2,2,1)\n",
        "ax2 = fig.add_subplot(2,2,2)\n",
        "ax3 = fig.add_subplot(2,2,3)\n"
      ],
      "execution_count": 14,
      "outputs": [
        {
          "output_type": "display_data",
          "data": {
            "image/png": "[encoded data removed]",
            "text/plain": [
              "<Figure size 432x288 with 3 Axes>"
            ]
          },
          "metadata": {
            "tags": [],
            "needs_background": "light"
          }
        }
      ]
    },
    {
      "cell_type": "code",
      "metadata": {
        "id": "vFct7fjX0Tj5",
        "colab_type": "code",
        "colab": {
          "base_uri": "https://localhost:8080/",
          "height": 283
        },
        "outputId": "28b568e9-b825-4f31-f8ed-1aff9760098c"
      },
      "source": [
        "plt.plot(np.random.randn(50).cumsum(), 'k--') #可以看出，跟之前的figure毫无关系。"
      ],
      "execution_count": 15,
      "outputs": [
        {
          "output_type": "execute_result",
          "data": {
            "text/plain": [
              "[<matplotlib.lines.Line2D at 0x7f477ec2b748>]"
            ]
          },
          "metadata": {
            "tags": []
          },
          "execution_count": 15
        },
        {
          "output_type": "display_data",
          "data": {
            "image/png": "[encoded data removed]",
            "text/plain": [
              "<Figure size 432x288 with 1 Axes>"
            ]
          },
          "metadata": {
            "tags": [],
            "needs_background": "light"
          }
        }
      ]
    },
    {
      "cell_type": "code",
      "metadata": {
        "id": "GPpx1bo90TnZ",
        "colab_type": "code",
        "colab": {
          "base_uri": "https://localhost:8080/",
          "height": 287
        },
        "outputId": "b971217f-eac7-4082-bcec-cf82dcea7d14"
      },
      "source": [
        "fig = plt.figure()\n",
        "ax1 = fig.add_subplot(2,2,1)\n",
        "ax2 = fig.add_subplot(2,2,2)\n",
        "ax3 = fig.add_subplot(2,2,3)\n",
        "\n",
        "plt.plot(np.random.randn(50).cumsum(), 'k--') #而这样的，则会默认在最后一个figure的最后一个subplot进行绘图。"
      ],
      "execution_count": 18,
      "outputs": [
        {
          "output_type": "execute_result",
          "data": {
            "text/plain": [
              "[<matplotlib.lines.Line2D at 0x7f477ea335f8>]"
            ]
          },
          "metadata": {
            "tags": []
          },
          "execution_count": 18
        },
        {
          "output_type": "display_data",
          "data": {
            "image/png": "[encoded data removed]",
            "text/plain": [
              "<Figure size 432x288 with 3 Axes>"
            ]
          },
          "metadata": {
            "tags": [],
            "needs_background": "light"
          }
        }
      ]
    },
    {
      "cell_type": "code",
      "metadata": {
        "id": "uLv0esnI0Tq5",
        "colab_type": "code",
        "colab": {}
      },
      "source": [
        ""
      ],
      "execution_count": null,
      "outputs": []
    },
    {
      "cell_type": "code",
      "metadata": {
        "id": "IptPZhGX0TuJ",
        "colab_type": "code",
        "colab": {}
      },
      "source": [
        ""
      ],
      "execution_count": null,
      "outputs": []
    },
    {
      "cell_type": "code",
      "metadata": {
        "id": "sTyYIujQ0UA8",
        "colab_type": "code",
        "colab": {}
      },
      "source": [
        ""
      ],
      "execution_count": null,
      "outputs": []
    },
    {
      "cell_type": "code",
      "metadata": {
        "id": "Lh3z0FuW0UER",
        "colab_type": "code",
        "colab": {}
      },
      "source": [
        ""
      ],
      "execution_count": null,
      "outputs": []
    },
    {
      "cell_type": "code",
      "metadata": {
        "id": "gVVqoAtY0UHh",
        "colab_type": "code",
        "colab": {}
      },
      "source": [
        ""
      ],
      "execution_count": null,
      "outputs": []
    },
    {
      "cell_type": "markdown",
      "metadata": {
        "id": "JA_3iXXgyJbA",
        "colab_type": "text"
      },
      "source": [
        "###Colors, Markers, and Line Styles"
      ]
    },
    {
      "cell_type": "markdown",
      "metadata": {
        "id": "OUnwFVwUyJeC",
        "colab_type": "text"
      },
      "source": [
        "### Ticks, Labels, and Legends"
      ]
    },
    {
      "cell_type": "markdown",
      "metadata": {
        "id": "UWtk5FWIyJjr",
        "colab_type": "text"
      },
      "source": [
        "### Annotations and Drawing on a Subplot"
      ]
    },
    {
      "cell_type": "markdown",
      "metadata": {
        "id": "LuTk-nqRyJmy",
        "colab_type": "text"
      },
      "source": [
        "### Saving Plots to File"
      ]
    },
    {
      "cell_type": "markdown",
      "metadata": {
        "id": "pF9a3oceyJpi",
        "colab_type": "text"
      },
      "source": [
        "### matplotlib Configuration"
      ]
    },
    {
      "cell_type": "markdown",
      "metadata": {
        "id": "qAHBc7N0yJsi",
        "colab_type": "text"
      },
      "source": [
        "##9.2 Plotting with pandas and seaborn"
      ]
    },
    {
      "cell_type": "markdown",
      "metadata": {
        "id": "ECADy-jvyg3f",
        "colab_type": "text"
      },
      "source": [
        "###Line Plots"
      ]
    },
    {
      "cell_type": "markdown",
      "metadata": {
        "id": "gvKtl4ybyg6i",
        "colab_type": "text"
      },
      "source": [
        "### Bar Plots"
      ]
    },
    {
      "cell_type": "markdown",
      "metadata": {
        "id": "ZODXaquNyg97",
        "colab_type": "text"
      },
      "source": [
        "### Histograms and Density Plots"
      ]
    },
    {
      "cell_type": "markdown",
      "metadata": {
        "id": "5WIHlE4fyhAi",
        "colab_type": "text"
      },
      "source": [
        "### Scatter or Point Plots"
      ]
    },
    {
      "cell_type": "markdown",
      "metadata": {
        "id": "h3UlldchyhCq",
        "colab_type": "text"
      },
      "source": [
        "### Facet Grids and Categorical Data"
      ]
    },
    {
      "cell_type": "markdown",
      "metadata": {
        "id": "rKSj2TYjyy4h",
        "colab_type": "text"
      },
      "source": [
        "## 9.3 Other Python Visualization Tools"
      ]
    },
    {
      "cell_type": "markdown",
      "metadata": {
        "id": "SKhCB0_Iyy7R",
        "colab_type": "text"
      },
      "source": [
        ""
      ]
    },
    {
      "cell_type": "markdown",
      "metadata": {
        "id": "regacslwyy95",
        "colab_type": "text"
      },
      "source": [
        ""
      ]
    },
    {
      "cell_type": "markdown",
      "metadata": {
        "id": "SX4_iUOByzBB",
        "colab_type": "text"
      },
      "source": [
        ""
      ]
    },
    {
      "cell_type": "markdown",
      "metadata": {
        "id": "0HKE5BqdyzDh",
        "colab_type": "text"
      },
      "source": [
        ""
      ]
    }
  ]
}